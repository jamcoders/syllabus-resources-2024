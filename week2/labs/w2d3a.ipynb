{
 "cells": [
  {
   "attachments": {},
   "cell_type": "markdown",
   "metadata": {
    "id": "UEQoHAeKBjsD"
   },
   "source": [
    "# Week 2 Day 3A Exercises\n"
   ]
  },
  {
   "attachments": {},
   "cell_type": "markdown",
   "metadata": {},
   "source": [
    "![Reminder to Save](https://github.com/jamcoders/jamcoders-public-2023/blob/main/images/warning.png?raw=true)"
   ]
  },
  {
   "cell_type": "code",
   "execution_count": null,
   "metadata": {},
   "outputs": [],
   "source": [
    "# Always run this code.\n",
    "# %config InteractiveShell.ast_node_interactivity=\"none\"\n",
    "import sys\n",
    "import hashlib\n",
    "if 'google.colab' in sys.modules:\n",
    "    !eval \"$(echo \"cGlwIGluc3RhbGwgLS1mb3JjZS1yZWluc3RhbGwgZ2l0K2h0dHBzOi8vZ2l0aHViLmNvbS9qYW1jb2RlcnMvamFtY29kZXJzLXB1YmxpYy0yMDI0LmdpdCAtLXF1aWV0Cg==\" | base64 -d)\"\n",
    "from jamcoders.base_utils import *"
   ]
  },
  {
   "cell_type": "markdown",
   "metadata": {},
   "source": [
    "# Table of Contents  \n",
    "\n",
    "**[Question 0: Warmup](#0)**\n",
    "\n",
    "**[Question 1: List Indexing](#1)**\n",
    "\n",
    "**[Question 2: List Slicing](#2)**\n",
    "\n",
    "**[Question 3: Appending to a List](#3)**\n",
    "\n",
    "**[Question 4: Reversing a List](#4)**\n",
    "\n",
    "**[Question 5. My Alphabet](#5)**\n"
   ]
  },
  {
   "cell_type": "markdown",
   "metadata": {},
   "source": [
    "<a name=\"0\"></a>\n",
    "# Question 0: Warmup! (ง •̀_•́)ง \n"
   ]
  },
  {
   "cell_type": "markdown",
   "metadata": {},
   "source": [
    "Anita missed the exercise that Boaz did with us, and decided that we can do some warmup exercises together!\n",
    "\n",
    "For each of the following problems, type your answer as a string set equal to the value of variable `answer`. For example, if you think the answer is A you should type `answer = \"A\"`."
   ]
  },
  {
   "cell_type": "markdown",
   "metadata": {},
   "source": [
    "**0.1**\n",
    "\n",
    "What is printed when you run the following code? \n",
    "\n",
    "\n",
    "```\n",
    "def best_wishes():\n",
    "    for x in ['have', 'a', 'great', 'day', '!']:\n",
    "        print(x)\n",
    "\n",
    "best_wishes()\n",
    "```\n",
    "\n",
    "<ol type = \"A\"> \n",
    "<li> \n",
    "<br>\n",
    "0\n",
    "<br>\n",
    "1 \n",
    "<br> \n",
    "2\n",
    "<br> \n",
    "3\n",
    "<br>\n",
    "4\n",
    "</li>\n",
    "<li> \n",
    "<br>\n",
    "have\n",
    "<br> \n",
    "a\n",
    "<br>\n",
    "great\n",
    "<br>\n",
    "day\n",
    "<br>\n",
    "! \n",
    "</li>\n",
    "<li> Nothing is printed </li>\n",
    "<li> The code errors </lii>\n",
    "</ol>"
   ]
  },
  {
   "cell_type": "code",
   "execution_count": null,
   "metadata": {},
   "outputs": [],
   "source": [
    "# Your answer here \n",
    "answer = \"\"\n",
    "\n",
    "# The following code checks your answer\n",
    "sha256 = hashlib.sha256()\n",
    "sha256.update(answer.encode('utf-8'))\n",
    "assert_equal('df7e70e5021544f4834bbee64a9e3789febc4be81470df629cad6ddb03320a5c', sha256.hexdigest())"
   ]
  },
  {
   "cell_type": "markdown",
   "metadata": {},
   "source": [
    "**0.2**\n",
    "\n",
    "What is printed when you run the following code? \n",
    "\n",
    "```\n",
    "def best_wishes():\n",
    "    for x in range(len(['have', 'a', 'great', 'day', '!'])):\n",
    "        print(x)\n",
    "\n",
    "best_wishes()\n",
    "```\n",
    "\n",
    "<ol type = \"A\"> \n",
    "<li> \n",
    "<br>\n",
    "0\n",
    "<br>\n",
    "1 \n",
    "<br> \n",
    "2\n",
    "<br> \n",
    "3\n",
    "<br>\n",
    "4\n",
    "</li>\n",
    "<li> \n",
    "<br>\n",
    "have\n",
    "<br> \n",
    "a\n",
    "<br>\n",
    "great\n",
    "<br>\n",
    "day\n",
    "<br>\n",
    "! \n",
    "</li>\n",
    "<li> Nothing is printed </li>\n",
    "<li> The code errors </lii>\n",
    "</ol>"
   ]
  },
  {
   "cell_type": "code",
   "execution_count": null,
   "metadata": {},
   "outputs": [],
   "source": [
    "# Your answer here \n",
    "answer = \"\"\n",
    "\n",
    "# The following code checks your answer\n",
    "sha256 = hashlib.sha256()\n",
    "sha256.update(answer.encode('utf-8'))\n",
    "assert_equal('559aead08264d5795d3909718cdd05abd49572e84fe55590eef31a88a08fdffd', sha256.hexdigest())"
   ]
  },
  {
   "cell_type": "markdown",
   "metadata": {},
   "source": [
    "**0.3**\n",
    "\n",
    "What is printed when you run the following code? \n",
    "\n",
    "```\n",
    "def favorite_fruit(fruits): \n",
    "    for x in range(len(fruits)): \n",
    "        print(fruits[x])\n",
    "\n",
    "favorite_fruit(['strawberry', 'mango', 'pineapple'])\n",
    "```\n",
    "\n",
    "<ol type = \"A\"> \n",
    "<li> \n",
    "<br>\n",
    "0 \n",
    "<br>\n",
    "1 \n",
    "<br>\n",
    "2 \n",
    "<br>\n",
    " </li>\n",
    "<li> \n",
    "<br>\n",
    "strawberry\n",
    "<br>\n",
    "mango\n",
    "<br>\n",
    "pineapple\n",
    "</li>\n",
    "<li> Nothing is printed </li>\n",
    "<li> The code errors </lii>\n",
    "</ol>"
   ]
  },
  {
   "cell_type": "code",
   "execution_count": null,
   "metadata": {},
   "outputs": [],
   "source": [
    "# Your answer here \n",
    "answer = \"\"\n",
    "\n",
    "# The following code checks your answer\n",
    "sha256 = hashlib.sha256()\n",
    "sha256.update(answer.encode('utf-8'))\n",
    "assert_equal('df7e70e5021544f4834bbee64a9e3789febc4be81470df629cad6ddb03320a5c', sha256.hexdigest())"
   ]
  },
  {
   "cell_type": "markdown",
   "metadata": {},
   "source": [
    "**0.4**\n",
    "\n",
    "What is printed when you run the following code? \n",
    "\n",
    "```\n",
    "def i_love_pink():\n",
    "    for pink_item in [\"rose\", \"strawberry\", \"bubblegum\"]: \n",
    "        print(pink_item)\n",
    "```\n",
    "\n",
    "<ol type = \"A\"> \n",
    "<li> \n",
    "<br>\n",
    "0 \n",
    "<br>\n",
    "1 \n",
    "<br>\n",
    "2 \n",
    "<br>\n",
    " </li>\n",
    "<li> \n",
    "<br>\n",
    "rose\n",
    "<br>\n",
    "strawberry\n",
    "<br>\n",
    "bubblegum\n",
    "</li>\n",
    "<li> Nothing is printed </li>\n",
    "<li> The code errors </lii>\n",
    "</ol>"
   ]
  },
  {
   "cell_type": "code",
   "execution_count": null,
   "metadata": {},
   "outputs": [],
   "source": [
    "# Your answer here \n",
    "answer = \"\"\n",
    "\n",
    "# The following code checks your answer\n",
    "sha256 = hashlib.sha256()\n",
    "sha256.update(answer.encode('utf-8'))\n",
    "assert_equal('6b23c0d5f35d1b11f9b683f0b0a617355deb11277d91ae091d399c655b87940d', sha256.hexdigest())"
   ]
  },
  {
   "cell_type": "markdown",
   "metadata": {},
   "source": [
    "**0.5**\n",
    "\n",
    "What is printed when you run the following code? \n",
    "\n",
    "```\n",
    "def woo_hoo(): \n",
    "    print(\"Woohoo!\")\n",
    "\n",
    "woo_hoo(3)\n",
    "```\n",
    "\n",
    "<ol type = \"A\"> \n",
    "<li> Woohoo! </li>\n",
    "<li> \n",
    "<br>\n",
    "0 \n",
    "<br>\n",
    "1 \n",
    "<br>\n",
    "2 \n",
    "<br>\n",
    " </li>\n",
    "<li> \n",
    "<br>\n",
    "Woohoo!\n",
    "<br>\n",
    "Woohoo!\n",
    "<br>\n",
    "Woohoo!\n",
    "</li>\n",
    "<li> Nothing is printed </li>\n",
    "<li> The code errors </lii>\n",
    "</ol>"
   ]
  },
  {
   "cell_type": "code",
   "execution_count": null,
   "metadata": {},
   "outputs": [],
   "source": [
    "# Your answer here \n",
    "answer = \"\"\n",
    "\n",
    "# The following code checks your answer\n",
    "sha256 = hashlib.sha256()\n",
    "sha256.update(answer.encode('utf-8'))\n",
    "assert_equal('a9f51566bd6705f7ea6ad54bb9deb449f795582d6529a0e22207b8981233ec58', sha256.hexdigest())"
   ]
  },
  {
   "cell_type": "markdown",
   "metadata": {},
   "source": [
    "**0.6**\n",
    "\n",
    "How many times is `\"(•_•)\"` printed?\n",
    "\n",
    "```\n",
    "def smile(): \n",
    "    for a in range(4):\n",
    "        for b in range(5):\n",
    "            print(\"(•_•)\")\n",
    "\n",
    "smile()\n",
    "```\n",
    "\n",
    "<ol type = \"A\"> \n",
    "<li> 0 </li>\n",
    "<li> 1 </li>\n",
    "<li> 12 </li>\n",
    "<li> 20 </li>\n",
    "<li> 24 </li>\n",
    "</ol>"
   ]
  },
  {
   "cell_type": "code",
   "execution_count": null,
   "metadata": {},
   "outputs": [],
   "source": [
    "# Your answer here \n",
    "answer = \"\"\n",
    "\n",
    "# The following code checks your answer\n",
    "sha256 = hashlib.sha256()\n",
    "sha256.update(answer.encode('utf-8'))\n",
    "assert_equal('3f39d5c348e5b79d06e842c114e6cc571583bbf44e4b0ebfda1a01ec05745d43', sha256.hexdigest())"
   ]
  },
  {
   "attachments": {},
   "cell_type": "markdown",
   "metadata": {
    "id": "BB9jFIDsBjsr"
   },
   "source": [
    "<a name=\"1\"></a>\n",
    "# Question 1: List Indexing"
   ]
  },
  {
   "cell_type": "markdown",
   "metadata": {},
   "source": [
    "\n",
    "**Lists** can be created like this:\n",
    "`list_name = [item1, item2, item3, item4]`\n",
    "\n",
    "**1.1**\n",
    "\n",
    "Create a list called `multiples_of_five` that contains the integers 5, 10, 15, 20, and 25 in that order."
   ]
  },
  {
   "cell_type": "code",
   "execution_count": null,
   "metadata": {
    "id": "KE9Vg8eeBjsx"
   },
   "outputs": [],
   "source": [
    "# Your code here"
   ]
  },
  {
   "attachments": {},
   "cell_type": "markdown",
   "metadata": {
    "id": "myN_pxfLBjs_"
   },
   "source": [
    "\n",
    "List elements can be accessed using *indices*. Each element of the list has a corresponding *index* that starts at 0 for the first element, 1 for the second element, etc.\n",
    "\n",
    "For example, in the list `fruits = ['mango', 'pineapple', 'orange', 'soursop']`, the indexes are as follows:\n",
    "\n",
    "|  **Index**  |  **0**  |    **1**    |   **2**  |   **3**   |\n",
    "|:-----------:|:-------:|:-----------:|:--------:|:---------:|\n",
    "| **Element** | 'mango' | 'pineapple' | 'orange' | 'soursop' |\n",
    "\n",
    "Each element can then be accessed like this: `list_name[item_index]`\n",
    "\n",
    "For example, to access the first element of `fruits` which is `'mango'`, you can use `fruits[0]` which returns `'mango'`. If you want to print `'mango'`, you can say `print(fruits[0])` which will print the result: `'mango'`.\n"
   ]
  },
  {
   "attachments": {},
   "cell_type": "markdown",
   "metadata": {},
   "source": [
    "**1.2**\n",
    "\n",
    "Print the first element in `multiples_of_five`."
   ]
  },
  {
   "cell_type": "code",
   "execution_count": null,
   "metadata": {
    "id": "tlqP6kkHBjtF"
   },
   "outputs": [],
   "source": [
    "# Your solution here"
   ]
  },
  {
   "cell_type": "markdown",
   "metadata": {},
   "source": [
    "**1.3**\n",
    "\n",
    "Try making a function which outputs the **first** element in a list"
   ]
  },
  {
   "cell_type": "code",
   "execution_count": null,
   "metadata": {},
   "outputs": [],
   "source": [
    "# Here's a function which returns the first element in a list\n",
    "def get_first_list_element(list):\n",
    "    # Your Code Here\n",
    "    return\n",
    "\n",
    "\n",
    "# Lets test if your function works!\n",
    "my_list = [1,2,3,4,5]\n",
    "assert_equal(want=1, got=get_first_list_element(my_list))\n",
    "\n",
    "my_list = [\"good_work!\", \"so close!!\", \"oops!\"]\n",
    "assert_equal(want=\"good_work!\", got=get_first_list_element(my_list))"
   ]
  },
  {
   "cell_type": "markdown",
   "metadata": {},
   "source": [
    "**1.4**\n",
    "\n",
    "Try using `len` to make a function which outputs the **last** element in a list"
   ]
  },
  {
   "cell_type": "code",
   "execution_count": null,
   "metadata": {},
   "outputs": [],
   "source": [
    "# Here's a function which returns the __last__ element in a list\n",
    "def get_last_list_element_2(list):\n",
    "    # Your Code Here\n",
    "    return\n",
    "\n",
    "\n",
    "# Lets test if your function works!\n",
    "my_list = [1,2,3,4,5]\n",
    "assert_equal(want=5, got=get_last_list_element_2(my_list))\n",
    "\n",
    "my_list = [\"oops\", \"so close!!\", \"Perfect!\"]\n",
    "assert_equal(want=\"Perfect!\", got=get_last_list_element_2(my_list))"
   ]
  },
  {
   "attachments": {},
   "cell_type": "markdown",
   "metadata": {
    "id": "qqR5pfvmBjtQ"
   },
   "source": [
    "**1.5**\n",
    "\n",
    "There's a fun trick in python to take elements from the back of the list!\n",
    "\n",
    "When `x = ['first', 'second', 'third', 'fourth']` then in python:\n",
    "\n",
    "1. `x[2]` holds `'third'`\n",
    "2. `x[1]` holds `'second'`\n",
    "3. `x[0]` holds `'first'`\n",
    "\n",
    "... And if I go even further,\n",
    "\n",
    "4. `x[-1]` holds `'fourth'`\n",
    "5. `x[-2]` holds `'third'`\n",
    "6. `x[-3]` holds `'second'`\n",
    "7. `x[-4]` holds `'first'`\n",
    "\n",
    "\n",
    "\n",
    "Try using negative indicies to make a function which returns the **second to last** element of a list **without using len**."
   ]
  },
  {
   "cell_type": "code",
   "execution_count": null,
   "metadata": {
    "id": "VA6dbDRgBjtX"
   },
   "outputs": [],
   "source": [
    "# Here's a function which returns the __second to last__ element in a list\n",
    "def get_second_last_list_element(list):\n",
    "    # Your Code Here\n",
    "    return\n",
    "\n",
    "\n",
    "# Lets test if your function works!\n",
    "my_list = [1,2,3,4,5]\n",
    "assert_equal(want=4, got=get_second_last_list_element(my_list))\n",
    "\n",
    "my_list = [\"oops\", \"so close!!\", \"Perfect!\", \"super close!!\"]\n",
    "assert_equal(want=\"Perfect!\", got=get_second_last_list_element(my_list))"
   ]
  },
  {
   "attachments": {},
   "cell_type": "markdown",
   "metadata": {},
   "source": [
    "<a name=\"2\"></a>\n",
    "# Question 2: List Slicing\n",
    "\n",
    "When accessing elements from a list using indexes, it is possible to produce a sub-list, containing elements from a specific range of indexes within the list. This is done using list **slicing**. \n",
    "\n",
    "It takes the form: `list_name[index_of_the_first_element:index_of_the_last_element + 1]`. Note: The __+1__ is really important!\n",
    "\n",
    "**For example:**\n",
    "\n",
    "In the list `fruits = ['mango', 'pineapple', 'orange', 'soursop']`, if you want a sublist that contains just `['pineapple', 'orange']`, you could do this by accessing the relevant indices that follow the form above. Remember that the indices of the list are:\n",
    "\n",
    "|  **Index**  |  **0**  |    **1**    |   **2**  |   **3**   |\n",
    "|:-----------:|:-------:|:-----------:|:--------:|:---------:|\n",
    "| **Element** | 'mango' | 'pineapple' | 'orange' | 'soursop' |\n",
    "\n",
    "Notice that `'pineapple'` is located at index 1, and `'orange'` is located at index 2. So we can __slice__ the list to get our desired sublist using the format given above: \n",
    "\n",
    "`fruits[1:3] => ['pineapple', 'orange']`\n",
    "\n"
   ]
  },
  {
   "cell_type": "code",
   "execution_count": null,
   "metadata": {},
   "outputs": [],
   "source": [
    "# Run this cell to see what fruits[1:3] is!\n",
    "fruits = ['mango', 'pineapple', 'orange', 'soursop']\n",
    "print(fruits[1:3])"
   ]
  },
  {
   "cell_type": "code",
   "execution_count": null,
   "metadata": {},
   "outputs": [],
   "source": [
    "# You can also use slicing with variables!\n",
    "fruits = ['mango', 'pineapple', 'orange', 'soursop']\n",
    "start = 1\n",
    "end = 3\n",
    "\n",
    "print(fruits[start:end])"
   ]
  },
  {
   "cell_type": "markdown",
   "metadata": {},
   "source": [
    "**2.1**\n",
    "\n",
    "Can you write code which uses slicing (`fruits[x:y]`) to print ['orange', 'soursop'] from the list fruits?"
   ]
  },
  {
   "cell_type": "code",
   "execution_count": null,
   "metadata": {},
   "outputs": [],
   "source": [
    "# Use slicing fruits[x:y] to print out ['orange', 'soursop']\n",
    "fruits = ['mango', 'pineapple', 'orange', 'soursop']\n",
    "\n",
    "#Your code here"
   ]
  },
  {
   "cell_type": "markdown",
   "metadata": {},
   "source": [
    "**2.2**\n",
    "\n",
    "Can you write code which uses slicing (`fruits[x:y]`) to print `['pineapple', 'orange', 'soursop']` from the list fruits?"
   ]
  },
  {
   "cell_type": "code",
   "execution_count": null,
   "metadata": {},
   "outputs": [],
   "source": [
    "# Use slicing fruits[x:y] to print out ['pineapple', 'orange', 'soursop']\n",
    "fruits = ['mango', 'pineapple', 'orange', 'soursop']\n",
    "\n",
    "#Your code here"
   ]
  },
  {
   "cell_type": "markdown",
   "metadata": {},
   "source": [
    "**2.3**\n",
    "\n",
    "Can you write code which uses slicing (`fruits[x:y]`) to print `['mango', 'pineapple', 'orange']` from the list fruits?"
   ]
  },
  {
   "cell_type": "code",
   "execution_count": null,
   "metadata": {},
   "outputs": [],
   "source": [
    "# Use slicing fruits[x:y] to print out ['mango', 'pineapple', 'orange']\n",
    "fruits = ['mango', 'pineapple', 'orange', 'soursop']\n",
    "\n",
    "#Your code here"
   ]
  },
  {
   "cell_type": "markdown",
   "metadata": {},
   "source": [
    "**2.4**\n",
    "\n",
    "Can you write code which uses slicing (`fruits[start:end]`) to print `['mango', 'pineapple', 'orange', 'soursop']` from the list fruits?"
   ]
  },
  {
   "cell_type": "code",
   "execution_count": null,
   "metadata": {},
   "outputs": [],
   "source": [
    "# Use slicing fruits[start:end] to print out ['mango', 'pineapple', 'orange', 'soursop']\n",
    "fruits = ['mango', 'pineapple', 'orange', 'soursop']\n",
    "\n",
    "# ↓↓ Start coding here ↓↓\n",
    "start = 0\n",
    "end = 0\n",
    "# ↑↑ Finish Coding here ↑↑\n",
    "\n",
    "print(fruits[start:end]) # Should print ['mango', 'pineapple', 'orange', 'soursop']\n",
    "\n",
    "assert_equal(want=fruits, got=fruits[start:end])"
   ]
  },
  {
   "cell_type": "markdown",
   "metadata": {},
   "source": [
    "Here's a fun feature in python! The `start` and `end` numbers on either side of the colon in `list[start:end]` are optional. When one of these is absent, it means the slice will start or end at the actual start or end of the main list. \n",
    "- In other words, if the left index is absent, the sublist will automatically start at index 0. \n",
    "\n",
    "    `fruits[:2] => ['mango', 'pineapple']`\n",
    "<br>\n",
    "    \n",
    "- If the right index is absent, the sublist will automatically end at the last index. \n",
    "\n",
    "    `fruits[1:] => ['pineapple', 'orange', 'soursop']`\n"
   ]
  },
  {
   "cell_type": "markdown",
   "metadata": {},
   "source": [
    "\n",
    "What do you think happens when we do `fruits[:]`? Try this out, and write your answer as a comment in the cell below:"
   ]
  },
  {
   "cell_type": "code",
   "execution_count": null,
   "metadata": {},
   "outputs": [],
   "source": [
    "# Your answer here"
   ]
  },
  {
   "cell_type": "markdown",
   "metadata": {},
   "source": [
    "Click to show answer:\n",
    "\n",
    "<!-- Answer is the slice will start at the beginning and end at the last element. -->\n",
    "<!-- Therefore, fruits[:] == fruits -->"
   ]
  },
  {
   "attachments": {},
   "cell_type": "markdown",
   "metadata": {},
   "source": [
    "**2.5**\n",
    "\n",
    "Perform list slicing on the `multiples_of_five` array from 1.1 to print out a sublist that contains its first three elements.\n",
    "\n",
    "Hint! Try omitting the `start` value, i.e. try doing `multiples_of_five[:end]`."
   ]
  },
  {
   "cell_type": "code",
   "execution_count": null,
   "metadata": {},
   "outputs": [],
   "source": [
    "multiples_of_five = [5, 10, 15, 20, 25]\n",
    "\n",
    "# Your Code Here\n",
    "\n",
    "# should print out [5,10,15]"
   ]
  },
  {
   "attachments": {},
   "cell_type": "markdown",
   "metadata": {
    "id": "qqR5pfvmBjtQ"
   },
   "source": [
    "**2.6**\n",
    "\n",
    "Perform list slicing on the `multiples_of_five` array from 1.1 to print out a sublist that contains its second, third, and fourth elements."
   ]
  },
  {
   "cell_type": "code",
   "execution_count": null,
   "metadata": {},
   "outputs": [],
   "source": [
    "multiples_of_five = [5, 10, 15, 20, 25]\n",
    "\n",
    "# Your Code Here\n",
    "\n",
    "# should print out [10, 15, 20]"
   ]
  },
  {
   "cell_type": "markdown",
   "metadata": {},
   "source": [
    "**2.7**\n",
    "\n",
    "Perform list slicing on the `multiples_of_five` array from 1.1 to print out a slice that contains its __last__ three elements.\n",
    "\n",
    "Hint! Try omitting the `end` value, i.e. try doing `multiples_of_five[start:]`."
   ]
  },
  {
   "cell_type": "code",
   "execution_count": null,
   "metadata": {},
   "outputs": [],
   "source": [
    "multiples_of_five = [5, 10, 15, 20, 25]\n",
    "\n",
    "# Your Code Here\n",
    "\n",
    "# should print out [15, 20, 25]"
   ]
  },
  {
   "attachments": {},
   "cell_type": "markdown",
   "metadata": {},
   "source": [
    "<a name=\"3\"></a>\n",
    "# Question 3: Appending to a List\n"
   ]
  },
  {
   "cell_type": "markdown",
   "metadata": {},
   "source": [
    "When you have a list, you can add an item to the end of the list using the `append()` method. It can be used like this:\n",
    "\n",
    "`list_name.append(item_to_be_added)`\n",
    "\n",
    "Here I'll make our list of fruits step by step."
   ]
  },
  {
   "cell_type": "code",
   "execution_count": null,
   "metadata": {},
   "outputs": [],
   "source": [
    "############ Creating the list ################\n",
    "fruits = []\n",
    "###############################################\n",
    "print(\"At the start:                 fruits =\", fruits)\n",
    "\n",
    "\n",
    "############ Appending 'mango' ################\n",
    "fruits.append(\"mango\")\n",
    "###############################################\n",
    "print(\"After appending 'mango':      fruits =\", fruits)\n",
    "\n",
    "\n",
    "############ Appending 'pineapple' ############\n",
    "fruits.append(\"pineapple\")\n",
    "###############################################\n",
    "print(\"After appending 'pineapple':  fruits =\", fruits)\n",
    "\n",
    "\n",
    "############ Appending 'orange' ############\n",
    "fruits.append('orange')\n",
    "############################################\n",
    "print(\"After appending 'orange':     fruits =\", fruits)\n",
    "\n",
    "\n",
    "print(\"At the end:                   fruits =\", fruits)"
   ]
  },
  {
   "attachments": {},
   "cell_type": "markdown",
   "metadata": {},
   "source": [
    "**3.1**\n",
    "\n",
    "Can you finish our list of fruits by adding `'soursop'` to the end of the list using `append`?"
   ]
  },
  {
   "cell_type": "code",
   "execution_count": null,
   "metadata": {},
   "outputs": [],
   "source": [
    "# Define multiples_of_five\n",
    "fruits = [\"mango\", \"pineapple\", \"orange\"]\n",
    "\n",
    "\n",
    "# ↓↓ Start coding here ↓↓\n",
    "\n",
    "\n",
    "# ↑↑ Finish Coding here ↑↑\n",
    "\n",
    "\n",
    "# To test your solution we can print the list\n",
    "print(fruits)\n",
    "assert_equal(got=fruits, want=['mango', 'pineapple', 'orange', 'soursop'])"
   ]
  },
  {
   "cell_type": "markdown",
   "metadata": {},
   "source": [
    "**3.2**\n",
    "\n",
    "We can also use append with for loops! Here I'll make a list of `[0*0, 1*1, 2*2, 3*3, 4*4]` step by step."
   ]
  },
  {
   "cell_type": "code",
   "execution_count": null,
   "metadata": {},
   "outputs": [],
   "source": [
    "my_list = []\n",
    "\n",
    "for x in range(5):\n",
    "    # First append 0*0, then 1*1, then ...\n",
    "    print(\"Right now I'm appending: x*x =\", x * x)\n",
    "    my_list.append(x * x)\n",
    "\n",
    "print(\"At the end, my list is...\")\n",
    "print(my_list)"
   ]
  },
  {
   "cell_type": "markdown",
   "metadata": {},
   "source": [
    "Can you use `append` and `for` to make the list [0, 5, 10, 15, 20, 25]?"
   ]
  },
  {
   "cell_type": "code",
   "execution_count": null,
   "metadata": {},
   "outputs": [],
   "source": [
    "multiples_of_five = []\n",
    "\n",
    "# ↓↓ Start coding here ↓↓\n",
    "\n",
    "\n",
    "# ↑↑ Finish Coding here ↑↑\n",
    "\n",
    "print(multiples_of_five)\n",
    "\n",
    "assert_equal(got=multiples_of_five, want=[0, 5, 10, 15, 20, 25])"
   ]
  },
  {
   "cell_type": "markdown",
   "metadata": {},
   "source": [
    "**3.3**\n",
    "\n",
    "Because lists can hold _anything_, you can append anything to a list! Just be careful... It might not always go as you expect.\n",
    "\n",
    "We have two lists, `first_half = [1, 2]` and `second_half = [3, 4]`\n",
    "\n",
    "Lets try to use append to make the list `[1, 2, 3, 4]`."
   ]
  },
  {
   "cell_type": "code",
   "execution_count": null,
   "metadata": {},
   "outputs": [],
   "source": [
    "first_half = [1, 2]\n",
    "second_half = [3, 4]\n",
    "\n",
    "######## defining: mysterious_list = [1, 2] ########\n",
    "mysterious_list = first_half\n",
    "####################################################\n",
    "\n",
    "\n",
    "######## appending [3,4] to mysterious_list ########\n",
    "mysterious_list.append(second_half)\n",
    "####################################################\n",
    "\n",
    "print(mysterious_list)"
   ]
  },
  {
   "cell_type": "markdown",
   "metadata": {},
   "source": [
    "Ok, so `mysterious_list = [1, 2, [3, 4]]`. There's a lot of weird brackets in it, but all the numbers are there...\n",
    "\n",
    "But lets see what the first three elements are!\n",
    "\n",
    "I think the first elements should be:\n",
    "1. `mysterious_list[0]` holds `1`\n",
    "2. `mysterious_list[1]` holds `2`\n",
    "3. `mystersious_list[2]` holds `3`\n",
    "\n",
    "Lets use python to check!"
   ]
  },
  {
   "cell_type": "code",
   "execution_count": null,
   "metadata": {},
   "outputs": [],
   "source": [
    "print(\"The first element of the list is:\", mysterious_list[0])\n",
    "\n",
    "print(\"The second element of the list is:\", mysterious_list[1]) \n",
    "\n",
    "print(\"👻👻👻The third element of the list is:\", mysterious_list[2]) "
   ]
  },
  {
   "cell_type": "markdown",
   "metadata": {},
   "source": [
    "Oh weird..\n",
    "\n",
    "Python said that the elements are:\n",
    "1. `mysterious_list[0]` holds `1`\n",
    "2. `mysterious_list[1]` holds `2`\n",
    "3. `mysterious_list[2]` holds `[3, 4]` 👻👻\n",
    "\n",
    "But if we remember back, our list started out as: `[1, 2]` and then we appended `second_half = [3, 4]`.\n",
    "\n",
    "So now, the third element isn't `3`, its `second_half` !!!\n",
    "\n",
    "If this was weird👻👻, raise your hand and talk to a TA:)"
   ]
  },
  {
   "cell_type": "markdown",
   "metadata": {},
   "source": [
    "If you're good, then lets try this again!\n",
    "\n",
    "Whenever we want to append two lists together we need to go element by element:\n",
    "\n",
    "See how we can do it below:"
   ]
  },
  {
   "cell_type": "code",
   "execution_count": null,
   "metadata": {},
   "outputs": [],
   "source": [
    "first_half = [1, 2]\n",
    "second_half = [3, 4]\n",
    "\n",
    "######## defining: good_list = [1, 2] ####\n",
    "good_list = first_half\n",
    "##########################################\n",
    "\n",
    "\n",
    "######## appending 3 to good_list ########\n",
    "good_list.append(second_half[0])\n",
    "##########################################\n",
    "\n",
    "######## appending 4 to good_list ########\n",
    "good_list.append(second_half[1])\n",
    "##########################################\n",
    "\n",
    "# Now we'll print out \n",
    "print(good_list)\n"
   ]
  },
  {
   "cell_type": "markdown",
   "metadata": {},
   "source": [
    "And now it works properly!"
   ]
  },
  {
   "cell_type": "markdown",
   "metadata": {},
   "source": [
    "**3.4**\n",
    "\n",
    "Can you use a for loop to combine the two lists of colors so we can have all colors inside and outside of the rainbow?\n",
    "\n",
    "*Hint: __for__ each color in `rainbow_colors`, we want to __append__ the color to `all_colors`. Then __for__ each color in `non_rainbow_colors` we want to __append__ the color to `all_colors`. Try using for loops.*"
   ]
  },
  {
   "cell_type": "code",
   "execution_count": null,
   "metadata": {},
   "outputs": [],
   "source": [
    "rainbow_colors = ['red', 'orange', 'yellow', 'green', 'blue', 'indigo', 'violet']\n",
    "non_rainbow_colors = ['black', 'grey', 'brown', 'pink', 'maroon']\n",
    "\n",
    "all_colors = []\n",
    "\n",
    "# ↓↓ Start coding here ↓↓\n",
    "\n",
    "\n",
    "# ↑↑ Finish Coding here ↑↑\n",
    "\n",
    "# All colors currently is:\n",
    "print(all_colors)\n",
    "\n",
    "assert_equal(got=set(all_colors), want=set(['red', 'orange', 'yellow', 'green', 'blue', 'indigo', 'violet', 'black', 'grey', 'brown', 'pink', 'maroon']))"
   ]
  },
  {
   "cell_type": "markdown",
   "metadata": {},
   "source": [
    "**3.5**\n",
    "\n",
    "Can you make a function which takes in two lists and then returns the combined list?\n",
    "\n",
    "As an example: `combine_lists([\"Hi\", \"its\"], [\"Reggie\", \".\"])` should output `[\"Hi\", \"its\", \"Reggie\", \".\"]`\n",
    "\n",
    "*Hint: __For__ each element in the second list, we want to __append__ it to the first*"
   ]
  },
  {
   "cell_type": "code",
   "execution_count": null,
   "metadata": {},
   "outputs": [],
   "source": [
    "def combine_lists(first_list, second_list):\n",
    "    # Your Code Here\n",
    "    return\n",
    "\n",
    "# Print out any tests you want here:\n",
    "print(combine_lists([\"Hi\", \"its\"], [\"Reggie\", \".\"]))\n",
    "\n",
    "\n",
    "assert_equal(got=combine_lists([1, 2, 3], [4, 5, 6, 7]), want=[1, 2, 3, 4, 5, 6, 7])\n",
    "assert_equal(got=combine_lists([\"Hi\", \"its\"], [\"Reggie\", \".\"]), want=[\"Hi\", \"its\", \"Reggie\", \".\"])"
   ]
  },
  {
   "attachments": {},
   "cell_type": "markdown",
   "metadata": {},
   "source": [
    "<a name=\"4\"></a>\n",
    "# Question 4: Reversing a List"
   ]
  },
  {
   "cell_type": "markdown",
   "metadata": {},
   "source": [
    "**4.1**\n",
    "\n",
    "__Uh-Oh!__ Reggie was trying to write a list of numbers, but put them __backwards__ by mistake!\n",
    "\n",
    "Reggie wanted the list to be `[1, 2, 4, 8, ..., 131072, 262144]`"
   ]
  },
  {
   "cell_type": "code",
   "execution_count": null,
   "metadata": {},
   "outputs": [],
   "source": [
    "reggie_numbers = [262144, 131072, 65536, 32768, 16384, 8192, 4096, 2048, 1024, 512, 256, 128, 64, 32, 16, 8, 4, 2, 1]"
   ]
  },
  {
   "cell_type": "markdown",
   "metadata": {},
   "source": [
    "Can you write some code that will `print` out his numbers in the right order?\n",
    "\n",
    "*Hint: Try using a for loop and __negative__ indexes*"
   ]
  },
  {
   "cell_type": "code",
   "execution_count": null,
   "metadata": {},
   "outputs": [],
   "source": [
    "# Your Code Here:"
   ]
  },
  {
   "attachments": {},
   "cell_type": "markdown",
   "metadata": {},
   "source": [
    "**4.2**\n",
    "\n",
    "Can you write some code that will add his numbers in the right order to `reggies_fixed_numbers`?\n",
    "\n",
    "Don't type or copy/paste any numbers in your code !"
   ]
  },
  {
   "cell_type": "code",
   "execution_count": null,
   "metadata": {},
   "outputs": [],
   "source": [
    "reggie_numbers = [262144, 131072, 65536, 32768, 16384, 8192, 4096, 2048, 1024, 512, 256, 128, 64, 32, 16, 8, 4, 2, 1]\n",
    "\n",
    "reggie_fixed_numbers = []\n",
    "\n",
    "# ↓↓ No copying numbers here! ↓↓\n",
    "# ↓↓ Start coding here ↓↓\n",
    "\n",
    "\n",
    "\n",
    "# ↑↑ Finish Coding here ↑↑\n",
    "# ↑↑ No copying numbers here! ↑↑\n",
    "\n",
    "assert_equal(got=reggie_fixed_numbers, want=[1,2,4,8,16,32,64,128,256,512,1024,2048,4096,8192,16384,32768,65536,131072,262144])"
   ]
  },
  {
   "cell_type": "markdown",
   "metadata": {},
   "source": [
    "**4.3**\n",
    "\n",
    "Good work! Can you make a function called `reverse_list` that takes in a list and then outputs the list in backwards order?\n",
    "\n",
    "Ex: `reverse_list([1, 2, 3, 4, 5])` returns `[5, 4, 3, 2, 1]`"
   ]
  },
  {
   "cell_type": "code",
   "execution_count": null,
   "metadata": {
    "colab": {
     "base_uri": "https://localhost:8080/"
    },
    "executionInfo": {
     "elapsed": 2030,
     "status": "ok",
     "timestamp": 1562631721617,
     "user": {
      "displayName": "Stephen Koo",
      "photoUrl": "https://lh4.googleusercontent.com/-puW04LijCY0/AAAAAAAAAAI/AAAAAAABMD8/p1HymCYlPUI/s64/photo.jpg",
      "userId": "00528687567139275578"
     },
     "user_tz": 240
    },
    "id": "xhEHStYABjt6",
    "outputId": "08635691-a6b4-4382-ed07-b43578c1bd73"
   },
   "outputs": [],
   "source": [
    "def reverse_list(lst):\n",
    "    # Write your code here\n",
    "    return\n",
    "    \n",
    "\n",
    "# This tests your solution\n",
    "\n",
    "assert_equal(got=reverse_list([1,2,3,4,5]), want=[5,4,3,2,1])\n",
    "assert_equal(got=reverse_list([200,199]), want=[199, 200])\n",
    "assert_equal(got=reverse_list([6]), want=[6])\n",
    "assert_equal(got=reverse_list([0,3,-9]), want=[-9,3,0])"
   ]
  },
  {
   "attachments": {},
   "cell_type": "markdown",
   "metadata": {
    "id": "vHT4jMhFBjvU"
   },
   "source": [
    "<a name=\"5\"></a>\n",
    "# Question 5: My Alphabet"
   ]
  },
  {
   "attachments": {},
   "cell_type": "markdown",
   "metadata": {
    "id": "kO7pcsRvBjvf"
   },
   "source": [
    "**5.1**\n",
    "\n",
    "Create a list called `vowels` that contains all the vowels from the English alphabet in lower case excluding `y`. "
   ]
  },
  {
   "cell_type": "code",
   "execution_count": null,
   "metadata": {
    "id": "qg8vg3q8Bjvv"
   },
   "outputs": [],
   "source": [
    "# Your code here"
   ]
  },
  {
   "cell_type": "markdown",
   "metadata": {},
   "source": [
    "**5.2**\n",
    "\n",
    "Write a function `is_vowel(letter)` that returns True if the letter is a vowel, and false if the letter is not a vowel.\n",
    "\n",
    "*Hint: __for__ each  vowel __in__ your list of vowels, __if__ the letter is __equal__ to the current vowel, the letter is a vowel*"
   ]
  },
  {
   "cell_type": "code",
   "execution_count": null,
   "metadata": {
    "colab": {
     "base_uri": "https://localhost:8080/",
     "height": 34
    },
    "executionInfo": {
     "elapsed": 2060,
     "status": "ok",
     "timestamp": 1562631721675,
     "user": {
      "displayName": "Stephen Koo",
      "photoUrl": "https://lh4.googleusercontent.com/-puW04LijCY0/AAAAAAAAAAI/AAAAAAABMD8/p1HymCYlPUI/s64/photo.jpg",
      "userId": "00528687567139275578"
     },
     "user_tz": 240
    },
    "id": "oYKfEl7_BjwA",
    "outputId": "ffd2acd7-7317-4ecc-b7a7-89557f08a681"
   },
   "outputs": [],
   "source": [
    "def is_vowel(letter):\n",
    "    # Your Code Here\n",
    "    return\n",
    "\n",
    "\n",
    "assert_equal(got=is_vowel('a'), want=True)\n",
    "assert_equal(got=is_vowel('z'), want=False)\n",
    "assert_equal(got=is_vowel('e'), want=True)\n",
    "assert_equal(got=is_vowel('q'), want=False)\n",
    "assert_equal(got=is_vowel('i'), want=True)\n",
    "assert_equal(got=is_vowel('q'), want=False)\n",
    "assert_equal(got=is_vowel('u'), want=True)\n",
    "assert_equal(got=is_vowel('q'), want=False)\n",
    "assert_equal(got=is_vowel('o'), want=True)"
   ]
  },
  {
   "attachments": {},
   "cell_type": "markdown",
   "metadata": {
    "id": "uysGN0QhBjwG"
   },
   "source": [
    "**5.3**\n",
    "\n",
    "Write a function called `get_vowels` that iterates through `vowels` and prints each element.\n",
    "\n",
    "*Hint: __for__ each letter, __if__ the letter is_vowel, then __print__ the letter*"
   ]
  },
  {
   "cell_type": "code",
   "execution_count": null,
   "metadata": {
    "id": "bIs1opb3BjwR"
   },
   "outputs": [],
   "source": [
    "def get_vowels(lst):\n",
    "    # Your code here\n",
    "    return\n",
    "\n",
    "\n",
    "# Here is a test case to check if your code works correctly\n",
    "get_vowels('a man and a pan can cook for a band')"
   ]
  },
  {
   "attachments": {},
   "cell_type": "markdown",
   "metadata": {
    "id": "RlmpMoS5Bjx5"
   },
   "source": [
    "**5.4**\n",
    "\n",
    "Write a function which returns `False` the input `character` is not part of the alphabet.\n",
    "\n",
    "*Hint: Use a for loop to check if the letter is equal to anything in the alphabet*"
   ]
  },
  {
   "cell_type": "code",
   "execution_count": null,
   "metadata": {
    "id": "EZ-whg4BBjx9"
   },
   "outputs": [],
   "source": [
    "# Useful functions and variables for you to use:\n",
    "alphabet = \"abcdefghijklmnopqrstuvwxyz\"\n",
    "\n",
    "def is_letter(character):\n",
    "    # Write your code here\n",
    "    return\n",
    "\n",
    "\n",
    "# Test your code here\n",
    "assert_equal(got=is_letter('a'), want=True)\n",
    "assert_equal(got=is_letter('b'), want=True)\n",
    "assert_equal(got=is_letter('1'), want=False)\n",
    "assert_equal(got=is_letter('.'), want=False)\n",
    "\n",
    "# Extra challenge: can you edit your code so it works on upper and lower case text?\n"
   ]
  },
  {
   "attachments": {},
   "cell_type": "markdown",
   "metadata": {},
   "source": [
    "# You're doing awesome! :)"
   ]
  }
 ],
 "metadata": {
  "colab": {
   "collapsed_sections": [],
   "name": "probs4a.ipynb",
   "provenance": []
  },
  "kernelspec": {
   "display_name": ".venv",
   "language": "python",
   "name": "python3"
  },
  "language_info": {
   "codemirror_mode": {
    "name": "ipython",
    "version": 3
   },
   "file_extension": ".py",
   "mimetype": "text/x-python",
   "name": "python",
   "nbconvert_exporter": "python",
   "pygments_lexer": "ipython3",
   "version": "3.10.13"
  }
 },
 "nbformat": 4,
 "nbformat_minor": 4
}
