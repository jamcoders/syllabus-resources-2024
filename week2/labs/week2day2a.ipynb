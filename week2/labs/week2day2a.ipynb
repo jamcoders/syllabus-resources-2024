{
 "cells": [
  {
   "attachments": {},
   "cell_type": "markdown",
   "metadata": {
    "id": "818AknKGebcJ"
   },
   "source": [
    "# Week 2 Day 2A Exercises: Loops\n",
    "\n",
    "![Reminder to Save](https://i.imgur.com/JFukxlL.png)"
   ]
  },
  {
   "cell_type": "code",
   "execution_count": null,
   "metadata": {},
   "outputs": [],
   "source": [
    "# Always run this code.\n",
    "%config InteractiveShell.ast_node_interactivity=\"none\"\n",
    "!eval \"$(echo \"cGlwIGluc3RhbGwgLS1mb3JjZS1yZWluc3RhbGwgZ2l0K2h0dHBzOi8vZ2l0aHViLmNvbS9qYW1jb2RlcnMvamFtY29kZXJzLXB1YmxpYy0yMDI0LmdpdCAtLXF1aWV0Cg==\" | base64 -d)\"\n",
    "from jamcoders.base_utils import *\n",
    "from jamcoders.week1.lab3a import *"
   ]
  },
  {
   "attachments": {},
   "cell_type": "markdown",
   "metadata": {},
   "source": [
    "# Table of Contents  \n",
    "\n",
    "**[Question 0: Recap](#0)**\n",
    "\n",
    "**[Question 1: Basic Functions](#1)**\n",
    "\n",
    "**[Question 2: Calculator Functions](#2)**\n",
    "\n",
    "**[Question 3: String Functions](#3)**\n",
    "\n",
    "**[Question 4: Celsius to Fahrenheit](#4)**\n",
    "\n",
    "**[Question 5: Pythag](#5)**\n",
    "\n",
    "**[Question 6: Sums](#6)**\n",
    "\n",
    "**[Question 7: Variable Scope](#7)**"
   ]
  },
  {
   "attachments": {},
   "cell_type": "markdown",
   "metadata": {
    "id": "FJRO0GBjqQoy"
   },
   "source": [
    "<a name=\"0\"></a>\n",
    "## Question 0: Recap"
   ]
  },
  {
   "attachments": {},
   "cell_type": "markdown",
   "metadata": {},
   "source": [
    "### Answer the following questions\n",
    "\n",
    "1. *What is a short way to write: `for i in [0, 1, 2, 3, 4, 5, 6, 7]` using the `range()` function?* \n",
    "<br /><br />"
   ]
  },
  {
   "cell_type": "code",
   "execution_count": null,
   "metadata": {},
   "outputs": [],
   "source": [
    "# Write your answer to question 1 here:\n",
    "# "
   ]
  },
  {
   "attachments": {},
   "cell_type": "markdown",
   "metadata": {},
   "source": [
    "2. Consider the following two functions:\n",
    "\n",
    "    ```python\n",
    "    def my_function(x):\n",
    "        return x\n",
    "\n",
    "    def my_function2(y):\n",
    "        return y\n",
    "    ```\n",
    "\n",
    "    *Explain why these functions will do the exact same thing despite having different parameter names.*\n",
    "    <br /><br />\n"
   ]
  },
  {
   "cell_type": "code",
   "execution_count": null,
   "metadata": {},
   "outputs": [],
   "source": [
    "# Write your answer to question 2 here:\n",
    "# "
   ]
  },
  {
   "attachments": {},
   "cell_type": "markdown",
   "metadata": {},
   "source": [
    "3. Consider the following code:\n",
    "\n",
    "    ```python\n",
    "    for a in [0, 1, 2]: # loop 1\n",
    "      for b in [0, 1, 2, 3]: # loop 2\n",
    "        print('hi')\n",
    "      print('bye')\n",
    "    ```\n",
    "\n",
    "    *(a) When `a = 0`, how many times is `'hi'` printed?*\n",
    "\n",
    "    *(b) How many times is `'bye'` printed?*\n",
    "    \n",
    "    *(c) When `a = 1`, how many times is `'hi'` printed?*\n",
    "    \n",
    "    *(d) When `a = 1`, how many times is `'bye'` printed?*\n",
    "    <br /><br />"
   ]
  },
  {
   "cell_type": "code",
   "execution_count": null,
   "metadata": {},
   "outputs": [],
   "source": [
    "# Write your answers to the question by changing the `None` to an integer\n",
    "\n",
    "# 3a\n",
    "answer1 = None\n",
    "\n",
    "check_answer_3a(answer1)\n",
    "\n",
    "# 3b\n",
    "answer2 = None\n",
    "\n",
    "check_answer_3b(answer2)\n",
    "\n",
    "# 3c\n",
    "answer2 = None\n",
    "\n",
    "check_answer_3c(answer2)\n",
    "\n",
    "# 3d\n",
    "answer2 = None\n",
    "\n",
    "check_answer_3d(answer2)"
   ]
  },
  {
   "attachments": {},
   "cell_type": "markdown",
   "metadata": {},
   "source": [
    "4. *Consider the same code as question 3. Overall, how many times does the inner loop (commented `# loop 2`) run? How many times does the outer loop (commented `# loop 1`) run?*\n",
    "<br /><br />"
   ]
  },
  {
   "cell_type": "code",
   "execution_count": null,
   "metadata": {},
   "outputs": [],
   "source": [
    "# Write your answer to question 4 here:\n",
    "# \n",
    "number_of_inner_loop_runs = None\n",
    "\n",
    "check_answer_4a(number_of_inner_loop_runs)\n",
    "\n",
    "\n",
    "number_of_outer_loop_runs = None\n",
    "check_answer_4b(number_of_outer_loop_runs)"
   ]
  },
  {
   "attachments": {},
   "cell_type": "markdown",
   "metadata": {},
   "source": [
    "5. Consider the following code:\n",
    "\n",
    "    ```python\n",
    "    for a in [0, 1, 2]: # loop 1\n",
    "      print(' ') # Print a space\n",
    "    print('?') # Print a ?\n",
    "\n",
    "    for a in [0, 1, 2]: # loop 2\n",
    "      print('!')\n",
    "    print(' ')\n",
    "    ```\n",
    "\n",
    "    *Explain why only one `?` mark is printed. Why does `# loop 2` print three `!` marks?*\n",
    "    <br /><br />"
   ]
  },
  {
   "cell_type": "code",
   "execution_count": null,
   "metadata": {},
   "outputs": [],
   "source": [
    "# Write your answer to question 5 here:\n",
    "# "
   ]
  },
  {
   "attachments": {},
   "cell_type": "markdown",
   "metadata": {},
   "source": [
    "6. Consider the following code:\n",
    "\n",
    "    ```python\n",
    "    def square(x):\n",
    "      x = 5\n",
    "      return x * x\n",
    "\n",
    "    print(square(5))\n",
    "    print(square(7))\n",
    "\n",
    "    ```\n",
    "\n",
    "    *We would like `square(7)` to return `49`, which is the result of `7 x 7`. What does it actually return?*\n",
    "    <br /><br />"
   ]
  },
  {
   "cell_type": "code",
   "execution_count": null,
   "metadata": {},
   "outputs": [],
   "source": [
    "# Write your answer to question 6 here:\n",
    "square_return_value = None\n",
    "\n",
    "check_answer_6(square_return_value)"
   ]
  },
  {
   "attachments": {},
   "cell_type": "markdown",
   "metadata": {},
   "source": [
    "7. *Consider the same code as question 6. Even though the code is wrong, why does the function give the correct output if you call `square(5)`, (or `square(-5)`)? Can you change the code to be correct on all inputs?*\n",
    "<br /><br />"
   ]
  },
  {
   "cell_type": "code",
   "execution_count": null,
   "metadata": {
    "id": "SJyDJ8iIyvzL"
   },
   "outputs": [],
   "source": [
    "def square(x):\n",
    "    # Write your code here:\n",
    "\n",
    "\n",
    "# Testing your solution:\n",
    "assert_equal(got=square(5), want=25)\n",
    "assert_equal(got=square(7), want=49)\n",
    "assert_equal(got=square(-10), want=100)\n",
    "assert_equal(got=square(-12), want=144)\n",
    "assert_equal(got=square(-13), want=169)"
   ]
  },
  {
   "attachments": {},
   "cell_type": "markdown",
   "metadata": {},
   "source": [
    "<a name=\"1\"></a>\n",
    "## Question 1: Basic Functions\n",
    "\n",
    "*Note: sometimes each cell can also be hidden*"
   ]
  },
  {
   "attachments": {},
   "cell_type": "markdown",
   "metadata": {},
   "source": [
    "### 1.1 \n",
    "Write a function that takes ```x``` as an argument, and returns ```5 * x```."
   ]
  },
  {
   "cell_type": "code",
   "execution_count": null,
   "metadata": {},
   "outputs": [],
   "source": [
    "def mult_five(x):\n",
    "    # Your code here.\n",
    "\n",
    "# Test your code here.\n",
    "assert_equal(got=mult_five(2), want=10)\n",
    "assert_equal(got=mult_five(5), want=25)\n",
    "assert_equal(got=mult_five(0), want=0)"
   ]
  },
  {
   "attachments": {},
   "cell_type": "markdown",
   "metadata": {},
   "source": [
    "### 1.2 \n",
    "Write a function that takes ```x``` as an argument and returns ```x + 2```. "
   ]
  },
  {
   "cell_type": "code",
   "execution_count": null,
   "metadata": {},
   "outputs": [],
   "source": [
    "def add_two(x):\n",
    "    # Your code here.\n",
    "\n",
    "# Test your code here.\n",
    "assert_equal(got=add_two(2), want=4)\n",
    "assert_equal(got=add_two(-5), want=-3)\n",
    "assert_equal(got=add_two(1000), want=1002)"
   ]
  },
  {
   "attachments": {},
   "cell_type": "markdown",
   "metadata": {},
   "source": [
    "### 1.3 \n",
    "Write a function that returns ```5 * x + 10```, without using any arithmetic operations.\n",
    "\n",
    "_Hint: use mult_five and add_two. Please run the cells for exercises 4.1 and 4.2 before running this cell._\n",
    "\n",
    "_Hint 2: A for loop could be useful!_"
   ]
  },
  {
   "cell_type": "code",
   "execution_count": null,
   "metadata": {},
   "outputs": [],
   "source": [
    "def no_arith_op(x):\n",
    "    # Your code here.\n",
    "\n",
    "# Test your code here.\n",
    "assert_equal(got=no_arith_op(2), want=20)\n",
    "assert_equal(got=no_arith_op(5), want=35)\n",
    "assert_equal(got=no_arith_op(-2), want=0)"
   ]
  },
  {
   "attachments": {},
   "cell_type": "markdown",
   "metadata": {},
   "source": [
    "### 1.4 \n",
    "Write a function ```is_divisible``` that accepts a number ```num``` and a divisor ```divisor``` and returns whether the number is divisible.\n",
    "\n",
    "Hint: The modulus ```%``` operator can check the remainder of the division of two numbers. What's the remainder when a number is divisible?"
   ]
  },
  {
   "cell_type": "code",
   "execution_count": null,
   "metadata": {},
   "outputs": [],
   "source": [
    "# Define your function here.\n",
    "\n",
    "# Test your code here.\n",
    "\n",
    "assert_equal(got=is_divisible(10,5), want=True)\n",
    "assert_equal(got=is_divisible(10,1), want=True)\n",
    "assert_equal(got=is_divisible(10,3), want=False)\n",
    "assert_equal(got=is_divisible(11,4), want=False)"
   ]
  },
  {
   "attachments": {},
   "cell_type": "markdown",
   "metadata": {},
   "source": [
    "<a name=\"2\"></a>\n",
    "## Question 2: Calculator Functions\n"
   ]
  },
  {
   "attachments": {},
   "cell_type": "markdown",
   "metadata": {},
   "source": [
    "### 2.1 \n",
    "Write a function called ```add_x_to_y``` that takes two arguments ```x``` and ```y```, and returns their sum. "
   ]
  },
  {
   "cell_type": "code",
   "execution_count": null,
   "metadata": {},
   "outputs": [],
   "source": [
    "# Define add_x_to_y(x, y) function here.\n",
    "\n",
    "# Test your code here.\n",
    "assert_equal(got=add_x_to_y(17,3), want=20)\n",
    "assert_equal(got=add_x_to_y(-37,72), want=35)\n",
    "assert_equal(got=add_x_to_y(-2,2), want=0)"
   ]
  },
  {
   "attachments": {},
   "cell_type": "markdown",
   "metadata": {},
   "source": [
    "### 2.2 \n",
    "Write a function called ```multiply_x_to_y``` that takes two arguments ```x``` and ```y```, and returns their product. "
   ]
  },
  {
   "cell_type": "code",
   "execution_count": null,
   "metadata": {},
   "outputs": [],
   "source": [
    "# Define multiply_x_to_y(x, y) function here.\n",
    "\n",
    "# Test your code here.\n",
    "\n",
    "assert_equal(got=multiply_x_to_y(4,5), want=20)\n",
    "assert_equal(got=multiply_x_to_y(7,5), want=35)\n",
    "assert_equal(got=multiply_x_to_y(-2, 0), want=0)"
   ]
  },
  {
   "attachments": {},
   "cell_type": "markdown",
   "metadata": {},
   "source": [
    "### 2.3 \n",
    "Similar to the functions from 2.1 and 2.2, add two more functions that simulate a calculator's functions:  <br>\n",
    "```divide_x_from_y(x,y)``` :  returns $\\;\\; y \\div x$ <br>\n",
    "```subtract_x_from_y(x,y)```:  returns $\\;\\; y - x$"
   ]
  },
  {
   "cell_type": "code",
   "execution_count": null,
   "metadata": {},
   "outputs": [],
   "source": [
    "# Define your functions here.\n",
    "\n",
    "\n",
    "# Test your functions here.\n",
    "assert_equal(got=divide_x_from_y(4,20), want=5.0)\n",
    "assert_equal(got=divide_x_from_y(5,7), want=1.4)\n",
    "assert_equal(got=divide_x_from_y(-2, -2), want=1)\n",
    "assert_equal(got=subtract_x_from_y(4,20), want=16)\n",
    "assert_equal(got=subtract_x_from_y(5,7), want=2)\n",
    "assert_equal(got=subtract_x_from_y(-2, -2), want=0)"
   ]
  },
  {
   "attachments": {},
   "cell_type": "markdown",
   "metadata": {},
   "source": [
    "### 2.4 \n",
    "Use your calculator functions to write a function that represents: <br>\n",
    "\n",
    "$ f(x) = 5x + 4 $ <br>\n",
    "$ f(x) = (45x * 17) / 8 $ <br>\n",
    "$ f(x,y) = (1290x / 275) + (2736y - 49) $"
   ]
  },
  {
   "cell_type": "code",
   "execution_count": null,
   "metadata": {},
   "outputs": [],
   "source": [
    "def func1(x):\n",
    "    # Your code here.\n",
    "\n",
    "def func2(x):\n",
    "    # Your code here.\n",
    "    \n",
    "def func3(x, y):\n",
    "    # Your code here.\n",
    "\n",
    "# Test your code here!\n",
    "assert_equal(got=func1(5), want=29)\n",
    "assert_equal(got=func1(294), want =1479)\n",
    "assert_equal(got=func2(8), want=765)\n",
    "assert_equal(got=func3(8,9), want =24612.52727)"
   ]
  },
  {
   "attachments": {},
   "cell_type": "markdown",
   "metadata": {},
   "source": [
    "<a name=\"3\"></a>\n",
    "## Question 3: String Functions"
   ]
  },
  {
   "attachments": {},
   "cell_type": "markdown",
   "metadata": {},
   "source": [
    "### 3.1 \n",
    "Write a function called ```concat_x_to_y``` that takes two strings ```x``` and ```y```, and <b>concatenates</b> them together, and returns the result. \n",
    "\n",
    "Hin: Concatenation is when you add `+` strings together."
   ]
  },
  {
   "cell_type": "code",
   "execution_count": null,
   "metadata": {},
   "outputs": [],
   "source": [
    "# Define your function here.\n",
    "\n",
    "# Test your function here.\n",
    "assert_equal(got=concat_x_to_y(\"Jam\", \"Coders\"), want=\"JamCoders\")\n",
    "assert_equal(got=concat_x_to_y(\":^\", \")\"), want=\":^)\")"
   ]
  },
  {
   "attachments": {},
   "cell_type": "markdown",
   "metadata": {},
   "source": [
    "### 3.2 \n",
    "\n",
    "Write a function ```concat_x_y_z``` that takes three strings ```x```, ```y```, and ```z```, and concatenates them together **without using any arithmethic (including `+`) operations**, and returns the result.\n",
    "\n",
    "*Hint: you can call the function you wrote in 3.1*"
   ]
  },
  {
   "cell_type": "code",
   "execution_count": null,
   "metadata": {},
   "outputs": [],
   "source": [
    "# Define your function here.\n",
    "\n",
    "# Test your function here.\n",
    "assert_equal(got=concat_x_y_z(\"Jam\", \"Coders\", \"2024\"), want=\"JamCoders2024\")\n",
    "assert_equal(got=concat_x_y_z(\":\", \"^\", \")\"), want=\":^)\")"
   ]
  },
  {
   "cell_type": "markdown",
   "metadata": {},
   "source": [
    "### 3.3\n",
    "\n",
    "Write a function ```concat_n_strings``` that takes a list of strings and concatenates them together, and returns the result."
   ]
  },
  {
   "cell_type": "code",
   "execution_count": null,
   "metadata": {},
   "outputs": [],
   "source": [
    "# Define your function here.\n",
    "\n",
    "# Test your function here.\n",
    "assert_equal(got=concat_n_strings([\"Jam\", \"Coders\", \"2024\", \" is great!\"]), want=\"JamCoders2024 is great!\")\n",
    "assert_equal(got=concat_n_strings([\"Xavier \", \"likes \", \"Welch's\"]), want=\"Xavier likes Welch's\")\n",
    "assert_equal(got=concat_n_strings([\"Ecy\", \"LOVES\", \"pi\"]), want=\"EcyLOVESpi\")"
   ]
  },
  {
   "attachments": {},
   "cell_type": "markdown",
   "metadata": {},
   "source": [
    "### 4.1 \n",
    "Write a function ```c_to_f``` that converts Celsius to Fahrenheit using the equation $F = C \\times \\frac{9}{5} + 32$.\n",
    "\n",
    "*Hint: Should you take in Celsius or Fahrenheit as an input?*"
   ]
  },
  {
   "attachments": {},
   "cell_type": "markdown",
   "metadata": {},
   "source": [
    "<a name=\"4\"></a>\n",
    "## Question 4: Celsius to Fahrenheit"
   ]
  },
  {
   "cell_type": "code",
   "execution_count": null,
   "metadata": {},
   "outputs": [],
   "source": [
    "# Define your function here.\n",
    "\n",
    "# Test your function here.\n",
    "assert_equal(got=c_to_f(45), want=113.0)\n",
    "assert_equal(got=c_to_f(0), want=32.0)"
   ]
  },
  {
   "attachments": {},
   "cell_type": "markdown",
   "metadata": {},
   "source": [
    "### 4.2 \n",
    "Write a function ```f_to_c``` that converts Fahrenheit to Celsius using the equation $C = (F - 32) \\times \\frac{5}{9}$."
   ]
  },
  {
   "cell_type": "code",
   "execution_count": null,
   "metadata": {},
   "outputs": [],
   "source": [
    "# Define your function here.\n",
    "\n",
    "# Test your function here.\n",
    "assert_equal(got=f_to_c(113), want=45.0)\n",
    "assert_equal(got=f_to_c(32), want=0.0)"
   ]
  },
  {
   "attachments": {},
   "cell_type": "markdown",
   "metadata": {},
   "source": [
    "### 4.3 \n",
    "What happens when you call ```c_to_f(f_to_c(x))```? Try for a few values of ```x```. Can you show that it is true using math? "
   ]
  },
  {
   "cell_type": "code",
   "execution_count": null,
   "metadata": {},
   "outputs": [],
   "source": [
    "# Just returns the initial Fahrenheit temperature as it converts from Fahrenheit to Celsius and then Celsius to Fahrenheit\n",
    "print(c_to_f(f_to_c(113)))"
   ]
  },
  {
   "attachments": {},
   "cell_type": "markdown",
   "metadata": {},
   "source": [
    "<a name=\"5\"></a>\n",
    "## Question 5: Pythag\n"
   ]
  },
  {
   "attachments": {},
   "cell_type": "markdown",
   "metadata": {},
   "source": [
    "### 5.1 \n",
    "\n",
    "Define a function call ```pow_x_to_y``` that accepts 2 numbers ```x``` and ```y``` that raises ```x``` to the power of ```y```. <br>\n",
    "\n",
    "NOTE: If you want, you can do this with a loop!"
   ]
  },
  {
   "cell_type": "code",
   "execution_count": null,
   "metadata": {},
   "outputs": [],
   "source": [
    "# Define your function here.\n",
    "\n",
    "\n",
    "print(\"Checking to make sure your pow_x_to_y works:\")\n",
    "assert_equal(got=pow_x_to_y(2,2), want=4)\n",
    "assert_equal(got=pow_x_to_y(3,3), want=27)\n",
    "assert_equal(got=pow_x_to_y(4,2), want=16)"
   ]
  },
  {
   "cell_type": "markdown",
   "metadata": {},
   "source": [
    "### 5.2\n",
    "\n",
    "Write a function called ```pythagorean_triplet``` that takes in 3 integers which will represent triangle side lengths and returns a bool, to determine if it forms a right-angled triangle. The arguments are guaranteed to be sorted in increasing order. <br>\n",
    "\n",
    "_Hint: A triangle is a right-angled when side lengths a, b, and c satisfy $ a^{2} + b^{2} = c^{2}$._ \n",
    "\n",
    "Feel free to use your ```pow_x_to_y``` function here!"
   ]
  },
  {
   "cell_type": "code",
   "execution_count": null,
   "metadata": {},
   "outputs": [],
   "source": [
    "# Define your function here.\n",
    "\n",
    "# Test your function here.\n",
    "# Add your own test cases to confirm your solution works properly.\n",
    "\n",
    "\n",
    "print(\"\\nChecking to make sure your pythagorean_triplet works:\")\n",
    "assert_equal(got=pythagorean_triplet(3, 4, 5), want=True)\n",
    "assert_equal(got=pythagorean_triplet(5, 12, 13), want=True)\n",
    "assert_equal(got=pythagorean_triplet(11, 18, 21), want=False)\n",
    "assert_equal(got=pythagorean_triplet(1,1,1), want=False)"
   ]
  },
  {
   "attachments": {},
   "cell_type": "markdown",
   "metadata": {
    "id": "glZoaaxPebcv"
   },
   "source": [
    "<a name=\"6\"></a>\n",
    "## Question 6: Sums"
   ]
  },
  {
   "attachments": {},
   "cell_type": "markdown",
   "metadata": {
    "id": "01ov8uCXebcw"
   },
   "source": [
    "### 6.1\n",
    "Write a program to sum numbers from $1 - 20$ (inclusive) using a `while True:` loop and `break`"
   ]
  },
  {
   "cell_type": "code",
   "execution_count": null,
   "metadata": {
    "id": "lLN9N9b4ebcw"
   },
   "outputs": [],
   "source": [
    "# Code here!\n"
   ]
  },
  {
   "attachments": {},
   "cell_type": "markdown",
   "metadata": {
    "id": "E6lxlmKPebcw"
   },
   "source": [
    "### 6.2\n",
    "\n",
    "Write a program that adds all the integers from $1 - 20$ (inclusive) except $10$ and $11$. "
   ]
  },
  {
   "cell_type": "code",
   "execution_count": null,
   "metadata": {
    "id": "wSieB3oDebcw"
   },
   "outputs": [],
   "source": [
    "# Code here!\n"
   ]
  },
  {
   "attachments": {},
   "cell_type": "markdown",
   "metadata": {
    "id": "_GgOc2b5ebcx"
   },
   "source": [
    "<a name=\"7\"></a>\n",
    "## Question 7: Variable Scope"
   ]
  },
  {
   "attachments": {},
   "cell_type": "markdown",
   "metadata": {
    "id": "acp-8p4Mebc1"
   },
   "source": [
    "### 7.1\n",
    "\n",
    "What will `j` be when printed in the code below? Will there be any errors?\n",
    "\n",
    "```python\n",
    "def func1(x):\n",
    "    j = 10\n",
    "    print(j, x)\n",
    "    \n",
    "def func2(x):\n",
    "    j = 5\n",
    "    func1(x)\n",
    "    print(x)\n",
    "    \n",
    "func2(3)\n",
    "print(j)\n",
    "```"
   ]
  },
  {
   "cell_type": "code",
   "execution_count": null,
   "metadata": {
    "id": "oDbQiYkWiC0f"
   },
   "outputs": [],
   "source": [
    "# What will `j` be when printed in the code below? Will there be any errors? \n",
    "# Answer & explain why in this comment\n",
    "# Answer: "
   ]
  },
  {
   "attachments": {},
   "cell_type": "markdown",
   "metadata": {
    "id": "Ii-nQeNGebc5"
   },
   "source": [
    "### 7.2\n",
    "\n",
    "In the code block below, what will be the output? Was it what you expected?\n",
    "\n",
    "```python\n",
    "i = 100\n",
    "for i in range(3):\n",
    "    print(i)\n",
    "```"
   ]
  },
  {
   "cell_type": "code",
   "execution_count": null,
   "metadata": {
    "id": "eSylUvHfjvf1"
   },
   "outputs": [],
   "source": [
    "# Answer in a comment!\n",
    "# Answer: \n",
    "\n"
   ]
  },
  {
   "attachments": {},
   "cell_type": "markdown",
   "metadata": {
    "id": "KqLEK_00ebc5"
   },
   "source": [
    "### 7.3\n",
    "\n",
    "Will (a) and (b) output the same thing? Explain why.\n",
    "\n",
    "(a) \n",
    "```python\n",
    "k = 0\n",
    "for i in range(3):\n",
    "    print(k)\n",
    "```\n",
    "\n",
    "(b)\n",
    "```python\n",
    "k = 0\n",
    "for i in range(3):\n",
    "    k = 6\n",
    "    print(k)\n",
    "```"
   ]
  },
  {
   "cell_type": "code",
   "execution_count": null,
   "metadata": {
    "id": "-LDDzA9uj2yi"
   },
   "outputs": [],
   "source": [
    "# Answer in a comment!\n",
    "# Answer: "
   ]
  }
 ],
 "metadata": {
  "colab": {
   "collapsed_sections": [],
   "name": "jamcoders_probs3a.ipynb",
   "provenance": []
  },
  "kernelspec": {
   "display_name": "jamcoders24",
   "language": "python",
   "name": "python3"
  },
  "language_info": {
   "codemirror_mode": {
    "name": "ipython",
    "version": 3
   },
   "file_extension": ".py",
   "mimetype": "text/x-python",
   "name": "python",
   "nbconvert_exporter": "python",
   "pygments_lexer": "ipython3",
   "version": "3.10.14"
  }
 },
 "nbformat": 4,
 "nbformat_minor": 4
}
