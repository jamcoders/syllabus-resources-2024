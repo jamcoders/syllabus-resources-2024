{
 "cells": [
  {
   "cell_type": "markdown",
   "metadata": {
    "id": "4-Wk_TD16ufl"
   },
   "source": [
    "# Week 1 Lecture 3, Part 2 Exercises: More Loops!\n",
    "\n",
    "![Reminder to Save](https://i.imgur.com/JFukxlL.png)"
   ]
  },
  {
   "cell_type": "code",
   "execution_count": null,
   "metadata": {},
   "outputs": [],
   "source": [
    "# Always run this code.\n",
    "%config InteractiveShell.ast_node_interactivity=\"none\"\n",
    "import sys\n",
    "if 'google.colab' in sys.modules:\n",
    "  !eval \"$(echo \"cGlwIGluc3RhbGwgLS1mb3JjZS1yZWluc3RhbGwgZ2l0K2h0dHBzOi8vZ2l0aHViLmNvbS9qYW1jb2RlcnMvamFtY29kZXJzLXB1YmxpYy0yMDI0LmdpdCAtLXF1aWV0Cg==\" | base64 -d)\" \n",
    "from jamcoders.base_utils import *\n",
    "from jamcoders.week1.lab3b import *"
   ]
  },
  {
   "cell_type": "markdown",
   "metadata": {},
   "source": [
    "<a id=\"0\"></a> <br>\n",
    " # Table of Contents  \n",
    "**[Question 1: While Loops](#1)**\n",
    "\n",
    "**[Question 2: Loop Iterations](#2)**\n",
    "\n",
    "**[Question 3: Accessing List Elements](#3)**\n",
    "\n",
    "**[Question 4: Odd Items](#4)**     \n",
    "\n",
    "**[Question 5: Palindrome](#5)**\n",
    "\n",
    "\n",
    "**[Question 6: Nested Loops](#6)**\n",
    "\n",
    "**[Question 7: Minimums and Averages](#7)**"
   ]
  },
  {
   "cell_type": "markdown",
   "metadata": {},
   "source": [
    "<a name=\"1\"></a>\n",
    "## Question 1: Introduction to While Loops\n"
   ]
  },
  {
   "cell_type": "markdown",
   "metadata": {},
   "source": [
    "\n",
    "<p> In addition to for loops, we also talked about another type of loop: the infamous while loop! The while loop allows us to repeat a body of code each time until a condition is met (remember: a condition is something that evaluates to `True` or `False`). The structure is the following:  </p>\n",
    "\n",
    "```python\n",
    "while condition:\n",
    "    `doSomething`\n",
    "```\n"
   ]
  },
  {
   "cell_type": "markdown",
   "metadata": {},
   "source": [
    "An example is below. What happens when we run the code? Why do you think it happened?"
   ]
  },
  {
   "cell_type": "code",
   "execution_count": null,
   "metadata": {},
   "outputs": [],
   "source": [
    "while True: \n",
    "    print(\"to infinity and beyond!!!\")"
   ]
  },
  {
   "cell_type": "code",
   "execution_count": null,
   "metadata": {},
   "outputs": [],
   "source": [
    "# Explain what happened in this comment"
   ]
  },
  {
   "cell_type": "markdown",
   "metadata": {},
   "source": [
    "## Question 1.1\n",
    "\n",
    "Write a `while` loop that prints an integer, `i`, three times."
   ]
  },
  {
   "cell_type": "code",
   "execution_count": null,
   "metadata": {},
   "outputs": [],
   "source": [
    "i = # Your Code Here\n",
    "while # Your Code Here:\n",
    "    print(i)"
   ]
  },
  {
   "cell_type": "markdown",
   "metadata": {},
   "source": [
    "## Question 1.2\n",
    "\n",
    "Write a `while` loop that prints only the even integers between `0` and `x-1`. Your output should look like this:"
   ]
  },
  {
   "cell_type": "code",
   "execution_count": null,
   "metadata": {},
   "outputs": [],
   "source": [
    "def print_even(x):\n",
    "    while # Your Code Here:\n",
    "        if # Your Code Here:\n",
    "            print(x)\n",
    "        # Your Code Here\n",
    "\n",
    "print_even(9)"
   ]
  },
  {
   "cell_type": "markdown",
   "metadata": {
    "id": "S-wc5wtW6ugB"
   },
   "source": [
    "<a name=\"2\"></a>\n",
    "## Question 2: Loop Iterations"
   ]
  },
  {
   "cell_type": "markdown",
   "metadata": {},
   "source": [
    "### 2.0\n",
    "\n",
    "The Jamcoder TAs can be quite hard to keep track of. There's 10 of them, so even counting to determine if everyone is present can be difficult. To help them out, write a function that, given a list of TAs present, returns how many are missing. Assume that there are no duplicates and everyone in the list is a TA, so the answer should be 10 minus the number of people in the list.\n",
    "\n",
    "Recall that we can find the length of a list `lst` with the function call `len(lst)`.\n",
    "\n",
    "As an example, `num_missing_ta([\"Orr\", \"Anita\", \"Xavier\"])` should return `7`, because there are only three TAs and `10-3 =7`."
   ]
  },
  {
   "cell_type": "code",
   "execution_count": null,
   "metadata": {},
   "outputs": [],
   "source": [
    "def num_missing_ta(my_list):\n",
    "    # write here\n",
    "    \n",
    "\n",
    "\n",
    "# Test your code here.\n",
    "assert_equal(got=num_missing_ta([\"Anita\", \"James\", \"Liam\", \"Orr\", \"Reggie\", \"Zaria\"]), want=4)\n",
    "assert_equal(got=num_missing_ta([\"Ecy\", \"Tarun\", \"Xavier\", \"Timnit\"]), want=6)\n",
    "assert_equal(got=num_missing_ta([]), want=10)"
   ]
  },
  {
   "cell_type": "markdown",
   "metadata": {},
   "source": [
    "### Exploring `range()`\n",
    "\n",
    "For the following, we will be using `range()`, but with some more features.\n",
    "\n",
    "Specifically, `range()` can be used for more than just `range(n)`, which is roughly `[0, 1, ..., n-2, n-1]`.\n",
    "\n",
    "In the way we've seen, `range(n)` is list a `range(stop)`, where we go from 0 to `stop`, _exclusive_ (not including `stop`. The function `range()` can be actually be also be used as `range(start, stop)` and `range(start, stop, step)`. \n",
    "\n",
    "\n",
    "The following examples will illustrate how this works\n",
    "\n",
    "```python\n",
    "range(1, 8) → [1, 2, 3, 4, 5, 6, 7]\n",
    "range(0, 10, 2) → [0, 2, 4, 6, 8]\n",
    "range(5, 10, 2) → [5, 7, 9]\n",
    "range(5, 17, 3) → [5, 8, 11, 14]\n",
    "```"
   ]
  },
  {
   "cell_type": "markdown",
   "metadata": {
    "id": "Mg9MeC3_6ugC"
   },
   "source": [
    "### 2.1"
   ]
  },
  {
   "cell_type": "markdown",
   "metadata": {
    "id": "v7wk2TDk6ugD"
   },
   "source": [
    "What is the last number printed in this example? "
   ]
  },
  {
   "cell_type": "markdown",
   "metadata": {
    "id": "eius50Ny6ugE"
   },
   "source": [
    "```py\n",
    "for elem in [23, 42, 10]:\n",
    "    print(elem)\n",
    "```"
   ]
  },
  {
   "cell_type": "code",
   "execution_count": null,
   "metadata": {
    "id": "5m2tjCKx6ugF"
   },
   "outputs": [],
   "source": [
    "last_number = # YOUR ANSWER HERE\n",
    "\n",
    "check_answer_2_1a(last_number)"
   ]
  },
  {
   "cell_type": "markdown",
   "metadata": {
    "id": "uPZfHqlh6ugI"
   },
   "source": [
    "How about in this example?"
   ]
  },
  {
   "cell_type": "markdown",
   "metadata": {
    "id": "D-SHGxSy6ugJ"
   },
   "source": [
    "```python\n",
    "for elem in range(10):\n",
    "    print(elem + 5)\n",
    "```"
   ]
  },
  {
   "cell_type": "code",
   "execution_count": null,
   "metadata": {
    "id": "AsFJxAgE6ugK"
   },
   "outputs": [],
   "source": [
    "last_number = # YOUR ANSWER HERE\n",
    "\n",
    "check_answer_2_1b(last_number)"
   ]
  },
  {
   "cell_type": "markdown",
   "metadata": {
    "id": "fbVA-A3r6ugN"
   },
   "source": [
    "True or False, this different from the previous example? What is the last element printed?"
   ]
  },
  {
   "cell_type": "markdown",
   "metadata": {
    "id": "HrdecP3y6ugO"
   },
   "source": [
    "```python\n",
    "for elem in range(0, 10):\n",
    "    print(elem + 5)\n",
    "```"
   ]
  },
  {
   "cell_type": "code",
   "execution_count": null,
   "metadata": {
    "id": "8_kbYZnR6ugP"
   },
   "outputs": [],
   "source": [
    "is_different_from_previous = # YOUR ANSWER HERE\n",
    "last_element = # YOUR ANSWER HERE\n",
    "\n",
    "check_answer_2_1c_1(is_different_from_previous)\n",
    "check_answer_2_1c_2(last_element)"
   ]
  },
  {
   "cell_type": "markdown",
   "metadata": {
    "id": "aO4pEMUo6ugT"
   },
   "source": [
    "True or False, this different from the previous example? What is the last element printed?"
   ]
  },
  {
   "cell_type": "markdown",
   "metadata": {
    "id": "Ed0B_elI6ugU"
   },
   "source": [
    "```python\n",
    "for elem in range(0, 10, 2):\n",
    "    print(elem + 5)\n",
    "```"
   ]
  },
  {
   "cell_type": "code",
   "execution_count": null,
   "metadata": {
    "id": "hJoy-SXN6ugV"
   },
   "outputs": [],
   "source": [
    "is_different_from_previous = # YOUR ANSWER HERE\n",
    "last_element_printed = # YOUR ANSWER HERE\n",
    "\n",
    "check_answer_2_1d_1(is_different_from_previous)\n",
    "check_answer_2_1d_2(last_element_printed)"
   ]
  },
  {
   "cell_type": "markdown",
   "metadata": {
    "id": "l86KeV8r6ugX"
   },
   "source": [
    "### 2.2"
   ]
  },
  {
   "cell_type": "markdown",
   "metadata": {
    "id": "tP0zWBf86ugY"
   },
   "source": [
    "Using a `for` loop, print every element in the list `my_list`. Do this using \n",
    "\n",
    "1) `for x in my_list` syntax\n",
    "\n",
    "2) `for x in range` syntax"
   ]
  },
  {
   "cell_type": "code",
   "execution_count": null,
   "metadata": {
    "id": "V9CsE3W46ugZ"
   },
   "outputs": [],
   "source": [
    "my_list = [2, 7, 5]\n",
    "# write a for loop here with method 1\n",
    "\n",
    "\n",
    "# use method 2 here\n"
   ]
  },
  {
   "cell_type": "markdown",
   "metadata": {},
   "source": [
    "Now, try the same, but this time, use a `while` loop."
   ]
  },
  {
   "cell_type": "code",
   "execution_count": null,
   "metadata": {},
   "outputs": [],
   "source": [
    "# Write a while loop to print all elements of my_list"
   ]
  },
  {
   "cell_type": "markdown",
   "metadata": {
    "id": "dni6jTLq6ugd"
   },
   "source": [
    "### 2.3"
   ]
  },
  {
   "cell_type": "markdown",
   "metadata": {
    "id": "TQtoeNkD6uge"
   },
   "source": [
    "Write a function ```print_nums(x)``` that prints every number between $0$ and $x-2$ ONLY using a `while` loop. \n",
    "\n",
    "For example when $x = 3$, ```print_nums(x)``` should give:\n",
    "```\n",
    "0\n",
    "1\n",
    "2\n",
    "```"
   ]
  },
  {
   "cell_type": "code",
   "execution_count": null,
   "metadata": {
    "id": "oNijljAB6ugf"
   },
   "outputs": [],
   "source": [
    "def print_nums(x):\n",
    "    # Write code here\n",
    "    \n",
    "\n",
    "\n",
    "# Test your code here\n",
    "print_nums(5)"
   ]
  },
  {
   "cell_type": "markdown",
   "metadata": {
    "id": "tcSIOnHz6ugi"
   },
   "source": [
    "### 2.4"
   ]
  },
  {
   "cell_type": "markdown",
   "metadata": {
    "id": "u5p9LvI26ugj"
   },
   "source": [
    "Write a function ```sum_up(x)```, using a `for` loop, that sums every number between $0$ and $x - 1$ inclusive. *Hint: you may want to define a variable inside your function to keep track of the running sum.*\n",
    "\n",
    "For example, with $x = 5$\n",
    "```python\n",
    "sum_up(x)\n",
    "```\n",
    "would return $10 \\;\\;(= 0+1+2+3+4)$."
   ]
  },
  {
   "cell_type": "code",
   "execution_count": null,
   "metadata": {
    "id": "QCluEi3-6ugj"
   },
   "outputs": [],
   "source": [
    "def sum_up(x):\n",
    "    # write code here\n",
    "    \n",
    "\n",
    "# Test your function here.\n",
    "assert_equal(got=sum_up(5), want=10)\n",
    "assert_equal(got=sum_up(10), want=45)"
   ]
  },
  {
   "cell_type": "markdown",
   "metadata": {
    "id": "btYUeeOVtj2F"
   },
   "source": [
    "### 2.5 \n",
    "\n",
    "Can you write the `sum_up` function in one line? It may help to start writing the first few sums and finding a pattern.\n",
    "\n",
    "*This is a harder question that needs some math!*\n"
   ]
  },
  {
   "cell_type": "code",
   "execution_count": null,
   "metadata": {
    "id": "7TTdPxg2uHDX"
   },
   "outputs": [],
   "source": [
    "def sum_up(x):\n",
    "  # Write this in one line!\n",
    "  return \n",
    "\n",
    "# Test your function here.\n",
    "assert_equal(got=sum_up(5), want=10)\n",
    "assert_equal(got=sum_up(10), want=45)"
   ]
  },
  {
   "cell_type": "markdown",
   "metadata": {},
   "source": [
    "### 2.6\n",
    "\n",
    "Now, try writing the `sum_up` problem in 2.4 but with a `while` loop!"
   ]
  },
  {
   "cell_type": "code",
   "execution_count": null,
   "metadata": {},
   "outputs": [],
   "source": [
    "def sum_up2(x):\n",
    "    # write code here\n",
    "    \n",
    "\n",
    "# Test your function here.\n",
    "assert_equal(got=sum_up2(5), want=10)\n",
    "assert_equal(got=sum_up2(10), want=45)"
   ]
  },
  {
   "cell_type": "markdown",
   "metadata": {
    "id": "raOYavhA6ugp"
   },
   "source": [
    "<a name=\"3\"></a>\n",
    "## Question 3: Accessing List Elements"
   ]
  },
  {
   "cell_type": "markdown",
   "metadata": {
    "id": "kEQYxwYc6ugq"
   },
   "source": [
    "### 3.1"
   ]
  },
  {
   "cell_type": "markdown",
   "metadata": {
    "id": "PmkypGmT6ugr"
   },
   "source": [
    "Write a function ```first(my_list)``` that takes in a list and returns the first element of the list."
   ]
  },
  {
   "cell_type": "code",
   "execution_count": null,
   "metadata": {
    "id": "34wxvany6ugs"
   },
   "outputs": [],
   "source": [
    "def first(my_list):\n",
    "    # write code here\n",
    "    \n",
    "\n",
    "# Test your function here.\n",
    "# Write some of your own test cases as well.\n",
    "assert_equal(got=first([1, 1, 2, 3, 5, 8, 13]), want=1)\n",
    "assert_equal(got=first([3, 5, 2]), want=3)\n",
    "assert_equal(got=first([9]), want=9)"
   ]
  },
  {
   "cell_type": "markdown",
   "metadata": {
    "id": "kOM1v4296ug4"
   },
   "source": [
    "### 3.2"
   ]
  },
  {
   "cell_type": "markdown",
   "metadata": {
    "id": "_BiXV7HO6ug6"
   },
   "source": [
    "Write a function ```last(my_list)``` that takes in a list `my_list` and returns the last element of the list."
   ]
  },
  {
   "cell_type": "code",
   "execution_count": null,
   "metadata": {
    "id": "EzeO7LQF6ug7"
   },
   "outputs": [],
   "source": [
    "def last(my_list):\n",
    "    # write code here\n",
    "    \n",
    "\n",
    "# Test your function here.\n",
    "assert_equal(got=last([2, 5, 7]), want=7)\n",
    "assert_equal(got=last([3, 5, 2]), want=2)\n",
    "assert_equal(got=last([9]), want=9)\n",
    "assert_equal(got=last([1, 1, 2, 3, 5, 8, 13]), want=13)"
   ]
  },
  {
   "cell_type": "markdown",
   "metadata": {
    "id": "CYNEB_5o6uhG"
   },
   "source": [
    "### 3.3"
   ]
  },
  {
   "cell_type": "markdown",
   "metadata": {
    "id": "pTsVFraS6uhH"
   },
   "source": [
    "Using calls to the functions above, write a function ```sum_of_extremes(my_list)``` that takes in a list `my_list`, and returns the sum of the first and last element of the list. If the list has length less than or equal to 1, return a string saying `\"Not possible\"`.\n"
   ]
  },
  {
   "cell_type": "code",
   "execution_count": null,
   "metadata": {
    "id": "y0ULwyRt6uhI"
   },
   "outputs": [],
   "source": [
    "def sum_of_extremes(my_list):\n",
    "    # write code here\n",
    "    \n",
    "\n",
    "\n",
    "# Test your function here.\n",
    "# Write some of your own test cases as well.\n",
    "assert_equal(got=sum_of_extremes([2, 3, 6]), want=8)\n",
    "assert_equal(got=sum_of_extremes([3, 12]), want=15)\n",
    "assert_equal(got=sum_of_extremes([1]), want=\"Not possible\")\n",
    "assert_equal(got=sum_of_extremes([]), want=\"Not possible\")"
   ]
  },
  {
   "cell_type": "markdown",
   "metadata": {
    "id": "DOeJ1w7z6uhX"
   },
   "source": [
    "<a name=\"4\"></a>\n",
    "## Question 4: Odd Items"
   ]
  },
  {
   "cell_type": "markdown",
   "metadata": {
    "id": "QKw4rZPl6uhX"
   },
   "source": [
    "### 4.1\n",
    "\n",
    "Write a function ```odd_values(my_list)``` that prints all the odd numbers in a list using a `while` loop.\n",
    "\n",
    "For example:\n",
    "``` python\n",
    "odd_values([5, 2, 8, 17, 32, 2, 8, 9])\n",
    "```\n",
    "should print:\n",
    "\n",
    "``` python\n",
    "5\n",
    "17\n",
    "9\n",
    "``` "
   ]
  },
  {
   "cell_type": "code",
   "execution_count": null,
   "metadata": {
    "id": "18KQ0AYQ6uhY"
   },
   "outputs": [],
   "source": [
    "def odd_values(my_list):\n",
    "    # write code here\n",
    "    \n",
    "\n",
    "# Test your function here.\n",
    "odd_values([5, 2, 8, 17, 32, 2, 8, 9])"
   ]
  },
  {
   "cell_type": "markdown",
   "metadata": {
    "id": "rOqIFE9E6uhe"
   },
   "source": [
    "### 4.2"
   ]
  },
  {
   "cell_type": "markdown",
   "metadata": {
    "id": "i9p-vAhV6uhe"
   },
   "source": [
    "Write a function ```odd_indices(my_list)``` that prints all the values in odd indices of a list.\n",
    "\n",
    "For example: \n",
    "``` python\n",
    "odd_indices([1, 2, 3, 4, 9, 15])\n",
    "``` \n",
    "should print:\n",
    "``` python\n",
    "2\n",
    "4\n",
    "15\n",
    "```\n",
    "Challenge: If you can solve this using a `for` loop, then how would you do this with a `while` loop?"
   ]
  },
  {
   "cell_type": "code",
   "execution_count": null,
   "metadata": {
    "id": "-CCwpTkp6uhf"
   },
   "outputs": [],
   "source": [
    "def odd_indices(my_list):\n",
    "    # write code here\n",
    "    \n",
    "\n",
    "# Test your function here.\n",
    "# Write some of your own test cases as well.\n",
    "odd_indices([1, 2, 3, 4, 9, 15])"
   ]
  },
  {
   "cell_type": "markdown",
   "metadata": {},
   "source": [
    "<a name=\"4\"></a>\n",
    "## Question 5: Palindrome"
   ]
  },
  {
   "cell_type": "markdown",
   "metadata": {},
   "source": [
    "### 5.1 \n",
    "\n",
    "Create a string called `my_string` with the value `\"racecar\"`"
   ]
  },
  {
   "cell_type": "code",
   "execution_count": null,
   "metadata": {},
   "outputs": [],
   "source": [
    "# Code here!\n"
   ]
  },
  {
   "cell_type": "markdown",
   "metadata": {},
   "source": [
    "### 5.2 \n",
    "\n",
    "Print the first character of `my_string`"
   ]
  },
  {
   "cell_type": "code",
   "execution_count": null,
   "metadata": {},
   "outputs": [],
   "source": [
    "# Code here!\n"
   ]
  },
  {
   "cell_type": "markdown",
   "metadata": {},
   "source": [
    "### 5.3\n",
    "\n",
    "Print the last character of `my_string` by making use of the `len` function"
   ]
  },
  {
   "cell_type": "code",
   "execution_count": null,
   "metadata": {},
   "outputs": [],
   "source": [
    "# Code here!\n"
   ]
  },
  {
   "cell_type": "markdown",
   "metadata": {},
   "source": [
    "### 5.4\n",
    "\n",
    "Print `True` if the first and last characters of `my_string` are the same "
   ]
  },
  {
   "cell_type": "code",
   "execution_count": null,
   "metadata": {},
   "outputs": [],
   "source": [
    "# Code here!\n"
   ]
  },
  {
   "cell_type": "markdown",
   "metadata": {},
   "source": [
    "### 5.5\n",
    "\n",
    "Write a function that takes a string and returns `True` if the first and last characters of the string are the same and `False` otherwise"
   ]
  },
  {
   "cell_type": "code",
   "execution_count": null,
   "metadata": {},
   "outputs": [],
   "source": [
    "def check_char(str1):\n",
    "    # Code here!\n",
    "    \n",
    "\n",
    "assert_equal(got=check_char('rar'), want=True)\n",
    "assert_equal(got=check_char('abcd'), want=False)"
   ]
  },
  {
   "cell_type": "markdown",
   "metadata": {},
   "source": [
    "### 5.6\n",
    "\n",
    "Write a function that takes a string and returns `True` if the second and second to last characters of the string are the same and `False` otherwise"
   ]
  },
  {
   "cell_type": "code",
   "execution_count": null,
   "metadata": {},
   "outputs": [],
   "source": [
    "def check_second(str1):\n",
    "    # Code here!\n",
    "    \n",
    "    \n",
    "assert_equal(got=check_second('rar'), want=True)\n",
    "assert_equal(got=check_second('racecar'), want=True)\n",
    "assert_equal(got=check_second('abcd'), want=False)"
   ]
  },
  {
   "cell_type": "markdown",
   "metadata": {},
   "source": [
    "*Note:* A **palindrome** is a word that is spelt the same forward as it is backwards.\n",
    "- Palindromes:\n",
    "    - racecar\n",
    "    - madam\n",
    "    - 12321"
   ]
  },
  {
   "cell_type": "markdown",
   "metadata": {},
   "source": [
    "### 5.7\n",
    "\n",
    "For each of the following strings, say whether they are palindromes (YES/NO):\n",
    "\n",
    "1. kayak\n",
    "2. 12323\n",
    "3. hello\n",
    "4. noon"
   ]
  },
  {
   "cell_type": "code",
   "execution_count": null,
   "metadata": {},
   "outputs": [],
   "source": [
    "# Write your answers here:\n",
    "# 1: \n",
    "# 2: \n",
    "# 3: \n",
    "# 4: "
   ]
  },
  {
   "cell_type": "markdown",
   "metadata": {},
   "source": [
    "### 5.8\n",
    "Write a function that takes a string and returns `True` if the string is a palindrome and `False` otherwise"
   ]
  },
  {
   "cell_type": "code",
   "execution_count": null,
   "metadata": {},
   "outputs": [],
   "source": [
    "def is_palindrome(str1):\n",
    "    # Code here!\n",
    "    \n",
    "\n",
    "assert_equal(got=is_palindrome('dogeeseseegod'), want=True)\n",
    "assert_equal(got=is_palindrome('palindrome'), want=False)\n",
    "assert_equal(got=is_palindrome('abccba'), want=True)\n",
    "assert_equal(got=is_palindrome('abcabc'), want=False)"
   ]
  },
  {
   "cell_type": "markdown",
   "metadata": {},
   "source": [
    "### 5.9 Come up with a different way to solve the above problem (5.8)\n",
    "\n",
    "(One way is to generate the reversed string, then check equality. Another way is to check index by index, without creating a copy of the string! There could be even more ways!)"
   ]
  },
  {
   "cell_type": "code",
   "execution_count": null,
   "metadata": {},
   "outputs": [],
   "source": [
    "def is_palindrome(string):\n",
    "    # Code here!\n",
    "    \n",
    "\n",
    "assert_equal(got=is_palindrome('dogeeseseegod'), want=True)\n",
    "assert_equal(got=is_palindrome('palindrome'), want=False)\n",
    "assert_equal(got=is_palindrome('abccba'), want=True)\n",
    "assert_equal(got=is_palindrome('abcabc'), want=False)"
   ]
  },
  {
   "cell_type": "markdown",
   "metadata": {
    "id": "wxY4LyEI6uhx"
   },
   "source": [
    "<a name=\"5\"></a>\n",
    "## Question 6: Nested Loops"
   ]
  },
  {
   "cell_type": "markdown",
   "metadata": {
    "id": "0bDi5TJ46uhz"
   },
   "source": [
    "What does the following code print?"
   ]
  },
  {
   "cell_type": "markdown",
   "metadata": {
    "id": "-jJ8uqGb6uh1"
   },
   "source": [
    "```python\n",
    "for i in range(3):\n",
    "    for j in range(3):\n",
    "        print([i, j])\n",
    "```"
   ]
  },
  {
   "cell_type": "code",
   "execution_count": null,
   "metadata": {
    "id": "aNRJz4tR6uh2"
   },
   "outputs": [],
   "source": [
    "# Write your answer in a comment\n",
    "# Answer: \n",
    "#\n",
    "#\n",
    "#\n",
    "#\n",
    "#\n",
    "#\n",
    "#\n",
    "#\n",
    "#"
   ]
  },
  {
   "cell_type": "markdown",
   "metadata": {},
   "source": [
    "Recall that in lecture we practiced writing `multiply(a, b)` using nested for loops, since multiplication can be thought of adding `b` to itself `a` times (or vice versa). That looked something like this:\n",
    "```python\n",
    "def multiply(a, b)\n",
    "    answer = 0\n",
    "    for i in range(a):\n",
    "        answer += b\n",
    "    return answer\n",
    "```\n",
    "Now, we want to write the multiply function, but _using nested for loops_. As a hint, observe how many lines are printed when we run.\n",
    "```python\n",
    "for i in range(a):\n",
    "    for j in range(b):\n",
    "        print(\"this is a line\")\n",
    "```\n",
    "Fill in the function below for multiply. You must use a nest for loop and may not use `*` (or the single for loop answer as written above)."
   ]
  },
  {
   "cell_type": "code",
   "execution_count": null,
   "metadata": {},
   "outputs": [],
   "source": [
    "def multiply(a, b):\n",
    "    # YOUR CODE HERE\n",
    "    \n",
    "assert_equal(got=multiply(4, 6), want= 24)\n",
    "assert_equal(got=multiply(1, 5), want= 5)\n",
    "assert_equal(got=multiply(12, 12), want= 144)\n",
    "assert_equal(got=multiply(100, 100), want= 10000)"
   ]
  },
  {
   "cell_type": "markdown",
   "metadata": {},
   "source": [
    "### Nested Loops ❤️  Nested Lists"
   ]
  },
  {
   "cell_type": "markdown",
   "metadata": {},
   "source": [
    "Now, we will get some practice using nested for loops on nested lists. Rememeber, a nested list looks something like\n",
    "```python\n",
    "sample_list = [[3, 6, 4], [8, 5, 2], [1, 9, 7]]\n",
    "```\n",
    "If we want access the rows of the list, we can use square brackets like\n",
    "```python\n",
    "sample_list[0] → [3, 6, 4]\n",
    "sample_list[1] → [8, 5, 2]\n",
    "sample_list[2] → [1, 9, 7]\n",
    "```\n",
    "So, we think of `sample_list[0]` as a list (not nested). One way we can see this is assigning it to a new variable. \n",
    "```\n",
    "first_row = sample_list[0]\n",
    "```\n",
    "After which, `first_row == [3, 6, 4]` is true. We can access its elements with\n",
    "```python\n",
    "first_row[0] → 3\n",
    "first_row[1] → 6\n",
    "first_row[2] → 4\n",
    "```\n",
    "\n",
    "Instead of assigning a new variable, we can skip that step altogether by remembering that using `sample_list[0]` itself will give us a list. So, a quicker way to access `sample_list`'s elements directly will be \n",
    "```python\n",
    "sample_list[0][0] → 3\n",
    "sample_list[0][1] → 6\n",
    "sample_list[0][2] → 4\n",
    "```\n",
    "Additionally, it is useful to use `len(sample_list)` to get the _number of rows_. The size of row `i` is `len(sample_list[i])`; when each row has the same size `len(sample_list[0])` will give us the _number of columns_, but each row might not have the same size.\n",
    "\n",
    "Using nested for loops will give us a good way of interacting with nested lists.\n",
    "\n",
    "We will write a function `print_row_sums_even` that will be given a nested list. This function should print the sum of _only the even_ values in each row.\n",
    "\n",
    "Using our example `[[3, 6, 4], [8, 5, 1], [2, 9, 7]]` from above, we expect\n",
    "```python \n",
    "nested_list = [[3, 6, 4], [8, 5, 1], [2, 9, 7]]\n",
    "print_row_sum_even_only(nested_list)\n",
    "```\n",
    "will print \n",
    "```python\n",
    "10\n",
    "8\n",
    "2\n",
    "```\n",
    "Why? In the first row we have `6 + 4 = 10`, in the second row `8` is the only even number, and in the third row `2` is the only even number. \n",
    "\n",
    "(_Hint:_ this will be very similar to printing the sum of each row, but with an extra `if`.)\n",
    "\n",
    "(_Hint × 2:_ using `len(nested_list[i])` will give us the number of items in row `i`.)"
   ]
  },
  {
   "cell_type": "code",
   "execution_count": null,
   "metadata": {},
   "outputs": [],
   "source": [
    "def print_row_sum_even_only(nested_list):\n",
    "    # YOUR CODE HERE\n",
    "    \n",
    "print_row_sum_even_only([[3, 6, 4], [8, 5, 1], [2, 9, 7]])"
   ]
  },
  {
   "cell_type": "markdown",
   "metadata": {},
   "source": [
    "(Again, you should see \n",
    "```python\n",
    "10\n",
    "8\n",
    "2\n",
    "```\n",
    "printed above.) Now, test it on a function where each row has a different number of items."
   ]
  },
  {
   "cell_type": "code",
   "execution_count": null,
   "metadata": {
    "scrolled": true
   },
   "outputs": [],
   "source": [
    "print_row_sum_even_only([[2, 3, 4], [8, 9, 10, 11, 12], [100]])"
   ]
  },
  {
   "cell_type": "markdown",
   "metadata": {},
   "source": [
    "Above, you should see\n",
    "```python\n",
    "6\n",
    "30\n",
    "100\n",
    "```\n",
    "printed."
   ]
  },
  {
   "cell_type": "markdown",
   "metadata": {
    "id": "-87zDfnV6uh7"
   },
   "source": [
    "<a name=\"7\"></a>\n",
    "## Question 7: Minimums and Averages"
   ]
  },
  {
   "cell_type": "markdown",
   "metadata": {
    "id": "iOnITSEr6uh8"
   },
   "source": [
    "In this problem, you will be dealing with a set of temperatures over a week represented as floats in a list. After writing each function, make sure it passes all the test cases."
   ]
  },
  {
   "cell_type": "markdown",
   "metadata": {
    "id": "y9HUPn7i6uh9"
   },
   "source": [
    "### 7.1"
   ]
  },
  {
   "cell_type": "markdown",
   "metadata": {
    "id": "_fObkPuE6uh9"
   },
   "source": [
    "Given a list of temperatures in a week, write a function ```find_min(float_list)``` that takes in a list of floats and returns the minimum temperature in the list. <b>You should not use the `min` function for this question.</b>"
   ]
  },
  {
   "cell_type": "code",
   "execution_count": null,
   "metadata": {
    "id": "ccAAUwcZ6uh-"
   },
   "outputs": [],
   "source": [
    "def find_min(float_list):\n",
    "    # write code here\n",
    "    \n",
    "\n",
    "# Test your code here\n",
    "assert_equal(got=find_min([13.25, 14.11, 15.64, 20.53, 17.32, 18.63, 14.90]),want=13.25)\n",
    "assert_equal(got=find_min([-1.34, 0.0, 5.89, 6.73, 2.54, 4.53, 7.01]),want=-1.34)\n",
    "assert_equal(got=find_min([5.53, 2.63, 0.7, 8.26, 10.1, 6.13, 2.43]),want=0.7)\n",
    "assert_equal(got=find_min([7.98, 12.34, 10.52, 13.64, 15.42, 14.42, 16.32]),want=7.98)\n",
    "assert_equal(got=find_min([8.42, 12.542, 13.25, 17.52, 15.24, 10.45, 8.86]),want=8.42)"
   ]
  },
  {
   "cell_type": "markdown",
   "metadata": {
    "id": "kfjN9URh6uiE"
   },
   "source": [
    "### 7.2"
   ]
  },
  {
   "cell_type": "markdown",
   "metadata": {
    "id": "LAZuIJRP6uiE"
   },
   "source": [
    "Now find the average temperature of each week. Given a list of temperatures, write a function ```find_avg(float_list)``` that returns the average temperature of the list using `for` loop(s).\n",
    "\n",
    "Recall that the average is defined as the sum of the numbers in the list divided by the length of the list."
   ]
  },
  {
   "cell_type": "code",
   "execution_count": null,
   "metadata": {
    "id": "AqLWFcPK6uiF"
   },
   "outputs": [],
   "source": [
    "def find_avg(float_list):\n",
    "    # write code here\n",
    "    \n",
    "\n",
    "# Test your code here\n",
    "assert_equal(got=find_avg([13.25, 14.11, 15.64, 20.53, 17.32, 18.63, 14.90]),want=16.34)\n",
    "assert_equal(got=find_avg([-1.34, 0.0, 5.89, 6.73, 2.54, 4.53, 7.01]),want=3.6228571428571428)\n",
    "assert_equal(got=find_avg([5.53, 2.63, 0.7, 8.26, 10.1, 6.13, 2.43]),want=5.111428571428571)\n",
    "assert_equal(got=find_avg([7.98, 12.34, 10.52, 13.64, 15.42, 14.42, 16.32]),want=12.94857142857143)\n",
    "assert_equal(got=find_avg([8.42, 12.542, 13.25, 17.52, 15.24, 10.45, 8.86]),want=12.326)\n"
   ]
  },
  {
   "cell_type": "markdown",
   "metadata": {
    "id": "PlXtuiQd6uiJ"
   },
   "source": [
    "### 7.3"
   ]
  },
  {
   "cell_type": "markdown",
   "metadata": {
    "id": "9E02WCoa6uiJ"
   },
   "source": [
    "Now you are given a list of cities, and a list of temperatures for each week in each city. Write a function ```coldest_city(city_list, temperature_list)``` that returns the name of the city with the ***minimum average temperature***. \n",
    "\n",
    "For example:\n",
    "     \n",
    "   `coldest_city([\"Kingston\", \"Spanish Town\"], [[6,8], [7,9]])`\n",
    "  \n",
    " Should return:   \n",
    "   `Kingston`\n",
    "  \n",
    "  The average temperature for Kingston is $\\frac{6+8}{2} = 7$ and the average temperature of Spanish Town is $\\frac{7+9}{2} = 8$, so the city with the minimum average temperature is Kingston\n",
    "\n",
    "*Hint: It may be useful to call ```find_min``` and  ```find_avg```  in this function.*"
   ]
  },
  {
   "cell_type": "code",
   "execution_count": null,
   "metadata": {
    "id": "XgiALpZX6uiK"
   },
   "outputs": [],
   "source": [
    "def coldest_city(city_list, temperature_list):\n",
    "    \"\"\"\n",
    "    Gets the coldest city with the minimum average temperature\n",
    "\n",
    "    Args:\n",
    "        city_list (list(str)):\n",
    "            Names of the cities\n",
    "        temperature_list (list(list(str))):\n",
    "            A list of weekly temperatures for each city, where the weekly temperatures are a list of temperatures in the city for each day.\n",
    "    Returns (str):\n",
    "        The name of the city with the minimum average temperature\n",
    "    \"\"\"\n",
    "\n",
    "    # your code here\n",
    "    \n",
    "\n",
    "\n",
    "\n",
    "\n",
    "cities = [\"Kingston\", \"Montego Bay\", \"Port Antonio\", \"Portmore\", \"Spanish Town\"]\n",
    "temperatures = [[13.25, 14.11, 15.64, 20.53, 17.32, 18.63, 14.90],[-1.34, 0.0, 5.89, 6.73, 2.54, 4.53, 7.01],[5.53, 2.63, 0.7, 8.26, 10.1, 6.13, 2.43],[7.98, 12.34, 10.52, 13.64, 15.42, 14.42, 16.32],[8.42, 12.542, 13.25, 17.52, 15.24, 10.45, 8.86]]\n",
    "assert_equal(got=coldest_city(cities, temperatures), want=\"Montego Bay\")\n",
    "assert_equal(got=coldest_city([\"Kingston\", \"Spanish Town\"], [[6,8], [7,9]]), want=\"Kingston\")"
   ]
  },
  {
   "cell_type": "markdown",
   "metadata": {},
   "source": [
    "<a name=\"8\"></a>\n",
    "## Question 8: Decode Messages\n",
    "\n",
    "Write a function `remove_character(secret_message, char)` that given a secret message and a character, removes all the instances of character `char` in `secret_message`. This function should return a modified string.\n",
    "\n",
    "_Hint: you can use for loops with strings_\n",
    "\n",
    "For example `remove_character(\"heallo\", \"a\") = \"hello\"`\n",
    "\n",
    "Another example `remove_character(\"hello\", \"f\") = \"hello\"`"
   ]
  },
  {
   "cell_type": "code",
   "execution_count": null,
   "metadata": {},
   "outputs": [],
   "source": [
    "def remove_character(secret_message, char):\n",
    "    # write code here\n",
    "    \n",
    "  \n",
    "\n",
    "# Test your function here. You'll never guess what this word is supposed to be >:)\n",
    "assert_equal(got=remove_character(\"hello\", \"e\"), want=\"hllo\")\n",
    "assert_equal(got=remove_character(\"hello\", \"f\"), want=\"hello\")\n",
    "assert_equal(got=remove_character(\"hello everyone\", \"e\"), want=\"hllo vryon\")\n",
    "\n",
    "\n",
    "# You'll never guess what the hidden word is\n",
    "print(remove_character(\"eeejeameaeicaeeee\", \"e\"))\n",
    "\n",
    "\n",
    "# Decode these secret messages!\n",
    "print(\"--------------------------------------------------------------------------------\")\n",
    "print(\"This secret message will only make sense if you coded your function correctly\")\n",
    "print(\"--------------------------------------------------------------------------------\")\n",
    "secret_message_1 = \"cifcc tcype(ccboatccc)cccc c=cc=c cfclocccccatccccc:c\"\n",
    "secret_message_2 = \"g ggggg gg  gprgiggngtgg('Ygaggggyggggggggg'g)\"\n",
    "secret_message_3 = \"iiiieiiilisiiiiiiiiiieiiii:iiiiiiii\"\n",
    "secret_message_4 = \"f f  fff prfifntf('fffOhf no! ffWe'ffre sfinffkfiffnfffffg')fff\"\n",
    "print(remove_character(secret_message_1, \"c\"))\n",
    "print(remove_character(secret_message_2, \"g\"))\n",
    "print(remove_character(secret_message_3, \"i\"))\n",
    "print(remove_character(secret_message_4, \"f\"))\n"
   ]
  },
  {
   "cell_type": "markdown",
   "metadata": {},
   "source": [
    "Congrats on finishing! For an extra challenge, if youu solved a problem with a `for` loop, think about how to do it with a `while` loop and vice versa."
   ]
  }
 ],
 "metadata": {
  "colab": {
   "collapsed_sections": [
    "r3wwpw-NZnLy"
   ],
   "name": "jamcoders_probs3b.ipynb",
   "provenance": []
  },
  "kernelspec": {
   "display_name": "Python 3 (ipykernel)",
   "language": "python",
   "name": "python3"
  },
  "language_info": {
   "codemirror_mode": {
    "name": "ipython",
    "version": 3
   },
   "file_extension": ".py",
   "mimetype": "text/x-python",
   "name": "python",
   "nbconvert_exporter": "python",
   "pygments_lexer": "ipython3",
   "version": "3.10.14"
  }
 },
 "nbformat": 4,
 "nbformat_minor": 1
}
