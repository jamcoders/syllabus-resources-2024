{
 "cells": [
  {
   "cell_type": "code",
   "execution_count": 16,
   "id": "d28a7963",
   "metadata": {},
   "outputs": [
    {
     "name": "stdout",
     "output_type": "stream",
     "text": [
      "****\n",
      "***\n",
      "**\n",
      "*\n"
     ]
    }
   ],
   "source": [
    "#What does this function do?\n",
    "def mystery(a):\n",
    "    if a == 0:\n",
    "        return\n",
    "    print(a*'*')\n",
    "    mystery(a-1)\n",
    "mystery(4)"
   ]
  },
  {
   "cell_type": "code",
   "execution_count": 17,
   "id": "1c18d684",
   "metadata": {},
   "outputs": [
    {
     "name": "stdout",
     "output_type": "stream",
     "text": [
      "*\n",
      "**\n",
      "***\n",
      "****\n"
     ]
    }
   ],
   "source": [
    "#What about this one?\n",
    "#Why is it different from the one before?\n",
    "def mystery(a):\n",
    "    if a == 0:\n",
    "        return\n",
    "    mystery(a-1)\n",
    "    print(a*'*')\n",
    "mystery(4)"
   ]
  },
  {
   "cell_type": "code",
   "execution_count": 7,
   "id": "c951dd58",
   "metadata": {},
   "outputs": [
    {
     "data": {
      "text/plain": [
       "10"
      ]
     },
     "execution_count": 7,
     "metadata": {},
     "output_type": "execute_result"
    }
   ],
   "source": [
    "#Bonus example: We didn't go through this in class\n",
    "#What does this function do?\n",
    "#Go through it line by line as we discussed in class.\n",
    "def mystery(a):\n",
    "    if a == 0:\n",
    "        return 0\n",
    "    return a + mystery(a-1)\n",
    "\n",
    "mystery(3)\n",
    "\n",
    "#Answer: it returns the sum of the range of (a+1)\n",
    "#Lets trace the code. \n",
    "\n",
    "#mystery(3) returns 3+mystery(2)\n",
    "#mystery(2) returns 2+mystery(1)\n",
    "#mystery(1) returns 1+mystery(0)\n",
    "#mystery(0) returns 0. \n",
    "\n",
    "#So now that mystery(0) has returned 0, we\n",
    "#can go back up the chain to see what the values are.\n",
    "#mystery(1) returns 1+mystery(0)-->1+0-->1\n",
    "#mystery(2) returns 2+mystery(1)-->2+1-->3\n",
    "#mystery(3) returns 3+mystery(2)-->3+3-->6\n",
    "\n",
    "#What would mystery(4) return?\n",
    "#mystery(4) returns 4+mystery(3)-->4+6=10\n",
    "\n",
    "#mystery(a) is a function that takes a number and \n",
    "#returns the sum of the numbers from 0 up to that number.\n",
    "#so its basically a function that takes a number, a,and \n",
    "#returns the sum of the values in range(a+1)."
   ]
  },
  {
   "cell_type": "code",
   "execution_count": null,
   "id": "bb18f811",
   "metadata": {},
   "outputs": [],
   "source": [
    "#What you just saw is called recursion. \n",
    "#You will spend most of next week learning about recursion. \n",
    "#It makes some problems much easier to solve. \n",
    "\n",
    "#E.g. The following sequence is called the Fibonacci sequence:\n",
    "\n",
    "#0, 1, 1, 2, 3, 5, 8, 13, 21, 34, ...\n",
    "\n",
    "#Can you see the pattern in this sequence?\n",
    "\n",
    "#The Fibonacci sequnce is defined as follows:\n",
    "\n",
    "#F(0) = 0\n",
    "#F(1) = 1\n",
    "#F(n) = F(n - 1) + F(n - 2), for n >= 2\n",
    "\n",
    "#We can expand this out a bit to see the \n",
    "#first few elements of this sequence:\n",
    "\n",
    "#F(0) = 0, by definition\n",
    "#F(1) = 1, by definition\n",
    "#F(2) = F(1) + F(0) = 1 + 0 = 1\n",
    "#F(3) = F(2) + F(1) = 1 + 1 = 2\n",
    "#F(4) = F(3) + F(2) = 2 + 1 = 3\n",
    "#F(5) = F(4) + F(3) = 3 + 2 = 5"
   ]
  },
  {
   "cell_type": "code",
   "execution_count": null,
   "id": "4ec42f2a",
   "metadata": {},
   "outputs": [],
   "source": [
    "#Lets watch a video on the significance of \n",
    "#the Fibonacci sequence: \n",
    "#https://www.youtube.com/watch?v=nt2OlMAJj6o"
   ]
  },
  {
   "cell_type": "code",
   "execution_count": 22,
   "id": "e0ef96a1",
   "metadata": {},
   "outputs": [
    {
     "name": "stdout",
     "output_type": "stream",
     "text": [
      "3\n",
      "55\n"
     ]
    }
   ],
   "source": [
    "# Implementation of fib using recursion:\n",
    "#F(0) = 0\n",
    "#F(1) = 1\n",
    "#F(n) = F(n - 1) + F(n - 2), for n >= 2\n",
    "def fib(n):\n",
    "    # Base case:\n",
    "    if n == 0 or n == 1:\n",
    "        return n\n",
    "    # Recursive case:\n",
    "    return fib(n - 1) + fib(n - 2)\n",
    "\n",
    "# Let's try it:\n",
    "print(fib(4))\n",
    "print(fib(10))"
   ]
  },
  {
   "cell_type": "code",
   "execution_count": 24,
   "id": "46d7f171",
   "metadata": {},
   "outputs": [
    {
     "name": "stdout",
     "output_type": "stream",
     "text": [
      "3\n",
      "55\n"
     ]
    }
   ],
   "source": [
    "# Implementation of fib using for loop:\n",
    "\n",
    "#The Fibonacci sequnce is defined as follows:\n",
    "\n",
    "#F(0) = 0\n",
    "#F(1) = 1\n",
    "#F(n) = F(n - 1) + F(n - 2), for n >= 2\n",
    "\n",
    "#We can expand this out a bit to see the first few \n",
    "#elements of this sequence:\n",
    "#F(0) = 0, by definition\n",
    "#F(1) = 1, by definition\n",
    "#F(2) = F(1) + F(0) = 1 + 0 = 1\n",
    "#F(3) = F(2) + F(1) = 1 + 1 = 2\n",
    "#F(4) = F(3) + F(2) = 2 + 1 = 3\n",
    "#F(5) = F(4) + F(3) = 3 + 2 = 5\n",
    "\n",
    "def fib(n):\n",
    "    if n == 0 or n == 1:\n",
    "        return n\n",
    "    \n",
    "    fib_i_prev_prev = 0  # Initialized to F(0)\n",
    "    fib_i_prev = 1       # Initialized to F(1)\n",
    "    for i in range(n - 1):\n",
    "        # Compute the next number in the sequence\n",
    "        fib_i = fib_i_prev_prev + fib_i_prev\n",
    "        # Save state to use for the next computation\n",
    "        fib_i_prev_prev = fib_i_prev\n",
    "        fib_i_prev = fib_i\n",
    "    return fib_i\n",
    "\n",
    "# Let's try it:\n",
    "print(fib(4))\n",
    "print(fib(10))"
   ]
  },
  {
   "cell_type": "markdown",
   "id": "d9497a5c",
   "metadata": {},
   "source": [
    "# Practical Stuff (skipped but you can look through the notes)"
   ]
  },
  {
   "cell_type": "code",
   "execution_count": null,
   "id": "6a85e418",
   "metadata": {},
   "outputs": [],
   "source": [
    "def is_green(tomato):\n",
    "    if tomato=='green':\n",
    "        return True\n",
    "    return False\n",
    "\n",
    "def sort_tomatoes(tomatoes):\n",
    "    green_tomatoes=[]\n",
    "    red_tomatoes=[]\n",
    "    for t in tomatoes:\n",
    "        if is_green(t):\n",
    "            green_tomatoes+=[t]\n",
    "        else:\n",
    "            red_tomatoes+=[t]\n",
    "    return red_tomatoes,green_tomatoes\n",
    "\n",
    "Tomatoes=['red','green','green','red','green','red','red','green','green']\n",
    "print(sort_tomatoes(Tomatoes))"
   ]
  },
  {
   "cell_type": "markdown",
   "id": "51984b52",
   "metadata": {},
   "source": [
    "How would you write the logic for the tomato sorter \n",
    "I showed in the first day of class?\n",
    "https://www.facebook.com/HowFarmsWork/videos/heres-a-tomato-sorting-machine-in-slow-motion/247228486178646/"
   ]
  },
  {
   "cell_type": "markdown",
   "id": "7b83669f",
   "metadata": {},
   "source": [
    "How would you write the logic for the book analysis paper that I discussed\n",
    "the first day of class?\n",
    "https://www.ncbi.nlm.nih.gov/pmc/articles/PMC3279742/\n",
    "    \n",
    "Rememeber that they count the number of times a specific word appears in all the books\n",
    "they have from a specific year, and make plots to see how the usage of these words changinf\n",
    "across time."
   ]
  },
  {
   "cell_type": "code",
   "execution_count": null,
   "id": "32504a84",
   "metadata": {},
   "outputs": [],
   "source": [
    "#How would you write the logic for books?\n",
    "#You can use lists and for loops to do this type of analysis. \n",
    "\n",
    "#We can represent each book as a list of strings. \n",
    "#We can represent the books in a specific year as a list of lists, \n",
    "#Each element being a book, represented as a list of strings. \n",
    "\n",
    "book1=[\"Emminence\",\"of\",\"the\",\"shadow\", \".\", \"I\",\"like\",\"the\",\"word\",\"emminence\",\".\"]\n",
    "book2=[\"I\",\"said\",\"Emminence\", \"again\"]\n",
    "book3=[\"I\",\"am\",\"tired\"]\n",
    "books_1981=[book1,book2]\n",
    "books_1982=[book3]\n",
    "\n",
    "def find_num_words(word,year_list):\n",
    "    num_word_1981=0\n",
    "    for book in year_list:\n",
    "        for w in book:\n",
    "            if w==word:\n",
    "                num_word_1981+=1\n",
    "\n",
    "    return num_word_1981\n",
    "\n",
    "#How many times does \"Emminence\" appear in 1981, or 1982, or 1983?\n",
    "print(find_num_words(\"Emminence\",books_1981))"
   ]
  },
  {
   "cell_type": "code",
   "execution_count": null,
   "id": "2b2321e9",
   "metadata": {},
   "outputs": [],
   "source": [
    "#Another way.\n",
    "#How would you write the logic for books?\n",
    "#You can use lists and for loops to do this type of analysis. \n",
    "\n",
    "#We can represent each book as a list of strings. \n",
    "#We can represent the books in a specific year as a list of lists, \n",
    "#Each element being a book, represented as a list of strings. \n",
    "\n",
    "book1=[\"Emminence\",\"of\",\"the\",\"shadow\", \".\", \"I\",\"like\",\"the\",\"word\",\"emminence\",\".\"]\n",
    "book2=[\"I\",\"said\",\"Emminence\", \"again\"]\n",
    "book3=[\"I\",\"am\",\"tired\"]\n",
    "books_1981=[book1,book2]\n",
    "books_1982=[book3]\n",
    "\n",
    "def find_num_words(word,year_list):\n",
    "    num_word_1981=0\n",
    "    for year_index in range(len(year_list)):\n",
    "        for book_index in range(len(year_list[year_index])):\n",
    "            if year_list[year_index][book_index]==word:\n",
    "                num_word_1981+=1\n",
    "    return num_word_1981\n",
    "\n",
    "#How many times does \"Emminence\" appear in 1981, or 1982, or 1983?\n",
    "print(find_num_words(\"Emminence\",books_1981))"
   ]
  }
 ],
 "metadata": {
  "kernelspec": {
   "display_name": "Python 3 (ipykernel)",
   "language": "python",
   "name": "python3"
  },
  "language_info": {
   "codemirror_mode": {
    "name": "ipython",
    "version": 3
   },
   "file_extension": ".py",
   "mimetype": "text/x-python",
   "name": "python",
   "nbconvert_exporter": "python",
   "pygments_lexer": "ipython3",
   "version": "3.11.0"
  }
 },
 "nbformat": 4,
 "nbformat_minor": 5
}
