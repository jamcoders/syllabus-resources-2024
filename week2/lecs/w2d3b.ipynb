{
 "cells": [
  {
   "cell_type": "code",
   "execution_count": 63,
   "id": "502c05c9",
   "metadata": {},
   "outputs": [],
   "source": [
    "%config InteractiveShell.ast_node_interactivity=\"none\""
   ]
  },
  {
   "cell_type": "code",
   "execution_count": 69,
   "id": "b1af73c2",
   "metadata": {},
   "outputs": [
    {
     "name": "stdout",
     "output_type": "stream",
     "text": [
      "-5\n"
     ]
    }
   ],
   "source": [
    "# What does this function do?\n",
    "# It returns the minimum element in a list\n",
    "def find_min(L):\n",
    "    n=len(L)\n",
    "    current_min=L[0]\n",
    "    #i=1\n",
    "    #while i<n:\n",
    "    for i in range(1,n):\n",
    "        if L[i]<current_min:\n",
    "            current_min=L[i]\n",
    "        #i+=1\n",
    "    return current_min\n",
    "\n",
    "L1=[3,1,-5,200,1,1]\n",
    "#L2=[]\n",
    "#L3=[1]\n",
    "print(find_min(L1))"
   ]
  },
  {
   "cell_type": "code",
   "execution_count": 100,
   "id": "d9b3b7e3",
   "metadata": {},
   "outputs": [
    {
     "ename": "UnboundLocalError",
     "evalue": "cannot access local variable 'current_min' where it is not associated with a value",
     "output_type": "error",
     "traceback": [
      "\u001b[0;31m---------------------------------------------------------------------------\u001b[0m",
      "\u001b[0;31mUnboundLocalError\u001b[0m                         Traceback (most recent call last)",
      "Cell \u001b[0;32mIn [100], line 10\u001b[0m\n\u001b[1;32m      7\u001b[0m L1\u001b[38;5;241m=\u001b[39m[\u001b[38;5;241m3\u001b[39m,\u001b[38;5;241m1\u001b[39m,\u001b[38;5;241m-\u001b[39m\u001b[38;5;241m5\u001b[39m,\u001b[38;5;241m200\u001b[39m,\u001b[38;5;241m1\u001b[39m,\u001b[38;5;241m1\u001b[39m]\n\u001b[1;32m      8\u001b[0m \u001b[38;5;66;03m#L2=[]\u001b[39;00m\n\u001b[1;32m      9\u001b[0m \u001b[38;5;66;03m#L3=[1]\u001b[39;00m\n\u001b[0;32m---> 10\u001b[0m \u001b[38;5;28mprint\u001b[39m(\u001b[43mfind_min\u001b[49m\u001b[43m(\u001b[49m\u001b[43mL1\u001b[49m\u001b[43m)\u001b[49m)\n",
      "Cell \u001b[0;32mIn [100], line 4\u001b[0m, in \u001b[0;36mfind_min\u001b[0;34m(L)\u001b[0m\n\u001b[1;32m      2\u001b[0m \u001b[38;5;28;01mdef\u001b[39;00m \u001b[38;5;21mfind_min\u001b[39m(L):\n\u001b[1;32m      3\u001b[0m     \u001b[38;5;28;01mfor\u001b[39;00m x \u001b[38;5;129;01min\u001b[39;00m L:\n\u001b[0;32m----> 4\u001b[0m         \u001b[38;5;28;01mif\u001b[39;00m x\u001b[38;5;241m<\u001b[39m\u001b[43mcurrent_min\u001b[49m:\n\u001b[1;32m      5\u001b[0m             current_min\u001b[38;5;241m=\u001b[39mx\n\u001b[1;32m      6\u001b[0m     \u001b[38;5;28;01mreturn\u001b[39;00m current_min\n",
      "\u001b[0;31mUnboundLocalError\u001b[0m: cannot access local variable 'current_min' where it is not associated with a value"
     ]
    }
   ],
   "source": [
    "#Another student answer\n",
    "def find_min(L):\n",
    "    for x in L:\n",
    "        if x<current_min:\n",
    "            current_min=x\n",
    "    return current_min\n",
    "L1=[3,1,-5,200,1,1]\n",
    "#L2=[]\n",
    "#L3=[1]\n",
    "print(find_min(L1))"
   ]
  },
  {
   "cell_type": "code",
   "execution_count": 101,
   "id": "5b06a7a6",
   "metadata": {},
   "outputs": [
    {
     "name": "stdout",
     "output_type": "stream",
     "text": [
      "-5\n"
     ]
    }
   ],
   "source": [
    "#Another student answer\n",
    "#Error because we did not define current_min\n",
    "def find_min(L):\n",
    "    current_min=L[0]\n",
    "    for x in L:\n",
    "        if x<current_min:\n",
    "            current_min=x\n",
    "    return current_min\n",
    "L1=[3,1,-5,200,1,1]\n",
    "#L2=[]\n",
    "#L3=[1]\n",
    "print(find_min(L1))"
   ]
  },
  {
   "cell_type": "code",
   "execution_count": 102,
   "id": "ce5e9b8c",
   "metadata": {},
   "outputs": [
    {
     "name": "stdout",
     "output_type": "stream",
     "text": [
      "-5\n"
     ]
    }
   ],
   "source": [
    "#How can you create the above find_min function using a for loop?\n",
    "#Not the most concise answer but one that only changes one line. \n",
    "def find_min(L):\n",
    "    n=len(L) \n",
    "    i=1                  #---->This line is not needed\n",
    "    current_min=L[0]\n",
    "    for i in range(n):   #---->We only changed this line from the one with a while loop\n",
    "        if L[i]<current_min:\n",
    "            current_min=L[i]\n",
    "        i+=1             #---->This line is not needed\n",
    "    return current_min\n",
    "\n",
    "L1=[3,1,-5,200,1,1]\n",
    "L2=[]\n",
    "L3=[1]\n",
    "print(find_min(L1))"
   ]
  },
  {
   "cell_type": "code",
   "execution_count": 103,
   "id": "c4258ac8",
   "metadata": {
    "scrolled": true
   },
   "outputs": [
    {
     "ename": "IndexError",
     "evalue": "list index out of range",
     "output_type": "error",
     "traceback": [
      "\u001b[0;31m---------------------------------------------------------------------------\u001b[0m",
      "\u001b[0;31mIndexError\u001b[0m                                Traceback (most recent call last)",
      "Cell \u001b[0;32mIn [103], line 13\u001b[0m\n\u001b[1;32m     11\u001b[0m L2\u001b[38;5;241m=\u001b[39m[]\n\u001b[1;32m     12\u001b[0m L3\u001b[38;5;241m=\u001b[39m[\u001b[38;5;241m1\u001b[39m]\n\u001b[0;32m---> 13\u001b[0m \u001b[38;5;28mprint\u001b[39m(\u001b[43mfind_min\u001b[49m\u001b[43m(\u001b[49m\u001b[43mL2\u001b[49m\u001b[43m)\u001b[49m)\n",
      "Cell \u001b[0;32mIn [103], line 4\u001b[0m, in \u001b[0;36mfind_min\u001b[0;34m(L)\u001b[0m\n\u001b[1;32m      2\u001b[0m \u001b[38;5;28;01mdef\u001b[39;00m \u001b[38;5;21mfind_min\u001b[39m(L):\n\u001b[1;32m      3\u001b[0m     n\u001b[38;5;241m=\u001b[39m\u001b[38;5;28mlen\u001b[39m(L) \n\u001b[0;32m----> 4\u001b[0m     current_min\u001b[38;5;241m=\u001b[39m\u001b[43mL\u001b[49m\u001b[43m[\u001b[49m\u001b[38;5;241;43m0\u001b[39;49m\u001b[43m]\u001b[49m\n\u001b[1;32m      5\u001b[0m     \u001b[38;5;28;01mfor\u001b[39;00m i \u001b[38;5;129;01min\u001b[39;00m \u001b[38;5;28mrange\u001b[39m(n):   \n\u001b[1;32m      6\u001b[0m         \u001b[38;5;28;01mif\u001b[39;00m L[i]\u001b[38;5;241m<\u001b[39mcurrent_min:\n",
      "\u001b[0;31mIndexError\u001b[0m: list index out of range"
     ]
    }
   ],
   "source": [
    "#What happens if I enter an empty list? \n",
    "def find_min(L):\n",
    "    n=len(L) \n",
    "    current_min=L[0]\n",
    "    for i in range(n):   \n",
    "        if L[i]<current_min:\n",
    "            current_min=L[i]\n",
    "    return current_min\n",
    "\n",
    "L1=[3,1,-5,200,1,1]\n",
    "L2=[]\n",
    "L3=[1]\n",
    "print(find_min(L2))"
   ]
  },
  {
   "cell_type": "code",
   "execution_count": 105,
   "id": "3e321cbf",
   "metadata": {},
   "outputs": [
    {
     "name": "stdout",
     "output_type": "stream",
     "text": [
      "None\n"
     ]
    }
   ],
   "source": [
    "#What happens if I enter an empty list? \n",
    "#We tried to access elements of an empty list. \n",
    "#If the list of empty we should return None, \n",
    "#which is the same as just returning. \n",
    "def find_min(L):\n",
    "    if len(L)==0:\n",
    "        return \n",
    "    #--->Why don't we need an else after the if above?\n",
    "    #Because if the len(L) is 0, we will leave the function.\n",
    "    #If len(L) is not zero, we will execute the lines below. \n",
    "    n=len(L) \n",
    "    current_min=L[0]\n",
    "    for i in range(n):   \n",
    "        if L[i]<current_min:\n",
    "            current_min=L[i]\n",
    "    return current_min\n",
    "\n",
    "L1=[3,1,-5,200,1,1]\n",
    "L2=[]\n",
    "L3=[1]\n",
    "print(find_min(L2))"
   ]
  },
  {
   "cell_type": "code",
   "execution_count": 110,
   "id": "ee39ea4e",
   "metadata": {},
   "outputs": [
    {
     "name": "stdout",
     "output_type": "stream",
     "text": [
      "0\n"
     ]
    }
   ],
   "source": [
    "#What happens if current_min is set to 0 instead of L[0]?\n",
    "#It would return the minimum number of a list if that number is \n",
    "#less than zero.\n",
    "#But if the minimum number in a list is greater than zero? \n",
    "#It would return zero instead of the minimum number in the list. \n",
    "def find_min(L):\n",
    "    if len(L)==0:\n",
    "        return  \n",
    "    n=len(L) \n",
    "    current_min=0 #---->this should be L[0] instead of 0\n",
    "    for i in range(n):   \n",
    "        if L[i]<current_min:\n",
    "            current_min=L[i]\n",
    "    return current_min\n",
    "\n",
    "L1=[3,1,15,200,1,1]\n",
    "print(find_min(L1))"
   ]
  },
  {
   "cell_type": "code",
   "execution_count": 107,
   "id": "1ceb458a",
   "metadata": {},
   "outputs": [],
   "source": [
    "#Create a function called find_max that takes as input a list L \n",
    "#and outputs the maximum number in the list.\n",
    "#e.g. if L=[3,1,-5,200,1,1], the function should output 200\n",
    "#     if L=[], the function should output None\n",
    "#     if L=[1],the function sould output 1\n",
    "\n",
    "#Hint: How can you adjust the find_min function to do this instead?"
   ]
  },
  {
   "cell_type": "code",
   "execution_count": 108,
   "id": "4fc52ff4",
   "metadata": {},
   "outputs": [
    {
     "name": "stdout",
     "output_type": "stream",
     "text": [
      "200\n"
     ]
    }
   ],
   "source": [
    "#Student answer\n",
    "def find_max(L):\n",
    "    current_max=L[0]\n",
    "    i=0\n",
    "    while i < len(L):\n",
    "        if L[i]>current_max:\n",
    "            current_max=L[i]\n",
    "        i+=1\n",
    "    return current_max\n",
    "L1=[3,1,-5,200,1,1]\n",
    "print(find_max(L1))"
   ]
  },
  {
   "cell_type": "code",
   "execution_count": 73,
   "id": "06b92e10",
   "metadata": {},
   "outputs": [
    {
     "name": "stdout",
     "output_type": "stream",
     "text": [
      "200\n"
     ]
    }
   ],
   "source": [
    "#Another student answer\n",
    "def find_max(L):\n",
    "    current_max=L[0]\n",
    "    for i in range(len(L)):\n",
    "        if L[i]>current_max:\n",
    "            current_max=L[i]\n",
    "    return current_max\n",
    "L1=[3,1,-5,200,1,1]\n",
    "print(find_max(L1))"
   ]
  },
  {
   "cell_type": "code",
   "execution_count": 111,
   "id": "532ec195",
   "metadata": {},
   "outputs": [
    {
     "ename": "IndexError",
     "evalue": "list index out of range",
     "output_type": "error",
     "traceback": [
      "\u001b[0;31m---------------------------------------------------------------------------\u001b[0m",
      "\u001b[0;31mIndexError\u001b[0m                                Traceback (most recent call last)",
      "Cell \u001b[0;32mIn [111], line 10\u001b[0m\n\u001b[1;32m      8\u001b[0m L1\u001b[38;5;241m=\u001b[39m[\u001b[38;5;241m3\u001b[39m,\u001b[38;5;241m1\u001b[39m,\u001b[38;5;241m-\u001b[39m\u001b[38;5;241m5\u001b[39m,\u001b[38;5;241m200\u001b[39m,\u001b[38;5;241m1\u001b[39m,\u001b[38;5;241m1\u001b[39m]\n\u001b[1;32m      9\u001b[0m L2\u001b[38;5;241m=\u001b[39m[]\n\u001b[0;32m---> 10\u001b[0m \u001b[38;5;28mprint\u001b[39m(\u001b[43mfind_max\u001b[49m\u001b[43m(\u001b[49m\u001b[43mL2\u001b[49m\u001b[43m)\u001b[49m)\n",
      "Cell \u001b[0;32mIn [111], line 3\u001b[0m, in \u001b[0;36mfind_max\u001b[0;34m(L)\u001b[0m\n\u001b[1;32m      2\u001b[0m \u001b[38;5;28;01mdef\u001b[39;00m \u001b[38;5;21mfind_max\u001b[39m(L):\n\u001b[0;32m----> 3\u001b[0m     current_max\u001b[38;5;241m=\u001b[39m\u001b[43mL\u001b[49m\u001b[43m[\u001b[49m\u001b[38;5;241;43m0\u001b[39;49m\u001b[43m]\u001b[49m\n\u001b[1;32m      4\u001b[0m     \u001b[38;5;28;01mfor\u001b[39;00m i \u001b[38;5;129;01min\u001b[39;00m \u001b[38;5;28mrange\u001b[39m(\u001b[38;5;28mlen\u001b[39m(L)):\n\u001b[1;32m      5\u001b[0m         \u001b[38;5;28;01mif\u001b[39;00m L[i]\u001b[38;5;241m>\u001b[39mcurrent_max:\n",
      "\u001b[0;31mIndexError\u001b[0m: list index out of range"
     ]
    }
   ],
   "source": [
    "#But both answers return errors if L is an empty list. \n",
    "def find_max(L):\n",
    "    current_max=L[0]\n",
    "    for i in range(len(L)):\n",
    "        if L[i]>current_max:\n",
    "            current_max=L[i]\n",
    "    return current_max\n",
    "L1=[3,1,-5,200,1,1]\n",
    "L2=[]\n",
    "print(find_max(L2))"
   ]
  },
  {
   "cell_type": "code",
   "execution_count": 116,
   "id": "d3a67dac",
   "metadata": {},
   "outputs": [
    {
     "name": "stdout",
     "output_type": "stream",
     "text": [
      "None\n"
     ]
    }
   ],
   "source": [
    "def find_max(L):\n",
    "    if len(L)==0:\n",
    "        return\n",
    "    current_max=L[0]\n",
    "    for i in range(len(L)):\n",
    "        if L[i]>current_max:\n",
    "            current_max=L[i]\n",
    "    return current_max\n",
    "L1=[3,1,-5,200,1,1]\n",
    "L2=[]\n",
    "print(find_max(L2))"
   ]
  },
  {
   "cell_type": "markdown",
   "id": "feb640b0",
   "metadata": {},
   "source": [
    "# More on Lists"
   ]
  },
  {
   "cell_type": "code",
   "execution_count": 58,
   "id": "cc7b869b",
   "metadata": {},
   "outputs": [
    {
     "name": "stdout",
     "output_type": "stream",
     "text": [
      "[1, 7, 8, 2, 3]\n"
     ]
    }
   ],
   "source": [
    "# Adding lists is also called \"concatenation\"\n",
    "x = [1,7,8, 2] + [3]\n",
    "print(x)"
   ]
  },
  {
   "cell_type": "code",
   "execution_count": 59,
   "id": "4e5a1c9f",
   "metadata": {},
   "outputs": [
    {
     "name": "stdout",
     "output_type": "stream",
     "text": [
      "[1, 7, 8, 2, 3, 5]\n"
     ]
    }
   ],
   "source": [
    "#You just learned how to use append to add to a list in lab.\n",
    "x.append(5)\n",
    "print(x)"
   ]
  },
  {
   "cell_type": "code",
   "execution_count": 118,
   "id": "22acbbe4",
   "metadata": {},
   "outputs": [
    {
     "name": "stdout",
     "output_type": "stream",
     "text": [
      "['this', 'is']\n",
      "timnit\n",
      "world\n"
     ]
    }
   ],
   "source": [
    "# List indexing and slicing\n",
    "my_list = [ \"hello\", \"world\", \"this\", \"is\", \"timnit\"]\n",
    "print(my_list[2:4])\n",
    "print(my_list[-1])\n",
    "print(my_list[-4])"
   ]
  },
  {
   "cell_type": "code",
   "execution_count": 119,
   "id": "f4502170",
   "metadata": {},
   "outputs": [
    {
     "name": "stdout",
     "output_type": "stream",
     "text": [
      "[2, 4, 6, 8, 10]\n",
      "[4, 6, 8, 10]\n",
      "[12, 14, 16, 18]\n"
     ]
    }
   ],
   "source": [
    "# List slicing can give you parts of lists\n",
    "x = [2,4,6,8,10,12,14,16,18]\n",
    "print(x[:5])\n",
    "# It does not include the last element past the colon\n",
    "print(x[1:5])\n",
    "# If you don't have something past the colon, it takes until the end\n",
    "print(x[5:])"
   ]
  },
  {
   "cell_type": "code",
   "execution_count": 120,
   "id": "cc64bd03",
   "metadata": {},
   "outputs": [
    {
     "name": "stdout",
     "output_type": "stream",
     "text": [
      "['I ', 'am', 'a', 'diverse', 'list', 1, 2, 5, 1]\n"
     ]
    }
   ],
   "source": [
    "#Using + to append to a list. \n",
    "#what happens?\n",
    "L=[\"I \", \"am\", \"a\", \"diverse\",\"list\", 1,2,5]\n",
    "L.append(1) \n",
    "print(L)"
   ]
  },
  {
   "cell_type": "code",
   "execution_count": 121,
   "id": "7f8ec8bd",
   "metadata": {},
   "outputs": [
    {
     "ename": "TypeError",
     "evalue": "'int' object is not iterable",
     "output_type": "error",
     "traceback": [
      "\u001b[0;31m---------------------------------------------------------------------------\u001b[0m",
      "\u001b[0;31mTypeError\u001b[0m                                 Traceback (most recent call last)",
      "Cell \u001b[0;32mIn [121], line 2\u001b[0m\n\u001b[1;32m      1\u001b[0m \u001b[38;5;66;03m#what happens?\u001b[39;00m\n\u001b[0;32m----> 2\u001b[0m \u001b[43mL\u001b[49m\u001b[38;5;241;43m+\u001b[39;49m\u001b[38;5;241;43m=\u001b[39;49m\u001b[38;5;241;43m10\u001b[39;49m \n\u001b[1;32m      3\u001b[0m \u001b[38;5;28mprint\u001b[39m(L)\n",
      "\u001b[0;31mTypeError\u001b[0m: 'int' object is not iterable"
     ]
    }
   ],
   "source": [
    "#what happens?\n",
    "L+=10 #---->We tried to add a list to an integer\n",
    "print(L)"
   ]
  },
  {
   "cell_type": "code",
   "execution_count": 122,
   "id": "0d899d69",
   "metadata": {},
   "outputs": [
    {
     "name": "stdout",
     "output_type": "stream",
     "text": [
      "['I ', 'am', 'a', 'diverse', 'list', 1, 2, 5, 1, 10]\n"
     ]
    }
   ],
   "source": [
    "#what happens?\n",
    "L+=[10] #--->[10] is a list with element 10, instead of the intiger 10 \n",
    "print(L)"
   ]
  },
  {
   "cell_type": "markdown",
   "id": "87aea825",
   "metadata": {},
   "source": [
    "# Review This Question"
   ]
  },
  {
   "cell_type": "code",
   "execution_count": 123,
   "id": "c7449c07",
   "metadata": {},
   "outputs": [
    {
     "name": "stdout",
     "output_type": "stream",
     "text": [
      "005637291done\n",
      "11637291done\n",
      "2237291done\n",
      "337291done\n",
      "44291done\n",
      "5591done\n",
      "661done\n",
      "77done\n",
      "88one\n",
      "99ne\n",
      "1010e\n",
      "Loop completed!\n"
     ]
    }
   ],
   "source": [
    "# Remember how loops over strings work\n",
    "# What happens here?\n",
    "def loopInFunction2(x):\n",
    "    for i in range(len(x)):\n",
    "        print(str(i)*2+x[i:])#->str(i)changes an intiger to a string. \n",
    "        #e.g. str(1) is '1'. str(1)*2 is '11'\n",
    "    print('Loop completed!')#->what happens with different indentation?\n",
    "\n",
    "loopInFunction2('5637291done')"
   ]
  },
  {
   "cell_type": "code",
   "execution_count": null,
   "id": "125abfaa",
   "metadata": {},
   "outputs": [],
   "source": [
    "#Write a function called reverse_string,\n",
    "#which takes as input a string s, \n",
    "#and outputs the reverse of the string. \n",
    "#e.g.reverse_string('abcde') should return 'edcba'\n",
    "#    reverse_string('abc') should return 'cba'\n",
    "#    reverse_string('13643ssvc') should return 'cvss34631'\n",
    "#    reverse_string('') should return ''"
   ]
  }
 ],
 "metadata": {
  "kernelspec": {
   "display_name": "Python 3 (ipykernel)",
   "language": "python",
   "name": "python3"
  },
  "language_info": {
   "codemirror_mode": {
    "name": "ipython",
    "version": 3
   },
   "file_extension": ".py",
   "mimetype": "text/x-python",
   "name": "python",
   "nbconvert_exporter": "python",
   "pygments_lexer": "ipython3",
   "version": "3.11.0"
  }
 },
 "nbformat": 4,
 "nbformat_minor": 5
}
