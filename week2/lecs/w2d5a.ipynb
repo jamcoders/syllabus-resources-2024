{
 "cells": [
  {
   "cell_type": "markdown",
   "id": "17c31e99",
   "metadata": {},
   "source": [
    "# Back to Drawing"
   ]
  },
  {
   "cell_type": "code",
   "execution_count": 8,
   "id": "bf1f6bff",
   "metadata": {},
   "outputs": [
    {
     "name": "stdout",
     "output_type": "stream",
     "text": [
      "*****\n",
      "*****\n",
      "*****\n",
      "*****\n",
      "*****\n"
     ]
    }
   ],
   "source": [
    "#How would I draw a rectangle?\n",
    "n=5\n",
    "for i in range(n):\n",
    "    line  = len(range(n))*'*'\n",
    "    print(line)"
   ]
  },
  {
   "cell_type": "code",
   "execution_count": 224,
   "id": "6a598f63",
   "metadata": {},
   "outputs": [
    {
     "name": "stdout",
     "output_type": "stream",
     "text": [
      "**********\n",
      "**********\n",
      "**********\n",
      "**********\n",
      "**********\n"
     ]
    }
   ],
   "source": [
    "#How would I draw a rectangle?\n",
    "n=5\n",
    "for i in range(n):\n",
    "    line  = n*2*'*'\n",
    "    print(line)"
   ]
  },
  {
   "cell_type": "code",
   "execution_count": 225,
   "id": "16cf13f6",
   "metadata": {},
   "outputs": [
    {
     "name": "stdout",
     "output_type": "stream",
     "text": [
      " * * * * *\n",
      " * * * * *\n",
      " * * * * *\n",
      " * * * * *\n",
      " * * * * *\n"
     ]
    }
   ],
   "source": [
    "#How would I draw a rectangle?    \n",
    "n=5\n",
    "for i in range(n):\n",
    "    line  = n*' *'\n",
    "    print(line) "
   ]
  },
  {
   "cell_type": "code",
   "execution_count": 228,
   "id": "7a6603c7",
   "metadata": {},
   "outputs": [
    {
     "name": "stdout",
     "output_type": "stream",
     "text": [
      " * * * * * * * * * * * * * * *\n",
      " * * * * * * * * * * * * * * *\n",
      " * * * * * * * * * * * * * * *\n",
      " * * * * * * * * * * * * * * *\n",
      " * * * * * * * * * * * * * * *\n"
     ]
    }
   ],
   "source": [
    "#How would I draw a rectangle?    \n",
    "n=5\n",
    "for i in range(n):\n",
    "    line  = n*' *'\n",
    "    print(line)"
   ]
  },
  {
   "cell_type": "code",
   "execution_count": 229,
   "id": "1e5a27d8",
   "metadata": {},
   "outputs": [
    {
     "name": "stdout",
     "output_type": "stream",
     "text": [
      "***************\n",
      "***************\n",
      "***************\n",
      "***************\n",
      "***************\n"
     ]
    }
   ],
   "source": [
    "#How would I draw a rectangle?  \n",
    "n=5\n",
    "for i in range(n):\n",
    "    line  = len(range(3*n))*'*'\n",
    "    print(line)"
   ]
  },
  {
   "cell_type": "code",
   "execution_count": 254,
   "id": "ca2af702",
   "metadata": {},
   "outputs": [
    {
     "name": "stdout",
     "output_type": "stream",
     "text": [
      "*\n",
      "*\n",
      "*\n",
      "*\n",
      "*\n"
     ]
    }
   ],
   "source": [
    "#How would I draw a straight line down?\n",
    "n=5\n",
    "for x in range(n):\n",
    "    print('*')"
   ]
  },
  {
   "cell_type": "code",
   "execution_count": 255,
   "id": "0d9d97ac",
   "metadata": {},
   "outputs": [
    {
     "name": "stdout",
     "output_type": "stream",
     "text": [
      "*\n",
      "*\n",
      "*\n",
      "*\n"
     ]
    }
   ],
   "source": [
    "#How would I draw a straight line down?\n",
    "n = 5\n",
    "for i in range(n):\n",
    "    for j in range(i):\n",
    "        if (j==0):\n",
    "            print(\"*\")"
   ]
  },
  {
   "cell_type": "code",
   "execution_count": 256,
   "id": "f3700a17",
   "metadata": {},
   "outputs": [
    {
     "name": "stdout",
     "output_type": "stream",
     "text": [
      "*****\n"
     ]
    }
   ],
   "source": [
    "#How would I draw a straight line across?\n",
    "n = 5\n",
    "line=\"\"\n",
    "for i in range(n):\n",
    "    for j in range(n):\n",
    "        if i==0:\n",
    "            line +='*'\n",
    "print(line)"
   ]
  },
  {
   "cell_type": "code",
   "execution_count": 258,
   "id": "24111eab",
   "metadata": {},
   "outputs": [
    {
     "name": "stdout",
     "output_type": "stream",
     "text": [
      "*****\n",
      "*****\n"
     ]
    }
   ],
   "source": [
    "#How would I draw a straight line across?\n",
    "n = 5\n",
    "line=\"\"\n",
    "for i in range(n):\n",
    "    for j in range(n):\n",
    "        if i==0:\n",
    "            line +='*'\n",
    "print(line)\n",
    "\n",
    "#But also we don't need a loop\n",
    "print(n*'*')"
   ]
  },
  {
   "cell_type": "code",
   "execution_count": 263,
   "id": "afc6250d",
   "metadata": {},
   "outputs": [
    {
     "name": "stdout",
     "output_type": "stream",
     "text": [
      "**********\n",
      "*        *\n",
      "*        *\n",
      "*        *\n",
      "**********\n"
     ]
    }
   ],
   "source": [
    "#How would I draw a rectangle?\n",
    "n = 5\n",
    "for i in range(n):      \n",
    "    line = \"\"\n",
    "    if i==0 or i==n-1:   #--->these are the top & bottom horizontal lines\n",
    "        line=2*n*'*'\n",
    "        print(line)\n",
    "        continue\n",
    "    for j in range(2*n):\n",
    "        if j==0 or j==2*n-1: #--->these are the vertical lines\n",
    "            line += \"*\"\n",
    "        else:\n",
    "            line += \" \"\n",
    "    print(line)"
   ]
  },
  {
   "cell_type": "code",
   "execution_count": 264,
   "id": "e468eafb",
   "metadata": {},
   "outputs": [
    {
     "name": "stdout",
     "output_type": "stream",
     "text": [
      "    *\n",
      "   * \n",
      "  *  \n",
      " *   \n",
      "*    \n"
     ]
    }
   ],
   "source": [
    "n = 5\n",
    "for i in range(n):\n",
    "    line = \"\"\n",
    "    for j in range(n):\n",
    "        if j==n-1-i:\n",
    "            line += \"*\"\n",
    "        else:\n",
    "            line += \" \"\n",
    "    print(line)"
   ]
  },
  {
   "cell_type": "code",
   "execution_count": 265,
   "id": "4b30d2c9",
   "metadata": {},
   "outputs": [
    {
     "name": "stdout",
     "output_type": "stream",
     "text": [
      "*    \n",
      " *   \n",
      "  *  \n",
      "   * \n",
      "    *\n"
     ]
    }
   ],
   "source": [
    "n = 5\n",
    "for i in range(n):\n",
    "    line = \"\"\n",
    "    for j in range(n):\n",
    "        if j==i:\n",
    "            line += \"*\"\n",
    "        else:\n",
    "            line += \" \"\n",
    "    print(line)"
   ]
  },
  {
   "cell_type": "code",
   "execution_count": 266,
   "id": "7e0c5ad8",
   "metadata": {},
   "outputs": [
    {
     "name": "stdout",
     "output_type": "stream",
     "text": [
      "*   *     \n",
      " * *      \n",
      "  *       \n",
      " * *      \n",
      "*   *     \n"
     ]
    }
   ],
   "source": [
    "#Diagonals\n",
    "n = 5\n",
    "for i in range(n):\n",
    "    line = \"\"\n",
    "    for j in range(2*n):\n",
    "        if (j==i) or (j==n-1-i): \n",
    "            line += \"*\"\n",
    "        else:\n",
    "            line += \" \"\n",
    "    print(line)"
   ]
  },
  {
   "cell_type": "code",
   "execution_count": 247,
   "id": "20309aa1",
   "metadata": {},
   "outputs": [
    {
     "name": "stdout",
     "output_type": "stream",
     "text": [
      "*       * \n",
      "  *   *   \n",
      "    *     \n",
      "  *   *   \n",
      "*       * \n"
     ]
    }
   ],
   "source": [
    "#Diagonals\n",
    "n = 5\n",
    "for i in range(n):\n",
    "    line = \"\"\n",
    "    for j in range(2*n):\n",
    "        if (j==2*i) or (j==2*(n-1-i)):\n",
    "            line += \"*\"\n",
    "        else:\n",
    "            line += \" \"\n",
    "    print(line)"
   ]
  },
  {
   "cell_type": "code",
   "execution_count": 267,
   "id": "90af7b90",
   "metadata": {},
   "outputs": [
    {
     "name": "stdout",
     "output_type": "stream",
     "text": [
      "*   *\n",
      "** **\n",
      "* * *\n",
      "** **\n",
      "*   *\n"
     ]
    }
   ],
   "source": [
    "#Add vertical lines\n",
    "n = 5\n",
    "for i in range(n):\n",
    "    line = \"\"\n",
    "    for j in range(n):\n",
    "        if (j==0) or (j==i) or (j==n-1-i) or (j==n-1):\n",
    "            line += \"*\"\n",
    "        else:\n",
    "            line += \" \"\n",
    "    print(line)"
   ]
  },
  {
   "cell_type": "code",
   "execution_count": 268,
   "id": "147f9941",
   "metadata": {},
   "outputs": [
    {
     "name": "stdout",
     "output_type": "stream",
     "text": [
      "*****\n",
      " * * \n",
      "  *  \n",
      " * * \n",
      "*****\n"
     ]
    }
   ],
   "source": [
    "#Add horizontal lines\n",
    "n = 5\n",
    "for i in range(n):\n",
    "    line = \"\"\n",
    "    if i==0 or i==(n-1):\n",
    "        line=(n)*\"*\"\n",
    "        print(line)\n",
    "        continue\n",
    "    for j in range(n):\n",
    "        if (j==i) or (j==n-1-i):\n",
    "            line += \"*\"\n",
    "        else:\n",
    "            line += \" \"\n",
    "    print(line)"
   ]
  },
  {
   "cell_type": "code",
   "execution_count": 195,
   "id": "71e72c9f",
   "metadata": {},
   "outputs": [
    {
     "name": "stdout",
     "output_type": "stream",
     "text": [
      "*****\n",
      "** **\n",
      "* * *\n",
      "** **\n",
      "*****\n"
     ]
    }
   ],
   "source": [
    "n = 5\n",
    "for i in range(n):\n",
    "    line = \"\"\n",
    "    if i==0 or i==(n-1):\n",
    "        line=(n)*\"*\"\n",
    "        print(line)\n",
    "        continue\n",
    "    for j in range(n):\n",
    "        if (j==0) or (j==i) or (j==n-1-i) or (j==n-1):\n",
    "            line += \"*\"\n",
    "        else:\n",
    "            line += \" \"\n",
    "    print(line)"
   ]
  },
  {
   "cell_type": "code",
   "execution_count": 269,
   "id": "5db67e22",
   "metadata": {},
   "outputs": [],
   "source": [
    "import termcolor\n",
    "from termcolor import colored # colored(text,color) returns text in the color"
   ]
  },
  {
   "cell_type": "code",
   "execution_count": 270,
   "id": "48016273",
   "metadata": {},
   "outputs": [
    {
     "name": "stdout",
     "output_type": "stream",
     "text": [
      "\n",
      "\u001b[35m*\u001b[0m\n",
      "\u001b[35m*\u001b[0m\u001b[35m*\u001b[0m\n",
      "\u001b[35m*\u001b[0m\u001b[35m*\u001b[0m\u001b[35m*\u001b[0m\n",
      "\u001b[35m*\u001b[0m\u001b[35m*\u001b[0m\u001b[35m*\u001b[0m\u001b[35m*\u001b[0m\n",
      "\u001b[35m*\u001b[0m\u001b[35m*\u001b[0m\u001b[35m*\u001b[0m\u001b[35m*\u001b[0m\u001b[35m*\u001b[0m\n",
      "\u001b[35m*\u001b[0m\u001b[35m*\u001b[0m\u001b[35m*\u001b[0m\u001b[35m*\u001b[0m\u001b[35m*\u001b[0m\u001b[35m*\u001b[0m\n",
      "\u001b[35m*\u001b[0m\u001b[35m*\u001b[0m\u001b[35m*\u001b[0m\u001b[35m*\u001b[0m\u001b[35m*\u001b[0m\u001b[35m*\u001b[0m\u001b[35m*\u001b[0m\n",
      "\u001b[35m*\u001b[0m\u001b[35m*\u001b[0m\u001b[35m*\u001b[0m\u001b[35m*\u001b[0m\u001b[35m*\u001b[0m\u001b[35m*\u001b[0m\u001b[35m*\u001b[0m\u001b[35m*\u001b[0m\n",
      "\u001b[35m*\u001b[0m\u001b[35m*\u001b[0m\u001b[35m*\u001b[0m\u001b[35m*\u001b[0m\u001b[35m*\u001b[0m\u001b[35m*\u001b[0m\u001b[35m*\u001b[0m\u001b[35m*\u001b[0m\u001b[35m*\u001b[0m\n"
     ]
    }
   ],
   "source": [
    "# What will be printed?\n",
    "for i in range(10):\n",
    "    line = \"\"\n",
    "    for j in range(i):\n",
    "        line  += colored(\"*\",\"magenta\")\n",
    "    print(line)"
   ]
  },
  {
   "cell_type": "code",
   "execution_count": 271,
   "id": "15b366cc",
   "metadata": {},
   "outputs": [
    {
     "name": "stdout",
     "output_type": "stream",
     "text": [
      "    \u001b[35m*\u001b[0m\n",
      "   \u001b[35m*\u001b[0m \n",
      "  \u001b[35m*\u001b[0m  \n",
      " \u001b[35m*\u001b[0m   \n",
      "\u001b[35m*\u001b[0m    \n"
     ]
    }
   ],
   "source": [
    "n = 5\n",
    "for i in range(n):\n",
    "    line = \"\"\n",
    "    for j in range(n):\n",
    "        if j==n-1-i:\n",
    "            line += colored(\"*\",\"magenta\")\n",
    "        else:\n",
    "            line += \" \"\n",
    "    print(line)"
   ]
  },
  {
   "cell_type": "code",
   "execution_count": 272,
   "id": "bb6fd6aa",
   "metadata": {},
   "outputs": [
    {
     "name": "stdout",
     "output_type": "stream",
     "text": [
      "\u001b[35m*\u001b[0m    \n",
      " \u001b[35m*\u001b[0m   \n",
      "  \u001b[35m*\u001b[0m  \n",
      "   \u001b[35m*\u001b[0m \n",
      "    \u001b[35m*\u001b[0m\n"
     ]
    }
   ],
   "source": [
    "n = 5\n",
    "for i in range(n):\n",
    "    line = \"\"\n",
    "    for j in range(n):\n",
    "        if j==i:\n",
    "            line += colored(\"*\",\"magenta\")\n",
    "        else:\n",
    "            line += \" \"\n",
    "    print(line)"
   ]
  },
  {
   "cell_type": "code",
   "execution_count": 273,
   "id": "668649f2",
   "metadata": {},
   "outputs": [
    {
     "name": "stdout",
     "output_type": "stream",
     "text": [
      "\u001b[33m█\u001b[0m\u001b[32m█\u001b[0m\u001b[32m█\u001b[0m\u001b[32m█\u001b[0m\u001b[32m█\u001b[0m\u001b[32m█\u001b[0m\u001b[32m█\u001b[0m\u001b[32m█\u001b[0m\u001b[32m█\u001b[0m\u001b[32m█\u001b[0m\u001b[32m█\u001b[0m\u001b[32m█\u001b[0m\u001b[32m█\u001b[0m\u001b[32m█\u001b[0m\u001b[32m█\u001b[0m\u001b[32m█\u001b[0m\u001b[32m█\u001b[0m\u001b[32m█\u001b[0m\u001b[32m█\u001b[0m\u001b[32m█\u001b[0m\u001b[32m█\u001b[0m\u001b[32m█\u001b[0m\u001b[32m█\u001b[0m\u001b[32m█\u001b[0m\u001b[33m█\u001b[0m\n",
      "█\u001b[0m\u001b[33m█\u001b[0m\u001b[32m█\u001b[0m\u001b[32m█\u001b[0m\u001b[32m█\u001b[0m\u001b[32m█\u001b[0m\u001b[32m█\u001b[0m\u001b[32m█\u001b[0m\u001b[32m█\u001b[0m\u001b[32m█\u001b[0m\u001b[32m█\u001b[0m\u001b[32m█\u001b[0m\u001b[32m█\u001b[0m\u001b[32m█\u001b[0m\u001b[32m█\u001b[0m\u001b[32m█\u001b[0m\u001b[32m█\u001b[0m\u001b[32m█\u001b[0m\u001b[32m█\u001b[0m\u001b[32m█\u001b[0m\u001b[32m█\u001b[0m\u001b[32m█\u001b[0m\u001b[32m█\u001b[0m\u001b[33m█\u001b[0m█\u001b[0m\n",
      "█\u001b[0m█\u001b[0m\u001b[33m█\u001b[0m\u001b[32m█\u001b[0m\u001b[32m█\u001b[0m\u001b[32m█\u001b[0m\u001b[32m█\u001b[0m\u001b[32m█\u001b[0m\u001b[32m█\u001b[0m\u001b[32m█\u001b[0m\u001b[32m█\u001b[0m\u001b[32m█\u001b[0m\u001b[32m█\u001b[0m\u001b[32m█\u001b[0m\u001b[32m█\u001b[0m\u001b[32m█\u001b[0m\u001b[32m█\u001b[0m\u001b[32m█\u001b[0m\u001b[32m█\u001b[0m\u001b[32m█\u001b[0m\u001b[32m█\u001b[0m\u001b[32m█\u001b[0m\u001b[33m█\u001b[0m█\u001b[0m█\u001b[0m\n",
      "█\u001b[0m█\u001b[0m█\u001b[0m\u001b[33m█\u001b[0m\u001b[32m█\u001b[0m\u001b[32m█\u001b[0m\u001b[32m█\u001b[0m\u001b[32m█\u001b[0m\u001b[32m█\u001b[0m\u001b[32m█\u001b[0m\u001b[32m█\u001b[0m\u001b[32m█\u001b[0m\u001b[32m█\u001b[0m\u001b[32m█\u001b[0m\u001b[32m█\u001b[0m\u001b[32m█\u001b[0m\u001b[32m█\u001b[0m\u001b[32m█\u001b[0m\u001b[32m█\u001b[0m\u001b[32m█\u001b[0m\u001b[32m█\u001b[0m\u001b[33m█\u001b[0m█\u001b[0m█\u001b[0m█\u001b[0m\n",
      "█\u001b[0m█\u001b[0m█\u001b[0m█\u001b[0m\u001b[33m█\u001b[0m\u001b[32m█\u001b[0m\u001b[32m█\u001b[0m\u001b[32m█\u001b[0m\u001b[32m█\u001b[0m\u001b[32m█\u001b[0m\u001b[32m█\u001b[0m\u001b[32m█\u001b[0m\u001b[32m█\u001b[0m\u001b[32m█\u001b[0m\u001b[32m█\u001b[0m\u001b[32m█\u001b[0m\u001b[32m█\u001b[0m\u001b[32m█\u001b[0m\u001b[32m█\u001b[0m\u001b[32m█\u001b[0m\u001b[33m█\u001b[0m█\u001b[0m█\u001b[0m█\u001b[0m█\u001b[0m\n",
      "█\u001b[0m█\u001b[0m█\u001b[0m█\u001b[0m█\u001b[0m\u001b[33m█\u001b[0m\u001b[32m█\u001b[0m\u001b[32m█\u001b[0m\u001b[32m█\u001b[0m\u001b[32m█\u001b[0m\u001b[32m█\u001b[0m\u001b[32m█\u001b[0m\u001b[32m█\u001b[0m\u001b[32m█\u001b[0m\u001b[32m█\u001b[0m\u001b[32m█\u001b[0m\u001b[32m█\u001b[0m\u001b[32m█\u001b[0m\u001b[32m█\u001b[0m\u001b[33m█\u001b[0m█\u001b[0m█\u001b[0m█\u001b[0m█\u001b[0m█\u001b[0m\n",
      "█\u001b[0m█\u001b[0m█\u001b[0m█\u001b[0m█\u001b[0m█\u001b[0m\u001b[33m█\u001b[0m\u001b[32m█\u001b[0m\u001b[32m█\u001b[0m\u001b[32m█\u001b[0m\u001b[32m█\u001b[0m\u001b[32m█\u001b[0m\u001b[32m█\u001b[0m\u001b[32m█\u001b[0m\u001b[32m█\u001b[0m\u001b[32m█\u001b[0m\u001b[32m█\u001b[0m\u001b[32m█\u001b[0m\u001b[33m█\u001b[0m█\u001b[0m█\u001b[0m█\u001b[0m█\u001b[0m█\u001b[0m█\u001b[0m\n",
      "█\u001b[0m█\u001b[0m█\u001b[0m█\u001b[0m█\u001b[0m█\u001b[0m█\u001b[0m\u001b[33m█\u001b[0m\u001b[32m█\u001b[0m\u001b[32m█\u001b[0m\u001b[32m█\u001b[0m\u001b[32m█\u001b[0m\u001b[32m█\u001b[0m\u001b[32m█\u001b[0m\u001b[32m█\u001b[0m\u001b[32m█\u001b[0m\u001b[32m█\u001b[0m\u001b[33m█\u001b[0m█\u001b[0m█\u001b[0m█\u001b[0m█\u001b[0m█\u001b[0m█\u001b[0m█\u001b[0m\n",
      "█\u001b[0m█\u001b[0m█\u001b[0m█\u001b[0m█\u001b[0m█\u001b[0m█\u001b[0m█\u001b[0m\u001b[33m█\u001b[0m\u001b[32m█\u001b[0m\u001b[32m█\u001b[0m\u001b[32m█\u001b[0m\u001b[32m█\u001b[0m\u001b[32m█\u001b[0m\u001b[32m█\u001b[0m\u001b[32m█\u001b[0m\u001b[33m█\u001b[0m█\u001b[0m█\u001b[0m█\u001b[0m█\u001b[0m█\u001b[0m█\u001b[0m█\u001b[0m█\u001b[0m\n",
      "█\u001b[0m█\u001b[0m█\u001b[0m█\u001b[0m█\u001b[0m█\u001b[0m█\u001b[0m█\u001b[0m█\u001b[0m\u001b[33m█\u001b[0m\u001b[32m█\u001b[0m\u001b[32m█\u001b[0m\u001b[32m█\u001b[0m\u001b[32m█\u001b[0m\u001b[32m█\u001b[0m\u001b[33m█\u001b[0m█\u001b[0m█\u001b[0m█\u001b[0m█\u001b[0m█\u001b[0m█\u001b[0m█\u001b[0m█\u001b[0m█\u001b[0m\n",
      "█\u001b[0m█\u001b[0m█\u001b[0m█\u001b[0m█\u001b[0m█\u001b[0m█\u001b[0m█\u001b[0m█\u001b[0m█\u001b[0m\u001b[33m█\u001b[0m\u001b[32m█\u001b[0m\u001b[32m█\u001b[0m\u001b[32m█\u001b[0m\u001b[33m█\u001b[0m█\u001b[0m█\u001b[0m█\u001b[0m█\u001b[0m█\u001b[0m█\u001b[0m█\u001b[0m█\u001b[0m█\u001b[0m█\u001b[0m\n",
      "█\u001b[0m█\u001b[0m█\u001b[0m█\u001b[0m█\u001b[0m█\u001b[0m█\u001b[0m█\u001b[0m█\u001b[0m█\u001b[0m█\u001b[0m\u001b[33m█\u001b[0m\u001b[32m█\u001b[0m\u001b[33m█\u001b[0m█\u001b[0m█\u001b[0m█\u001b[0m█\u001b[0m█\u001b[0m█\u001b[0m█\u001b[0m█\u001b[0m█\u001b[0m█\u001b[0m█\u001b[0m\n",
      "█\u001b[0m█\u001b[0m█\u001b[0m█\u001b[0m█\u001b[0m█\u001b[0m█\u001b[0m█\u001b[0m█\u001b[0m█\u001b[0m█\u001b[0m█\u001b[0m\u001b[33m█\u001b[0m█\u001b[0m█\u001b[0m█\u001b[0m█\u001b[0m█\u001b[0m█\u001b[0m█\u001b[0m█\u001b[0m█\u001b[0m█\u001b[0m█\u001b[0m█\u001b[0m\n",
      "█\u001b[0m█\u001b[0m█\u001b[0m█\u001b[0m█\u001b[0m█\u001b[0m█\u001b[0m█\u001b[0m█\u001b[0m█\u001b[0m█\u001b[0m\u001b[33m█\u001b[0m\u001b[32m█\u001b[0m\u001b[33m█\u001b[0m█\u001b[0m█\u001b[0m█\u001b[0m█\u001b[0m█\u001b[0m█\u001b[0m█\u001b[0m█\u001b[0m█\u001b[0m█\u001b[0m█\u001b[0m\n",
      "█\u001b[0m█\u001b[0m█\u001b[0m█\u001b[0m█\u001b[0m█\u001b[0m█\u001b[0m█\u001b[0m█\u001b[0m█\u001b[0m\u001b[33m█\u001b[0m\u001b[32m█\u001b[0m\u001b[32m█\u001b[0m\u001b[32m█\u001b[0m\u001b[33m█\u001b[0m█\u001b[0m█\u001b[0m█\u001b[0m█\u001b[0m█\u001b[0m█\u001b[0m█\u001b[0m█\u001b[0m█\u001b[0m█\u001b[0m\n",
      "█\u001b[0m█\u001b[0m█\u001b[0m█\u001b[0m█\u001b[0m█\u001b[0m█\u001b[0m█\u001b[0m█\u001b[0m\u001b[33m█\u001b[0m\u001b[32m█\u001b[0m\u001b[32m█\u001b[0m\u001b[32m█\u001b[0m\u001b[32m█\u001b[0m\u001b[32m█\u001b[0m\u001b[33m█\u001b[0m█\u001b[0m█\u001b[0m█\u001b[0m█\u001b[0m█\u001b[0m█\u001b[0m█\u001b[0m█\u001b[0m█\u001b[0m\n",
      "█\u001b[0m█\u001b[0m█\u001b[0m█\u001b[0m█\u001b[0m█\u001b[0m█\u001b[0m█\u001b[0m\u001b[33m█\u001b[0m\u001b[32m█\u001b[0m\u001b[32m█\u001b[0m\u001b[32m█\u001b[0m\u001b[32m█\u001b[0m\u001b[32m█\u001b[0m\u001b[32m█\u001b[0m\u001b[32m█\u001b[0m\u001b[33m█\u001b[0m█\u001b[0m█\u001b[0m█\u001b[0m█\u001b[0m█\u001b[0m█\u001b[0m█\u001b[0m█\u001b[0m\n",
      "█\u001b[0m█\u001b[0m█\u001b[0m█\u001b[0m█\u001b[0m█\u001b[0m█\u001b[0m\u001b[33m█\u001b[0m\u001b[32m█\u001b[0m\u001b[32m█\u001b[0m\u001b[32m█\u001b[0m\u001b[32m█\u001b[0m\u001b[32m█\u001b[0m\u001b[32m█\u001b[0m\u001b[32m█\u001b[0m\u001b[32m█\u001b[0m\u001b[32m█\u001b[0m\u001b[33m█\u001b[0m█\u001b[0m█\u001b[0m█\u001b[0m█\u001b[0m█\u001b[0m█\u001b[0m█\u001b[0m\n",
      "█\u001b[0m█\u001b[0m█\u001b[0m█\u001b[0m█\u001b[0m█\u001b[0m\u001b[33m█\u001b[0m\u001b[32m█\u001b[0m\u001b[32m█\u001b[0m\u001b[32m█\u001b[0m\u001b[32m█\u001b[0m\u001b[32m█\u001b[0m\u001b[32m█\u001b[0m\u001b[32m█\u001b[0m\u001b[32m█\u001b[0m\u001b[32m█\u001b[0m\u001b[32m█\u001b[0m\u001b[32m█\u001b[0m\u001b[33m█\u001b[0m█\u001b[0m█\u001b[0m█\u001b[0m█\u001b[0m█\u001b[0m█\u001b[0m\n",
      "█\u001b[0m█\u001b[0m█\u001b[0m█\u001b[0m█\u001b[0m\u001b[33m█\u001b[0m\u001b[32m█\u001b[0m\u001b[32m█\u001b[0m\u001b[32m█\u001b[0m\u001b[32m█\u001b[0m\u001b[32m█\u001b[0m\u001b[32m█\u001b[0m\u001b[32m█\u001b[0m\u001b[32m█\u001b[0m\u001b[32m█\u001b[0m\u001b[32m█\u001b[0m\u001b[32m█\u001b[0m\u001b[32m█\u001b[0m\u001b[32m█\u001b[0m\u001b[33m█\u001b[0m█\u001b[0m█\u001b[0m█\u001b[0m█\u001b[0m█\u001b[0m\n",
      "█\u001b[0m█\u001b[0m█\u001b[0m█\u001b[0m\u001b[33m█\u001b[0m\u001b[32m█\u001b[0m\u001b[32m█\u001b[0m\u001b[32m█\u001b[0m\u001b[32m█\u001b[0m\u001b[32m█\u001b[0m\u001b[32m█\u001b[0m\u001b[32m█\u001b[0m\u001b[32m█\u001b[0m\u001b[32m█\u001b[0m\u001b[32m█\u001b[0m\u001b[32m█\u001b[0m\u001b[32m█\u001b[0m\u001b[32m█\u001b[0m\u001b[32m█\u001b[0m\u001b[32m█\u001b[0m\u001b[33m█\u001b[0m█\u001b[0m█\u001b[0m█\u001b[0m█\u001b[0m\n",
      "█\u001b[0m█\u001b[0m█\u001b[0m\u001b[33m█\u001b[0m\u001b[32m█\u001b[0m\u001b[32m█\u001b[0m\u001b[32m█\u001b[0m\u001b[32m█\u001b[0m\u001b[32m█\u001b[0m\u001b[32m█\u001b[0m\u001b[32m█\u001b[0m\u001b[32m█\u001b[0m\u001b[32m█\u001b[0m\u001b[32m█\u001b[0m\u001b[32m█\u001b[0m\u001b[32m█\u001b[0m\u001b[32m█\u001b[0m\u001b[32m█\u001b[0m\u001b[32m█\u001b[0m\u001b[32m█\u001b[0m\u001b[32m█\u001b[0m\u001b[33m█\u001b[0m█\u001b[0m█\u001b[0m█\u001b[0m\n",
      "█\u001b[0m█\u001b[0m\u001b[33m█\u001b[0m\u001b[32m█\u001b[0m\u001b[32m█\u001b[0m\u001b[32m█\u001b[0m\u001b[32m█\u001b[0m\u001b[32m█\u001b[0m\u001b[32m█\u001b[0m\u001b[32m█\u001b[0m\u001b[32m█\u001b[0m\u001b[32m█\u001b[0m\u001b[32m█\u001b[0m\u001b[32m█\u001b[0m\u001b[32m█\u001b[0m\u001b[32m█\u001b[0m\u001b[32m█\u001b[0m\u001b[32m█\u001b[0m\u001b[32m█\u001b[0m\u001b[32m█\u001b[0m\u001b[32m█\u001b[0m\u001b[32m█\u001b[0m\u001b[33m█\u001b[0m█\u001b[0m█\u001b[0m\n",
      "█\u001b[0m\u001b[33m█\u001b[0m\u001b[32m█\u001b[0m\u001b[32m█\u001b[0m\u001b[32m█\u001b[0m\u001b[32m█\u001b[0m\u001b[32m█\u001b[0m\u001b[32m█\u001b[0m\u001b[32m█\u001b[0m\u001b[32m█\u001b[0m\u001b[32m█\u001b[0m\u001b[32m█\u001b[0m\u001b[32m█\u001b[0m\u001b[32m█\u001b[0m\u001b[32m█\u001b[0m\u001b[32m█\u001b[0m\u001b[32m█\u001b[0m\u001b[32m█\u001b[0m\u001b[32m█\u001b[0m\u001b[32m█\u001b[0m\u001b[32m█\u001b[0m\u001b[32m█\u001b[0m\u001b[32m█\u001b[0m\u001b[33m█\u001b[0m█\u001b[0m\n",
      "\u001b[33m█\u001b[0m\u001b[32m█\u001b[0m\u001b[32m█\u001b[0m\u001b[32m█\u001b[0m\u001b[32m█\u001b[0m\u001b[32m█\u001b[0m\u001b[32m█\u001b[0m\u001b[32m█\u001b[0m\u001b[32m█\u001b[0m\u001b[32m█\u001b[0m\u001b[32m█\u001b[0m\u001b[32m█\u001b[0m\u001b[32m█\u001b[0m\u001b[32m█\u001b[0m\u001b[32m█\u001b[0m\u001b[32m█\u001b[0m\u001b[32m█\u001b[0m\u001b[32m█\u001b[0m\u001b[32m█\u001b[0m\u001b[32m█\u001b[0m\u001b[32m█\u001b[0m\u001b[32m█\u001b[0m\u001b[32m█\u001b[0m\u001b[32m█\u001b[0m\u001b[33m█\u001b[0m\n"
     ]
    }
   ],
   "source": [
    "import termcolor\n",
    "from termcolor import colored # colored(text,color) returns text in the color\n",
    "#Jamaican flag\n",
    "# What will be printed?  \n",
    "n = 25\n",
    "for i in range(n):\n",
    "    line = \"\"\n",
    "    for j in range(n):\n",
    "        if (j<i) and j<n-1-i or j>i and j>n-1-i: \n",
    "            color= None # black\n",
    "        else:\n",
    "            color = \"green\"\n",
    "        if j == i or j==n-1-i: \n",
    "            color=\"yellow\"\n",
    "        line += colored(\"█\",color)\n",
    "    print(line)"
   ]
  },
  {
   "cell_type": "code",
   "execution_count": 276,
   "id": "ea9e2811",
   "metadata": {},
   "outputs": [
    {
     "name": "stdout",
     "output_type": "stream",
     "text": [
      "\u001b[33m█\u001b[0m\u001b[32m█\u001b[0m\u001b[32m█\u001b[0m\u001b[32m█\u001b[0m\u001b[32m█\u001b[0m\u001b[32m█\u001b[0m\u001b[32m█\u001b[0m\u001b[32m█\u001b[0m\u001b[32m█\u001b[0m\u001b[32m█\u001b[0m\u001b[32m█\u001b[0m\u001b[32m█\u001b[0m\u001b[32m█\u001b[0m\u001b[32m█\u001b[0m\u001b[32m█\u001b[0m\u001b[32m█\u001b[0m\u001b[32m█\u001b[0m\u001b[32m█\u001b[0m\u001b[32m█\u001b[0m\u001b[32m█\u001b[0m\u001b[32m█\u001b[0m\u001b[32m█\u001b[0m\u001b[32m█\u001b[0m\u001b[32m█\u001b[0m\u001b[32m█\u001b[0m\u001b[32m█\u001b[0m\u001b[32m█\u001b[0m\u001b[32m█\u001b[0m\u001b[32m█\u001b[0m\u001b[32m█\u001b[0m\u001b[32m█\u001b[0m\u001b[32m█\u001b[0m\u001b[32m█\u001b[0m\u001b[32m█\u001b[0m\u001b[32m█\u001b[0m\u001b[32m█\u001b[0m\u001b[32m█\u001b[0m\u001b[32m█\u001b[0m\u001b[32m█\u001b[0m\u001b[32m█\u001b[0m\u001b[32m█\u001b[0m\u001b[32m█\u001b[0m\u001b[32m█\u001b[0m\u001b[32m█\u001b[0m\u001b[32m█\u001b[0m\u001b[32m█\u001b[0m\u001b[32m█\u001b[0m\u001b[32m█\u001b[0m\u001b[32m█\u001b[0m\u001b[32m█\u001b[0m\u001b[32m█\u001b[0m\u001b[32m█\u001b[0m\u001b[32m█\u001b[0m\u001b[32m█\u001b[0m\u001b[32m█\u001b[0m\u001b[32m█\u001b[0m\u001b[32m█\u001b[0m\u001b[32m█\u001b[0m\u001b[32m█\u001b[0m\u001b[32m█\u001b[0m\u001b[33m█\u001b[0m█\u001b[0m█\u001b[0m\n",
      "█\u001b[0m█\u001b[0m█\u001b[0m\u001b[33m█\u001b[0m\u001b[32m█\u001b[0m\u001b[32m█\u001b[0m\u001b[32m█\u001b[0m\u001b[32m█\u001b[0m\u001b[32m█\u001b[0m\u001b[32m█\u001b[0m\u001b[32m█\u001b[0m\u001b[32m█\u001b[0m\u001b[32m█\u001b[0m\u001b[32m█\u001b[0m\u001b[32m█\u001b[0m\u001b[32m█\u001b[0m\u001b[32m█\u001b[0m\u001b[32m█\u001b[0m\u001b[32m█\u001b[0m\u001b[32m█\u001b[0m\u001b[32m█\u001b[0m\u001b[32m█\u001b[0m\u001b[32m█\u001b[0m\u001b[32m█\u001b[0m\u001b[32m█\u001b[0m\u001b[32m█\u001b[0m\u001b[32m█\u001b[0m\u001b[32m█\u001b[0m\u001b[32m█\u001b[0m\u001b[32m█\u001b[0m\u001b[32m█\u001b[0m\u001b[32m█\u001b[0m\u001b[32m█\u001b[0m\u001b[32m█\u001b[0m\u001b[32m█\u001b[0m\u001b[32m█\u001b[0m\u001b[32m█\u001b[0m\u001b[32m█\u001b[0m\u001b[32m█\u001b[0m\u001b[32m█\u001b[0m\u001b[32m█\u001b[0m\u001b[32m█\u001b[0m\u001b[32m█\u001b[0m\u001b[32m█\u001b[0m\u001b[32m█\u001b[0m\u001b[32m█\u001b[0m\u001b[32m█\u001b[0m\u001b[32m█\u001b[0m\u001b[32m█\u001b[0m\u001b[32m█\u001b[0m\u001b[32m█\u001b[0m\u001b[32m█\u001b[0m\u001b[32m█\u001b[0m\u001b[32m█\u001b[0m\u001b[32m█\u001b[0m\u001b[32m█\u001b[0m\u001b[32m█\u001b[0m\u001b[33m█\u001b[0m█\u001b[0m█\u001b[0m█\u001b[0m█\u001b[0m█\u001b[0m\n",
      "█\u001b[0m█\u001b[0m█\u001b[0m█\u001b[0m█\u001b[0m█\u001b[0m\u001b[33m█\u001b[0m\u001b[32m█\u001b[0m\u001b[32m█\u001b[0m\u001b[32m█\u001b[0m\u001b[32m█\u001b[0m\u001b[32m█\u001b[0m\u001b[32m█\u001b[0m\u001b[32m█\u001b[0m\u001b[32m█\u001b[0m\u001b[32m█\u001b[0m\u001b[32m█\u001b[0m\u001b[32m█\u001b[0m\u001b[32m█\u001b[0m\u001b[32m█\u001b[0m\u001b[32m█\u001b[0m\u001b[32m█\u001b[0m\u001b[32m█\u001b[0m\u001b[32m█\u001b[0m\u001b[32m█\u001b[0m\u001b[32m█\u001b[0m\u001b[32m█\u001b[0m\u001b[32m█\u001b[0m\u001b[32m█\u001b[0m\u001b[32m█\u001b[0m\u001b[32m█\u001b[0m\u001b[32m█\u001b[0m\u001b[32m█\u001b[0m\u001b[32m█\u001b[0m\u001b[32m█\u001b[0m\u001b[32m█\u001b[0m\u001b[32m█\u001b[0m\u001b[32m█\u001b[0m\u001b[32m█\u001b[0m\u001b[32m█\u001b[0m\u001b[32m█\u001b[0m\u001b[32m█\u001b[0m\u001b[32m█\u001b[0m\u001b[32m█\u001b[0m\u001b[32m█\u001b[0m\u001b[32m█\u001b[0m\u001b[32m█\u001b[0m\u001b[32m█\u001b[0m\u001b[32m█\u001b[0m\u001b[32m█\u001b[0m\u001b[32m█\u001b[0m\u001b[32m█\u001b[0m\u001b[32m█\u001b[0m\u001b[32m█\u001b[0m\u001b[33m█\u001b[0m█\u001b[0m█\u001b[0m█\u001b[0m█\u001b[0m█\u001b[0m█\u001b[0m█\u001b[0m█\u001b[0m\n",
      "█\u001b[0m█\u001b[0m█\u001b[0m█\u001b[0m█\u001b[0m█\u001b[0m█\u001b[0m█\u001b[0m█\u001b[0m\u001b[33m█\u001b[0m\u001b[32m█\u001b[0m\u001b[32m█\u001b[0m\u001b[32m█\u001b[0m\u001b[32m█\u001b[0m\u001b[32m█\u001b[0m\u001b[32m█\u001b[0m\u001b[32m█\u001b[0m\u001b[32m█\u001b[0m\u001b[32m█\u001b[0m\u001b[32m█\u001b[0m\u001b[32m█\u001b[0m\u001b[32m█\u001b[0m\u001b[32m█\u001b[0m\u001b[32m█\u001b[0m\u001b[32m█\u001b[0m\u001b[32m█\u001b[0m\u001b[32m█\u001b[0m\u001b[32m█\u001b[0m\u001b[32m█\u001b[0m\u001b[32m█\u001b[0m\u001b[32m█\u001b[0m\u001b[32m█\u001b[0m\u001b[32m█\u001b[0m\u001b[32m█\u001b[0m\u001b[32m█\u001b[0m\u001b[32m█\u001b[0m\u001b[32m█\u001b[0m\u001b[32m█\u001b[0m\u001b[32m█\u001b[0m\u001b[32m█\u001b[0m\u001b[32m█\u001b[0m\u001b[32m█\u001b[0m\u001b[32m█\u001b[0m\u001b[32m█\u001b[0m\u001b[32m█\u001b[0m\u001b[32m█\u001b[0m\u001b[32m█\u001b[0m\u001b[32m█\u001b[0m\u001b[32m█\u001b[0m\u001b[32m█\u001b[0m\u001b[32m█\u001b[0m\u001b[33m█\u001b[0m█\u001b[0m█\u001b[0m█\u001b[0m█\u001b[0m█\u001b[0m█\u001b[0m█\u001b[0m█\u001b[0m█\u001b[0m█\u001b[0m█\u001b[0m\n",
      "█\u001b[0m█\u001b[0m█\u001b[0m█\u001b[0m█\u001b[0m█\u001b[0m█\u001b[0m█\u001b[0m█\u001b[0m█\u001b[0m█\u001b[0m█\u001b[0m\u001b[33m█\u001b[0m\u001b[32m█\u001b[0m\u001b[32m█\u001b[0m\u001b[32m█\u001b[0m\u001b[32m█\u001b[0m\u001b[32m█\u001b[0m\u001b[32m█\u001b[0m\u001b[32m█\u001b[0m\u001b[32m█\u001b[0m\u001b[32m█\u001b[0m\u001b[32m█\u001b[0m\u001b[32m█\u001b[0m\u001b[32m█\u001b[0m\u001b[32m█\u001b[0m\u001b[32m█\u001b[0m\u001b[32m█\u001b[0m\u001b[32m█\u001b[0m\u001b[32m█\u001b[0m\u001b[32m█\u001b[0m\u001b[32m█\u001b[0m\u001b[32m█\u001b[0m\u001b[32m█\u001b[0m\u001b[32m█\u001b[0m\u001b[32m█\u001b[0m\u001b[32m█\u001b[0m\u001b[32m█\u001b[0m\u001b[32m█\u001b[0m\u001b[32m█\u001b[0m\u001b[32m█\u001b[0m\u001b[32m█\u001b[0m\u001b[32m█\u001b[0m\u001b[32m█\u001b[0m\u001b[32m█\u001b[0m\u001b[32m█\u001b[0m\u001b[32m█\u001b[0m\u001b[32m█\u001b[0m\u001b[33m█\u001b[0m█\u001b[0m█\u001b[0m█\u001b[0m█\u001b[0m█\u001b[0m█\u001b[0m█\u001b[0m█\u001b[0m█\u001b[0m█\u001b[0m█\u001b[0m█\u001b[0m█\u001b[0m█\u001b[0m\n",
      "█\u001b[0m█\u001b[0m█\u001b[0m█\u001b[0m█\u001b[0m█\u001b[0m█\u001b[0m█\u001b[0m█\u001b[0m█\u001b[0m█\u001b[0m█\u001b[0m█\u001b[0m█\u001b[0m█\u001b[0m\u001b[33m█\u001b[0m\u001b[32m█\u001b[0m\u001b[32m█\u001b[0m\u001b[32m█\u001b[0m\u001b[32m█\u001b[0m\u001b[32m█\u001b[0m\u001b[32m█\u001b[0m\u001b[32m█\u001b[0m\u001b[32m█\u001b[0m\u001b[32m█\u001b[0m\u001b[32m█\u001b[0m\u001b[32m█\u001b[0m\u001b[32m█\u001b[0m\u001b[32m█\u001b[0m\u001b[32m█\u001b[0m\u001b[32m█\u001b[0m\u001b[32m█\u001b[0m\u001b[32m█\u001b[0m\u001b[32m█\u001b[0m\u001b[32m█\u001b[0m\u001b[32m█\u001b[0m\u001b[32m█\u001b[0m\u001b[32m█\u001b[0m\u001b[32m█\u001b[0m\u001b[32m█\u001b[0m\u001b[32m█\u001b[0m\u001b[32m█\u001b[0m\u001b[32m█\u001b[0m\u001b[32m█\u001b[0m\u001b[32m█\u001b[0m\u001b[33m█\u001b[0m█\u001b[0m█\u001b[0m█\u001b[0m█\u001b[0m█\u001b[0m█\u001b[0m█\u001b[0m█\u001b[0m█\u001b[0m█\u001b[0m█\u001b[0m█\u001b[0m█\u001b[0m█\u001b[0m█\u001b[0m█\u001b[0m█\u001b[0m\n",
      "█\u001b[0m█\u001b[0m█\u001b[0m█\u001b[0m█\u001b[0m█\u001b[0m█\u001b[0m█\u001b[0m█\u001b[0m█\u001b[0m█\u001b[0m█\u001b[0m█\u001b[0m█\u001b[0m█\u001b[0m█\u001b[0m█\u001b[0m█\u001b[0m\u001b[33m█\u001b[0m\u001b[32m█\u001b[0m\u001b[32m█\u001b[0m\u001b[32m█\u001b[0m\u001b[32m█\u001b[0m\u001b[32m█\u001b[0m\u001b[32m█\u001b[0m\u001b[32m█\u001b[0m\u001b[32m█\u001b[0m\u001b[32m█\u001b[0m\u001b[32m█\u001b[0m\u001b[32m█\u001b[0m\u001b[32m█\u001b[0m\u001b[32m█\u001b[0m\u001b[32m█\u001b[0m\u001b[32m█\u001b[0m\u001b[32m█\u001b[0m\u001b[32m█\u001b[0m\u001b[32m█\u001b[0m\u001b[32m█\u001b[0m\u001b[32m█\u001b[0m\u001b[32m█\u001b[0m\u001b[32m█\u001b[0m\u001b[32m█\u001b[0m\u001b[33m█\u001b[0m█\u001b[0m█\u001b[0m█\u001b[0m█\u001b[0m█\u001b[0m█\u001b[0m█\u001b[0m█\u001b[0m█\u001b[0m█\u001b[0m█\u001b[0m█\u001b[0m█\u001b[0m█\u001b[0m█\u001b[0m█\u001b[0m█\u001b[0m█\u001b[0m█\u001b[0m█\u001b[0m\n",
      "█\u001b[0m█\u001b[0m█\u001b[0m█\u001b[0m█\u001b[0m█\u001b[0m█\u001b[0m█\u001b[0m█\u001b[0m█\u001b[0m█\u001b[0m█\u001b[0m█\u001b[0m█\u001b[0m█\u001b[0m█\u001b[0m█\u001b[0m█\u001b[0m█\u001b[0m█\u001b[0m█\u001b[0m\u001b[33m█\u001b[0m\u001b[32m█\u001b[0m\u001b[32m█\u001b[0m\u001b[32m█\u001b[0m\u001b[32m█\u001b[0m\u001b[32m█\u001b[0m\u001b[32m█\u001b[0m\u001b[32m█\u001b[0m\u001b[32m█\u001b[0m\u001b[32m█\u001b[0m\u001b[32m█\u001b[0m\u001b[32m█\u001b[0m\u001b[32m█\u001b[0m\u001b[32m█\u001b[0m\u001b[32m█\u001b[0m\u001b[32m█\u001b[0m\u001b[32m█\u001b[0m\u001b[32m█\u001b[0m\u001b[33m█\u001b[0m█\u001b[0m█\u001b[0m█\u001b[0m█\u001b[0m█\u001b[0m█\u001b[0m█\u001b[0m█\u001b[0m█\u001b[0m█\u001b[0m█\u001b[0m█\u001b[0m█\u001b[0m█\u001b[0m█\u001b[0m█\u001b[0m█\u001b[0m█\u001b[0m█\u001b[0m█\u001b[0m█\u001b[0m█\u001b[0m█\u001b[0m\n",
      "█\u001b[0m█\u001b[0m█\u001b[0m█\u001b[0m█\u001b[0m█\u001b[0m█\u001b[0m█\u001b[0m█\u001b[0m█\u001b[0m█\u001b[0m█\u001b[0m█\u001b[0m█\u001b[0m█\u001b[0m█\u001b[0m█\u001b[0m█\u001b[0m█\u001b[0m█\u001b[0m█\u001b[0m█\u001b[0m█\u001b[0m█\u001b[0m\u001b[33m█\u001b[0m\u001b[32m█\u001b[0m\u001b[32m█\u001b[0m\u001b[32m█\u001b[0m\u001b[32m█\u001b[0m\u001b[32m█\u001b[0m\u001b[32m█\u001b[0m\u001b[32m█\u001b[0m\u001b[32m█\u001b[0m\u001b[32m█\u001b[0m\u001b[32m█\u001b[0m\u001b[32m█\u001b[0m\u001b[33m█\u001b[0m█\u001b[0m█\u001b[0m█\u001b[0m█\u001b[0m█\u001b[0m█\u001b[0m█\u001b[0m█\u001b[0m█\u001b[0m█\u001b[0m█\u001b[0m█\u001b[0m█\u001b[0m█\u001b[0m█\u001b[0m█\u001b[0m█\u001b[0m█\u001b[0m█\u001b[0m█\u001b[0m█\u001b[0m█\u001b[0m█\u001b[0m█\u001b[0m█\u001b[0m█\u001b[0m\n",
      "█\u001b[0m█\u001b[0m█\u001b[0m█\u001b[0m█\u001b[0m█\u001b[0m█\u001b[0m█\u001b[0m█\u001b[0m█\u001b[0m█\u001b[0m█\u001b[0m█\u001b[0m█\u001b[0m█\u001b[0m█\u001b[0m█\u001b[0m█\u001b[0m█\u001b[0m█\u001b[0m█\u001b[0m█\u001b[0m█\u001b[0m█\u001b[0m█\u001b[0m█\u001b[0m█\u001b[0m\u001b[33m█\u001b[0m\u001b[32m█\u001b[0m\u001b[32m█\u001b[0m\u001b[32m█\u001b[0m\u001b[32m█\u001b[0m\u001b[32m█\u001b[0m\u001b[33m█\u001b[0m█\u001b[0m█\u001b[0m█\u001b[0m█\u001b[0m█\u001b[0m█\u001b[0m█\u001b[0m█\u001b[0m█\u001b[0m█\u001b[0m█\u001b[0m█\u001b[0m█\u001b[0m█\u001b[0m█\u001b[0m█\u001b[0m█\u001b[0m█\u001b[0m█\u001b[0m█\u001b[0m█\u001b[0m█\u001b[0m█\u001b[0m█\u001b[0m█\u001b[0m█\u001b[0m█\u001b[0m█\u001b[0m█\u001b[0m\n",
      "█\u001b[0m█\u001b[0m█\u001b[0m█\u001b[0m█\u001b[0m█\u001b[0m█\u001b[0m█\u001b[0m█\u001b[0m█\u001b[0m█\u001b[0m█\u001b[0m█\u001b[0m█\u001b[0m█\u001b[0m█\u001b[0m█\u001b[0m█\u001b[0m█\u001b[0m█\u001b[0m█\u001b[0m█\u001b[0m█\u001b[0m█\u001b[0m█\u001b[0m█\u001b[0m█\u001b[0m█\u001b[0m█\u001b[0m█\u001b[0m\u001b[33m█\u001b[0m█\u001b[0m█\u001b[0m█\u001b[0m█\u001b[0m█\u001b[0m█\u001b[0m█\u001b[0m█\u001b[0m█\u001b[0m█\u001b[0m█\u001b[0m█\u001b[0m█\u001b[0m█\u001b[0m█\u001b[0m█\u001b[0m█\u001b[0m█\u001b[0m█\u001b[0m█\u001b[0m█\u001b[0m█\u001b[0m█\u001b[0m█\u001b[0m█\u001b[0m█\u001b[0m█\u001b[0m█\u001b[0m█\u001b[0m█\u001b[0m█\u001b[0m█\u001b[0m\n",
      "█\u001b[0m█\u001b[0m█\u001b[0m█\u001b[0m█\u001b[0m█\u001b[0m█\u001b[0m█\u001b[0m█\u001b[0m█\u001b[0m█\u001b[0m█\u001b[0m█\u001b[0m█\u001b[0m█\u001b[0m█\u001b[0m█\u001b[0m█\u001b[0m█\u001b[0m█\u001b[0m█\u001b[0m█\u001b[0m█\u001b[0m█\u001b[0m█\u001b[0m█\u001b[0m█\u001b[0m\u001b[33m█\u001b[0m\u001b[32m█\u001b[0m\u001b[32m█\u001b[0m\u001b[32m█\u001b[0m\u001b[32m█\u001b[0m\u001b[32m█\u001b[0m\u001b[33m█\u001b[0m█\u001b[0m█\u001b[0m█\u001b[0m█\u001b[0m█\u001b[0m█\u001b[0m█\u001b[0m█\u001b[0m█\u001b[0m█\u001b[0m█\u001b[0m█\u001b[0m█\u001b[0m█\u001b[0m█\u001b[0m█\u001b[0m█\u001b[0m█\u001b[0m█\u001b[0m█\u001b[0m█\u001b[0m█\u001b[0m█\u001b[0m█\u001b[0m█\u001b[0m█\u001b[0m█\u001b[0m█\u001b[0m█\u001b[0m\n",
      "█\u001b[0m█\u001b[0m█\u001b[0m█\u001b[0m█\u001b[0m█\u001b[0m█\u001b[0m█\u001b[0m█\u001b[0m█\u001b[0m█\u001b[0m█\u001b[0m█\u001b[0m█\u001b[0m█\u001b[0m█\u001b[0m█\u001b[0m█\u001b[0m█\u001b[0m█\u001b[0m█\u001b[0m█\u001b[0m█\u001b[0m█\u001b[0m\u001b[33m█\u001b[0m\u001b[32m█\u001b[0m\u001b[32m█\u001b[0m\u001b[32m█\u001b[0m\u001b[32m█\u001b[0m\u001b[32m█\u001b[0m\u001b[32m█\u001b[0m\u001b[32m█\u001b[0m\u001b[32m█\u001b[0m\u001b[32m█\u001b[0m\u001b[32m█\u001b[0m\u001b[32m█\u001b[0m\u001b[33m█\u001b[0m█\u001b[0m█\u001b[0m█\u001b[0m█\u001b[0m█\u001b[0m█\u001b[0m█\u001b[0m█\u001b[0m█\u001b[0m█\u001b[0m█\u001b[0m█\u001b[0m█\u001b[0m█\u001b[0m█\u001b[0m█\u001b[0m█\u001b[0m█\u001b[0m█\u001b[0m█\u001b[0m█\u001b[0m█\u001b[0m█\u001b[0m█\u001b[0m█\u001b[0m█\u001b[0m\n",
      "█\u001b[0m█\u001b[0m█\u001b[0m█\u001b[0m█\u001b[0m█\u001b[0m█\u001b[0m█\u001b[0m█\u001b[0m█\u001b[0m█\u001b[0m█\u001b[0m█\u001b[0m█\u001b[0m█\u001b[0m█\u001b[0m█\u001b[0m█\u001b[0m█\u001b[0m█\u001b[0m█\u001b[0m\u001b[33m█\u001b[0m\u001b[32m█\u001b[0m\u001b[32m█\u001b[0m\u001b[32m█\u001b[0m\u001b[32m█\u001b[0m\u001b[32m█\u001b[0m\u001b[32m█\u001b[0m\u001b[32m█\u001b[0m\u001b[32m█\u001b[0m\u001b[32m█\u001b[0m\u001b[32m█\u001b[0m\u001b[32m█\u001b[0m\u001b[32m█\u001b[0m\u001b[32m█\u001b[0m\u001b[32m█\u001b[0m\u001b[32m█\u001b[0m\u001b[32m█\u001b[0m\u001b[32m█\u001b[0m\u001b[33m█\u001b[0m█\u001b[0m█\u001b[0m█\u001b[0m█\u001b[0m█\u001b[0m█\u001b[0m█\u001b[0m█\u001b[0m█\u001b[0m█\u001b[0m█\u001b[0m█\u001b[0m█\u001b[0m█\u001b[0m█\u001b[0m█\u001b[0m█\u001b[0m█\u001b[0m█\u001b[0m█\u001b[0m█\u001b[0m█\u001b[0m█\u001b[0m\n",
      "█\u001b[0m█\u001b[0m█\u001b[0m█\u001b[0m█\u001b[0m█\u001b[0m█\u001b[0m█\u001b[0m█\u001b[0m█\u001b[0m█\u001b[0m█\u001b[0m█\u001b[0m█\u001b[0m█\u001b[0m█\u001b[0m█\u001b[0m█\u001b[0m\u001b[33m█\u001b[0m\u001b[32m█\u001b[0m\u001b[32m█\u001b[0m\u001b[32m█\u001b[0m\u001b[32m█\u001b[0m\u001b[32m█\u001b[0m\u001b[32m█\u001b[0m\u001b[32m█\u001b[0m\u001b[32m█\u001b[0m\u001b[32m█\u001b[0m\u001b[32m█\u001b[0m\u001b[32m█\u001b[0m\u001b[32m█\u001b[0m\u001b[32m█\u001b[0m\u001b[32m█\u001b[0m\u001b[32m█\u001b[0m\u001b[32m█\u001b[0m\u001b[32m█\u001b[0m\u001b[32m█\u001b[0m\u001b[32m█\u001b[0m\u001b[32m█\u001b[0m\u001b[32m█\u001b[0m\u001b[32m█\u001b[0m\u001b[32m█\u001b[0m\u001b[33m█\u001b[0m█\u001b[0m█\u001b[0m█\u001b[0m█\u001b[0m█\u001b[0m█\u001b[0m█\u001b[0m█\u001b[0m█\u001b[0m█\u001b[0m█\u001b[0m█\u001b[0m█\u001b[0m█\u001b[0m█\u001b[0m█\u001b[0m█\u001b[0m█\u001b[0m█\u001b[0m█\u001b[0m\n",
      "█\u001b[0m█\u001b[0m█\u001b[0m█\u001b[0m█\u001b[0m█\u001b[0m█\u001b[0m█\u001b[0m█\u001b[0m█\u001b[0m█\u001b[0m█\u001b[0m█\u001b[0m█\u001b[0m█\u001b[0m\u001b[33m█\u001b[0m\u001b[32m█\u001b[0m\u001b[32m█\u001b[0m\u001b[32m█\u001b[0m\u001b[32m█\u001b[0m\u001b[32m█\u001b[0m\u001b[32m█\u001b[0m\u001b[32m█\u001b[0m\u001b[32m█\u001b[0m\u001b[32m█\u001b[0m\u001b[32m█\u001b[0m\u001b[32m█\u001b[0m\u001b[32m█\u001b[0m\u001b[32m█\u001b[0m\u001b[32m█\u001b[0m\u001b[32m█\u001b[0m\u001b[32m█\u001b[0m\u001b[32m█\u001b[0m\u001b[32m█\u001b[0m\u001b[32m█\u001b[0m\u001b[32m█\u001b[0m\u001b[32m█\u001b[0m\u001b[32m█\u001b[0m\u001b[32m█\u001b[0m\u001b[32m█\u001b[0m\u001b[32m█\u001b[0m\u001b[32m█\u001b[0m\u001b[32m█\u001b[0m\u001b[32m█\u001b[0m\u001b[32m█\u001b[0m\u001b[33m█\u001b[0m█\u001b[0m█\u001b[0m█\u001b[0m█\u001b[0m█\u001b[0m█\u001b[0m█\u001b[0m█\u001b[0m█\u001b[0m█\u001b[0m█\u001b[0m█\u001b[0m█\u001b[0m█\u001b[0m█\u001b[0m█\u001b[0m█\u001b[0m\n",
      "█\u001b[0m█\u001b[0m█\u001b[0m█\u001b[0m█\u001b[0m█\u001b[0m█\u001b[0m█\u001b[0m█\u001b[0m█\u001b[0m█\u001b[0m█\u001b[0m\u001b[33m█\u001b[0m\u001b[32m█\u001b[0m\u001b[32m█\u001b[0m\u001b[32m█\u001b[0m\u001b[32m█\u001b[0m\u001b[32m█\u001b[0m\u001b[32m█\u001b[0m\u001b[32m█\u001b[0m\u001b[32m█\u001b[0m\u001b[32m█\u001b[0m\u001b[32m█\u001b[0m\u001b[32m█\u001b[0m\u001b[32m█\u001b[0m\u001b[32m█\u001b[0m\u001b[32m█\u001b[0m\u001b[32m█\u001b[0m\u001b[32m█\u001b[0m\u001b[32m█\u001b[0m\u001b[32m█\u001b[0m\u001b[32m█\u001b[0m\u001b[32m█\u001b[0m\u001b[32m█\u001b[0m\u001b[32m█\u001b[0m\u001b[32m█\u001b[0m\u001b[32m█\u001b[0m\u001b[32m█\u001b[0m\u001b[32m█\u001b[0m\u001b[32m█\u001b[0m\u001b[32m█\u001b[0m\u001b[32m█\u001b[0m\u001b[32m█\u001b[0m\u001b[32m█\u001b[0m\u001b[32m█\u001b[0m\u001b[32m█\u001b[0m\u001b[32m█\u001b[0m\u001b[32m█\u001b[0m\u001b[33m█\u001b[0m█\u001b[0m█\u001b[0m█\u001b[0m█\u001b[0m█\u001b[0m█\u001b[0m█\u001b[0m█\u001b[0m█\u001b[0m█\u001b[0m█\u001b[0m█\u001b[0m█\u001b[0m█\u001b[0m\n",
      "█\u001b[0m█\u001b[0m█\u001b[0m█\u001b[0m█\u001b[0m█\u001b[0m█\u001b[0m█\u001b[0m█\u001b[0m\u001b[33m█\u001b[0m\u001b[32m█\u001b[0m\u001b[32m█\u001b[0m\u001b[32m█\u001b[0m\u001b[32m█\u001b[0m\u001b[32m█\u001b[0m\u001b[32m█\u001b[0m\u001b[32m█\u001b[0m\u001b[32m█\u001b[0m\u001b[32m█\u001b[0m\u001b[32m█\u001b[0m\u001b[32m█\u001b[0m\u001b[32m█\u001b[0m\u001b[32m█\u001b[0m\u001b[32m█\u001b[0m\u001b[32m█\u001b[0m\u001b[32m█\u001b[0m\u001b[32m█\u001b[0m\u001b[32m█\u001b[0m\u001b[32m█\u001b[0m\u001b[32m█\u001b[0m\u001b[32m█\u001b[0m\u001b[32m█\u001b[0m\u001b[32m█\u001b[0m\u001b[32m█\u001b[0m\u001b[32m█\u001b[0m\u001b[32m█\u001b[0m\u001b[32m█\u001b[0m\u001b[32m█\u001b[0m\u001b[32m█\u001b[0m\u001b[32m█\u001b[0m\u001b[32m█\u001b[0m\u001b[32m█\u001b[0m\u001b[32m█\u001b[0m\u001b[32m█\u001b[0m\u001b[32m█\u001b[0m\u001b[32m█\u001b[0m\u001b[32m█\u001b[0m\u001b[32m█\u001b[0m\u001b[32m█\u001b[0m\u001b[32m█\u001b[0m\u001b[32m█\u001b[0m\u001b[33m█\u001b[0m█\u001b[0m█\u001b[0m█\u001b[0m█\u001b[0m█\u001b[0m█\u001b[0m█\u001b[0m█\u001b[0m█\u001b[0m█\u001b[0m█\u001b[0m\n",
      "█\u001b[0m█\u001b[0m█\u001b[0m█\u001b[0m█\u001b[0m█\u001b[0m\u001b[33m█\u001b[0m\u001b[32m█\u001b[0m\u001b[32m█\u001b[0m\u001b[32m█\u001b[0m\u001b[32m█\u001b[0m\u001b[32m█\u001b[0m\u001b[32m█\u001b[0m\u001b[32m█\u001b[0m\u001b[32m█\u001b[0m\u001b[32m█\u001b[0m\u001b[32m█\u001b[0m\u001b[32m█\u001b[0m\u001b[32m█\u001b[0m\u001b[32m█\u001b[0m\u001b[32m█\u001b[0m\u001b[32m█\u001b[0m\u001b[32m█\u001b[0m\u001b[32m█\u001b[0m\u001b[32m█\u001b[0m\u001b[32m█\u001b[0m\u001b[32m█\u001b[0m\u001b[32m█\u001b[0m\u001b[32m█\u001b[0m\u001b[32m█\u001b[0m\u001b[32m█\u001b[0m\u001b[32m█\u001b[0m\u001b[32m█\u001b[0m\u001b[32m█\u001b[0m\u001b[32m█\u001b[0m\u001b[32m█\u001b[0m\u001b[32m█\u001b[0m\u001b[32m█\u001b[0m\u001b[32m█\u001b[0m\u001b[32m█\u001b[0m\u001b[32m█\u001b[0m\u001b[32m█\u001b[0m\u001b[32m█\u001b[0m\u001b[32m█\u001b[0m\u001b[32m█\u001b[0m\u001b[32m█\u001b[0m\u001b[32m█\u001b[0m\u001b[32m█\u001b[0m\u001b[32m█\u001b[0m\u001b[32m█\u001b[0m\u001b[32m█\u001b[0m\u001b[32m█\u001b[0m\u001b[32m█\u001b[0m\u001b[32m█\u001b[0m\u001b[33m█\u001b[0m█\u001b[0m█\u001b[0m█\u001b[0m█\u001b[0m█\u001b[0m█\u001b[0m█\u001b[0m█\u001b[0m\n",
      "█\u001b[0m█\u001b[0m█\u001b[0m\u001b[33m█\u001b[0m\u001b[32m█\u001b[0m\u001b[32m█\u001b[0m\u001b[32m█\u001b[0m\u001b[32m█\u001b[0m\u001b[32m█\u001b[0m\u001b[32m█\u001b[0m\u001b[32m█\u001b[0m\u001b[32m█\u001b[0m\u001b[32m█\u001b[0m\u001b[32m█\u001b[0m\u001b[32m█\u001b[0m\u001b[32m█\u001b[0m\u001b[32m█\u001b[0m\u001b[32m█\u001b[0m\u001b[32m█\u001b[0m\u001b[32m█\u001b[0m\u001b[32m█\u001b[0m\u001b[32m█\u001b[0m\u001b[32m█\u001b[0m\u001b[32m█\u001b[0m\u001b[32m█\u001b[0m\u001b[32m█\u001b[0m\u001b[32m█\u001b[0m\u001b[32m█\u001b[0m\u001b[32m█\u001b[0m\u001b[32m█\u001b[0m\u001b[32m█\u001b[0m\u001b[32m█\u001b[0m\u001b[32m█\u001b[0m\u001b[32m█\u001b[0m\u001b[32m█\u001b[0m\u001b[32m█\u001b[0m\u001b[32m█\u001b[0m\u001b[32m█\u001b[0m\u001b[32m█\u001b[0m\u001b[32m█\u001b[0m\u001b[32m█\u001b[0m\u001b[32m█\u001b[0m\u001b[32m█\u001b[0m\u001b[32m█\u001b[0m\u001b[32m█\u001b[0m\u001b[32m█\u001b[0m\u001b[32m█\u001b[0m\u001b[32m█\u001b[0m\u001b[32m█\u001b[0m\u001b[32m█\u001b[0m\u001b[32m█\u001b[0m\u001b[32m█\u001b[0m\u001b[32m█\u001b[0m\u001b[32m█\u001b[0m\u001b[32m█\u001b[0m\u001b[32m█\u001b[0m\u001b[32m█\u001b[0m\u001b[33m█\u001b[0m█\u001b[0m█\u001b[0m█\u001b[0m█\u001b[0m█\u001b[0m\n",
      "\u001b[33m█\u001b[0m\u001b[32m█\u001b[0m\u001b[32m█\u001b[0m\u001b[32m█\u001b[0m\u001b[32m█\u001b[0m\u001b[32m█\u001b[0m\u001b[32m█\u001b[0m\u001b[32m█\u001b[0m\u001b[32m█\u001b[0m\u001b[32m█\u001b[0m\u001b[32m█\u001b[0m\u001b[32m█\u001b[0m\u001b[32m█\u001b[0m\u001b[32m█\u001b[0m\u001b[32m█\u001b[0m\u001b[32m█\u001b[0m\u001b[32m█\u001b[0m\u001b[32m█\u001b[0m\u001b[32m█\u001b[0m\u001b[32m█\u001b[0m\u001b[32m█\u001b[0m\u001b[32m█\u001b[0m\u001b[32m█\u001b[0m\u001b[32m█\u001b[0m\u001b[32m█\u001b[0m\u001b[32m█\u001b[0m\u001b[32m█\u001b[0m\u001b[32m█\u001b[0m\u001b[32m█\u001b[0m\u001b[32m█\u001b[0m\u001b[32m█\u001b[0m\u001b[32m█\u001b[0m\u001b[32m█\u001b[0m\u001b[32m█\u001b[0m\u001b[32m█\u001b[0m\u001b[32m█\u001b[0m\u001b[32m█\u001b[0m\u001b[32m█\u001b[0m\u001b[32m█\u001b[0m\u001b[32m█\u001b[0m\u001b[32m█\u001b[0m\u001b[32m█\u001b[0m\u001b[32m█\u001b[0m\u001b[32m█\u001b[0m\u001b[32m█\u001b[0m\u001b[32m█\u001b[0m\u001b[32m█\u001b[0m\u001b[32m█\u001b[0m\u001b[32m█\u001b[0m\u001b[32m█\u001b[0m\u001b[32m█\u001b[0m\u001b[32m█\u001b[0m\u001b[32m█\u001b[0m\u001b[32m█\u001b[0m\u001b[32m█\u001b[0m\u001b[32m█\u001b[0m\u001b[32m█\u001b[0m\u001b[32m█\u001b[0m\u001b[32m█\u001b[0m\u001b[32m█\u001b[0m\u001b[33m█\u001b[0m█\u001b[0m█\u001b[0m\n"
     ]
    }
   ],
   "source": [
    "import termcolor\n",
    "from termcolor import colored # colored(text,color) returns text in the color\n",
    "#Jamaican flag\n",
    "# What will be printed?  \n",
    "n = 21\n",
    "for i in range(n):\n",
    "    line = \"\"\n",
    "    for j in range(3*n):\n",
    "        if (j<3*i) and j< 3*(n-1-i) or j>3*i and j>3*(n-1-i): \n",
    "            color= None # black\n",
    "        else:\n",
    "            color = \"green\"\n",
    "        if j == 3*i or j==3*(n-1-i): \n",
    "            color=\"yellow\"\n",
    "        line += colored(\"█\",color)\n",
    "    print(line)"
   ]
  }
 ],
 "metadata": {
  "kernelspec": {
   "display_name": "Python 3 (ipykernel)",
   "language": "python",
   "name": "python3"
  },
  "language_info": {
   "codemirror_mode": {
    "name": "ipython",
    "version": 3
   },
   "file_extension": ".py",
   "mimetype": "text/x-python",
   "name": "python",
   "nbconvert_exporter": "python",
   "pygments_lexer": "ipython3",
   "version": "3.11.0"
  }
 },
 "nbformat": 4,
 "nbformat_minor": 5
}
