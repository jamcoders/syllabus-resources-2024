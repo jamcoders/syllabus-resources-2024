{
 "cells": [
  {
   "cell_type": "code",
   "execution_count": 47,
   "id": "a58e8710",
   "metadata": {},
   "outputs": [],
   "source": [
    "%config InteractiveShell.ast_node_interactivity=\"none\""
   ]
  },
  {
   "cell_type": "code",
   "execution_count": 25,
   "id": "a436a6b7",
   "metadata": {},
   "outputs": [
    {
     "name": "stdout",
     "output_type": "stream",
     "text": [
      "0\n",
      "1\n",
      "2\n",
      "3\n",
      "4\n",
      "5\n",
      "6\n",
      "7\n",
      "8\n",
      "9\n",
      "Loop completed!\n"
     ]
    }
   ],
   "source": [
    "# There are two keywords for loops that you will need to know\n",
    "# The first is \"break\"\n",
    "# Notice \"break\" is in green\n",
    "# Break will exit a for loop once it is executed\n",
    "\n",
    "for i in range(20):\n",
    "    if i == 10:\n",
    "        break  #--->what happenes with different indentation?\n",
    "    print(i)   #--->what happenes with different indentation?\n",
    "print('Loop completed!')"
   ]
  },
  {
   "cell_type": "code",
   "execution_count": 26,
   "id": "715a96de",
   "metadata": {},
   "outputs": [
    {
     "name": "stdout",
     "output_type": "stream",
     "text": [
      "0\n",
      "1\n",
      "2\n",
      "3\n",
      "4\n",
      "5\n",
      "6\n",
      "7\n",
      "8\n",
      "9\n",
      "11\n",
      "12\n",
      "13\n",
      "14\n",
      "15\n",
      "16\n",
      "17\n",
      "18\n",
      "19\n",
      "Loop completed!\n"
     ]
    }
   ],
   "source": [
    "# The other keyword you need to know is \"continue\"\n",
    "# \"continue\" will make it so that the rest of the loop body is not executed\n",
    "# but ONLY for the time it is called\n",
    "# Notice that \"10\" is not printed\n",
    "\n",
    "for i in range(20):\n",
    "    if i == 10:\n",
    "        continue\n",
    "    print(i)\n",
    "print('Loop completed!')"
   ]
  },
  {
   "cell_type": "code",
   "execution_count": 48,
   "id": "8ee41384",
   "metadata": {},
   "outputs": [
    {
     "name": "stdout",
     "output_type": "stream",
     "text": [
      "0\n",
      "1\n",
      "2\n",
      "3\n",
      "4\n",
      "5\n",
      "6\n",
      "7\n",
      "8\n",
      "9\n",
      "11\n",
      "12\n",
      "13\n",
      "14\n",
      "I am still here\n",
      "Loop completed!\n"
     ]
    }
   ],
   "source": [
    "# You can have continue and break in the same loop\n",
    "for i in range(20):\n",
    "    if i == 10:\n",
    "        continue\n",
    "    if i == 15:\n",
    "        break\n",
    "    print(i)\n",
    "print('I am still here') \n",
    "print('Loop completed!')"
   ]
  },
  {
   "cell_type": "code",
   "execution_count": 49,
   "id": "e0b38268",
   "metadata": {},
   "outputs": [
    {
     "name": "stdout",
     "output_type": "stream",
     "text": [
      "0\n",
      "I am still here\n",
      "1\n",
      "I am still here\n",
      "2\n",
      "I am still here\n",
      "3\n",
      "I am still here\n",
      "4\n",
      "I am still here\n",
      "5\n",
      "I am still here\n",
      "6\n",
      "I am still here\n",
      "7\n",
      "I am still here\n",
      "8\n",
      "I am still here\n",
      "9\n",
      "I am still here\n",
      "11\n",
      "I am still here\n",
      "12\n",
      "I am still here\n",
      "13\n",
      "I am still here\n",
      "14\n",
      "I am still here\n",
      "Loop completed!\n"
     ]
    }
   ],
   "source": [
    "# You can have continue and break in the same loop\n",
    "for i in range(20):\n",
    "    if i == 10:\n",
    "        continue\n",
    "    if i == 15:\n",
    "        break\n",
    "    print(i)\n",
    "    print('I am still here') \n",
    "print('Loop completed!')"
   ]
  },
  {
   "cell_type": "code",
   "execution_count": 31,
   "id": "5a4c00ae",
   "metadata": {},
   "outputs": [
    {
     "name": "stdout",
     "output_type": "stream",
     "text": [
      "0\n",
      "1\n",
      "2\n",
      "3\n",
      "4\n",
      "5\n",
      "6\n",
      "7\n",
      "8\n",
      "9\n",
      "Loop completed!\n"
     ]
    }
   ],
   "source": [
    "i = 0\n",
    "while i < 10:\n",
    "    print(i)\n",
    "    i+=1\n",
    "print('Loop completed!')"
   ]
  },
  {
   "cell_type": "code",
   "execution_count": null,
   "id": "a978b29a",
   "metadata": {},
   "outputs": [],
   "source": [
    "# WARNING!!!!!\n",
    "# Even if you don't mean to, the loop can run forever.\n",
    "# DO NOT do this.\n",
    "i = 0\n",
    "while i < 10:\n",
    "    print(i)\n",
    "print('Loop completed!') # This will never execute!"
   ]
  },
  {
   "cell_type": "code",
   "execution_count": 32,
   "id": "3da6a726",
   "metadata": {},
   "outputs": [
    {
     "name": "stdout",
     "output_type": "stream",
     "text": [
      "1\n",
      "2\n",
      "3\n",
      "4\n",
      "6\n",
      "7\n",
      "8\n",
      "9\n",
      "10\n",
      "Loop completed!\n"
     ]
    }
   ],
   "source": [
    "# You can use \"continue\" in while loops\n",
    "# The syntax and behavior is exactly the same as in for loop\n",
    "i = 0\n",
    "while i < 10:\n",
    "    i += 1\n",
    "    if i == 5:\n",
    "        continue\n",
    "    print(i)\n",
    "print('Loop completed!')"
   ]
  },
  {
   "cell_type": "code",
   "execution_count": null,
   "id": "4a59e5fd",
   "metadata": {},
   "outputs": [],
   "source": [
    "# WARNING!!!!\n",
    "# This loop will also run forever. Why?\n",
    "# Don't do this.\n",
    "i = 0\n",
    "while i < 10:\n",
    "    if i == 5:\n",
    "        continue\n",
    "    print(i)\n",
    "print('Loop completed!')\n",
    "\n",
    "#What do we need to change?"
   ]
  },
  {
   "cell_type": "code",
   "execution_count": 33,
   "id": "7942a30c",
   "metadata": {},
   "outputs": [
    {
     "name": "stdout",
     "output_type": "stream",
     "text": [
      "0\n",
      "1\n",
      "2\n",
      "3\n",
      "4\n",
      "5\n",
      "6\n",
      "7\n",
      "8\n",
      "9\n",
      "10\n"
     ]
    }
   ],
   "source": [
    "# You can also use \"break\" in while loops\n",
    "# The syntax and usage is exactly the same as in for loops\n",
    "i = 0\n",
    "while True:\n",
    "    if i > 10:\n",
    "        break\n",
    "    print(i)\n",
    "    i += 1"
   ]
  },
  {
   "cell_type": "code",
   "execution_count": 35,
   "id": "86e98c9b",
   "metadata": {},
   "outputs": [
    {
     "name": "stdout",
     "output_type": "stream",
     "text": [
      "1\n",
      "2\n",
      "3\n",
      "4\n",
      "5\n",
      "6\n",
      "7\n",
      "8\n",
      "9\n",
      "10\n"
     ]
    }
   ],
   "source": [
    "# What will happen?\n",
    "i = 0\n",
    "while True:\n",
    "    i += 1\n",
    "    if i > 10:\n",
    "        break\n",
    "    print(i)"
   ]
  },
  {
   "cell_type": "markdown",
   "id": "f9151323",
   "metadata": {},
   "source": [
    "# More on Functions "
   ]
  },
  {
   "cell_type": "code",
   "execution_count": 50,
   "id": "eb79ad40",
   "metadata": {},
   "outputs": [
    {
     "name": "stdout",
     "output_type": "stream",
     "text": [
      "True\n"
     ]
    }
   ],
   "source": [
    "# Remebmer that you can have control flow in functions\n",
    "def passingGrade(score):\n",
    "    if score > 50.0:\n",
    "        return True\n",
    "    else: #----->What happens if I comment out this & the following line?\n",
    "        return False\n",
    "\n",
    "print(passingGrade(60.0))\n",
    "#print(passingGrade(25.0))"
   ]
  },
  {
   "cell_type": "code",
   "execution_count": 51,
   "id": "d27cdcec",
   "metadata": {},
   "outputs": [
    {
     "name": "stdout",
     "output_type": "stream",
     "text": [
      "False\n"
     ]
    }
   ],
   "source": [
    "# Remebmer that you can have control flow in functions\n",
    "def passingGrade(score):\n",
    "    if score > 50.0:\n",
    "        return True\n",
    "    else: #----->What happens if I comment out this & the following line?\n",
    "        return False\n",
    "\n",
    "#print(passingGrade(60.0))\n",
    "print(passingGrade(25.0))"
   ]
  },
  {
   "cell_type": "code",
   "execution_count": 52,
   "id": "b26f8aff",
   "metadata": {},
   "outputs": [
    {
     "name": "stdout",
     "output_type": "stream",
     "text": [
      "None\n"
     ]
    }
   ],
   "source": [
    "# Remebmer that you can have control flow in functions\n",
    "def passingGrade(score):\n",
    "    if score > 50.0:\n",
    "        return True\n",
    "    #else: #----->What happens if I comment out this & the following line?\n",
    "    #    return False\n",
    "\n",
    "#print(passingGrade(60.0))\n",
    "print(passingGrade(25.0))"
   ]
  },
  {
   "cell_type": "code",
   "execution_count": 53,
   "id": "515d6179",
   "metadata": {},
   "outputs": [
    {
     "name": "stdout",
     "output_type": "stream",
     "text": [
      "False\n"
     ]
    }
   ],
   "source": [
    "# Functions can call functions\n",
    "def func1(x):\n",
    "    if len(x) > 5:\n",
    "        return True\n",
    "    else:\n",
    "        return False\n",
    "\n",
    "def func2(x):\n",
    "    return func1(x)\n",
    "\n",
    "print(func2([0, 1, 2]))\n",
    "#print(func2([0, 1, 2, 3, 4, 5, 6, 7]))"
   ]
  },
  {
   "cell_type": "code",
   "execution_count": 54,
   "id": "a1ae667b",
   "metadata": {},
   "outputs": [
    {
     "name": "stdout",
     "output_type": "stream",
     "text": [
      "True\n"
     ]
    }
   ],
   "source": [
    "# Functions can call functions\n",
    "def func1(x):\n",
    "    if len(x) > 5:\n",
    "        return True\n",
    "    else:\n",
    "        return False\n",
    "\n",
    "def func2(x):\n",
    "    return func1(x)\n",
    "\n",
    "#print(func2([0, 1, 2]))\n",
    "print(func2([0, 1, 2, 3, 4, 5, 6, 7]))"
   ]
  },
  {
   "cell_type": "code",
   "execution_count": 40,
   "id": "55294cb1",
   "metadata": {},
   "outputs": [
    {
     "name": "stdout",
     "output_type": "stream",
     "text": [
      "0\n",
      "1\n",
      "2\n",
      "3\n"
     ]
    }
   ],
   "source": [
    "# You can also have loops in functions\n",
    "def loopInFunction(x):\n",
    "    for i in range(x):\n",
    "        print(i)\n",
    "\n",
    "loopInFunction(4)"
   ]
  },
  {
   "cell_type": "code",
   "execution_count": 41,
   "id": "824bbda1",
   "metadata": {},
   "outputs": [
    {
     "name": "stdout",
     "output_type": "stream",
     "text": [
      "0\n",
      "1\n",
      "10\n",
      "-2\n",
      "5\n"
     ]
    }
   ],
   "source": [
    "# What's the difference between this function and the one above?\n",
    "def loopInFunction2(x):\n",
    "    for i in x:\n",
    "        print(i)\n",
    "\n",
    "loopInFunction2([0, 1, 10, -2, 5])"
   ]
  },
  {
   "cell_type": "code",
   "execution_count": 55,
   "id": "6a94a76a",
   "metadata": {},
   "outputs": [
    {
     "name": "stdout",
     "output_type": "stream",
     "text": [
      "5\n",
      "6\n",
      "3\n",
      "7\n",
      "2\n",
      "9\n",
      "1\n",
      "d\n",
      "o\n",
      "n\n",
      "e\n",
      "Loop completed!\n"
     ]
    }
   ],
   "source": [
    "# Remember how loops over strings work\n",
    "def loopInFunction2(x):\n",
    "    for i in x:\n",
    "        print(i)\n",
    "    print('Loop completed!')#--->what happens with different indentation?\n",
    "loopInFunction2('5637291done')"
   ]
  },
  {
   "cell_type": "code",
   "execution_count": 56,
   "id": "71671856",
   "metadata": {},
   "outputs": [
    {
     "name": "stdout",
     "output_type": "stream",
     "text": [
      "5\n",
      "Loop completed!\n",
      "6\n",
      "Loop completed!\n",
      "3\n",
      "Loop completed!\n",
      "7\n",
      "Loop completed!\n",
      "2\n",
      "Loop completed!\n",
      "9\n",
      "Loop completed!\n",
      "1\n",
      "Loop completed!\n",
      "d\n",
      "Loop completed!\n",
      "o\n",
      "Loop completed!\n",
      "n\n",
      "Loop completed!\n",
      "e\n",
      "Loop completed!\n"
     ]
    }
   ],
   "source": [
    "# Remember how loops over strings work\n",
    "def loopInFunction2(x):\n",
    "    for i in x:\n",
    "        print(i)\n",
    "        print('Loop completed!')#--->what happens with different indentation?\n",
    "loopInFunction2('5637291done')"
   ]
  },
  {
   "cell_type": "code",
   "execution_count": 57,
   "id": "09b005be",
   "metadata": {},
   "outputs": [
    {
     "name": "stdout",
     "output_type": "stream",
     "text": [
      "Loop completed!\n",
      "5\n",
      "6\n",
      "3\n",
      "7\n",
      "2\n",
      "9\n",
      "1\n",
      "d\n",
      "o\n",
      "n\n",
      "e\n"
     ]
    }
   ],
   "source": [
    "# Remember how loops over strings work\n",
    "def loopInFunction2(x):\n",
    "    for i in x:\n",
    "        print(i)\n",
    "print('Loop completed!')#--->what happens with different indentation?\n",
    "loopInFunction2('5637291done')"
   ]
  },
  {
   "cell_type": "code",
   "execution_count": 7,
   "id": "90394933",
   "metadata": {},
   "outputs": [],
   "source": [
    "# Remember how loops over strings work\n",
    "# What happens here?\n",
    "def loopInFunction2(x):\n",
    "    for i in range(len(x)):\n",
    "        print(str(i)*2+x[i:])\n",
    "    print('Loop completed!')#--->what happens with different indentation?\n",
    "\n",
    "loopInFunction2('5637291done')"
   ]
  }
 ],
 "metadata": {
  "kernelspec": {
   "display_name": "Python 3 (ipykernel)",
   "language": "python",
   "name": "python3"
  },
  "language_info": {
   "codemirror_mode": {
    "name": "ipython",
    "version": 3
   },
   "file_extension": ".py",
   "mimetype": "text/x-python",
   "name": "python",
   "nbconvert_exporter": "python",
   "pygments_lexer": "ipython3",
   "version": "3.11.0"
  }
 },
 "nbformat": 4,
 "nbformat_minor": 5
}
