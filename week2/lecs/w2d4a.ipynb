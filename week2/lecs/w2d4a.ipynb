{
 "cells": [
  {
   "cell_type": "code",
   "execution_count": 127,
   "id": "3590d780",
   "metadata": {},
   "outputs": [],
   "source": [
    "#Write a function called reverse_string,\n",
    "#which takes as input a string s, \n",
    "#and outputs the reverse of the string. \n",
    "#e.g.reverse_string('abcde') should return 'edcba'\n",
    "#    reverse_string('abc') should return 'cba'\n",
    "#    reverse_string('13643ssvc') should return 'cvss34631'\n",
    "#    reverse_string('') should return ''"
   ]
  },
  {
   "cell_type": "code",
   "execution_count": 132,
   "id": "59818b29",
   "metadata": {},
   "outputs": [
    {
     "name": "stdout",
     "output_type": "stream",
     "text": [
      "cba\n"
     ]
    }
   ],
   "source": [
    "#One student solution\n",
    "def reverse_string(s):\n",
    "    if len(s)==0: #---->If there are no elements in the \n",
    "        return \"\" #     input string, we want to return \n",
    "    new_string=\"\" #     an empty string\n",
    "    for i in range(1,len(s)+1): #e.g. if s=\"abc\",range(len(s)+1)=4\n",
    "        new_string+=s[-i]     #range(1,4)=1,2,3\n",
    "        #e.g. if s=\"abc\", when i=1,s[-i]=s[-1] is c,new_string is c\n",
    "        #                 when i=2,s[-i]=s[-2] is b,new_string is cb\n",
    "        #                 when i=2,s[-i]=s[-3] is a,new_string is cba\n",
    "    return new_string\n",
    "s1=\"abc\"\n",
    "s2=\"abcde\"\n",
    "s3=\"\"\n",
    "\n",
    "print(reverse_string(s1))"
   ]
  },
  {
   "cell_type": "code",
   "execution_count": 134,
   "id": "94a8d910",
   "metadata": {},
   "outputs": [
    {
     "name": "stdout",
     "output_type": "stream",
     "text": [
      "cba\n"
     ]
    }
   ],
   "source": [
    "#Another student solution\n",
    "def reverse_string(s):\n",
    "    if len(s)==0:\n",
    "        return \"\"\n",
    "    new_string=\"\"\n",
    "    for i in range(len(s)-1,-1,-1): #e.g. if s=\"abc\",  \n",
    "        new_string+=s[i]            #i in range (2,-1,-1)->2,1,0. \n",
    "        #when i is 2, s[i]=c, new_string is c\n",
    "        #when i is 1, s[i]=b, new_string is cb\n",
    "        #when i is 0, s[i]=a, new_string is cba\n",
    "    return new_string                \n",
    "s1=\"abcde\"\n",
    "s2=\"abc\"\n",
    "s3=\"\"\n",
    "\n",
    "print(reverse_string(s2))"
   ]
  },
  {
   "cell_type": "code",
   "execution_count": 136,
   "id": "3e3089e3",
   "metadata": {},
   "outputs": [
    {
     "name": "stdout",
     "output_type": "stream",
     "text": [
      "edcba\n"
     ]
    }
   ],
   "source": [
    "#Yet another student solution\n",
    "def reverse_string(s):\n",
    "    if len(s)==0:\n",
    "        return \"\"\n",
    "    new_string=\"\"\n",
    "    for i in range(len(s)): #e.g. if s=\"abc\", i goes 0,1,2\n",
    "        new_string+=s[-i-1] \n",
    "        #when i is 0,s[0-1]=c, new_string is c\n",
    "        #when i is 1, s[-1-1]=b, new_string is cb\n",
    "        #when i is 2, s[-2-1]=a, new_string is cba\n",
    "    return new_string\n",
    "s1=\"abcde\"\n",
    "s2=\"abc\"\n",
    "s3=\"\"\n",
    "print(reverse_string(s1))"
   ]
  },
  {
   "cell_type": "code",
   "execution_count": 138,
   "id": "40387039",
   "metadata": {},
   "outputs": [
    {
     "name": "stdout",
     "output_type": "stream",
     "text": [
      "edcba\n"
     ]
    }
   ],
   "source": [
    "#Yet another student solution\n",
    "def reverse_string(s):\n",
    "    if len(s)==0:\n",
    "        return \"\"\n",
    "    new_string=\"\"\n",
    "    i=-1                #if s is \"abc\", -len(s)=-3\n",
    "    while i >= -len(s): #starts at while -1>=-3 (which is True)\n",
    "        new_string+=s[i] #new_string is \"\"+s[-1]=\"c\"\n",
    "        i-=1             #i is now -2\n",
    "    return new_string\n",
    "    #The while loop doesn't execute when i is -4, \n",
    "    #because -4>=-3 is False\n",
    "s1=\"abcde\"\n",
    "s2=\"abc\"\n",
    "s3=\"\"\n",
    "print(reverse_string(s1))"
   ]
  },
  {
   "cell_type": "code",
   "execution_count": 154,
   "id": "62a8efa1",
   "metadata": {},
   "outputs": [
    {
     "data": {
      "text/plain": [
       "'edcba'"
      ]
     },
     "execution_count": 154,
     "metadata": {},
     "output_type": "execute_result"
    }
   ],
   "source": [
    "#Yet another solution\n",
    "def reverse_string(s):\n",
    "    y=''\n",
    "    for n in range(len(s)): \n",
    "        y+=s[len(s)-n-1] \n",
    "    return y\n",
    "\n",
    "s1='abcde'\n",
    "s2='abc'\n",
    "s3='13643ssvc'\n",
    "s4=''\n",
    "\n",
    "reverse_string(s1)"
   ]
  },
  {
   "cell_type": "code",
   "execution_count": 173,
   "id": "e7328eb4",
   "metadata": {},
   "outputs": [
    {
     "name": "stdout",
     "output_type": "stream",
     "text": [
      "edcba\n"
     ]
    }
   ],
   "source": [
    "#Yet another solution\n",
    "def reverse_string(s):\n",
    "    y=''\n",
    "    for n in range(len(s)): \n",
    "        y+=s[-n-1] \n",
    "    return y\n",
    "\n",
    "s1='abcde'\n",
    "s2='abc'\n",
    "s3='13643ssvc'\n",
    "s4=''\n",
    "\n",
    "print(reverse_string(s1))"
   ]
  },
  {
   "cell_type": "code",
   "execution_count": 157,
   "id": "f50af0fd",
   "metadata": {},
   "outputs": [
    {
     "data": {
      "text/plain": [
       "'edcba'"
      ]
     },
     "execution_count": 157,
     "metadata": {},
     "output_type": "execute_result"
    }
   ],
   "source": [
    "#Yet another solution\n",
    "def reverse_string(s):\n",
    "    y=''\n",
    "    for n in s: \n",
    "        y=n+y   \n",
    "    return y\n",
    "s1='abcde'\n",
    "s2='abc'\n",
    "s3='13643ssvc'\n",
    "s4=''\n",
    "reverse_string(s1)"
   ]
  },
  {
   "cell_type": "code",
   "execution_count": 2,
   "id": "8a158319",
   "metadata": {},
   "outputs": [
    {
     "data": {
      "text/plain": [
       "'cvss34631'"
      ]
     },
     "execution_count": 2,
     "metadata": {},
     "output_type": "execute_result"
    }
   ],
   "source": [
    "#Yet another solution\n",
    "#You get the point, there are lots of ways to create this function.\n",
    "#Don't memorize a particular way of doing it. \n",
    "#Write down your logic of how you want approach this task,\n",
    "#on pen and paper first, then execute that logic with code. \n",
    "y=''\n",
    "def reverse_string(s):\n",
    "    x=s\n",
    "    y=''\n",
    "    while len(x)>0:\n",
    "        y=x[0]+y  \n",
    "        x=x[1:]\n",
    "    return y\n",
    "\n",
    "s1='abcde'\n",
    "s2='abc'\n",
    "s3='13643ssvc'\n",
    "s4=''\n",
    "reverse_string(s3)"
   ]
  },
  {
   "cell_type": "code",
   "execution_count": 161,
   "id": "2840f165",
   "metadata": {},
   "outputs": [
    {
     "name": "stdout",
     "output_type": "stream",
     "text": [
      "True\n",
      "False\n"
     ]
    }
   ],
   "source": [
    "#Write a function isPalindrome that takes a string s, \n",
    "#and returns True if a string is a palindrome, False if it is not. \n",
    "#e.g. isPalindrome('abbbcd') should return False. \n",
    "#     isPalindrome('abcddcba') should return True. \n",
    "\n",
    "#Hint use the reverse_string function we created above.\n",
    "def isPalindrome(s):\n",
    "    return(s==reverse_string(s))\n",
    "\n",
    "print(isPalindrome('racecar'))\n",
    "print(isPalindrome('Timnit'))\n"
   ]
  }
 ],
 "metadata": {
  "kernelspec": {
   "display_name": "Python 3 (ipykernel)",
   "language": "python",
   "name": "python3"
  },
  "language_info": {
   "codemirror_mode": {
    "name": "ipython",
    "version": 3
   },
   "file_extension": ".py",
   "mimetype": "text/x-python",
   "name": "python",
   "nbconvert_exporter": "python",
   "pygments_lexer": "ipython3",
   "version": "3.11.0"
  }
 },
 "nbformat": 4,
 "nbformat_minor": 5
}
