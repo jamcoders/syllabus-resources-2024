{
 "cells": [
  {
   "cell_type": "markdown",
   "metadata": {},
   "source": [
    "# Functions (variable scoping)"
   ]
  },
  {
   "cell_type": "code",
   "execution_count": 75,
   "metadata": {},
   "outputs": [
    {
     "name": "stdout",
     "output_type": "stream",
     "text": [
      "10 5\n",
      "None\n",
      "0\n"
     ]
    }
   ],
   "source": [
    "# WARNING!!!\n",
    "# Variables are \"scoped\"\n",
    "# This is a complex topic, and we won't have time to cover all of it in lecture\n",
    "# We will only cover the basics: variables inside a function\n",
    "# Variables inside a function have no relation to variables outside the function\n",
    "# See what happens when \"i\" is printed inside and outside the function\n",
    "\n",
    "i = 0\n",
    "def func(x):\n",
    "    i = 10\n",
    "    print(i, x)\n",
    "    \n",
    "print(func(5))\n",
    "print(i)"
   ]
  },
  {
   "cell_type": "code",
   "execution_count": 76,
   "metadata": {},
   "outputs": [
    {
     "name": "stdout",
     "output_type": "stream",
     "text": [
      "10 3\n",
      "3\n"
     ]
    },
    {
     "ename": "NameError",
     "evalue": "name 'j' is not defined",
     "output_type": "error",
     "traceback": [
      "\u001b[0;31m---------------------------------------------------------------------------\u001b[0m",
      "\u001b[0;31mNameError\u001b[0m                                 Traceback (most recent call last)",
      "Cell \u001b[0;32mIn [76], line 15\u001b[0m\n\u001b[1;32m     12\u001b[0m     \u001b[38;5;28mprint\u001b[39m(x)\n\u001b[1;32m     14\u001b[0m func2(\u001b[38;5;241m3\u001b[39m)\n\u001b[0;32m---> 15\u001b[0m \u001b[38;5;28mprint\u001b[39m(\u001b[43mj\u001b[49m)\n",
      "\u001b[0;31mNameError\u001b[0m: name 'j' is not defined"
     ]
    }
   ],
   "source": [
    "# Variables across functions have no relation to each other\n",
    "# A variable declared inside a function will have no relation to outside the function\n",
    "# Why is there an error?\n",
    "\n",
    "def func1(x):\n",
    "    j = 10\n",
    "    print(j, x)\n",
    "    \n",
    "def func2(x):\n",
    "    j = 5\n",
    "    func1(x)\n",
    "    print(x)\n",
    "    \n",
    "func2(3)\n",
    "print(j)"
   ]
  },
  {
   "cell_type": "code",
   "execution_count": 86,
   "metadata": {},
   "outputs": [
    {
     "name": "stdout",
     "output_type": "stream",
     "text": [
      "0\n",
      "1\n",
      "2\n"
     ]
    }
   ],
   "source": [
    "# WARNING: Indentation is not the same scoping\n",
    "# Scoping only applies to functions\n",
    "# If blocks, for loops, and while loops ARE NOT functions\n",
    "i = 0\n",
    "for i in range(3):\n",
    "    print(i)"
   ]
  },
  {
   "cell_type": "code",
   "execution_count": 89,
   "metadata": {},
   "outputs": [
    {
     "name": "stdout",
     "output_type": "stream",
     "text": [
      "0\n",
      "0\n",
      "0\n",
      "0\n",
      "0\n",
      "4\n"
     ]
    }
   ],
   "source": [
    "# What happens here?\n",
    "k=0\n",
    "for i in range(5):\n",
    "    print(k)\n",
    "print(i)"
   ]
  },
  {
   "cell_type": "code",
   "execution_count": 90,
   "metadata": {},
   "outputs": [
    {
     "name": "stdout",
     "output_type": "stream",
     "text": [
      "6\n",
      "6\n",
      "6\n",
      "16\n",
      "6\n"
     ]
    }
   ],
   "source": [
    "# How about here? What happens?\n",
    "k = 0\n",
    "for i in range(3):\n",
    "    k = 6\n",
    "    print(k)\n",
    "print(k+10)\n",
    "print(k)"
   ]
  },
  {
   "cell_type": "code",
   "execution_count": 94,
   "metadata": {},
   "outputs": [
    {
     "name": "stdout",
     "output_type": "stream",
     "text": [
      "len(x) <= 5\n"
     ]
    }
   ],
   "source": [
    "# More complicated example of functions calling functions\n",
    "def func1(x):\n",
    "    if len(x) > 5:\n",
    "        return True\n",
    "    else:\n",
    "        return False\n",
    "    #The above code block can be replaced by return len(x)>5 as a studant pointed out.\n",
    "    \n",
    "\n",
    "def func2(x):\n",
    "    if func1(x):\n",
    "        print('len(x) > 5')\n",
    "    else:\n",
    "        print('len(x) <= 5')\n",
    "        \n",
    "func2([0, 1, 2])\n",
    "#What if I do print(func2([0, 1, 2])) instead?\n",
    "#We see both len(x) <= 5 and None printed. \n",
    "#None is printed because func2([0, 1, 2]) returns nothing, which is None by default. \n",
    "#So print(func2([0, 1, 2])) is the same as print(None)\n",
    "\n",
    "#How about func2([0, 1, 2, 3, 4, 5, 6, 7])?\n",
    "#How about func2([0])"
   ]
  },
  {
   "cell_type": "code",
   "execution_count": 95,
   "metadata": {},
   "outputs": [
    {
     "name": "stdout",
     "output_type": "stream",
     "text": [
      "6\n",
      "6\n",
      "6\n"
     ]
    }
   ],
   "source": [
    "# How about here? What is printed?\n",
    "k = 0\n",
    "for i in range(3):\n",
    "    k = 6\n",
    "    print(k)"
   ]
  },
  {
   "cell_type": "code",
   "execution_count": 96,
   "metadata": {},
   "outputs": [
    {
     "name": "stdout",
     "output_type": "stream",
     "text": [
      "-5\n"
     ]
    }
   ],
   "source": [
    "# What does this function do?\n",
    "# It returns the minimum element in a list\n",
    "def find_min(L):\n",
    "    n=len(L)\n",
    "    current_min=L[0]\n",
    "    i=1\n",
    "    while i<n:\n",
    "        if L[i]<current_min:\n",
    "            current_min=L[i]\n",
    "        i+=1\n",
    "    return current_min\n",
    "\n",
    "L1=[3,1,-5,200,1,1]\n",
    "#L2=[]\n",
    "#L3=[1]\n",
    "print(find_min(L1))"
   ]
  },
  {
   "cell_type": "code",
   "execution_count": 85,
   "metadata": {},
   "outputs": [
    {
     "name": "stdout",
     "output_type": "stream",
     "text": [
      "-5\n"
     ]
    }
   ],
   "source": [
    "#How can you create the above find_min function using a for loop?\n",
    "#There are many ways of doing it.\n",
    "def find_min(L):\n",
    "    n=len(L)\n",
    "    current_min=L[0]\n",
    "    for i in range(1,n):\n",
    "        if L[i]<current_min:\n",
    "            current_min=L[i]\n",
    "    return current_min\n",
    "\n",
    "L1=[3,1,-5,200,1,1]\n",
    "print(find_min(L1))\n"
   ]
  }
 ],
 "metadata": {
  "kernelspec": {
   "display_name": "Python 3 (ipykernel)",
   "language": "python",
   "name": "python3"
  },
  "language_info": {
   "codemirror_mode": {
    "name": "ipython",
    "version": 3
   },
   "file_extension": ".py",
   "mimetype": "text/x-python",
   "name": "python",
   "nbconvert_exporter": "python",
   "pygments_lexer": "ipython3",
   "version": "3.11.0"
  }
 },
 "nbformat": 4,
 "nbformat_minor": 2
}
