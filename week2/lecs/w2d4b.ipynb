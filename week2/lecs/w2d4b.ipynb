{
 "cells": [
  {
   "cell_type": "code",
   "execution_count": 80,
   "id": "21fd76e9",
   "metadata": {},
   "outputs": [],
   "source": [
    "#Things that are confusing. \n",
    "#1. Finding the sum of range(n)\n",
    "#2. Reversing a list\n",
    "#3. String concatination but using function calls. \n",
    "#4. Using math operators vs function calls. \n",
    "#5. Finding the lowest element\n",
    "#6. Loops\n",
    "#7. Nested for loops"
   ]
  },
  {
   "cell_type": "code",
   "execution_count": 81,
   "id": "d124b088",
   "metadata": {},
   "outputs": [
    {
     "name": "stdout",
     "output_type": "stream",
     "text": [
      "edcb\n"
     ]
    }
   ],
   "source": [
    "#Another student answer\n",
    "def reverse_string(s):\n",
    "    if len(s)==0:\n",
    "        return \"\"\n",
    "    else:\n",
    "        return(s[len(s)-1:0:-1]) \n",
    "        #You can slice strings like lists,\n",
    "        #but we wanted you to practice using loops\n",
    "        #while solving this problem\n",
    "s1=\"abcde\"\n",
    "s2=\"abc\"\n",
    "s3=\"\"\n",
    "print(reverse_string(s1))"
   ]
  },
  {
   "cell_type": "code",
   "execution_count": 82,
   "id": "eb27f79e",
   "metadata": {},
   "outputs": [
    {
     "name": "stdout",
     "output_type": "stream",
     "text": [
      "\n"
     ]
    }
   ],
   "source": [
    "#Do we need the else at the bottom?\n",
    "#No because if the if statement executes then we\n",
    "#will leave the function anyway because we will return\n",
    "#We only execute the part under else if we don't leave\n",
    "#the function, meaning if len(s) is not 0. \n",
    "def reverse_string(s):\n",
    "    if len(s)==0:\n",
    "        return \"\"\n",
    "    #else:\n",
    "    return(s[-1:-1:-1])\n",
    "s1=\"abcde\"\n",
    "s2=\"abc\"\n",
    "s3=\"\"\n",
    "print(reverse_string(s1))"
   ]
  },
  {
   "cell_type": "code",
   "execution_count": 97,
   "id": "5edc3d63",
   "metadata": {},
   "outputs": [],
   "source": [
    "# The 5 steps to working on algorithms \n",
    "#######################################\n",
    "\n",
    "#STEP 1: UNDERSTAND the goal of the question.\n",
    "#To make sure you understand what the question is asking, \n",
    "#test yourself using a few examples that you create. \n",
    "#E.g. if you're supposed to write a function that \n",
    "#performs a specific task, write out some example inputs \n",
    "#and work out what the outputs of the function \n",
    "#are supopsed to be. \n",
    "\n",
    "#STEP 2: THINK about how the computer would do it. \n",
    "#Think about the logic of how you approach \n",
    "#working on the problem. \n",
    "\n",
    "#STEP 3: WRITE pseudo code. Write out your logic using \n",
    "#pen and paper.\n",
    "#Don't write it in code, write it in a mix of English + code \n",
    "#or just English.\n",
    "#This is to make sure you understand #2. \n",
    "#Then test out your logic on the \n",
    "#examples you had prepared in step 1, or more. \n",
    "\n",
    "#STEP 4: CODE. Convert your psedo code from STEP 3, to code. \n",
    "#STEP 5: TEST. Test out your code with a few examples. "
   ]
  },
  {
   "cell_type": "code",
   "execution_count": 84,
   "id": "274c3a4d",
   "metadata": {},
   "outputs": [],
   "source": [
    "#Write a function that sums the values of range(n)\n",
    "\n",
    "#So if the input to the function is 3, \n",
    "#the output should be 0+1+2=3\n",
    "#if the input is 4, output should be 0+1+2+3+4=7\n",
    "#if the input is 0, the output should be None"
   ]
  },
  {
   "cell_type": "code",
   "execution_count": 85,
   "id": "6d562db5",
   "metadata": {},
   "outputs": [],
   "source": [
    "#Logic for function that sums the values of range(n)\n",
    "#Examples to try out:\n",
    "#n=0, output should be None\n",
    "#n=3, output should be 0+1+2=3\n",
    "#n=4, output should be 0+1+2+3=6\n",
    "\n",
    "#As we iterate through each element of range(n), \n",
    "#we want to add the current element we're on, \n",
    "#to the sum of the prior elements. That means that as\n",
    "#we're iterating over the elements, we need some way to \n",
    "#store the sum of the previous elements. \n",
    "#For example, \n",
    "#if n=3, range(n) is 0,1,2. So we iterate through 0,1,2\n",
    "#1st element is 0. \n",
    "#     the sum so far is 0.\n",
    "#2nd element is 1. \n",
    "#     We add 1 to the preveious element, 0, and get 1. \n",
    "#     the sum so far is 1.\n",
    "#3rd element is 2. \n",
    "#     We add 2 to the sum of the previous elements 0 & 1, \n",
    "#     which is the same as adding 2 to the sum so far. \n",
    "#     After we add 2 to sum so far, the sum so far is now 3.\n",
    "#we are now done iterating over the elements, \n",
    "#so the sum so far is the sum of all of the elements. \n",
    "\n",
    "\n",
    "#Pseudo code for function that sums the values of range(n)\n",
    "#initialize prior sum to zero\n",
    "#For element in range(n)\n",
    "# sum element to prior sum\n",
    "#return prior_sum"
   ]
  },
  {
   "cell_type": "code",
   "execution_count": 86,
   "id": "d03ca23c",
   "metadata": {},
   "outputs": [
    {
     "name": "stdout",
     "output_type": "stream",
     "text": [
      "0\n"
     ]
    }
   ],
   "source": [
    "#Finding the sum of range(n)\n",
    "#Write a function that sums the values of range(n)\n",
    "def sum_of_range(n):\n",
    "    if n==0:           #--->we need this line because \n",
    "        return         #    we were told that if n is 0, \n",
    "    cur_sum=0 #        #    the function should return None\n",
    "    for i in range(n):\n",
    "        cur_sum+=i\n",
    "    return cur_sum\n",
    "#n=0\n",
    "#n=4\n",
    "#n=5 #answer should be 0+1+2+3+4=10\n",
    "n=-3 #answer should be None\n",
    "print(sum_of_range(n))"
   ]
  },
  {
   "cell_type": "code",
   "execution_count": 87,
   "id": "ad22e459",
   "metadata": {},
   "outputs": [
    {
     "name": "stdout",
     "output_type": "stream",
     "text": [
      "None\n"
     ]
    }
   ],
   "source": [
    "#A new example, n=-3, brings up an issue with our code. \n",
    "#we realized that range(0) should return none, \n",
    "#but what n is less than zero?\n",
    "#we should return None if n is less than 0 because \n",
    "#the syntax for range is range(START,STOP,STEP), \n",
    "#if we only give range one number, \n",
    "#it assums that's the STOP number and that START=0, STEP=1 \n",
    "#there can't be a range if START is 0, STOP is negative & STEP is 1.\n",
    "#So our function should return None if n<=0 \n",
    "\n",
    "def sum_of_range(n):\n",
    "    if n<=0: #--->adjusted line \n",
    "        return         \n",
    "    cur_sum=0 #        \n",
    "    for i in range(n):\n",
    "        cur_sum+=i\n",
    "    return cur_sum\n",
    "n1=0\n",
    "n2=4\n",
    "n3=5 #answer should be 0+1+2+3+4=10\n",
    "n4=-3 #answer should be None\n",
    "print(sum_of_range(n4))"
   ]
  },
  {
   "cell_type": "markdown",
   "id": "b508ff72",
   "metadata": {},
   "source": [
    "# Lists of Lists"
   ]
  },
  {
   "cell_type": "code",
   "execution_count": 88,
   "id": "3c9df929",
   "metadata": {},
   "outputs": [
    {
     "name": "stdout",
     "output_type": "stream",
     "text": [
      "999\n",
      "<class 'int'>\n",
      "[999, 100]\n",
      "<class 'list'>\n",
      "999\n",
      "<class 'int'>\n"
     ]
    }
   ],
   "source": [
    "L=['abc',999,'1234',1000]\n",
    "print(L[1])\n",
    "print(type(L[1]))\n",
    "\n",
    "L1=['abc',[999,100],'1234',1000]\n",
    "print(L1[1])\n",
    "print(type(L1[1]))\n",
    "\n",
    "#How do I get the intiger 999 rather than the list [999]?\n",
    "print(L1[1][0])\n",
    "print(type(L1[1][0]))"
   ]
  },
  {
   "cell_type": "markdown",
   "id": "3c555782",
   "metadata": {},
   "source": [
    "# Drawing Things"
   ]
  },
  {
   "cell_type": "code",
   "execution_count": 94,
   "id": "b414ea24",
   "metadata": {},
   "outputs": [
    {
     "name": "stdout",
     "output_type": "stream",
     "text": [
      "\n",
      "\n",
      "*\n",
      "**\n",
      "***\n"
     ]
    }
   ],
   "source": [
    "# What will be printed?\n",
    "# Remember to go through the code LINE BY LINE \n",
    "# Write out what all the variables are at every step \n",
    "# Print out whatever is printed at every step\n",
    "n=4\n",
    "line = \"\"\n",
    "for i in range(n+1):\n",
    "    for j in range(i):\n",
    "        line  = j*\"*\"\n",
    "    print(line)"
   ]
  },
  {
   "cell_type": "code",
   "execution_count": 96,
   "id": "48a92857",
   "metadata": {},
   "outputs": [
    {
     "name": "stdout",
     "output_type": "stream",
     "text": [
      "***\n",
      "**\n",
      "*\n",
      "\n",
      "\n"
     ]
    }
   ],
   "source": [
    "#How about now? What will be printed?\n",
    "#Again, go through the code LINE BY LINE\n",
    "#write out the values of each variable at every step\n",
    "n=4\n",
    "line = \"\"\n",
    "for i in range(n+1):\n",
    "    for j in range(n-i):\n",
    "        line  = j*\"*\"\n",
    "    print(line)"
   ]
  }
 ],
 "metadata": {
  "kernelspec": {
   "display_name": "Python 3 (ipykernel)",
   "language": "python",
   "name": "python3"
  },
  "language_info": {
   "codemirror_mode": {
    "name": "ipython",
    "version": 3
   },
   "file_extension": ".py",
   "mimetype": "text/x-python",
   "name": "python",
   "nbconvert_exporter": "python",
   "pygments_lexer": "ipython3",
   "version": "3.11.0"
  }
 },
 "nbformat": 4,
 "nbformat_minor": 5
}
