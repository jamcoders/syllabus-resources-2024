{
 "cells": [
  {
   "cell_type": "markdown",
   "id": "controversial-colon",
   "metadata": {},
   "source": [
    "# Recursion Practice\n",
    "At the behest of the TAs this afternoon's lecture will be focused on mastering recursion"
   ]
  },
  {
   "cell_type": "code",
   "execution_count": 2,
   "id": "strong-respect",
   "metadata": {},
   "outputs": [],
   "source": [
    "%config InteractiveShell.ast_node_interactivity=\"none\""
   ]
  },
  {
   "cell_type": "code",
   "execution_count": 3,
   "id": "visible-swift",
   "metadata": {},
   "outputs": [],
   "source": [
    "%run boaz_utils.ipynb"
   ]
  },
  {
   "cell_type": "markdown",
   "id": "silver-coral",
   "metadata": {},
   "source": [
    "For each of the problems below, devise recursive solutions to them"
   ]
  },
  {
   "cell_type": "markdown",
   "id": "legendary-reception",
   "metadata": {},
   "source": [
    "## Problem 1: Count Evens\n",
    "Given a list of positive integers return the number of them that are even"
   ]
  },
  {
   "cell_type": "code",
   "execution_count": 6,
   "id": "derived-plenty",
   "metadata": {},
   "outputs": [],
   "source": [
    "def count_evens(lst):\n",
    "    \"\"\"Return the number of even numbers in lst\"\"\"\n",
    "    if len(lst) == 0:\n",
    "        return 0\n",
    "    else:\n",
    "        return count_evens(lst[1:]) + (1 if lst[0] % 2 == 0 else  0)\n",
    "    \n",
    "def count_evens2(lst):\n",
    "    \"\"\"Return the number of even numbers in lst\"\"\"\n",
    "    if len(lst) == 0:\n",
    "        return 0\n",
    "    elif lst[0] % 2 == 0:\n",
    "        return 1 + count_evens2(lst[1:])\n",
    "    else:\n",
    "        return count_evens2(lst[1:])"
   ]
  },
  {
   "cell_type": "code",
   "execution_count": 7,
   "id": "imposed-chrome",
   "metadata": {},
   "outputs": [
    {
     "name": "stdout",
     "output_type": "stream",
     "text": [
      "3\n",
      "3\n"
     ]
    }
   ],
   "source": [
    "print(count_evens([10, 3, 4, 8, 7]))\n",
    "print(count_evens2([10, 3, 4, 8, 7]))"
   ]
  },
  {
   "cell_type": "markdown",
   "id": "central-dividend",
   "metadata": {},
   "source": [
    "## Problem 2: Count Occurrences\n",
    "Given a list and an element, count the number of times that the element occurs in the list"
   ]
  },
  {
   "cell_type": "code",
   "execution_count": null,
   "id": "undefined-fleet",
   "metadata": {},
   "outputs": [],
   "source": [
    "def count_occurrences(lst, x):\n",
    "    \"\"\"Return the number of times that x is found in lst\"\"\"\n",
    "    pass"
   ]
  },
  {
   "cell_type": "markdown",
   "id": "comparative-lodge",
   "metadata": {},
   "source": [
    "## Problem 3: Delete chars from string\n",
    "Given a string, and a character, return a string that has all such characters removed from the string"
   ]
  },
  {
   "cell_type": "code",
   "execution_count": null,
   "id": "derived-answer",
   "metadata": {},
   "outputs": [],
   "source": [
    "def del_char(S, x):\n",
    "    \"\"\"Return a string with characters x delected from S\"\"\"\n",
    "    pass"
   ]
  },
  {
   "cell_type": "markdown",
   "id": "scientific-equivalent",
   "metadata": {},
   "source": [
    "## Problem 4: Positive Powers\n",
    "Compute b^n for positive integers b and n\n"
   ]
  },
  {
   "cell_type": "code",
   "execution_count": null,
   "id": "unable-harrison",
   "metadata": {},
   "outputs": [],
   "source": [
    "def pow(b, n):\n",
    "    pass"
   ]
  },
  {
   "cell_type": "markdown",
   "id": "cleared-integer",
   "metadata": {},
   "source": [
    "## Problem 5: Compute integer log base 2\n",
    "Given a positive integer n, find the largest power of 2 that does not exceed n"
   ]
  },
  {
   "cell_type": "code",
   "execution_count": 8,
   "id": "lesser-outreach",
   "metadata": {},
   "outputs": [],
   "source": [
    "def log2(n):\n",
    "    \"\"\"Return the largest integer power of 2 that does not exceed n\"\"\"\n",
    "    if n == 1:\n",
    "        return 0\n",
    "    else:\n",
    "        return 1 + log2(n//2)"
   ]
  },
  {
   "cell_type": "code",
   "execution_count": 9,
   "id": "arranged-composer",
   "metadata": {},
   "outputs": [
    {
     "name": "stdout",
     "output_type": "stream",
     "text": [
      "3\n",
      "6\n"
     ]
    }
   ],
   "source": [
    "print(log2(10))\n",
    "print(log2(100))"
   ]
  }
 ],
 "metadata": {
  "kernelspec": {
   "display_name": "Python 3",
   "language": "python",
   "name": "python3"
  },
  "language_info": {
   "codemirror_mode": {
    "name": "ipython",
    "version": 3
   },
   "file_extension": ".py",
   "mimetype": "text/x-python",
   "name": "python",
   "nbconvert_exporter": "python",
   "pygments_lexer": "ipython3",
   "version": "3.9.2"
  }
 },
 "nbformat": 4,
 "nbformat_minor": 5
}
