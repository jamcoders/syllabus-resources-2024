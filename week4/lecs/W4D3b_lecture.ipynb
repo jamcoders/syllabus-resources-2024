{
 "cells": [
  {
   "cell_type": "markdown",
   "id": "standing-background",
   "metadata": {
    "id": "standing-background"
   },
   "source": [
    "# Graph Traversals (Cont'd)\n",
    "\n",
    " The Implementation of DFS went by very quickly earlier today, so we'll take a second look with a few more examples."
   ]
  },
  {
   "cell_type": "code",
   "execution_count": 1,
   "id": "spanish-conservative",
   "metadata": {
    "id": "spanish-conservative",
    "slideshow": {
     "slide_type": "skip"
    }
   },
   "outputs": [],
   "source": [
    "%config InteractiveShell.ast_node_interactivity=\"none\""
   ]
  },
  {
   "cell_type": "code",
   "execution_count": 2,
   "id": "uniform-hammer",
   "metadata": {
    "id": "uniform-hammer",
    "slideshow": {
     "slide_type": "skip"
    }
   },
   "outputs": [],
   "source": [
    "%run boaz_utils.ipynb"
   ]
  },
  {
   "cell_type": "markdown",
   "id": "liked-subsection",
   "metadata": {
    "slideshow": {
     "slide_type": "slide"
    }
   },
   "source": [
    "## Trees\n",
    "A **tree** is an undirected graph that contains no cycles.  This means that every pair of nodes has a unique path between them.  This property makes it very suitable for trying to understand the DFS algorithm, because we do not need the visited dictionary.\n",
    "\n",
    "So we'll take a look at some computations on trees to see the power of recursion, as well as gain a little more insight into the DFS traversal.\n"
   ]
  },
  {
   "cell_type": "markdown",
   "id": "stretch-arrival",
   "metadata": {},
   "source": [
    "### A Binary Tree as a Directed Graph\n",
    "Let us consider directed graphs that otherwise resemble trees.  \n",
    "- Each node will have at most 2 out-neighbours.  \n",
    "- Each node will also have exactly 1 in-neighbour, except for one node called the **root**, which will have no in-neighbour. \n",
    "- A node with zero out-neighbours is called a **leaf**.\n",
    "\n",
    "Here are some examples of graphs that would be regarded as binary trees under this definition. (Developed collaboratively on the board during lecture)"
   ]
  },
  {
   "cell_type": "markdown",
   "id": "cleared-column",
   "metadata": {},
   "source": [
    "For expediency, let us use a list instead of a dictionary to represent the adjacency list of a graph.  Here, we'll assume that the nodes are indexed from 0 (and don't have names that the user knows about).\n",
    "\n",
    "(We are doing this just so that we can type in examples faster).\n",
    "\n",
    "For example:\n",
    "`[[1], [2, 3], [], []]` \n",
    "represents the graph $\\langle V, E\\rangle$, where:\n",
    "- $V = \\{0, 1, 2, 3\\}$\n",
    "- $E = \\{(0, 1), (1, 2), (1, 3) \\}$"
   ]
  },
  {
   "cell_type": "code",
   "execution_count": 3,
   "id": "capable-rover",
   "metadata": {},
   "outputs": [],
   "source": [
    "def graph_nodes(graph):\n",
    "    \"\"\"Return a list of all the nodes in graph\"\"\"\n",
    "    return range(len(graph))\n",
    "\n",
    "def graph_nbrs(graph, node):\n",
    "    \"\"\"Return a list of the neighbours of node\"\"\"\n",
    "    return graph[node]\n",
    "\n",
    "def graph_size(graph):\n",
    "    return len(graph)"
   ]
  },
  {
   "cell_type": "markdown",
   "id": "liberal-ocean",
   "metadata": {},
   "source": [
    "#### Count Descendants\n",
    "Let us develop a program to count the number of nodes reachable in the tree, from a given start node.\n",
    "\n",
    "In a tree, such reachable nodes are also called _descendants_ of the start node."
   ]
  },
  {
   "cell_type": "code",
   "execution_count": 4,
   "id": "pressing-nature",
   "metadata": {},
   "outputs": [],
   "source": [
    "def count_reachable(tree, node):\n",
    "    \"\"\"Return the number of nodes reachable from node in tree\"\"\"\n",
    "    nbrs = graph_nbrs(tree, node)\n",
    "    if len(nbrs) == 0:\n",
    "        return 1\n",
    "    elif len(nbrs) == 1:\n",
    "        return count_reachable(tree, nbrs[0]) + 1\n",
    "    else:\n",
    "        return count_reachable(tree, nbrs[0]) + \\\n",
    "               count_reachable(tree, nbrs[1]) + 1\n"
   ]
  },
  {
   "cell_type": "code",
   "execution_count": 5,
   "id": "practical-pleasure",
   "metadata": {},
   "outputs": [
    {
     "name": "stdout",
     "output_type": "stream",
     "text": [
      "4\n"
     ]
    }
   ],
   "source": [
    "g1 = [[1], [2, 3], [], []]\n",
    "print(count_reachable(g1, 0))  # Should print 4"
   ]
  },
  {
   "cell_type": "code",
   "execution_count": null,
   "id": "hispanic-radar",
   "metadata": {},
   "outputs": [],
   "source": [
    "g2 = [[1, 2], [3, 4], [5], [6, 7], [], [8, 9], [], [10], [], [], [11], []]\n",
    "print(count_reachable(g2, 0))  # Should print 12\n",
    "print(count_reachable(g2, 2))  # Should print 4"
   ]
  },
  {
   "cell_type": "code",
   "execution_count": 6,
   "id": "backed-appearance",
   "metadata": {},
   "outputs": [
    {
     "name": "stdout",
     "output_type": "stream",
     "text": [
      "7\n",
      "3\n"
     ]
    }
   ],
   "source": [
    "# Develop an example on the board together\n",
    "g0 = [[1, 2], [3, 4], [5], [], [], [6], []]\n",
    "print(count_reachable(g0, 0))\n",
    "print(count_reachable(g0, 1))"
   ]
  },
  {
   "cell_type": "markdown",
   "id": "advisory-disabled",
   "metadata": {},
   "source": [
    "#### Count Leaves\n",
    "Try to develop a program that would count the number of _leaves_ that were reachable from the root."
   ]
  },
  {
   "cell_type": "code",
   "execution_count": 8,
   "id": "mineral-passport",
   "metadata": {},
   "outputs": [],
   "source": [
    "def count_leaves(tree, node):\n",
    "    \"\"\"Return the number of leaves reachable from node in tree\"\"\"\n",
    "    nbrs = graph_nbrs(tree, node)\n",
    "    if len(nbrs) == 0:\n",
    "        return 1\n",
    "    elif len(nbrs) == 1:\n",
    "        return count_leaves(tree, nbrs[0])\n",
    "    else:\n",
    "        return count_leaves(tree, nbrs[0]) + \\\n",
    "               count_leaves(tree, nbrs[1])\n"
   ]
  },
  {
   "cell_type": "code",
   "execution_count": 9,
   "id": "weekly-regular",
   "metadata": {},
   "outputs": [
    {
     "name": "stdout",
     "output_type": "stream",
     "text": [
      "3\n"
     ]
    }
   ],
   "source": [
    "print(count_leaves(g0, 0))\n"
   ]
  },
  {
   "cell_type": "markdown",
   "id": "likely-passion",
   "metadata": {},
   "source": [
    "### General Trees\n",
    "\n",
    "If you have a general tree, how would you count the number of reachable nodes?"
   ]
  },
  {
   "cell_type": "code",
   "execution_count": null,
   "id": "complicated-township",
   "metadata": {},
   "outputs": [],
   "source": [
    "def count_reachable_gen(tree, node):\n",
    "    \"\"\"Return the number of nodes reachable from node\"\"\"\n",
    "    nbrs = graph_nbrs(tree, node)\n",
    "    if len(nbrs) == 0:\n",
    "        return 1\n",
    "    else:\n",
    "        count = 1\n",
    "        for nbr in nbrs:\n",
    "           count += count_reachable_gen(tree, nbr)\n",
    "        return count"
   ]
  },
  {
   "cell_type": "code",
   "execution_count": null,
   "id": "similar-wales",
   "metadata": {},
   "outputs": [],
   "source": [
    "print(count_reachable_gen(g1, 0))  # Should be 4"
   ]
  },
  {
   "cell_type": "code",
   "execution_count": null,
   "id": "rocky-syria",
   "metadata": {
    "scrolled": true
   },
   "outputs": [],
   "source": [
    "print(count_reachable_gen(g2, 0))  # Should still be 12"
   ]
  },
  {
   "cell_type": "code",
   "execution_count": null,
   "id": "victorian-vintage",
   "metadata": {},
   "outputs": [],
   "source": [
    "g3 = [[1, 2, 3], [4], [5, 6], [7], [8], [], [], [], []]\n",
    "print(count_reachable_gen(g3, 0))  # Should print 9"
   ]
  },
  {
   "cell_type": "markdown",
   "id": "certified-concern",
   "metadata": {},
   "source": [
    "Observe how there is a recursive call _inside_ a for loop in `count_reachable_gen`.  It seems scary at first if we come at it without preparation, but when we see how we built up to it, we can recognise the for loop as generalizing over the number of out-neighbours, and the recursive call is just the wishful thinking that we are carrying out per out-neighbour.\n",
    "\n",
    "What else we do inside and outside of the for loop is all about putting together the results of those \"wishful thinking\" processes (ie recursive calls) to produce the final answer that we were after. "
   ]
  },
  {
   "cell_type": "markdown",
   "id": "better-anchor",
   "metadata": {},
   "source": [
    "## DFS Implementation\n",
    "Now we are ready to re-examine the DFS implementation. \n",
    "\n",
    "Here is the main code from earlier:"
   ]
  },
  {
   "cell_type": "code",
   "execution_count": null,
   "id": "executed-mayor",
   "metadata": {},
   "outputs": [],
   "source": [
    "def init_visited(graph):\n",
    "    \"\"\"Return a dictionary mapping each node in graph to False \"\"\"\n",
    "    result = {}\n",
    "    for node in graph_nodes(graph):\n",
    "        result[node] = False\n",
    "    return result\n",
    "\n",
    "# This is just to get started\n",
    "def dfs_find_reachable(g, start):\n",
    "    visited = init_visited(g)\n",
    "    reachable = []\n",
    "    dfs_explore_reachable(g, start, visited, reachable)\n",
    "    return reachable\n",
    "\n",
    "# This one will do the hard work\n",
    "def dfs_explore_reachable(g, node, visited, reachable):\n",
    "    visited[node] = True\n",
    "    reachable.append(node)\n",
    "    for nbr in graph_nbrs(g, node):\n",
    "        if not visited[nbr]:\n",
    "            dfs_explore_reachable(g, nbr, visited, reachable)"
   ]
  },
  {
   "cell_type": "markdown",
   "id": "threatened-hearing",
   "metadata": {
    "id": "threatened-hearing"
   },
   "source": [
    "### Discussion\n",
    "\n",
    "Counting reachable nodes is the same thing as exploring, but we are also keeping track of a count.  In our discussion so far, we have limited ourselves to trees, which did not have cycles, so it was impossible to revisit the same node twice, if we started out on different out-neighbours from the root.\n",
    "\n",
    "In a general graph, this will not be the case though.  It might be possible that if we start at one node, $u$, and explore from its first out-neighbour, we could get to some node $v$; and then later, when exploring from $u$'s second out-neighbour, we also get to the same node $v$.  If we counted reachable nodes in the way we did for trees, we would end up double counting $v$.  So, to avoid this, we have to keep track of a \"register\" of which nodes have already been visited.  We need to make sure that it is available to every recursive call, so that as it is updated, other recursive calls see those updates.\n",
    "\n",
    "Looking back at our DFS implementation, we can see a strong similarity to the process for counting reachable nodes. The main difference is the existence of a record of the nodes that have been visited (the `visited` dictionary), which is passed to every recursive call.  Notice also that we consult that record to avoid making the recursive call at any out-neighbours that have already been accounted for (i.e. visited)."
   ]
  },
  {
   "cell_type": "markdown",
   "id": "voluntary-killing",
   "metadata": {},
   "source": [
    "## Binary Tree Abstraction\n",
    "- A fundamental data structure in computer science.\n",
    "- Many other data structures built on top of it\n",
    "- Offers opportunity for $O(\\log n)$ time performance instead of $O(n)$ for some problems.\n",
    "\n",
    "### Definition\n",
    "- Either:\n",
    "  - Empty, OR\n",
    "  - Contains a node (the root) AND 2 sub-trees (each of which is also a Binary Tree)\n",
    "\n",
    "(A _binary tree_ is a **recursive data structure**.)\n",
    "  \n",
    "### Application\n",
    "- Used to organise information\n",
    "- Node \"contains\" useful data (e.g. key of a dictionary)\n",
    "- Node is anonymous (unlike general graph)"
   ]
  },
  {
   "cell_type": "markdown",
   "id": "preceding-analysis",
   "metadata": {},
   "source": [
    "## Cautionary Note\n",
    "This approach to implementing a binary tree is **unconventional**. Since binary trees are restricted versions of graphs, we can use much simpler building blocks to implement them.\n",
    "\n",
    "Nevertheless, the exercise here can be a valuable lesson in the power of abstraction."
   ]
  },
  {
   "cell_type": "markdown",
   "id": "common-campus",
   "metadata": {},
   "source": [
    "## An ADT for Binary Trees\n",
    "Having already developed code to handle general graphs, we could build an abstraction for Binary Trees on top of our implementation of graphs.\n",
    "\n",
    "We can define functions that would encourage a user of our version of binary trees to not focus on the fact that we are building on top of a more general representation (i.e. for general graphs).\n",
    "\n",
    "### Operations supported by Binary Trees\n",
    "- **Constructor**: \n",
    "  - `mk_binary_tree(root_value, left_subtree, right_subtree)`\n",
    "     - (We'll assume we get a populated tree via a graph, so we won't bother with this)\n",
    "  - `graph2tree(graph, root, values)`: Treat the graph as a binary tree rooted at the given node. `values` is a list associating the node indexes with their data.\n",
    "- **Selectors**:\n",
    "  - `root(tree)`: return the root value of tree\n",
    "  - `left_subtree(tree)`: return the left subtree of tree\n",
    "  - `right_subtree(tree)`: return the right subtree of tree\n",
    "- **Predicates**:\n",
    "  - `is_empty(tree): return True if the tree is empty\n",
    "- **Constants**:\n",
    "  - `EMPTY`  (the empty tree)\n",
    "  "
   ]
  },
  {
   "cell_type": "code",
   "execution_count": null,
   "id": "deluxe-seattle",
   "metadata": {},
   "outputs": [],
   "source": [
    "# Complete the following ADT functions\n",
    "def graph2tree(graph, node, values):\n",
    "    \"\"\"Given the neighbours of a node, return the one on its left\"\"\"\n",
    "    pass\n",
    "\n",
    "def root(tree):\n",
    "    \"\"\"Given the neighbours of a node, return the one on its right\"\"\"\n",
    "    pass\n",
    "\n",
    "def left_subtree(tree):\n",
    "    pass\n",
    "\n",
    "def right_subtree(tree):\n",
    "    pass\n",
    "\n",
    "def is_leaf(tree):\n",
    "    pass\n",
    "\n"
   ]
  },
  {
   "cell_type": "markdown",
   "id": "manufactured-truth",
   "metadata": {},
   "source": [
    "In our context, we are assuming we have an underlying graph, so the tree would never technically be empty, but we still need to implement `is_empty` so that algorithms that depend upon it would still work. Can you think of a way to represent the empty tree, and therefore to implement `is_empty`? \n",
    "\n",
    "(Hint: There are many possible good answers)"
   ]
  },
  {
   "cell_type": "code",
   "execution_count": null,
   "id": "professional-championship",
   "metadata": {},
   "outputs": [],
   "source": [
    "# EMPTY = ???\n",
    "\n",
    "def is_empty(tree):\n",
    "    pass"
   ]
  }
 ],
 "metadata": {
  "celltoolbar": "Slideshow",
  "colab": {
   "provenance": []
  },
  "kernelspec": {
   "display_name": "jamcoders",
   "language": "python",
   "name": "jamcoders"
  },
  "language_info": {
   "codemirror_mode": {
    "name": "ipython",
    "version": 3
   },
   "file_extension": ".py",
   "mimetype": "text/x-python",
   "name": "python",
   "nbconvert_exporter": "python",
   "pygments_lexer": "ipython3",
   "version": "3.9.2"
  }
 },
 "nbformat": 4,
 "nbformat_minor": 5
}
