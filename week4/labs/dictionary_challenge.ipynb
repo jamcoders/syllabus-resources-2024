{
 "cells": [
  {
   "cell_type": "code",
   "execution_count": null,
   "metadata": {},
   "outputs": [],
   "source": [
    "# Always run this code.\n",
    "%config InteractiveShell.ast_node_interactivity=\"none\"\n",
    "import sys\n",
    "if 'google.colab' in sys.modules:\n",
    "  !eval \"$(echo \"cGlwIGluc3RhbGwgLS1mb3JjZS1yZWluc3RhbGwgZ2l0K2h0dHBzOi8vZ2l0aHViLmNvbS9qYW1jb2RlcnMvamFtY29kZXJzLXB1YmxpYy0yMDI0LmdpdCAtLXF1aWV0Cg==\" | base64 -d)\"\n",
    "  !pip install sympy\n",
    "  !pip install numpy\n",
    "from jamcoders.base_utils import *"
   ]
  },
  {
   "cell_type": "markdown",
   "metadata": {},
   "source": [
    "# Two Sum\n",
    "\n",
    "Source: LeetCode\n",
    "\n",
    "Given an array of integers `nums` and an integer `target`, return indices of the two numbers such that they add up to `target`.\n",
    "\n",
    "You may assume that each input would have **exactly one** solution, and you may not use the same element twice.\n",
    "\n",
    "You can return the answer in any order.\n",
    "\n",
    "Example 1:\n",
    "\n",
    "> Input: nums = [2,7,11,15], target = 9\n",
    "> \n",
    "> Output: [0,1]\n",
    "> \n",
    "> Explanation: Because nums[0] + nums[1] == 9, we return [0, 1].\n",
    "\n",
    "Example 2:\n",
    "> Input: nums = [3,2,4], target = 6\n",
    "> \n",
    "> Output: [1,2]\n",
    "\n",
    "Example 3:\n",
    "> Input: nums = [3,3], target = 6\n",
    "> \n",
    "> Output: [0,1]"
   ]
  },
  {
   "cell_type": "code",
   "execution_count": null,
   "metadata": {},
   "outputs": [],
   "source": [
    "def twoSum(nums, target):\n",
    "    pass\n",
    "\n",
    "assert_equal(got=sorted(twoSum([2,7,11,15], 9)), want=[0,1])\n",
    "assert_equal(got=sorted(twoSum([3,2,4], 6)), want=[1,2])\n",
    "assert_equal(got=sorted(twoSum([3,3], 6)), want=[0,1])"
   ]
  },
  {
   "cell_type": "markdown",
   "metadata": {},
   "source": [
    "# Longest Substring Without Repeating Characters\n",
    "\n",
    "Source: LeetCode\n",
    "\n",
    "Given a string s, find the length of the longest substring without repeating characters.\n",
    "\n",
    "Example 1:\n",
    "\n",
    "> Input: s = \"abcabcbb\"\n",
    "> \n",
    "> Output: 3\n",
    "> \n",
    "> Explanation: The answer is \"abc\", with the length of 3.\n",
    "\n",
    "\n",
    "Example 2:\n",
    "\n",
    "> Input: s = \"bbbbb\"\n",
    "> \n",
    "> Output: 1\n",
    "> \n",
    "> Explanation: The answer is \"b\", with the length of 1.\n",
    "\n",
    "Example 3:\n",
    "\n",
    "> Input: s = \"pwwkew\"\n",
    "> \n",
    "> Output: 3\n",
    "> \n",
    "> Explanation: The answer is \"wke\", with the length of 3.\n",
    "\n",
    "Notice that the answer must be a substring, \"pwke\" is a subsequence and not a substring."
   ]
  },
  {
   "cell_type": "code",
   "execution_count": null,
   "metadata": {},
   "outputs": [],
   "source": [
    "def lengthOfLongestSubstring(s: str) -> int:\n",
    "    pass\n",
    "\n",
    "assert_equal(got=lengthOfLongestSubstring(\"abcabcbb\"), want=3)\n",
    "assert_equal(got=lengthOfLongestSubstring(\"bbbbb\"), want=1)\n",
    "assert_equal(got=lengthOfLongestSubstring(\"pwwkew\"), want=3)"
   ]
  },
  {
   "cell_type": "markdown",
   "metadata": {},
   "source": [
    "# Longest Consecutive Sequence\n",
    "\n",
    "Source: LeetCode\n",
    "\n",
    "Given an unsorted array of integers nums, return the length of the longest consecutive elements sequence.\n",
    "\n",
    "You must write an algorithm that runs in O(n) time.\n",
    "\n",
    "\n",
    "Example 1:\n",
    "\n",
    "> Input: nums = [100,4,200,1,3,2]\n",
    "> \n",
    "> Output: 4\n",
    "> \n",
    "> Explanation: The longest consecutive elements sequence is [1, 2, 3, 4]. Therefore its length is 4.\n",
    "\n",
    "Example 2:\n",
    "\n",
    "> Input: nums = [0,3,7,2,5,8,4,6,0,1]\n",
    "> \n",
    "> Output: 9"
   ]
  },
  {
   "cell_type": "code",
   "execution_count": null,
   "metadata": {},
   "outputs": [],
   "source": [
    "def longestConsecutive(nums) -> int:\n",
    "    pass\n",
    "\n",
    "assert_equal(got=longestConsecutive([100, 4, 200, 1, 3, 2]), want=4)\n",
    "assert_equal(got=longestConsecutive([0,3,7,2,5,8,4,6,0,1]), want=9)"
   ]
  },
  {
   "cell_type": "markdown",
   "metadata": {},
   "source": []
  }
 ],
 "metadata": {
  "kernelspec": {
   "display_name": "jamcoders",
   "language": "python",
   "name": "python3"
  },
  "language_info": {
   "name": "python",
   "version": "3.10.14"
  }
 },
 "nbformat": 4,
 "nbformat_minor": 2
}
