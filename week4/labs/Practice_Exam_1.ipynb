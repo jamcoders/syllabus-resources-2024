{
  "cells": [
    {
      "cell_type": "markdown",
      "metadata": {
        "id": "SVtxpTZ5CMuS"
      },
      "source": [
        "**Practice exam notes**:\n",
        "\n",
        "1. Solve all questions on paper. These are exam-style questions. You are supposed to practice debugging these questions without running them on your laptop\n",
        "\n",
        "2. Try working on all of the questions alone first. No one can help you during the exam. You can go through all the questions with your big sibs and everyone else after.\n",
        "\n",
        "3. The questions are in the medium to hard difficulty level. Don’t worry if you struggle to solve them. They are also not ordered by level of difficulty so feel free to skip questions if you get stuck on something for too long."
      ]
    },
    {
      "cell_type": "markdown",
      "metadata": {
        "id": "2AlZs90KNpor"
      },
      "source": [
        "## What Would Python Do \\#1 ⭐⭐⭐"
      ]
    },
    {
      "cell_type": "markdown",
      "metadata": {
        "id": "neNPAS7CQQ8k"
      },
      "source": [
        "Running the following lines of code, what will be printed?\n",
        "\n",
        "```python\n",
        "def mystery(lst):\n",
        "    s = 0\n",
        "    for item in lst:\n",
        "        if type(item) == list:\n",
        "            s += mystery(item)\n",
        "        else:\n",
        "            s += item\n",
        "    return s\n",
        "\n",
        "print(mystery([2, [4, 6], [[0, 2], 3], 1]))\n",
        "\n",
        "```"
      ]
    },
    {
      "cell_type": "code",
      "execution_count": null,
      "metadata": {
        "id": "44kiT-BjQqVX"
      },
      "outputs": [],
      "source": [
        "# YOUR ANSWER HERE"
      ]
    },
    {
      "cell_type": "markdown",
      "metadata": {
        "id": "jF0r_uJ-PO2B"
      },
      "source": [
        "## What Would Python Do \\#2 ⭐\n"
      ]
    },
    {
      "cell_type": "markdown",
      "metadata": {
        "id": "kTnSfJLhQWqy"
      },
      "source": [
        "```python\n",
        "def ping(i):\n",
        "    if i < 0:\n",
        "        return\n",
        "    print(i)\n",
        "    return pong(i-1)\n",
        "\n",
        "def pong(i):\n",
        "    if i < 0:\n",
        "        return\n",
        "    return ping(i-2)\n",
        "\n",
        "```\n",
        "\n",
        "What will be printed after we run..\n",
        "```python\n",
        "ping(10)\n",
        "```"
      ]
    },
    {
      "cell_type": "code",
      "execution_count": null,
      "metadata": {
        "id": "IpM94G5NQtAs"
      },
      "outputs": [],
      "source": [
        "#YOUR ANSWER HERE"
      ]
    },
    {
      "cell_type": "markdown",
      "metadata": {
        "id": "dtKQtBwIQvFn"
      },
      "source": [
        "What about..\n",
        "```python\n",
        "pong(10)\n",
        "```"
      ]
    },
    {
      "cell_type": "code",
      "execution_count": null,
      "metadata": {
        "id": "vkQZWl1KQ3CM"
      },
      "outputs": [],
      "source": [
        "#YOUR ANSWER HERE"
      ]
    },
    {
      "cell_type": "markdown",
      "metadata": {
        "id": "V1m5IaUKTCSl"
      },
      "source": [
        "## What Would Python Do \\#3 ⭐⭐\n"
      ]
    },
    {
      "cell_type": "markdown",
      "metadata": {
        "id": "AiaKfWTqQhFI"
      },
      "source": [
        "\n",
        "Running the following lines of code, what will be printed?\n",
        "\n",
        "```python\n",
        "def super_mystery(n):\n",
        "    a = False\n",
        "    while n > 0:\n",
        "        print(n)\n",
        "        if a:\n",
        "            n = n + 1\n",
        "        else:\n",
        "            n = n - 4\n",
        "        a = not a\n",
        "\n",
        "super_mystery(6)\n",
        "    \n",
        "```"
      ]
    },
    {
      "cell_type": "code",
      "execution_count": null,
      "metadata": {
        "id": "_Ogb2yKEURBY"
      },
      "outputs": [],
      "source": [
        "#YOUR ANSWER HERE"
      ]
    },
    {
      "cell_type": "markdown",
      "metadata": {
        "id": "XAxUrU1cVhNR"
      },
      "source": [
        "## Fill in the Blanks \\#1 ⭐⭐⭐"
      ]
    },
    {
      "cell_type": "markdown",
      "metadata": {
        "id": "QncEgUVrQmSC"
      },
      "source": [
        "Fill in the function `string_permutations` which takes in a string `s` and returns a list of all permutations of the string `s`.\n",
        "\n",
        "For example\n",
        "\n",
        "`string_permutations('abc')` should return `['abc', 'acb', 'bac', 'bca', 'cab', 'cba']`"
      ]
    },
    {
      "cell_type": "code",
      "execution_count": null,
      "metadata": {
        "id": "SDFwic3lV_6x"
      },
      "outputs": [],
      "source": [
        "def string_permutations(s):\n",
        "    if len(s) == __________:\n",
        "        return [s]\n",
        "\n",
        "    permutations = []\n",
        "    for i in range(len(s)):\n",
        "        first_char = __________\n",
        "\n",
        "        # Generate all permutations of the remaining characters\n",
        "        remaining_chars = s[__________] + s[__________]\n",
        "        remaining_permutations = __________(remaining_chars)\n",
        "\n",
        "        # Combine the first character with each permutation of the remaining characters\n",
        "        for perm in remaining_permutations:\n",
        "            permutations.append(first_char + perm)\n",
        "\n",
        "    return permutations"
      ]
    },
    {
      "cell_type": "markdown",
      "metadata": {
        "id": "uyamGQrWL8VW"
      },
      "source": [
        "## Three-bonacci on steroids ⭐⭐⭐\n"
      ]
    },
    {
      "cell_type": "markdown",
      "metadata": {
        "id": "o-oxlbSwP8bF"
      },
      "source": [
        "The ith number of the Three-bonacci sequence is defined by:\n",
        "\n",
        "$$x_i = (x_{i-1})^3 + (2* x_{i-2}) + x_{i-3}$$\n",
        "$$x_0 = 1, x_1 = 2,x_2 = 1$$\n",
        "\n",
        "\n",
        "Write the function `threebo(n)` which takes in an integer `n` and returns $x_n$, the nth number in the three-bonacci sequence"
      ]
    },
    {
      "cell_type": "code",
      "execution_count": null,
      "metadata": {
        "id": "C8Gk21DwNO9B"
      },
      "outputs": [],
      "source": [
        "def threebo(n):\n",
        "# YOUR CODE HERE\n"
      ]
    },
    {
      "cell_type": "markdown",
      "metadata": {
        "id": "6WQgC2PgKBD5"
      },
      "source": [
        "## Lazy Susan ⭐⭐\n"
      ]
    },
    {
      "cell_type": "markdown",
      "metadata": {
        "id": "YBVw8mVSQCdj"
      },
      "source": [
        "Timnit and a couple of TAs eat out at a Chinese restuarant with a round table. In order to pass food around most efficiently, we want to write a function, `shortest_distance(seating, staff1, staff2)`. The function takes in a list of strings (`seating`) and 2 strings (`staff1` and `staff2`) and returns an integer representing the shortest distance to pass food from `staff1` to `staff2` given the `seating` configuration.\n",
        "\n",
        "The important thing to note here is that the list wraps around itself, meaning that the person at `seating[0]` and `seating[-1]` sits next to each other.\n",
        "\n",
        "For example,\n",
        "```python\n",
        "seating = [\"Orr\", \"Tarun\", \"Timnit\", \"Zaria\", \"Anita\", \"James\", \"Liam\", \"Xavier\", \"Ecy\"]\n",
        "```\n",
        "`shortest_distance(seating, \"Zaria\", \"Tarun\")` would return `2` since the food can be passed as such: Zaria->Timnit->Tarun\n",
        "\n",
        "`shortest_distance(seating, \"Ecy\", \"Tarun\")` would also return `2` since the food can be passed as such: Ecy->Orr->Tarun\n",
        "\n",
        "Please help us get our food quickly 👉👈 🤤"
      ]
    },
    {
      "cell_type": "code",
      "execution_count": null,
      "metadata": {
        "id": "y_TvPVd0Oylf"
      },
      "outputs": [],
      "source": [
        "def shortest_distance(seating, staff1, staff2):\n",
        "    # YOUR CODE HERE"
      ]
    },
    {
      "cell_type": "markdown",
      "metadata": {
        "id": "IJX4us6rVWUa"
      },
      "source": [
        "## The Hailstone Sequence ⭐⭐"
      ]
    },
    {
      "cell_type": "markdown",
      "metadata": {
        "id": "IAJi_QpcR84N"
      },
      "source": [
        "The function `hailstone(n)` takes in an integer (`n`) as input and outputs a list containing the hailstone sequence starting at n and ending at 1. The hailstone sequence is defined by the following rules:\n",
        "0. $x_i$ represents the ith number in the hailstone sequence\n",
        "1. If $x_i$ is an odd number $x_{i+1} = (3*x_i) +1$\n",
        "2. If $x_i$ is an even number $x_{i+1} = \\frac{x_i}{2}$\n",
        "3. The sequence ends as soon as it encounters the first 1.\n",
        "\n",
        "For example,\n",
        "\n",
        "`hailstone(12)` should return `[12, 6, 3, 10, 5, 16, 8, 4, 2, 1]`\n",
        "\n",
        "`hailstone(13)` should return `[13, 40, 20, 10, 5, 16, 8, 4, 2, 1]`"
      ]
    },
    {
      "cell_type": "code",
      "execution_count": null,
      "metadata": {
        "id": "TfVVwdmUVYO1"
      },
      "outputs": [],
      "source": [
        "def hailstone(n):\n",
        "    # YOUR CODE HERE"
      ]
    },
    {
      "cell_type": "markdown",
      "metadata": {
        "id": "b0yV3c37a0Kw"
      },
      "source": [
        "## Big X ⭐⭐⭐\n",
        "\n"
      ]
    },
    {
      "cell_type": "markdown",
      "metadata": {
        "id": "u8BBri6CQI9g"
      },
      "source": [
        "\n",
        "Write the function `big_x(n, canvas)` which takes in an number `n` and a list of list of empty strings `canvas` of size $n*n$. The function edits the list of lists such that 'X's are in the positions forming a larger X. The function returns `None`.\n",
        "\n",
        "For example, running\n",
        "\n",
        "```python\n",
        "c = [['','',''],\n",
        "['','',''],\n",
        "['','','']]\n",
        "\n",
        "big_x(3, c)\n",
        "```\n",
        "will change `c` to\n",
        "```python\n",
        "[['X','','X'],\n",
        "['','X',''],\n",
        "['X','','X']]\n",
        "```\n",
        "and\n",
        "```python\n",
        "s = [['','','','','',''],\n",
        "['','','','','',''],\n",
        "['','','','','',''],\n",
        "['','','','','',''],\n",
        "['','','','','',''],\n",
        "['','','','','','']]\n",
        "\n",
        "big_x(6, s)\n",
        "```\n",
        "will change `s` to\n",
        "```python\n",
        "[['X','','','','','X'],\n",
        "['','X','','','X',''],\n",
        "['','','X','X','',''],\n",
        "['','','X','X','',''],\n",
        "['','X','','','X',''],\n",
        "['X','','','','','X']]\n",
        "```"
      ]
    },
    {
      "cell_type": "code",
      "execution_count": null,
      "metadata": {
        "id": "xrMXGQgWL7f9"
      },
      "outputs": [],
      "source": [
        "def big_x(n, canvas):\n",
        "    # YOUR CODE HERE\n"
      ]
    },
    {
      "cell_type": "markdown",
      "metadata": {
        "id": "fuOZyTjkYhFu"
      },
      "source": [
        "## BiggO ⭐⭐"
      ]
    },
    {
      "cell_type": "markdown",
      "metadata": {
        "id": "-MjzRm14ZkhR"
      },
      "source": [
        "```python\n",
        "for i in range(n):\n",
        "    x = i\n",
        "    for j in range(n):\n",
        "        y = i + j\n",
        "\n",
        "while n > 0:\n",
        "    n -= 2\n",
        "    n //= 2\n",
        "```\n",
        "What is the aymptotic runtime of the code above with respect to `n`?\n",
        "\n",
        "- $O(log(n))$\n",
        "- $O(n)$\n",
        "- $O(nlog(n))$\n",
        "- $O(n^2)$\n"
      ]
    },
    {
      "cell_type": "code",
      "execution_count": null,
      "metadata": {},
      "outputs": [],
      "source": []
    },
    {
      "cell_type": "markdown",
      "metadata": {
        "id": "BW6iApPizQia"
      },
      "source": [
        "## BiggerO ⭐⭐⭐"
      ]
    },
    {
      "cell_type": "markdown",
      "metadata": {
        "id": "79s5cu8muZed"
      },
      "source": [
        "```python\n",
        "m = 0\n",
        "for i in range(5):\n",
        "    for j in range(n):\n",
        "        for k in range(j):\n",
        "            m = m + 1\n",
        "```\n",
        "What is the aymptotic runtime of the code above with respect to `n`?\n",
        "\n",
        "- $O(log(n))$\n",
        "- $O(n)$\n",
        "- $O(n^2)$\n",
        "- $O(n^3)$"
      ]
    },
    {
      "cell_type": "code",
      "execution_count": null,
      "metadata": {},
      "outputs": [],
      "source": []
    },
    {
      "cell_type": "markdown",
      "metadata": {
        "id": "eyIImjRAzTId"
      },
      "source": [
        "## BiggestO ⭐⭐⭐⭐"
      ]
    },
    {
      "cell_type": "markdown",
      "metadata": {
        "id": "PJH1FybywAV8"
      },
      "source": [
        "Assuming we use the function `binary_search(lst, item)` performs the binary search algorithm we learned in class.\n",
        "\n",
        "```python\n",
        "for i in range(n):\n",
        "    j = 100000\n",
        "    while j > 0:\n",
        "        binary_search([2,3,4,5], 5)\n",
        "        j //= 2\n",
        "```\n",
        "What is the aymptotic runtime of the code above with respect to `n`?\n",
        "\n",
        "- $O(log(n))$\n",
        "- $O(n)$\n",
        "- $O(nlog(n))$\n",
        "- $O(n(log(n))^2)$"
      ]
    },
    {
      "cell_type": "code",
      "execution_count": null,
      "metadata": {},
      "outputs": [],
      "source": []
    },
    {
      "cell_type": "markdown",
      "metadata": {
        "id": "Z10z449FMXpi"
      },
      "source": [
        "## MegaO ⭐⭐⭐\n",
        "Assuming we use the function `selectionSort(L)` performs the selection sort algorithm we learned in class. What is the time complexity of `selectionSort(L)` when `L` is a list of length n.\n",
        "\n",
        "- $O(n)$\n",
        "- $O(nlog(n))$\n",
        "- $O(n^2)$\n",
        "- $O(n^2log(n))$"
      ]
    },
    {
      "cell_type": "code",
      "execution_count": null,
      "metadata": {},
      "outputs": [],
      "source": []
    },
    {
      "cell_type": "markdown",
      "metadata": {
        "id": "wPPYPvRUNQzU"
      },
      "source": [
        "\n",
        "Assuming we use the function `mergeSort(L)` performs the merge sort algorithm we learned in class. What is the time complexity of `mergeSort(L)` when `L` is a list of length n.\n",
        "\n",
        "- $O(log(n))$\n",
        "- $O(n)$\n",
        "- $O(nlog(n))$\n",
        "- $O(n^2)$"
      ]
    },
    {
      "cell_type": "code",
      "execution_count": null,
      "metadata": {},
      "outputs": [],
      "source": []
    }
  ],
  "metadata": {
    "colab": {
      "provenance": []
    },
    "kernelspec": {
      "display_name": "Python 3",
      "name": "python3"
    },
    "language_info": {
      "name": "python"
    }
  },
  "nbformat": 4,
  "nbformat_minor": 0
}
