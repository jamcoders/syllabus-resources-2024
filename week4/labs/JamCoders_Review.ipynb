{
 "cells": [
  {
   "cell_type": "code",
   "execution_count": null,
   "metadata": {},
   "outputs": [],
   "source": [
    "# Always run this code.\n",
    "%config InteractiveShell.ast_node_interactivity=\"none\"\n",
    "import sys\n",
    "if 'google.colab' in sys.modules:\n",
    "  !eval \"$(echo \"cGlwIGluc3RhbGwgLS1mb3JjZS1yZWluc3RhbGwgZ2l0K2h0dHBzOi8vZ2l0aHViLmNvbS9qYW1jb2RlcnMvamFtY29kZXJzLXB1YmxpYy0yMDI0LmdpdCAtLXF1aWV0Cg==\" | base64 -d)\"\n",
    "  !pip install sympy\n",
    "  !pip install numpy\n",
    "\n",
    "import sympy\n",
    "from sympy import Symbol, Function, log, sympify\n",
    "from jamcoders.week3.review2024 import *\n",
    "from jamcoders.base_utils import *\n",
    "\n",
    "create_solution_functions()"
   ]
  },
  {
   "cell_type": "markdown",
   "metadata": {},
   "source": [
    "# 2024 JamCoders Review\n",
    "\n",
    "We've covered a lot of topics in these past few weeks of camp! Today is our last day of official class :(( \n",
    "    \n",
    "We want to give you the opportunity to review everything, starting from the very beginning! There might be some things you are a little shaky on or have forgotten, which is fine - the goal of today is to let you take another look at all of these topics. In the future, you can come back to this notebook if you want to gain a refresher on the kinds of techniques you might use to accomplish particular tasks.\n",
    "\n",
    "1. Try to solve all questions on paper first. This review contains some of the more straightforward exam-style questions you might see, and the goal is for you to be able to arrive at the solution by effectively thinking through the problem. Practice debugging these questions without running them on your laptop. You can verify your answers by coding them up.\n",
    "\n",
    "2. Try working on all of the questions alone first. You can ask for help from TAs after you have made a reasonable attempt at the problems.\n",
    "\n",
    "3. The questions are organized by topic. Feel free to pick and choose the topics you feel most unsure about."
   ]
  },
  {
   "cell_type": "markdown",
   "metadata": {},
   "source": [
    "# Table of Contents  \n",
    "\n",
    "1. **[Mathematical Operations](#1)**\n",
    "2. **[Types](#2)**\n",
    "3. **[Boolean Operators and Conditionals](#3)**\n",
    "4. **[Functions](#4)**\n",
    "5. **[Lists](#5)**\n",
    "6. **[Loops](#6)**\n",
    "7. **[Recursion](#7)**\n",
    "8. **[Binary Search](#8)**\n",
    "9. **[Sorting](#9)**\n",
    "10. **[Time Complexity](#10)**\n",
    "11. **[Dictionaries](#11)**"
   ]
  },
  {
   "cell_type": "markdown",
   "metadata": {},
   "source": [
    "<a name=\"0\"></a>\n",
    "# 0. The Basics\n",
    "\n",
    "If we're doing a review, we have to start at the very beginning, with concepts you are probably well-versed with by now. See how far you've come!!"
   ]
  },
  {
   "cell_type": "markdown",
   "metadata": {},
   "source": [
    "## 0.1\n",
    "\n",
    "Let's start with displaying things on the screen. Write code to print out your name."
   ]
  },
  {
   "cell_type": "code",
   "execution_count": null,
   "metadata": {},
   "outputs": [],
   "source": [
    "# YOUR ANSWER HERE\n"
   ]
  },
  {
   "cell_type": "markdown",
   "metadata": {},
   "source": [
    "## 0.2\n",
    "\n",
    "An important thing that computers do is store values. Create a variable that stores your name, and print it out."
   ]
  },
  {
   "cell_type": "code",
   "execution_count": null,
   "metadata": {},
   "outputs": [],
   "source": [
    "# YOUR ANSWER HERE\n"
   ]
  },
  {
   "cell_type": "markdown",
   "metadata": {},
   "source": [
    "<a name=\"1\"></a>\n",
    "# 1. Mathematical Operations\n",
    "\n",
    "Python allows you to work with numbers and perform arithmetic with them! \n",
    "\n",
    "```python\n",
    "x = 3\n",
    "x += 6 # This is the same as x = x + 6\n",
    "x *= 2 # This is the same as x = x * 2\n",
    "\n",
    "print(x)\n",
    ">> 18\n",
    "```\n",
    "\n",
    "Let's try determining the outputs of the following blocks of code:"
   ]
  },
  {
   "cell_type": "markdown",
   "metadata": {},
   "source": [
    "## 1.1\n",
    "\n",
    "Running the following lines of code, what will be printed?\n",
    "\n",
    "```python\n",
    "x = 3\n",
    "x += 2\n",
    "x = x + 3\n",
    "x *= 10\n",
    "\n",
    "print(x)\n",
    "```"
   ]
  },
  {
   "cell_type": "code",
   "execution_count": null,
   "metadata": {},
   "outputs": [],
   "source": [
    "# YOUR ANSWER HERE\n",
    "printed = \n",
    "\n",
    "check_answer1_1(printed)"
   ]
  },
  {
   "cell_type": "markdown",
   "metadata": {},
   "source": [
    "## 1.2\n",
    "\n",
    "The division with one division sign `/` will perform precise division and return a decimal result.\n",
    "\n",
    "Running the following lines of code, what will be printed?\n",
    "\n",
    "```python\n",
    "x = 4\n",
    "y = 3\n",
    "x /= y + 2\n",
    "\n",
    "print(x)\n",
    "```"
   ]
  },
  {
   "cell_type": "code",
   "execution_count": null,
   "metadata": {},
   "outputs": [],
   "source": [
    "# YOUR ANSWER HERE\n",
    "printed = \n",
    "\n",
    "check_answer1_2(printed)"
   ]
  },
  {
   "cell_type": "markdown",
   "metadata": {},
   "source": [
    "## 1.3\n",
    "\n",
    "Two slashes `//` will perform integer division and will return an integer result, discarding the remainder.\n",
    "\n",
    "Running the following lines of code, what will be printed?\n",
    "\n",
    "```python\n",
    "x = 14\n",
    "x //= 5\n",
    "\n",
    "print(x)\n",
    "```"
   ]
  },
  {
   "cell_type": "code",
   "execution_count": null,
   "metadata": {},
   "outputs": [],
   "source": [
    "# YOUR ANSWER HERE\n",
    "printed = \n",
    "\n",
    "check_answer1_3(printed)"
   ]
  },
  {
   "cell_type": "markdown",
   "metadata": {},
   "source": [
    "## 1.4\n",
    "\n",
    "The modulo `%` operator will return the remainder.\n",
    "\n",
    "Running the following lines of code, what will be printed?\n",
    "\n",
    "```python\n",
    "x = 4\n",
    "x %= 3\n",
    "\n",
    "print(x)\n",
    "```"
   ]
  },
  {
   "cell_type": "code",
   "execution_count": null,
   "metadata": {},
   "outputs": [],
   "source": [
    "# YOUR ANSWER HERE\n",
    "printed = \n",
    "\n",
    "check_answer1_4(printed)"
   ]
  },
  {
   "cell_type": "markdown",
   "metadata": {},
   "source": [
    "## 1.5\n",
    "\n",
    "Running the following lines of code, what will be printed?\n",
    "\n",
    "```python\n",
    "x = 7\n",
    "x *= 3\n",
    "x -= 1\n",
    "x = x + 2\n",
    "x //= 3\n",
    "x = x % 4\n",
    "\n",
    "print(x)\n",
    "```"
   ]
  },
  {
   "cell_type": "code",
   "execution_count": null,
   "metadata": {},
   "outputs": [],
   "source": [
    "# YOUR ANSWER HERE\n",
    "printed = \n",
    "\n",
    "check_answer1_5(printed)"
   ]
  },
  {
   "cell_type": "markdown",
   "metadata": {},
   "source": [
    "<a name=\"2\"></a>\n",
    "# 2. Types\n",
    "\n",
    "There are a few different types of variables that we can use in Python. Here are a few of them that we've seen in JamCoders:\n",
    "\n",
    "1. `int`: Represents integer numbers. Examples: 5, -10, 1000\n",
    "2. `float`: Represents floating-point numbers (numbers with a decimal point). Examples: `3.14`, `-0.001`, `2.0`\n",
    "3. `bool`: Represents a boolean value. Possible values are True and False. Examples: `True`, `False`\n",
    "4. `str`: Represents a sequence of characters (a string). Defined using single, double, or triple quotes. Examples: `'hello'`, `\"world\"`, `'''multiline string'''`\n",
    "5. `list`: An ordered, mutable collection of items. Defined using square brackets. Examples: `[1, 2, 3]`, `['a', 'b', 'c']`, `[1, 'a', 0.3]`\n",
    "6. `dict`: Represents a collection of key-value pairs. Defined using curly braces. Examples: `{'name': 'Alice', 'age': 25}`, `{1: 'one', 2: 'two'}`"
   ]
  },
  {
   "cell_type": "markdown",
   "metadata": {},
   "source": [
    "## Questions\n",
    "\n",
    "What would be the output for the following questions:\n",
    "\n",
    "```python\n",
    "x = 4\n",
    "y = 'a'\n",
    "\n",
    "# Question 1\n",
    "print(type(x))\n",
    "\n",
    "# Question 2\n",
    "print(type(y))\n",
    "\n",
    "# Question 3\n",
    "z = x * y\n",
    "print(type(z))\n",
    "\n",
    "# Question 4\n",
    "z = y * x\n",
    "print(type(z))\n",
    "\n",
    "# Question 5\n",
    "z = 4 / 2\n",
    "print(type(z))\n",
    "\n",
    "# Question 6\n",
    "z = 4 // 2\n",
    "print(type(z))\n",
    "```"
   ]
  },
  {
   "cell_type": "code",
   "execution_count": null,
   "metadata": {},
   "outputs": [],
   "source": [
    "# YOUR ANSWERS HERE\n",
    "# Use the Python type for each answer. Ex. str for string, int for integer, float for float, etc.\n",
    "q1 = \n",
    "check_answer2_1(q1)\n",
    "\n",
    "q2 = \n",
    "check_answer2_2(q2)\n",
    "\n",
    "q3 = \n",
    "check_answer2_3(q3)\n",
    "\n",
    "\n",
    "q4 = \n",
    "check_answer2_4(q4)\n",
    "\n",
    "q5 = \n",
    "check_answer2_5(q5)\n",
    "\n",
    "q6 = \n",
    "check_answer2_6(q6)\n"
   ]
  },
  {
   "cell_type": "markdown",
   "metadata": {},
   "source": [
    "```python\n",
    "# Question 7\n",
    "z = True\n",
    "print(type(z))\n",
    "\n",
    "# Question 8\n",
    "z = [5, 6, 7]\n",
    "print(type(z))\n",
    "\n",
    "# Question 9\n",
    "z = 5 > 7\n",
    "print(type(z))\n",
    "\n",
    "# Question 10\n",
    "dict_test = {\"4\" : 4, \"5\" : 5}\n",
    "print(type(dict_test))\n",
    "\n",
    "# Question 11\n",
    "z = dict_test[\"4\"]\n",
    "print(type(z))\n",
    "```"
   ]
  },
  {
   "cell_type": "code",
   "execution_count": null,
   "metadata": {},
   "outputs": [],
   "source": [
    "q7 = \n",
    "check_answer2_7(q7)\n",
    "\n",
    "q8 = \n",
    "check_answer2_8(q8)\n",
    "\n",
    "q9 = \n",
    "check_answer2_9(q9)\n",
    "\n",
    "q10 = \n",
    "check_answer2_10(q10)\n",
    "\n",
    "q11 = \n",
    "check_answer2_11(q11)"
   ]
  },
  {
   "cell_type": "markdown",
   "metadata": {},
   "source": [
    "<a name=\"3\"></a>\n",
    "# 3. Boolean Operations and Conditionals"
   ]
  },
  {
   "cell_type": "markdown",
   "metadata": {},
   "source": [
    "## Python Boolean Operations\n",
    "\n",
    "Python boolean operations are fundamental for controlling the flow of a program through conditional statements and logical evaluations. The primary boolean operators in Python are `and`, `or`, and `not`.\n",
    "\n",
    "### Boolean Operators\n",
    "\n",
    "- **`and`**: Returns `True` if both operands are `True`. Otherwise, it returns `False`.\n",
    "  ```python\n",
    "  True and True  # Returns True\n",
    "  True and False  # Returns False\n",
    "  ```\n",
    "\n",
    "- **`or`**: Returns `True` if at least one of the operands is `True`. If both are `False`, it returns `False`.\n",
    "  ```python\n",
    "  True or False  # Returns True\n",
    "  False or False  # Returns False\n",
    "  ```\n",
    "\n",
    "- **`not`**: Returns `True` if the operand is `False` and vice versa.\n",
    "  ```python\n",
    "  not True  # Returns False\n",
    "  not False  # Returns True\n",
    "  ```\n",
    "\n",
    "## Python Comparison Operators\n",
    "\n",
    "Comparison operators in Python are used to compare values and return a Boolean result: `True` or `False`. They are essential for making decisions in code, controlling the flow through conditional statements like `if`, `elif`, and `else`.\n",
    "\n",
    "### Comparison Operators\n",
    "\n",
    "- **`==`**: Equal to. Returns `True` if the operands are equal.\n",
    "  ```python\n",
    "  5 == 5  # Returns True\n",
    "  5 == 3  # Returns False\n",
    "  ```\n",
    "\n",
    "- **`!=`**: Not equal to. Returns `True` if the operands are not equal.\n",
    "  ```python\n",
    "  5 != 3  # Returns True\n",
    "  5 != 5  # Returns False\n",
    "  ```\n",
    "\n",
    "- **`<`**: Less than. Returns `True` if the left operand is less than the right operand.\n",
    "  ```python\n",
    "  3 < 5  # Returns True\n",
    "  5 < 3  # Returns False\n",
    "  ```\n",
    "\n",
    "- **`>`**: Greater than. Returns `True` if the left operand is greater than the right operand.\n",
    "  ```python\n",
    "  5 > 3  # Returns True\n",
    "  3 > 5  # Returns False\n",
    "  ```\n",
    "\n",
    "- **`<=`**: Less than or equal to. Returns `True` if the left operand is less than or equal to the right operand.\n",
    "  ```python\n",
    "  3 <= 5  # Returns True\n",
    "  5 <= 5  # Returns True\n",
    "  5 <= 3  # Returns False\n",
    "  ```\n",
    "\n",
    "- **`>=`**: Greater than or equal to. Returns `True` if the left operand is greater than or equal to the right operand.\n",
    "  ```python\n",
    "  5 >= 3  # Returns True\n",
    "  5 >= 5  # Returns True\n",
    "  3 >= 5  # Returns False\n",
    "  ```\n",
    "```"
   ]
  },
  {
   "cell_type": "markdown",
   "metadata": {},
   "source": [
    "## 3.1.1\n",
    "What is the output of the following code:\n",
    "\n",
    "```python\n",
    "x = False\n",
    "y = False\n",
    "z = True\n",
    "print(x or y or z)\n",
    "```"
   ]
  },
  {
   "cell_type": "code",
   "execution_count": null,
   "metadata": {},
   "outputs": [],
   "source": [
    "ans = \n",
    "\n",
    "check_answer3_1_1(ans)"
   ]
  },
  {
   "cell_type": "markdown",
   "metadata": {},
   "source": [
    "## 3.1.2 \n",
    "What is the output of the following code:\n",
    "\n",
    "```python\n",
    "x = 3\n",
    "y = 5\n",
    "print(x > y)\n",
    "```"
   ]
  },
  {
   "cell_type": "code",
   "execution_count": null,
   "metadata": {},
   "outputs": [],
   "source": [
    "ans = \n",
    "\n",
    "check_answer3_1_2(ans)"
   ]
  },
  {
   "cell_type": "markdown",
   "metadata": {},
   "source": [
    "## Python Conditionals (`if`, `elif`, `else`)\n",
    "\n",
    "Conditionals in Python are used to execute certain blocks of code based on specific conditions. They enable decision-making in programs, allowing different outcomes depending on the input or state of the program. The primary conditional statements in Python are `if`, `elif`, and `else`.\n",
    "\n",
    "### `if` Statement\n",
    "\n",
    "The `if` statement evaluates a condition and executes the code block within it if the condition is `True`.\n",
    "\n",
    "```python\n",
    "x = 10\n",
    "if x > 5:\n",
    "    print(\"x is greater than 5\")\n",
    "```\n",
    "\n",
    "### `elif` Statement\n",
    "\n",
    "The `elif` (short for \"else if\") statement is used to check multiple conditions. ONLY if the preceding `if` condition is `False`, the `elif` condition is evaluated. You can have multiple `elif` statements to handle various conditions.\n",
    "\n",
    "```python\n",
    "x = 10\n",
    "if x > 15:\n",
    "    print(\"x is greater than 15\")\n",
    "elif x > 5:\n",
    "    print(\"x is greater than 5 but less than or equal to 15\")\n",
    "```\n",
    "\n",
    "### `else` Statement\n",
    "\n",
    "The `else` statement catches anything which isn't caught by the preceding `if` and `elif` statements. It runs if none of the previous conditions are `True`.\n",
    "\n",
    "```python\n",
    "x = 3\n",
    "if x > 5:\n",
    "    print(\"x is greater than 5\")\n",
    "elif x == 5:\n",
    "    print(\"x is equal to 5\")\n",
    "else:\n",
    "    print(\"x is less than 5\")\n",
    "```\n",
    "\n",
    "### Combining Conditions\n",
    "\n",
    "You can combine conditions using logical operators like `and`, `or`, and `not` to create more complex conditional statements.\n",
    "\n",
    "```python\n",
    "x = 7\n",
    "if x > 5 and x < 10:\n",
    "    print(\"x is between 5 and 10\")\n",
    "```\n",
    "\n",
    "### Nested Conditionals\n",
    "\n",
    "You can also nest conditionals inside other conditionals to check multiple levels of conditions.\n",
    "\n",
    "```python\n",
    "x = 10\n",
    "if x > 5:\n",
    "    if x < 15:\n",
    "        print(\"x is between 5 and 15\")\n",
    "```\n",
    "\n",
    "### Example\n",
    "\n",
    "Here’s a full example using all three conditional statements:\n",
    "\n",
    "```python\n",
    "age = 18\n",
    "if age < 13:\n",
    "    print(\"You are a child.\")\n",
    "elif age < 20:\n",
    "    print(\"You are a teenager.\")\n",
    "elif age >= 20 and age < 300:\n",
    "    print(\"You are an adult.\")\n",
    "else:\n",
    "    print(\"You are an immortal.\")\n",
    "```\n",
    "\n",
    "Python conditionals are powerful tools that help in writing dynamic and responsive programs by allowing different actions based on varying conditions."
   ]
  },
  {
   "cell_type": "markdown",
   "metadata": {},
   "source": [
    "## 3.2\n",
    "\n",
    "What would the following code output:\n",
    "\n",
    "```python\n",
    "x = True\n",
    "y = False\n",
    "\n",
    "if x or y:\n",
    "    print(\"hello\")\n",
    "if x and y:\n",
    "    print(\"hi\")\n",
    "elif x:\n",
    "    print(\"there\")\n",
    "if not y:\n",
    "    print(\"what\")\n",
    "elif not x or not y:\n",
    "    print(\"this\")\n",
    "else:\n",
    "    print(\"that\")\n",
    "if x and not y:\n",
    "    print(\"whom\")\n",
    "\n",
    "```"
   ]
  },
  {
   "cell_type": "code",
   "execution_count": null,
   "metadata": {},
   "outputs": [],
   "source": [
    "# Enter what the above code prints as a list (with each item printed as an item in the list)\n",
    "answer = []\n",
    "\n",
    "check_answer3_2(answer)"
   ]
  },
  {
   "cell_type": "markdown",
   "metadata": {},
   "source": [
    "<a name=\"4\"></a>\n",
    "# 4. Functions"
   ]
  },
  {
   "cell_type": "markdown",
   "metadata": {},
   "source": [
    "## Defining and Calling Functions in Python\n",
    "\n",
    "Functions in Python allow you to encapsulate reusable blocks of code. You define a function using the `def` keyword, followed by the function name and parentheses. Inside the parentheses, you can specify parameters that the function can accept.\n",
    "\n",
    "### Defining a Function\n",
    "\n",
    "```python\n",
    "def greet(name):\n",
    "    print(\"Hello, \" + name)\n",
    "```\n",
    "\n",
    "### Calling a Function\n",
    "\n",
    "Once a function is defined, you can call it by using its name followed by parentheses, passing any required arguments.\n",
    "\n",
    "```python\n",
    "greet(\"Alice\")  # Outputs: Hello, Alice!\n",
    "```\n",
    "\n",
    "Functions can also return values using the `return` statement.\n",
    "\n",
    "### Example with Return Value\n",
    "\n",
    "```python\n",
    "def add(a, b):\n",
    "    return a + b\n",
    "\n",
    "result = add(3, 4)\n",
    "print(result)  # Outputs: 7\n",
    "```"
   ]
  },
  {
   "cell_type": "markdown",
   "metadata": {},
   "source": [
    "## 4.1\n",
    "\n",
    "```python\n",
    "def calculate_score(x, y, z):\n",
    "    if x > y:\n",
    "        score = (x - y) * z\n",
    "    elif x < y:\n",
    "        score = (y - x) * z\n",
    "    else:\n",
    "        score = (x + y) * z\n",
    "    \n",
    "    if score > 100:\n",
    "        return \"Excellent\"\n",
    "    elif score > 50:\n",
    "        return \"Good\"\n",
    "    else:\n",
    "        return \"Needs Improvement\"\n",
    "\n",
    "# Test Cases\n",
    "print(calculate_score(15, 10, 8))  # Test Case 1\n",
    "print(calculate_score(5, 5, 11))  # Test Case 2\n",
    "print(calculate_score(5, 6, 55))   # Test Case 2\n",
    "```"
   ]
  },
  {
   "cell_type": "code",
   "execution_count": null,
   "metadata": {},
   "outputs": [],
   "source": [
    "# What does the function print for each test case? Write your answer as a list.\n",
    "answer = []\n",
    "\n",
    "check_answer4_1(answer)\n",
    "\n"
   ]
  },
  {
   "cell_type": "markdown",
   "metadata": {},
   "source": [
    "## Returning vs. Printing"
   ]
  },
  {
   "cell_type": "markdown",
   "metadata": {},
   "source": [
    "When a function **returns**, it does not print a value out. In order to display the output of a function, the returned value must be **printed**.\n",
    "\n",
    "Ex.\n",
    "```python\n",
    "def returning(x):\n",
    "    return x\n",
    "\n",
    "returning(x)\n",
    ">> \n",
    "print(returning(\"test\"))\n",
    ">> test\n",
    "\n",
    "def printing(x):\n",
    "    print(x)\n",
    "\n",
    "printing(\"test\")\n",
    ">> test\n",
    "\n",
    "print(printing(\"test\"))\n",
    ">> test\n",
    ">> None\n",
    "```\n",
    "\n",
    "## 4.2\n",
    "What does the following set of code print out?\n",
    "\n",
    "```python\n",
    "def tricky(x):\n",
    "    print(x)\n",
    "    return x\n",
    "\n",
    "def tricky2(y):\n",
    "    tricky(y)\n",
    "    return tricky(y)\n",
    "\n",
    "print(tricky2(\"hello\"))\n",
    "```"
   ]
  },
  {
   "cell_type": "code",
   "execution_count": null,
   "metadata": {},
   "outputs": [],
   "source": [
    "# Write your answer as a list of what is printed.\n",
    "answer = []\n",
    "\n",
    "check_answer4_2(answer)"
   ]
  },
  {
   "cell_type": "markdown",
   "metadata": {},
   "source": [
    "<a name=\"5\"></a>\n",
    "# 5. Lists"
   ]
  },
  {
   "cell_type": "markdown",
   "metadata": {},
   "source": [
    "Lists store a collection of values.\n",
    "\n",
    "```python\n",
    "lst = [5, \"a\", 0, 3.1]\n",
    "```"
   ]
  },
  {
   "cell_type": "markdown",
   "metadata": {},
   "source": [
    "## Indexing"
   ]
  },
  {
   "cell_type": "markdown",
   "metadata": {},
   "source": [
    "You can access a particular value from a list by **indexing**. Remember that to get a particular value from a list, we start counting at `0`, not 1!\n",
    "\n",
    "Let's use the same list `lst` as above. In order to get the first value, we would write `lst[0]`.\n",
    "\n",
    "```python\n",
    "print(lst[0])\n",
    ">> 5\n",
    "\n",
    "print(lst[1])\n",
    ">> \"a\"\n",
    "```\n",
    "\n",
    "We can also count backwards through a list using negative indeces. The last element is at index `-1`, and we count backwards from there.\n",
    "\n",
    "```python\n",
    "print(lst[-1])\n",
    ">> 3.1\n",
    "\n",
    "print(lst[-3])\n",
    ">> a\n",
    "```"
   ]
  },
  {
   "cell_type": "markdown",
   "metadata": {},
   "source": [
    "## 5.1\n",
    "Print out the third element of the list below."
   ]
  },
  {
   "cell_type": "code",
   "execution_count": null,
   "metadata": {},
   "outputs": [],
   "source": [
    "lst = [3, \"e\", False, 4.0, 5]\n",
    "\n",
    "# YOUR ANSWER HERE"
   ]
  },
  {
   "cell_type": "markdown",
   "metadata": {},
   "source": [
    "You can index into a string the same way as lists.\n",
    "\n",
    "```python\n",
    "s = \"adlkej;3\"\n",
    "print(s[2])\n",
    ">> l\n",
    "```"
   ]
  },
  {
   "cell_type": "markdown",
   "metadata": {},
   "source": [
    "## Slicing"
   ]
  },
  {
   "cell_type": "markdown",
   "metadata": {},
   "source": [
    "Slicing allows you to extract portions of a list. The syntax is as follows: `lst[start : stop : step]`\n",
    "\n",
    "- `start`: The first number in a slice is the starting index. If there is no starting index, we assume the slice starts at the beginning of the list/string.\n",
    "- `stop`: The second number in a slice is the ending index. We continue up until, but not including, the ending index. If there is no ending index, we assume the slice goes until the end of the list/string.\n",
    "- `step`: The third number in a slice is the step. It describes the interval with which we read the list. If there is no step, we assume that it is 1 (read every number).\n",
    "\n",
    "```python\n",
    "lst = [3, \"e\", False, 4.0, 5]\n",
    "\n",
    "print(lst[2:])\n",
    ">> [False, 4.0, 5]\n",
    "\n",
    "print(lst[:2])\n",
    ">> [3, \"e\"]\n",
    "\n",
    "print(lst[1:4])\n",
    ">> [\"e\", False, 4.0]\n",
    "\n",
    "print(lst[1:4:2])\n",
    ">> [\"e\", 4.0]\n",
    "```\n"
   ]
  },
  {
   "cell_type": "markdown",
   "metadata": {},
   "source": [
    "## 5.2\n",
    "\n",
    "Print the 2nd through the 5th values in the list and the string below."
   ]
  },
  {
   "cell_type": "code",
   "execution_count": null,
   "metadata": {},
   "outputs": [],
   "source": [
    "lst = [18, False, 5, 9, \"hello\", \"Jamaica\", 42, \"Hitchiker\", 8.44]\n",
    "str_test = \"ciensocimevisle\"\n",
    "\n",
    "# YOUR ANSWER HERE"
   ]
  },
  {
   "cell_type": "markdown",
   "metadata": {},
   "source": [
    "## Operations"
   ]
  },
  {
   "cell_type": "markdown",
   "metadata": {},
   "source": [
    "**Appending**\n",
    "We can append items to a list:\n",
    "```python\n",
    "lst = [3, 4, 5]\n",
    "lst.append(6)\n",
    "print(lst)\n",
    ">> [3, 4, 5, 6]\n",
    "```\n",
    "\n",
    "**Adding**\n",
    "We can add 2 lists together:\n",
    "```python\n",
    "l1 = [3, 4, 5]\n",
    "l2 = [9, 8, 7]\n",
    "l3 = l1 + l2\n",
    "print(l3)\n",
    ">> [3, 4, 5, 9, 8, 7]\n",
    "```\n",
    "\n",
    "**Multiplying**\n",
    "We can multiply a list. This creates multiple copies of the elements already inside but does not actually multiply the elements:\n",
    "```python\n",
    "lst = [3, 4, 5]\n",
    "lst *= 2\n",
    "print(lst)\n",
    ">> [3, 4, 5, 3, 4, 5]\n",
    "```\n",
    "\n",
    "**Length**\n",
    "We can get the length of a list:\n",
    "```python\n",
    "lst = [3, 4, 5]\n",
    "print(len(lst))\n",
    ">> 3\n",
    "```"
   ]
  },
  {
   "cell_type": "markdown",
   "metadata": {},
   "source": [
    "## 5.3\n",
    "What is the result of the following operations:\n",
    "\n",
    "```python\n",
    "lst = [12, 6, 22]\n",
    "lst *= 3\n",
    "lst.append(44)\n",
    "lst2 = [\"a\", \"b\"]\n",
    "lst += lst2\n",
    "print(lst)\n",
    "```"
   ]
  },
  {
   "cell_type": "code",
   "execution_count": null,
   "metadata": {},
   "outputs": [],
   "source": [
    "answer = \n",
    "\n",
    "check_answer5_3(answer)"
   ]
  },
  {
   "cell_type": "markdown",
   "metadata": {},
   "source": [
    "## Nested Lists\n",
    "\n",
    "You can also have nested lists. A list within a list is treated as a single element. Once you access that element, you can index into that list (ex. `lst[1][1]`)\n",
    "\n",
    "```python\n",
    "lst = [4, 8, [1, 2]]\n",
    "\n",
    "print(lst[2])\n",
    ">> [1, 2]\n",
    "\n",
    "print(lst[2][0])\n",
    ">> 1\n",
    "```"
   ]
  },
  {
   "cell_type": "markdown",
   "metadata": {},
   "source": [
    "## 5.4"
   ]
  },
  {
   "cell_type": "code",
   "execution_count": null,
   "metadata": {},
   "outputs": [],
   "source": [
    "nested_lst = [[1, 2, 3], [4, 5, 6], [7, 8, 9]]\n",
    "\n",
    "# Access the number 5 in the nested_lst\n",
    "# YOUR ANSWER HERE\n"
   ]
  },
  {
   "cell_type": "markdown",
   "metadata": {},
   "source": [
    "<a name=\"6\"></a>\n",
    "# 6. Loops"
   ]
  },
  {
   "cell_type": "markdown",
   "metadata": {},
   "source": [
    "Loops allow you to go through values or repeat an operation multiple times.\n",
    "\n",
    "### `for` Loop\n",
    "\n",
    "- Iterates over a sequence (list, tuple, string, range, etc.).\n",
    "- Syntax:\n",
    "\n",
    "  ```python\n",
    "  for item in sequence:\n",
    "      # code block\n",
    "  ```\n",
    "\n",
    "- Example:\n",
    "\n",
    "  ```python\n",
    "  for i in range(5):\n",
    "      print(i)  # Outputs: 0 1 2 3 4\n",
    "  ```\n",
    "\n",
    "### `while` Loop\n",
    "\n",
    "- Repeats as long as a condition is `True`.\n",
    "- Syntax:\n",
    "\n",
    "  ```python\n",
    "  while condition:\n",
    "      # code block\n",
    "  ```\n",
    "\n",
    "- Example:\n",
    "\n",
    "  ```python\n",
    "  count = 0\n",
    "  while count < 5:\n",
    "      print(count)\n",
    "      count += 1  # Outputs: 0 1 2 3 4\n",
    "  ```\n",
    "\n",
    "### Loop Control Statements\n",
    "\n",
    "- **`break`:** Exit the loop.\n",
    "- **`continue`:** Skip to the next iteration.\n",
    "\n",
    "Example:\n",
    "\n",
    "```python\n",
    "for i in range(10):\n",
    "    if i == 5:\n",
    "        break\n",
    "    if i % 2 == 0:\n",
    "        continue\n",
    "    print(i)  # Outputs: 1 3\n",
    "```"
   ]
  },
  {
   "cell_type": "markdown",
   "metadata": {},
   "source": [
    "## 6.1 \n",
    "Loops through the values in a list at even indices. \n",
    "\n",
    "**Hint:** Remember you can loop through the indices of a list using `for i in range(len(lst)):`"
   ]
  },
  {
   "cell_type": "code",
   "execution_count": null,
   "metadata": {},
   "outputs": [],
   "source": [
    "def values_at_even_indices(lst):\n",
    "    \"\"\"\n",
    "    Return a list of values from the input list that are located at even indices.\n",
    "    \n",
    "    Args:\n",
    "        lst (list): The input list from which values at even indices are to be extracted.\n",
    "        \n",
    "    Returns:\n",
    "        list: A list containing values from the input list that are located at even indices.\n",
    "        \n",
    "    Example:\n",
    "        >>> values_at_even_indices([10, 20, 30, 40, 50])\n",
    "        [10, 30, 50]\n",
    "    \"\"\"\n",
    "\n",
    "\n",
    "assert_equal(values_at_even_indices([10, 20, 30, 40, 50]), [10, 30, 50])\n",
    "assert_equal(values_at_even_indices([1, 2, 3, 4, 5, 6, 7, 8, 9, 10]), [1, 3, 5, 7, 9])"
   ]
  },
  {
   "cell_type": "markdown",
   "metadata": {},
   "source": [
    "## 6.2\n",
    "\n",
    "Print the numbers 0 to 100 using a `while` loop."
   ]
  },
  {
   "cell_type": "code",
   "execution_count": null,
   "metadata": {},
   "outputs": [],
   "source": [
    "# YOUR ANSWER HERE\n"
   ]
  },
  {
   "cell_type": "markdown",
   "metadata": {},
   "source": [
    "# 7. Recursion"
   ]
  },
  {
   "cell_type": "markdown",
   "metadata": {},
   "source": [
    "Remember that **recursion** is a programming technique where the function calls itself using modified (probably smaller) inputs. The result of that function call is used and potentially modified in some way to form the correct output.\n",
    "\n",
    "We have 2 cases in the recursive function:\n",
    "1. The base case: a situation where we can return the result of the function without using recursive calls. This is the simplest solution to the problem.\n",
    "2. The recursive case: performing a function call to the same function using modified arguments. The problem is broken down into smaller subproblems, moving us closer to the base case.\n",
    "\n",
    "One thing you'll hear us say very often is **trust the recursion**. You must have faith that the base case, combined with the way you break the problem down with recursion, will correctly solve your question!!\n",
    "\n",
    "> Side note: You may think that most of the examples you have seen of recursion can be easily replaced with different code, like for loops. However, many times recursion is more natural, and some algorithms are defined recursively.\n",
    "\n",
    "To solve recursive problems, you should break them down into 3 steps:\n",
    "1. Find the **base case**, where the recursion stops.\n",
    "2. Identify the subproblems (how does the problem get broken down into smaller steps)\n",
    "3. How do you combine the smaller steps (how does the full problem relate to the subproblems?) "
   ]
  },
  {
   "cell_type": "markdown",
   "metadata": {},
   "source": [
    "<a name=\"7\"></a>\n",
    "## Example: Summing Numbers with Recursion\n",
    "\n",
    "For example, let's try to calculate the sum of all numbers from `1` to `n` with recursion. (Yes, we can do this with a `for` loop, but let's practice recursion so that we can use it for harder problems as well)\n",
    "\n",
    "__Base Case__\n",
    "\n",
    "Let's start with the base case, or the simplest version of the problem. This is a situation in which we know the answer. \n",
    "\n",
    "The simplest solution for the sum of numbers from  `1` to `n` is if `n == 1`. In this situation, the answer is just `1`!\n",
    "\n",
    "__Recursive Case__\n",
    "\n",
    "Now, the recursive case. Let's say `n != 1`. How do we break down the problem to solve this?\n",
    "\n",
    "Let's start with `n == 2`, for example. The solution to this is `2`, plus the sum of all of the numbers up until 2 (so this function itself, called on the number before 2 which is 1). That hits the base case of `1`, which returns and gets us the final solution!\n",
    "\n",
    "__Code__\n",
    "```python\n",
    "def sum_one_to_n(n):\n",
    "    # Base Case\n",
    "    if n == 1:\n",
    "        return 1\n",
    "    # Recursive case\n",
    "    else:\n",
    "        # We return the current number added to the sum up until the previous number\n",
    "        # This is where we trust the recursion. We trust that sum_one_to_n(n - 1) will do what we believe it should do.\n",
    "        return n + sum_one_to_n(n - 1)\n",
    "```"
   ]
  },
  {
   "cell_type": "markdown",
   "metadata": {},
   "source": [
    "## 7.1\n",
    "\n",
    "Find the number of times the character \"a\" appears in a string. Do this recursively."
   ]
  },
  {
   "cell_type": "code",
   "execution_count": null,
   "metadata": {},
   "outputs": [],
   "source": [
    "def appearances_of_a(input):\n",
    "    # YOUR CODE HERE\n",
    "    pass\n",
    "\n",
    "assert_equal(appearances_of_a(\"apple\"), 1)\n",
    "assert_equal(appearances_of_a(\"banana\"), 3)\n",
    "assert_equal(appearances_of_a(\"avocado\"), 2)\n",
    "assert_equal(appearances_of_a(\"cool\"), 0)"
   ]
  },
  {
   "cell_type": "markdown",
   "metadata": {},
   "source": [
    "## 7.2\n",
    "\n",
    "Write a function `is_palindrome(s)` that checks if a string `s` is a palindrome (reads the same forwards and backwards). Do this recursively."
   ]
  },
  {
   "cell_type": "code",
   "execution_count": null,
   "metadata": {},
   "outputs": [],
   "source": [
    "def is_palindrome(s):\n",
    "    # YOUR CODE HERE\n",
    "    pass\n",
    "\n",
    "assert_equal(is_palindrome(\"racecar\"), True)\n",
    "assert_equal(is_palindrome(\"hello\"), False)\n",
    "assert_equal(is_palindrome(\"hannah\"), True)\n",
    "assert_equal(is_palindrome(\"world\"), False)"
   ]
  },
  {
   "cell_type": "markdown",
   "metadata": {},
   "source": [
    "<a name=\"8\"></a>\n",
    "# 8. Binary Search\n",
    "\n",
    "Binary Search is a simple search algorithm that takes a sorted list and an element to search for and returns the index of the element if found and -1 otherwise.\n",
    "\n",
    "#### How It Works\n",
    "\n",
    "1. **Calculate the Middle** Compare the middle element to the target element.\n",
    "2. **Move Boundaries:** Compare the middle element to the target element\n",
    "3. **Repeat:** If the middle element is too large or too small, change the low and high boundaries accordingly. Repeat from step 1 until the element is found.\n"
   ]
  },
  {
   "cell_type": "markdown",
   "metadata": {},
   "source": [
    "## 8.1 \n",
    "Please fill in the Binary Search Code"
   ]
  },
  {
   "cell_type": "code",
   "execution_count": null,
   "metadata": {},
   "outputs": [],
   "source": [
    "def binary_search(lst, target):\n",
    "    # YOUR CODE HERE\n",
    "    low = 0\n",
    "    high = len(lst) - 1\n",
    "    while low < high:\n",
    "        mid = # YOUR CODE HERE\n",
    "        if lst[mid] == target:\n",
    "            return # YOUR CODE HERE\n",
    "        elif lst[mid] < target:\n",
    "            # YOUR CODE HERE\n",
    "        else:\n",
    "            # YOUR CODE HERE\n",
    "    return # YOUR CODE HERE"
   ]
  },
  {
   "cell_type": "code",
   "execution_count": null,
   "metadata": {},
   "outputs": [],
   "source": [
    "assert_equal(binary_search([1, 2, 3, 4, 5, 9, 10], 9), 5)\n",
    "assert_equal(binary_search([1, 2, 3, 56], 6), -1)"
   ]
  },
  {
   "cell_type": "markdown",
   "metadata": {},
   "source": [
    "<a name=\"9\"></a>\n",
    "# 9. Sorting"
   ]
  },
  {
   "cell_type": "markdown",
   "metadata": {},
   "source": [
    "### Selection Sort\n",
    "\n",
    "Selection Sort is a simple, comparison-based sorting algorithm. It works by repeatedly finding the minimum (or maximum) element from the unsorted portion of the list and moving it to the end of the sorted portion.\n",
    "\n",
    "#### How It Works\n",
    "\n",
    "1. **Find the Minimum:** Scan the unsorted part of the list to find the smallest element.\n",
    "2. **Swap:** Swap the smallest element with the first unsorted element.\n",
    "3. **Repeat:** Move the boundary of the sorted portion one element to the right and repeat until the entire list is sorted.\n",
    "\n",
    "### Merge Sort\n",
    "\n",
    "Merge Sort is a divide-and-conquer sorting algorithm that divides the list into smaller sublists, sorts each sublist, and then merges the sorted sublists to produce the final sorted list.\n",
    "\n",
    "#### How It Works\n",
    "\n",
    "1. **Divide:** Split the list into two halves until each sublist contains a single element or is empty.\n",
    "2. **Conquer:** Recursively sort each half.\n",
    "3. **Merge:** Combine the sorted halves to produce a sorted list."
   ]
  },
  {
   "cell_type": "markdown",
   "metadata": {},
   "source": [
    "## 9.1\n",
    "What is faster: Merge Sort or Selection Sort? Why?"
   ]
  },
  {
   "cell_type": "code",
   "execution_count": null,
   "metadata": {},
   "outputs": [],
   "source": [
    "# YOUR ANSWER HERE\n"
   ]
  },
  {
   "cell_type": "markdown",
   "metadata": {},
   "source": [
    "## 9.2\n",
    "Why is Merge Sort recursive?"
   ]
  },
  {
   "cell_type": "code",
   "execution_count": null,
   "metadata": {},
   "outputs": [],
   "source": [
    "# YOUR ANSWER HERE"
   ]
  },
  {
   "cell_type": "markdown",
   "metadata": {},
   "source": [
    "## 9.3\n",
    "\n",
    "There is something wrong with the selection sort code below. Find and fix the error."
   ]
  },
  {
   "cell_type": "code",
   "execution_count": null,
   "metadata": {},
   "outputs": [],
   "source": [
    "def swap(L, i, j):\n",
    "    orig_value = L[i]\n",
    "    L[i] = L[j]\n",
    "    L[j] = orig_value\n",
    "\n",
    "def find_min_idx(L, k):\n",
    "    index_where_minimum_element_is_found = k\n",
    "\n",
    "    for i in range(k, len(L)):\n",
    "        if L[k] < L[index_where_minimum_element_is_found]:\n",
    "            index_where_minimum_element_is_found = i\n",
    "    \n",
    "    return index_where_minimum_element_is_found\n",
    "\n",
    "def selection_sort(L):\n",
    "    for i in range(len(L)):\n",
    "        min_idx = find_min_idx(L, i)\n",
    "        swap(L,i,min_idx)\n",
    "    return L\n",
    "\n",
    "L = [3,5,2,1]\n",
    "assert_equal(got=selection_sort(L), want=[1,2,3,5])\n",
    "\n",
    "L = [4,3,2,1]\n",
    "assert_equal(got=selection_sort(L), want=[1,2,3,4])"
   ]
  },
  {
   "cell_type": "markdown",
   "metadata": {},
   "source": [
    "## 9.4 \n",
    "\n",
    "There is something wrong with the merge sort code below. Find and fix the error."
   ]
  },
  {
   "cell_type": "code",
   "execution_count": null,
   "metadata": {},
   "outputs": [],
   "source": [
    "def merge_lists (L1, L2) :\n",
    "    i = 0\n",
    "    j = 0\n",
    "    final_list = []\n",
    "    while i < len(L1) and j < len(L2):\n",
    "        if L1[i] < L2[j]:\n",
    "            final_list.append(L1[i])\n",
    "            i += 1\n",
    "        elif L1[i] > L2[j]:\n",
    "            final_list.append(L2[j])\n",
    "            j += 1\n",
    "    \n",
    "    final_list += L1[i:]\n",
    "    final_list += L2[j:]\n",
    "    return final_list\n",
    "\n",
    "def merge_sort(L):\n",
    "    if len(L) <= 1:\n",
    "        return L\n",
    "    \n",
    "    half = len(L)//2\n",
    "    first_half = L[half:]\n",
    "    second_half = L[:half]\n",
    "    L1 = merge_sort(first_half)\n",
    "    L2 = merge_sort(second_half)\n",
    "    final_list = merge_lists(L1,L2)\n",
    "\n",
    "    return final_list\n",
    "\n",
    "L = [5,4,3,2,1]\n",
    "assert_equal(got=merge_sort(L), want=[1,2,3,4,5])\n",
    "\n",
    "L = [5,4,4,5,1]\n",
    "assert_equal(got=merge_sort(L), want=[1,4,4,5,5])\n"
   ]
  },
  {
   "cell_type": "markdown",
   "metadata": {},
   "source": [
    "<a name=\"10\"></a>\n",
    "# 10. Time Complexity"
   ]
  },
  {
   "cell_type": "markdown",
   "metadata": {},
   "source": [
    "Time complexity is a measure used to describe the amount of computational time an algorithm takes relative to the size of the input data. It helps in understanding the efficiency of an algorithm, especially as the size of the input grows.\n",
    "\n",
    "## Big-O Notation\n",
    "Time complexity is often expressed using Big-O notation, which describes the upper bound of the algorithm's running time in terms of the input size n. It provides an asymptotic analysis of the algorithm's performance (as the input size grows to infinity, how long will the algorithm take, with respect to n?).\n",
    "\n",
    "## Common Time Complexities\n",
    "**O(1)** - Constant Time: The running time does not change with the size of the input. Example: Accessing an element in an array, adding two numbers together, assigning a variable to a value.\n",
    "\n",
    "**O(log n)** - Logarithmic Time: The running time grows logarithmically with the input size. This happens when the input size is constantly being cut in half. Example: Binary search in a sorted array.\n",
    "\n",
    "**O(n)** - Linear Time: The running time grows linearly with the input size. Example: Finding the maximum element in an array.\n",
    "\n",
    "**O(n log n)** - Linearithmic Time: The running time grows in proportion to n times the logarithm of n. Example: Merge sort.\n",
    "\n",
    "**O(n²)** - Quadratic Time: The running time grows quadratically with the input size. This often happens if there's a nested for loop. Example: Selection sort.\n",
    "\n",
    "**O(2^n)** - Exponential Time: The running time doubles with each additional element in the input. Example: The recursive solution to the Fibonacci sequence."
   ]
  },
  {
   "cell_type": "markdown",
   "metadata": {},
   "source": [
    "## 10.1\n",
    "What is the time complexity of the following code:\n",
    "```python\n",
    "x = 3\n",
    "```"
   ]
  },
  {
   "cell_type": "code",
   "execution_count": null,
   "metadata": {},
   "outputs": [],
   "source": [
    "# Answer as a string: \"Constant\", \"Logarithmic\", \"Linear\", \"Linearithmic\", \"Quadratic\", \"Exponential\"\n",
    "# YOUR ANSWER HERE\n",
    "answer = \n",
    "check_answer9_1(answer)"
   ]
  },
  {
   "cell_type": "markdown",
   "metadata": {},
   "source": [
    "## 10.2\n",
    "What is the time complexity of the following code:\n",
    "```python\n",
    "lst = [3, 6, 7, 8]\n",
    "for i in lst:\n",
    "    for j in lst:\n",
    "        print(i, j)\n",
    "```"
   ]
  },
  {
   "cell_type": "code",
   "execution_count": null,
   "metadata": {},
   "outputs": [],
   "source": [
    "# Answer as a string: \"Constant\", \"Logarithmic\", \"Linear\", \"Linearithmic\", \"Quadratic\", \"Exponential\"\n",
    "# YOUR ANSWER HERE\n",
    "answer = \n",
    "check_answer9_2(answer)"
   ]
  },
  {
   "cell_type": "markdown",
   "metadata": {},
   "source": [
    "<a name=\"11\"></a>\n",
    "# 11. Dictionaries"
   ]
  },
  {
   "cell_type": "markdown",
   "metadata": {},
   "source": [
    "Dictionaries are a versatile data structure in Python used to store key-value pairs. They are also known as associative arrays or hash maps in other languages.\n",
    "\n",
    "### Key Features\n",
    "\n",
    "- **Key-Value Pairs:** Each entry in a dictionary is a pair consisting of a unique key and its associated value.\n",
    "- **Mutable:** Dictionaries can be modified after creation; you can add, update, or remove key-value pairs.\n",
    "- **Unordered:** Dictionaries do not maintain any order of elements. \n",
    "\n",
    "### Syntax\n",
    "\n",
    "```python\n",
    "# Creating a dictionary\n",
    "my_dict = {\n",
    "    'name': 'Alice',\n",
    "    'age': 30,\n",
    "    'city': 'New York'\n",
    "}\n",
    "\n",
    "# Accessing values\n",
    "print(my_dict['name'])  # Outputs: Alice\n",
    "\n",
    "# Adding or updating values\n",
    "my_dict['age'] = 31\n",
    "\n",
    "# Removing values\n",
    "del my_dict['city']\n",
    "```\n",
    "\n",
    "### Common Methods\n",
    "\n",
    "- `get(key, default)`: Returns the value for the specified key or a default value if the key is not found.\n",
    "- `keys()`: Returns a view of all the keys in the dictionary.\n",
    "- `values()`: Returns a view of all the values in the dictionary.\n",
    "- `items()`: Returns a view of all the key-value pairs in the dictionary.\n",
    "\n",
    "### Example\n",
    "\n",
    "```python\n",
    "# Creating and using a dictionary\n",
    "student = {'name': 'John', 'grade': 'A', 'age': 20}\n",
    "print(student['name'])  # Outputs: John\n",
    "print(student.get('age'))  # Outputs: 20\n",
    "student['age'] = 21\n",
    "print(student.items())  # Outputs: dict_items([('name', 'John'), ('grade', 'A'), ('age', 21)])\n",
    "```\n",
    "\n",
    "Dictionaries are ideal for scenarios where you need to quickly retrieve values based on unique keys and are widely used for various applications in Python."
   ]
  },
  {
   "cell_type": "markdown",
   "metadata": {},
   "source": [
    "## 11.1\n",
    "\n",
    "1. Create a dictionary with movies you have watched as keys and what you rate them as values. \n",
    "2. After creating a dictionary, add an additional movie to it.\n",
    "3. Change the rating of one of the movies.\n",
    "4. Print the rating of any movie you added by accessing it from the dictionary. \n",
    "5. Print the list of the movies in your ratings dictionary. \n"
   ]
  },
  {
   "cell_type": "code",
   "execution_count": null,
   "metadata": {},
   "outputs": [],
   "source": [
    "# Create a dictionary with movies you have watched as keys and what you rate them as values. \n",
    "\n",
    "# Add an additional movie to the dictionary.\n",
    "\n",
    "# Change the rating of one of the movies.\n",
    "\n",
    "# Print the rating of any movie you added by accessing it from the dictionary. \n",
    "\n",
    "# Print the list of the movies in your ratings dictionary. \n"
   ]
  }
 ],
 "metadata": {
  "kernelspec": {
   "display_name": "base",
   "language": "python",
   "name": "python3"
  },
  "language_info": {
   "codemirror_mode": {
    "name": "ipython",
    "version": 3
   },
   "file_extension": ".py",
   "mimetype": "text/x-python",
   "name": "python",
   "nbconvert_exporter": "python",
   "pygments_lexer": "ipython3",
   "version": "3.10.14"
  }
 },
 "nbformat": 4,
 "nbformat_minor": 2
}
