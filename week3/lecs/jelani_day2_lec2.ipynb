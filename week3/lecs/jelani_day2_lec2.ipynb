{
 "cells": [
  {
   "cell_type": "code",
   "execution_count": 1,
   "id": "652ba279",
   "metadata": {},
   "outputs": [],
   "source": [
    "%config InteractiveShell.ast_node_interactivity=\"none\""
   ]
  },
  {
   "cell_type": "markdown",
   "id": "ed57f8f2",
   "metadata": {},
   "source": [
    "# More recursion: evaluating arithmetic expressions"
   ]
  },
  {
   "cell_type": "code",
   "execution_count": 3,
   "id": "f2c486e1",
   "metadata": {},
   "outputs": [],
   "source": [
    "def combine(x, y, op):\n",
    "    if op == '+':\n",
    "        return x+y\n",
    "    elif op == '-':\n",
    "        return x-y\n",
    "    elif op == '*':\n",
    "        return x*y\n",
    "    else:\n",
    "        return x//y\n",
    "    \n",
    "def is_op(s):\n",
    "    return s in '+-*/'\n",
    "\n",
    "# evaluate a fully parenthesized expression, with ints and + - * / as the only allowed operations\n",
    "def evaluate(s):\n",
    "    if not '(' in s:\n",
    "        return int(s)\n",
    "    else:\n",
    "        depth = 0\n",
    "        i = 0\n",
    "        while i < len(s):\n",
    "            if s[i] == '(':\n",
    "                depth += 1\n",
    "            elif s[i] == ')':\n",
    "                depth -= 1\n",
    "            elif is_op(s[i]) and depth == 1:\n",
    "                break\n",
    "            i += 1\n",
    "        return combine(evaluate(s[1:i]), evaluate(s[i+1:-1]), s[i])"
   ]
  },
  {
   "cell_type": "code",
   "execution_count": 5,
   "id": "2c5091e8",
   "metadata": {},
   "outputs": [
    {
     "name": "stdout",
     "output_type": "stream",
     "text": [
      "6\n"
     ]
    }
   ],
   "source": [
    "print(evaluate('(1*(2*3))'))"
   ]
  },
  {
   "cell_type": "markdown",
   "id": "d92f247a",
   "metadata": {},
   "source": [
    "# Sudoku solver with recursion (\"brute force search\")"
   ]
  },
  {
   "cell_type": "code",
   "execution_count": 6,
   "id": "b8599d6a",
   "metadata": {},
   "outputs": [],
   "source": [
    "# is it valid to set table[a][b] to v?\n",
    "def valid(a, b, v, table):\n",
    "    \n",
    "    # clash in the same row?\n",
    "    for i in range(9):\n",
    "        if table[a][i] == v:\n",
    "            return False\n",
    "    \n",
    "    # clash in the same column?\n",
    "    for i in range(9):\n",
    "        if table[i][b] == v:\n",
    "            return False\n",
    "    \n",
    "    # clash in the same 3 x 3 square?\n",
    "    s = a//3\n",
    "    t = b//3\n",
    "    for i in range(3):\n",
    "        for j in range(3):\n",
    "            if table[3*s+i][3*t+j] == v:\n",
    "                return False\n",
    "    \n",
    "    return True"
   ]
  },
  {
   "cell_type": "code",
   "execution_count": 7,
   "id": "3ace216c",
   "metadata": {},
   "outputs": [],
   "source": [
    "def sudoku_solve(table):\n",
    "    # find an empty cell to try to fill\n",
    "    for i in range(9):\n",
    "        for j in range(9):\n",
    "            if table[i][j] == 0:\n",
    "                for v in range(1, 10):\n",
    "                    if valid(i, j, v, table):\n",
    "                        table[i][j] = v\n",
    "                        if sudoku_solve(table):\n",
    "                            return True\n",
    "                        table[i][j] = 0\n",
    "                return False\n",
    "    return True"
   ]
  },
  {
   "cell_type": "markdown",
   "id": "a08a3f65",
   "metadata": {},
   "source": [
    "<img src=\"sudoku.png\" alt=\"Sudoku\" width=\"300\"/>\n",
    "<center>A sudoku puzzle</center>\n",
    "<center>(image credit: https://youtu.be/R0KqX6bUnEo)</center>"
   ]
  },
  {
   "cell_type": "code",
   "execution_count": 8,
   "id": "9d367a01",
   "metadata": {},
   "outputs": [],
   "source": [
    "table = [\n",
    "    [0,0,0,0,0,0,0,2,8],\n",
    "    [0,6,0,0,0,0,0,0,7],\n",
    "    [0,0,0,4,0,1,0,0,0],\n",
    "    [5,0,0,9,7,0,3,0,0],\n",
    "    [2,0,4,0,0,8,0,0,0],\n",
    "    [3,0,0,0,0,4,5,0,0],\n",
    "    [1,3,0,0,9,0,0,0,0],\n",
    "    [0,5,7,0,0,0,0,9,0],\n",
    "    [0,0,8,3,1,7,0,0,0]\n",
    "]"
   ]
  },
  {
   "cell_type": "code",
   "execution_count": 9,
   "id": "206cd598",
   "metadata": {},
   "outputs": [],
   "source": [
    "def list_to_str(L):\n",
    "    ans = ''\n",
    "    for x in L:\n",
    "        ans += str(x)\n",
    "    return ans\n",
    "\n",
    "def pretty_print(table):\n",
    "    for i in range(3):\n",
    "        for r in range(3):\n",
    "            s = list_to_str(table[i*3+r][:3]) + ' ' + list_to_str(table[i*3+r][3:6]) + ' ' + list_to_str(table[i*3+r][6:])\n",
    "            print(s)\n",
    "        print('')"
   ]
  },
  {
   "cell_type": "code",
   "execution_count": 10,
   "id": "ff0bb273",
   "metadata": {},
   "outputs": [
    {
     "name": "stdout",
     "output_type": "stream",
     "text": [
      "000 000 028\n",
      "060 000 007\n",
      "000 401 000\n",
      "\n",
      "500 970 300\n",
      "204 008 000\n",
      "300 004 500\n",
      "\n",
      "130 090 000\n",
      "057 000 090\n",
      "008 317 000\n",
      "\n"
     ]
    }
   ],
   "source": [
    "pretty_print(table)"
   ]
  },
  {
   "cell_type": "code",
   "execution_count": 11,
   "id": "188ac57f",
   "metadata": {},
   "outputs": [
    {
     "name": "stdout",
     "output_type": "stream",
     "text": [
      "415 763 928\n",
      "863 259 417\n",
      "729 481 635\n",
      "\n",
      "581 976 342\n",
      "294 538 761\n",
      "376 124 589\n",
      "\n",
      "132 695 874\n",
      "657 842 193\n",
      "948 317 256\n",
      "\n"
     ]
    }
   ],
   "source": [
    "sudoku_solve(table)\n",
    "pretty_print(table)"
   ]
  }
 ],
 "metadata": {
  "kernelspec": {
   "display_name": "Python 3 (ipykernel)",
   "language": "python",
   "name": "python3"
  },
  "language_info": {
   "codemirror_mode": {
    "name": "ipython",
    "version": 3
   },
   "file_extension": ".py",
   "mimetype": "text/x-python",
   "name": "python",
   "nbconvert_exporter": "python",
   "pygments_lexer": "ipython3",
   "version": "3.10.12"
  }
 },
 "nbformat": 4,
 "nbformat_minor": 5
}
