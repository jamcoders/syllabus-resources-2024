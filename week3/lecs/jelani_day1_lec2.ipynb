{
 "cells": [
  {
   "cell_type": "markdown",
   "id": "14fb5797",
   "metadata": {},
   "source": [
    "# JamCoders Week 3 Day 1 Lecture 2\n",
    "\n",
    "### Recursion"
   ]
  },
  {
   "cell_type": "markdown",
   "id": "ab23c7d7",
   "metadata": {},
   "source": [
    "<img src=\"coriander-fractal.jpg\" alt=\"Fractal coriander plant\" width=\"400\"/>\n",
    "<center>Recursive drawing of coriander plant</center>\n",
    "<center>(credit: https://matthewjamestaylor.com/recursive-drawing)</center>"
   ]
  },
  {
   "cell_type": "markdown",
   "id": "f015c8dd",
   "metadata": {},
   "source": [
    "<img src=\"tree.png\" alt=\"Fractal tree\" width=\"400\"/>\n",
    "<center>Recursive drawing of a fractal tree</center>\n",
    "<center>(credit: generated from code <a href=\"https://stackoverflow.com/questions/39853005/drawing-a-fractal-tree-in-python-not-sure-how-to-proceed\">here</a>, @cdlane answer)</center>"
   ]
  },
  {
   "cell_type": "code",
   "execution_count": 1,
   "id": "5046b132",
   "metadata": {},
   "outputs": [],
   "source": [
    "import math\n",
    "\n",
    "def length(P):\n",
    "    return math.sqrt(P[0]*P[0] + P[1]*P[1])\n",
    "\n",
    "# is C to the left of the directed line segment A->B?\n",
    "def is_left(A, B, C):\n",
    "    return (B[0] - A[0])*(C[1] - A[1]) > (B[1] - A[1])*(C[0] - A[0])\n",
    "\n",
    "def calc_R(P, Q):\n",
    "    mid = [ (P[0]+Q[0])/2., (P[1] + Q[1])/2. ]\n",
    "    orthog = [0, 1]\n",
    "    direction = [Q[0] - P[0], Q[1] - P[1]]\n",
    "    if direction[1] != 0:\n",
    "        orthog = [ 1, -direction[0]/direction[1] ] \n",
    "    l = length(orthog)\n",
    "    orthog = [ orthog[0]/l, orthog[1]/l ]\n",
    "    d = length(direction)/2\n",
    "    R = [mid[0] + orthog[0]*d, mid[1] + orthog[1]*d]\n",
    "    if is_left(P, Q, R):\n",
    "        R = [mid[0] - orthog[0]*d, mid[1] - orthog[1]*d]\n",
    "    return R"
   ]
  },
  {
   "cell_type": "code",
   "execution_count": 2,
   "id": "a1cf8891",
   "metadata": {},
   "outputs": [
    {
     "name": "stdout",
     "output_type": "stream",
     "text": [
      "[0.5, -0.5]\n"
     ]
    }
   ],
   "source": [
    "print(calc_R([0, 0], [1, 0]))"
   ]
  },
  {
   "cell_type": "code",
   "execution_count": 3,
   "id": "c2daf7ba",
   "metadata": {},
   "outputs": [],
   "source": [
    "def dragon(n, P, Q):\n",
    "    if n == 0:\n",
    "        return [[P, Q]]\n",
    "    else:\n",
    "        R = calc_R(P, Q)\n",
    "        return dragon(n-1, P, R) + dragon(n-1, Q, R)"
   ]
  },
  {
   "cell_type": "code",
   "execution_count": 4,
   "id": "95d0ac21",
   "metadata": {},
   "outputs": [
    {
     "name": "stdout",
     "output_type": "stream",
     "text": [
      "[[[0, 0], [-0.25, -0.25]], [[0.0, -0.5], [-0.25, -0.25]], [[0.5, -0.5], [0.25, -0.25]], [[0.0, -0.5], [0.25, -0.25]], [[1, 0], [0.75, 0.25]], [[0.5, 0.0], [0.75, 0.25]], [[0.5, -0.5], [0.75, -0.25]], [[0.5, 0.0], [0.75, -0.25]]]\n"
     ]
    }
   ],
   "source": [
    "print(dragon(3, [0, 0], [1, 0]))"
   ]
  },
  {
   "cell_type": "code",
   "execution_count": 5,
   "id": "3f915001",
   "metadata": {},
   "outputs": [],
   "source": [
    "import matplotlib.pyplot as plt\n",
    "from matplotlib.patches import Circle, Polygon\n",
    "from matplotlib.collections import PatchCollection, LineCollection\n",
    "\n",
    "    \n",
    "def draw(L):\n",
    "    plt.style.use('ggplot')\n",
    "    f, ax = plt.subplots()\n",
    "    lc = LineCollection(L)\n",
    "    ax.add_collection(lc)\n",
    "    ax.autoscale(tight=True)\n",
    "    ax.set_aspect('equal')\n",
    "    plt.axis('off')    \n",
    "    plt.show()"
   ]
  },
  {
   "cell_type": "code",
   "execution_count": 8,
   "id": "73319b23",
   "metadata": {},
   "outputs": [
    {
     "data": {
      "image/png": "[encoded data removed]",
      "text/plain": [
       "<Figure size 640x480 with 1 Axes>"
      ]
     },
     "metadata": {},
     "output_type": "display_data"
    }
   ],
   "source": [
    "draw(dragon(0,[0, 0],[1,0]))"
   ]
  },
  {
   "cell_type": "markdown",
   "id": "211f7c9b",
   "metadata": {},
   "source": [
    "# Recursion Basics\n",
    "\n",
    "In recursion, a function calls itself. Recursion is used when a problem can be easily divided into smaller problems of the same form.\n",
    "\n",
    "A recursive function has 2 components:\n",
    "\n",
    "**Base case:** Simplest possible input and prevents infinite recursion.\n",
    "\n",
    "**Recursive step:** Call the same function itself with a smaller/easier input to the function and act on the output of the smaller function call.\n",
    "Key steps to making a function recursive: figure out the base case and the recursive step for your problem.\n",
    "\n",
    "The steps of writing a recursive function:\n",
    "\n",
    "1. Given a large instance of a problem, how can you break the problem down into smaller pieces? (ignore the base-case)\n",
    "1. What instances of the problem do you know the answer to? (base case)\n",
    "1. Put them together"
   ]
  },
  {
   "cell_type": "code",
   "execution_count": null,
   "id": "462b30e8",
   "metadata": {},
   "outputs": [],
   "source": [
    "# Sum all elements in a list\n",
    "def sum_all(L):\n",
    "    ans = 0\n",
    "    for x in L:\n",
    "        ans += x\n",
    "    return x"
   ]
  },
  {
   "cell_type": "code",
   "execution_count": null,
   "id": "89463e04",
   "metadata": {},
   "outputs": [],
   "source": [
    "# Sum all elements in a list, using recursion\n",
    "def sum_all_recursive(L):\n",
    "    if len(L) == 0:\n",
    "        return 0\n",
    "    else:\n",
    "        return L[0] + sum_all_recursive(L[1:])"
   ]
  },
  {
   "cell_type": "code",
   "execution_count": null,
   "id": "011782b9",
   "metadata": {},
   "outputs": [],
   "source": [
    "# Find minimum element in a list\n",
    "def find_min(L):\n",
    "    ans = L[0]\n",
    "    for x in L[1:]:\n",
    "        ans = min(x, ans)\n",
    "    return ans"
   ]
  },
  {
   "cell_type": "code",
   "execution_count": null,
   "id": "8f8b7461",
   "metadata": {},
   "outputs": [],
   "source": [
    "# Find minimum element in a list, using recursion\n",
    "def find_min_recursive(L):\n",
    "    if len(L) == 1:\n",
    "        return L[0]\n",
    "    else:\n",
    "        return min(L[0], find_min_recursive(L[1:]))"
   ]
  },
  {
   "cell_type": "code",
   "execution_count": null,
   "id": "8209d4f0",
   "metadata": {},
   "outputs": [],
   "source": [
    "# multiplication via repeated addition\n",
    "def mult(x, y):\n",
    "    ans = 0\n",
    "    for i in range(y):\n",
    "        ans += x\n",
    "    return ans"
   ]
  },
  {
   "cell_type": "code",
   "execution_count": null,
   "id": "ba1e7188",
   "metadata": {
    "slideshow": {
     "slide_type": "subslide"
    }
   },
   "outputs": [],
   "source": [
    "# now implement it recursively\n",
    "def mult_recursive(x, y):\n",
    "    if y == 0:\n",
    "        return 0\n",
    "    else:\n",
    "        return x + mult_recursive(x, y-1)"
   ]
  },
  {
   "cell_type": "code",
   "execution_count": null,
   "id": "fb70b9f9",
   "metadata": {},
   "outputs": [],
   "source": [
    "# return a to the bth power, i.e. a**b\n",
    "def power(a, b):\n",
    "    ans = 1\n",
    "    for i in range(b):\n",
    "        ans *= a\n",
    "    return ans"
   ]
  },
  {
   "cell_type": "code",
   "execution_count": null,
   "id": "1fdfc799",
   "metadata": {},
   "outputs": [],
   "source": [
    "# do powering using recursion\n",
    "def power_recursive(a, b):\n",
    "    if b == 0:\n",
    "        return 1\n",
    "    else:\n",
    "        return a * power_recursive(a, b-1)"
   ]
  },
  {
   "cell_type": "code",
   "execution_count": null,
   "id": "b7a5f2e6",
   "metadata": {},
   "outputs": [],
   "source": [
    "# sneak peak of the power of algorithms: making procedures more efficient\n",
    "# power_recursive ultimately does multiplication (the '*') operation b-1 times\n",
    "# but fast_power_recursive only needs to do '*' at most 2*log_2(b) times\n",
    "def fast_power_recursive(a, b):\n",
    "    if b == 0:\n",
    "        return 1\n",
    "    else:\n",
    "        x = fast_power_recursive(a, b//2)\n",
    "        x *= x\n",
    "        if b % 2 == 1:\n",
    "            x *= a\n",
    "        return x"
   ]
  },
  {
   "cell_type": "code",
   "execution_count": null,
   "id": "4c04d603",
   "metadata": {},
   "outputs": [],
   "source": [
    "# code below taken from https://stackoverflow.com/questions/39853005/drawing-a-fractal-tree-in-python-not-sure-how-to-proceed\n",
    "# @cdlane answer\n",
    "\n",
    "import turtle\n",
    "\n",
    "WIDTH = 15\n",
    "BRANCH_LENGTH = 120\n",
    "ROTATION_LENGTH = 27\n",
    "\n",
    "\n",
    "class Tree_Fractal(turtle.Turtle):\n",
    "    def __init__(self, level):\n",
    "        super(Tree_Fractal, self).__init__()\n",
    "        self.level = level\n",
    "        self.hideturtle()\n",
    "        self.speed('fastest')\n",
    "        self.left(90)\n",
    "        self.width(WIDTH)\n",
    "        self.penup()\n",
    "        self.back(BRANCH_LENGTH * 1.5)\n",
    "        self.pendown()\n",
    "        self.forward(BRANCH_LENGTH)\n",
    "        self.draw_tree(BRANCH_LENGTH, level)\n",
    "\n",
    "    def draw_tree(self, branch_length, level):\n",
    "        width = self.width()\n",
    "        self.width(width * 3. / 4.)\n",
    "        branch_length *= 3. / 4.\n",
    "        self.left(ROTATION_LENGTH)\n",
    "        self.forward(branch_length)\n",
    "\n",
    "        if level > 0:\n",
    "            self.draw_tree(branch_length, level - 1) # RECURSION!\n",
    "        self.back(branch_length)\n",
    "        self.right(2 * ROTATION_LENGTH)\n",
    "        self.forward(branch_length)\n",
    "\n",
    "        if level > 0:\n",
    "            self.draw_tree(branch_length, level - 1) # RECURSION!\n",
    "        self.back(branch_length)\n",
    "        self.left(ROTATION_LENGTH)\n",
    "\n",
    "        self.width(width)"
   ]
  },
  {
   "cell_type": "code",
   "execution_count": null,
   "id": "1bb32fa7",
   "metadata": {},
   "outputs": [],
   "source": [
    "tree = Tree_Fractal(8)"
   ]
  },
  {
   "cell_type": "code",
   "execution_count": null,
   "id": "3b55e7a2",
   "metadata": {},
   "outputs": [],
   "source": []
  }
 ],
 "metadata": {
  "kernelspec": {
   "display_name": "Python 3 (ipykernel)",
   "language": "python",
   "name": "python3"
  },
  "language_info": {
   "codemirror_mode": {
    "name": "ipython",
    "version": 3
   },
   "file_extension": ".py",
   "mimetype": "text/x-python",
   "name": "python",
   "nbconvert_exporter": "python",
   "pygments_lexer": "ipython3",
   "version": "3.10.12"
  }
 },
 "nbformat": 4,
 "nbformat_minor": 5
}
