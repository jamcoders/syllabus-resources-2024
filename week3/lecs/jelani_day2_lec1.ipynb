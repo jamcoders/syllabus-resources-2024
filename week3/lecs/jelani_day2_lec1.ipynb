{
 "cells": [
  {
   "cell_type": "markdown",
   "id": "93fb8902",
   "metadata": {},
   "source": [
    "# More recursion: evaluating arithmetic expressions"
   ]
  },
  {
   "cell_type": "code",
   "execution_count": 1,
   "id": "60baec22",
   "metadata": {},
   "outputs": [],
   "source": [
    "def combine(x, y, op):\n",
    "    if op == '*':\n",
    "        return x*y\n",
    "    elif op == '/':\n",
    "        return x//y\n",
    "    elif op == '-':\n",
    "        return x-y\n",
    "    else:\n",
    "        return x+y\n",
    "    \n",
    "def is_op(s):\n",
    "    t = '+-*/'\n",
    "    for c in t:\n",
    "        if s == c:\n",
    "            return True\n",
    "    return False\n",
    "\n",
    "# evaluate a fully parenthesized expression, with ints and + - * / as the only allowed operations\n",
    "# there should be a pair of parentheses for every operation in the input\n",
    "def evaluate(s):\n",
    "    # base case\n",
    "    if s[0] != '(':\n",
    "        return int(s)\n",
    "    # recursive step\n",
    "    else:\n",
    "        depth = 0\n",
    "        i = 0\n",
    "        while True:\n",
    "            if s[i] == '(':\n",
    "                depth += 1\n",
    "            elif s[i] == ')':\n",
    "                depth -= 1\n",
    "            elif is_op(s[i]) and depth == 1:\n",
    "                break\n",
    "            i += 1\n",
    "        expr1 = s[1:i]\n",
    "        expr2 = s[i+1:-1]\n",
    "        return combine(evaluate(expr1), evaluate(expr2), s[i])"
   ]
  },
  {
   "cell_type": "code",
   "execution_count": 2,
   "id": "739c69b7",
   "metadata": {},
   "outputs": [
    {
     "name": "stdout",
     "output_type": "stream",
     "text": [
      "48\n"
     ]
    }
   ],
   "source": [
    "print(evaluate('(((1+2)+3)*((5+2)+1))'))"
   ]
  }
 ],
 "metadata": {
  "kernelspec": {
   "display_name": "Python 3 (ipykernel)",
   "language": "python",
   "name": "python3"
  },
  "language_info": {
   "codemirror_mode": {
    "name": "ipython",
    "version": 3
   },
   "file_extension": ".py",
   "mimetype": "text/x-python",
   "name": "python",
   "nbconvert_exporter": "python",
   "pygments_lexer": "ipython3",
   "version": "3.10.12"
  }
 },
 "nbformat": 4,
 "nbformat_minor": 5
}
