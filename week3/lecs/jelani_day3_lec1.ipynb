{
 "cells": [
  {
   "cell_type": "markdown",
   "id": "e27fa649",
   "metadata": {},
   "source": [
    "# Question from a student: is this my first time in Jamaica?"
   ]
  },
  {
   "cell_type": "markdown",
   "id": "f081e98f",
   "metadata": {},
   "source": [
    "![](baby_passport1.png)"
   ]
  },
  {
   "cell_type": "markdown",
   "id": "8ed26fba",
   "metadata": {},
   "source": [
    "![](baby_passport2.png)"
   ]
  },
  {
   "cell_type": "markdown",
   "id": "2a03a048",
   "metadata": {},
   "source": [
    "![](jelani.jpg)"
   ]
  },
  {
   "cell_type": "code",
   "execution_count": 1,
   "id": "df40387f",
   "metadata": {},
   "outputs": [],
   "source": [
    "%config InteractiveShell.ast_node_interactivity=\"none\""
   ]
  },
  {
   "cell_type": "markdown",
   "id": "06ca1b12",
   "metadata": {},
   "source": [
    "# Lab review: recursion"
   ]
  },
  {
   "cell_type": "markdown",
   "id": "c52e786f",
   "metadata": {},
   "source": [
    "## Questions from Monday lab"
   ]
  },
  {
   "cell_type": "markdown",
   "id": "35fde25f",
   "metadata": {},
   "source": [
    "### Question 4: Boolean Recursion"
   ]
  },
  {
   "cell_type": "code",
   "execution_count": null,
   "id": "7f527149",
   "metadata": {},
   "outputs": [],
   "source": [
    "# returns True if x is in L, else returns False\n",
    "def is_in(L, x):\n",
    "    # using for loops ...\n",
    "    for a in L:\n",
    "        if a == x:\n",
    "            return True\n",
    "    return False"
   ]
  },
  {
   "cell_type": "code",
   "execution_count": null,
   "id": "9965e492",
   "metadata": {},
   "outputs": [],
   "source": [
    "def is_in_recursive(L, x):\n",
    "    if len(L) == 0: # base case\n",
    "        return False\n",
    "    else: # recursive step\n",
    "        return L[0]==x or is_in_recursive(L[1:], x)"
   ]
  },
  {
   "cell_type": "markdown",
   "id": "03f878e6",
   "metadata": {},
   "source": [
    "### Question 5.1\n",
    "\n",
    "Help Anita write a function called `ping(n)`:\n",
    "  * if `n == 0`, then `return`.\n",
    "  * If `n > 0`: `ping(n)` should `print('ping')` then call `pong(n - 1)`.\n",
    "\n",
    "Help James write a function called `pong(n)`:\n",
    "* if `n == 0`, then `return`.\n",
    "* `pong(n)` should `print('pong')` then call `ping(n - 1)`.\n",
    "\n",
    "**Warning: If you call both `ping(n)` and `pong(n)`, you will go into an infinite loop. Make sure you are calling `ping(n - 1)` and `pong(n - 1)`. You will also go into an infinite loop if you forget the base case**"
   ]
  },
  {
   "cell_type": "code",
   "execution_count": null,
   "id": "5efe33ed",
   "metadata": {},
   "outputs": [],
   "source": [
    "def ping(n):\n",
    "    if n == 0:\n",
    "        return\n",
    "    else:\n",
    "        print('ping')\n",
    "        pong(n-1)\n",
    "        \n",
    "def pong(n):\n",
    "    if n == 0:\n",
    "        return\n",
    "    else:\n",
    "        print('pong')\n",
    "        ping(n-1)"
   ]
  },
  {
   "cell_type": "code",
   "execution_count": 2,
   "id": "b31e70bc",
   "metadata": {
    "scrolled": true
   },
   "outputs": [
    {
     "name": "stdout",
     "output_type": "stream",
     "text": [
      "ping\n",
      "pong\n",
      "ping\n",
      "pong\n",
      "ping\n"
     ]
    }
   ],
   "source": [
    "ping(5)"
   ]
  },
  {
   "cell_type": "markdown",
   "id": "c4a5cbca",
   "metadata": {},
   "source": [
    "### Palindromes: given a string s, determine whether it is a palindrome (same forwards and backwards)"
   ]
  },
  {
   "cell_type": "code",
   "execution_count": 3,
   "id": "8457f444",
   "metadata": {},
   "outputs": [],
   "source": [
    "def is_palindrome(s):\n",
    "    for i in range(len(s)//2):\n",
    "        if s[i] != s[-i-1]:\n",
    "            return False\n",
    "    return True"
   ]
  },
  {
   "cell_type": "code",
   "execution_count": 4,
   "id": "450da717",
   "metadata": {
    "scrolled": false
   },
   "outputs": [
    {
     "name": "stdout",
     "output_type": "stream",
     "text": [
      "False\n",
      "False\n",
      "True\n",
      "True\n"
     ]
    }
   ],
   "source": [
    "print(is_palindrome('hello'))\n",
    "print(is_palindrome('dogs'))\n",
    "print(is_palindrome('bob'))\n",
    "print(is_palindrome('noon'))"
   ]
  },
  {
   "cell_type": "code",
   "execution_count": 5,
   "id": "7ea794ed",
   "metadata": {},
   "outputs": [],
   "source": [
    "def is_palindrome2(s):\n",
    "    return s == s[::-1] # more compact solution using slicing"
   ]
  },
  {
   "cell_type": "code",
   "execution_count": 5,
   "id": "3e8bd1e7",
   "metadata": {},
   "outputs": [],
   "source": [
    "def is_palindrome_recursive(s):\n",
    "    if len(s) < 2: # base case\n",
    "        return True\n",
    "    else: # recursive step\n",
    "        return s[0]==s[-1] and is_palindrome_recursive(s[1:-1])"
   ]
  },
  {
   "cell_type": "code",
   "execution_count": 6,
   "id": "25964743",
   "metadata": {
    "scrolled": true
   },
   "outputs": [
    {
     "name": "stdout",
     "output_type": "stream",
     "text": [
      "False\n",
      "False\n",
      "True\n",
      "True\n"
     ]
    }
   ],
   "source": [
    "print(is_palindrome_recursive('hello'))\n",
    "print(is_palindrome_recursive('dogs'))\n",
    "print(is_palindrome_recursive('bob'))\n",
    "print(is_palindrome_recursive('noon'))"
   ]
  },
  {
   "cell_type": "markdown",
   "id": "9929ea2e",
   "metadata": {},
   "source": [
    "## Questions from Monday lab"
   ]
  },
  {
   "cell_type": "markdown",
   "id": "4226bfbc",
   "metadata": {},
   "source": [
    "### Q3: Skip Print\n",
    "\n",
    "Write a function `skipping_print` which takes `n` as an argument and prints every other number from $n$ down to $0$ in decrements of 2.\n",
    "\n",
    "For example, `skipping_print(5)` should print `5, 3, 1` and `skipping_print(8)` should print `8, 6, 4, 2, 0`"
   ]
  },
  {
   "cell_type": "code",
   "execution_count": null,
   "id": "2086549d",
   "metadata": {},
   "outputs": [],
   "source": [
    "def skipping_print(n):\n",
    "    for x in range(n,-1,-2):\n",
    "        print(x)"
   ]
  },
  {
   "cell_type": "code",
   "execution_count": 11,
   "id": "f7440abb",
   "metadata": {
    "scrolled": true
   },
   "outputs": [
    {
     "name": "stdout",
     "output_type": "stream",
     "text": [
      "5\n",
      "3\n",
      "1\n"
     ]
    }
   ],
   "source": [
    "skipping_print(5)"
   ]
  },
  {
   "cell_type": "code",
   "execution_count": 12,
   "id": "ebf8570d",
   "metadata": {},
   "outputs": [
    {
     "name": "stdout",
     "output_type": "stream",
     "text": [
      "4\n",
      "2\n",
      "0\n"
     ]
    }
   ],
   "source": [
    "skipping_print(4)"
   ]
  },
  {
   "cell_type": "code",
   "execution_count": null,
   "id": "6f174c2a",
   "metadata": {},
   "outputs": [],
   "source": [
    "def skipping_print_recursive(n):\n",
    "    if n < 0: # base case\n",
    "        return\n",
    "    else: # recursive step\n",
    "        print(n)\n",
    "        skipping_print_recursive(n-2)"
   ]
  },
  {
   "cell_type": "code",
   "execution_count": 14,
   "id": "9774b222",
   "metadata": {},
   "outputs": [
    {
     "name": "stdout",
     "output_type": "stream",
     "text": [
      "5\n",
      "3\n",
      "1\n"
     ]
    }
   ],
   "source": [
    "skipping_print_recursive(5)"
   ]
  }
 ],
 "metadata": {
  "kernelspec": {
   "display_name": "Python 3 (ipykernel)",
   "language": "python",
   "name": "python3"
  },
  "language_info": {
   "codemirror_mode": {
    "name": "ipython",
    "version": 3
   },
   "file_extension": ".py",
   "mimetype": "text/x-python",
   "name": "python",
   "nbconvert_exporter": "python",
   "pygments_lexer": "ipython3",
   "version": "3.10.12"
  }
 },
 "nbformat": 4,
 "nbformat_minor": 5
}
