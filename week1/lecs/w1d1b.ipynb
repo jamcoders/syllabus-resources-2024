{
 "cells": [
  {
   "cell_type": "markdown",
   "metadata": {
    "editable": true,
    "id": "P_F0_IkBFo_q",
    "jp-MarkdownHeadingCollapsed": true,
    "slideshow": {
     "slide_type": "slide"
    },
    "tags": []
   },
   "source": [
    "# JamCoders Day 1 Lecture 2\n",
    "\n",
    "### Boaz Barak"
   ]
  },
  {
   "cell_type": "markdown",
   "metadata": {
    "editable": true,
    "jp-MarkdownHeadingCollapsed": true,
    "slideshow": {
     "slide_type": "skip"
    },
    "tags": []
   },
   "source": [
    "## Image inversion"
   ]
  },
  {
   "cell_type": "code",
   "execution_count": null,
   "metadata": {
    "editable": true,
    "slideshow": {
     "slide_type": "skip"
    },
    "tags": []
   },
   "outputs": [],
   "source": [
    "%config InteractiveShell.ast_node_interactivity=\"none\"\n",
    "\n",
    "# Utility functions: you can ignore these for now.\n",
    "import matplotlib.pyplot as plt\n",
    "import numpy as np\n",
    "from PIL import Image\n",
    "\n",
    "W = 1000\n",
    "H = 400\n",
    "def show(grayscale_values):\n",
    "    if len(grayscale_values) != W*H:\n",
    "        raise ValueError(f\"The list must contain exactly {W*H} grayscale values.\")\n",
    "    image_array = np.array(grayscale_values).reshape(H, W)\n",
    "    plt.imshow(image_array, cmap='gray', vmin=0, vmax=255)\n",
    "    plt.axis('off')\n",
    "    plt.show()\n",
    "\n",
    "def load(image_path):\n",
    "    with Image.open(image_path) as img:\n",
    "        img = img.convert('L')  # Convert image to grayscale\n",
    "        img = img.resize((W, H))  # Resize image to W*H\n",
    "        grayscale_values = list(img.getdata())\n",
    "        return grayscale_values\n",
    "\n",
    "uwi =load(\"uwi_sign2.jpg\")\n"
   ]
  },
  {
   "cell_type": "code",
   "execution_count": null,
   "metadata": {
    "editable": true,
    "slideshow": {
     "slide_type": "skip"
    },
    "tags": []
   },
   "outputs": [],
   "source": [
    "show(uwi)"
   ]
  },
  {
   "cell_type": "code",
   "execution_count": null,
   "metadata": {
    "editable": true,
    "slideshow": {
     "slide_type": "skip"
    },
    "tags": []
   },
   "outputs": [],
   "source": [
    "print(uwi[:100])"
   ]
  },
  {
   "cell_type": "code",
   "execution_count": null,
   "metadata": {
    "editable": true,
    "scrolled": true,
    "slideshow": {
     "slide_type": "skip"
    },
    "tags": []
   },
   "outputs": [],
   "source": [
    "show(uwi)"
   ]
  },
  {
   "cell_type": "code",
   "execution_count": null,
   "metadata": {
    "editable": true,
    "scrolled": true,
    "slideshow": {
     "slide_type": "skip"
    },
    "tags": []
   },
   "outputs": [],
   "source": [
    "def invert(image):\n",
    "    for i in range(len(image)):\n",
    "        image[i]=255-image[i]\n",
    "\n",
    "invert(uwi)\n",
    "show(uwi)"
   ]
  },
  {
   "cell_type": "code",
   "execution_count": null,
   "metadata": {},
   "outputs": [],
   "source": [
    "boaz=1"
   ]
  },
  {
   "cell_type": "code",
   "execution_count": null,
   "metadata": {},
   "outputs": [],
   "source": [
    "del boaz"
   ]
  },
  {
   "cell_type": "markdown",
   "metadata": {},
   "source": [
    "## Lecture 2\n",
    "<br><br><br><br><br><br><br><br><br><br><br><br><br><br><br><br><br><br><br><br><br><br><br><br><br><br><br><br><br><br><br><br><br><br><br><br><br><br><br><br>"
   ]
  },
  {
   "cell_type": "markdown",
   "metadata": {
    "editable": true,
    "id": "1lpdpPUmoChB",
    "slideshow": {
     "slide_type": "slide"
    },
    "tags": []
   },
   "source": [
    "# Reminder"
   ]
  },
  {
   "cell_type": "code",
   "execution_count": 46,
   "metadata": {},
   "outputs": [
    {
     "name": "stdout",
     "output_type": "stream",
     "text": [
      "Length of L is  4\n",
      "L[2] is  4\n"
     ]
    }
   ],
   "source": [
    "L = [12,8,4,19]\n",
    "print(\"Length of L is \", len(L))\n",
    "print(\"L[2] is \",L[2])"
   ]
  },
  {
   "cell_type": "markdown",
   "metadata": {},
   "source": [
    "<br><br><br><br><br><br><br><br><br><br><br><br><br><br><br><br>"
   ]
  },
  {
   "cell_type": "code",
   "execution_count": 57,
   "metadata": {
    "editable": true,
    "id": "CehzuQr2oChB",
    "slideshow": {
     "slide_type": "slide"
    },
    "tags": []
   },
   "outputs": [],
   "source": [
    "def find_min(L):\n",
    "    n = len(L)\n",
    "    current_min = L[0]\n",
    "    i = 1 \n",
    "    while i < n:\n",
    "        if L[i]<current_min:\n",
    "            current_min = L[i]\n",
    "        i = i + 1\n",
    "    return current_min"
   ]
  },
  {
   "cell_type": "code",
   "execution_count": 59,
   "metadata": {
    "editable": true,
    "id": "GPiwAMtvoChC",
    "outputId": "4b2e1b80-935d-48e0-f924-7f7aceb5a62b",
    "slideshow": {
     "slide_type": "fragment"
    },
    "tags": []
   },
   "outputs": [
    {
     "name": "stdout",
     "output_type": "stream",
     "text": [
      "0\n"
     ]
    }
   ],
   "source": [
    "L = [15, 3, 17, 22, 9 ,2, 8,15, 3, 17, 22, 9 ,2, 8,15, 3, 17, 22, 9 ,2, 8,15, 3, 17, 22, 9 ,2, 8,15, 3, 17, 22, 9 ,2, 8,15, 1, 17, 22, 9 ,2, 8,15, 0, 17, 22, 9 ,2, 8]\n",
    "print(find_min(L))"
   ]
  },
  {
   "cell_type": "markdown",
   "metadata": {},
   "source": [
    "<br><br><br><br><br><br><br><br>"
   ]
  },
  {
   "cell_type": "markdown",
   "metadata": {
    "editable": true,
    "id": "tyosCIpqoChC",
    "slideshow": {
     "slide_type": "slide"
    },
    "tags": []
   },
   "source": [
    "# Seeing what's going on"
   ]
  },
  {
   "cell_type": "markdown",
   "metadata": {
    "editable": true,
    "id": "VS8JBIl6ndpV",
    "slideshow": {
     "slide_type": "slide"
    },
    "tags": []
   },
   "source": [
    "## The print statement"
   ]
  },
  {
   "cell_type": "code",
   "execution_count": 49,
   "metadata": {
    "editable": true,
    "id": "VN4J77yfoChC",
    "outputId": "a262156f-a931-44a1-f213-30384947cbf8",
    "slideshow": {
     "slide_type": "slide"
    },
    "tags": []
   },
   "outputs": [
    {
     "name": "stdout",
     "output_type": "stream",
     "text": [
      "Hello\n"
     ]
    }
   ],
   "source": [
    "print(\"Hello\")"
   ]
  },
  {
   "cell_type": "code",
   "execution_count": 52,
   "metadata": {
    "editable": true,
    "id": "vJsJ6ITCndpW",
    "outputId": "a262156f-a931-44a1-f213-30384947cbf8",
    "slideshow": {
     "slide_type": "fragment"
    },
    "tags": []
   },
   "outputs": [
    {
     "name": "stdout",
     "output_type": "stream",
     "text": [
      "Hello, the variable x squared is equal to 484\n"
     ]
    }
   ],
   "source": [
    "x = 22\n",
    "print(f\"Hello, the variable x squared is equal to {x*x}\")"
   ]
  },
  {
   "cell_type": "code",
   "execution_count": 53,
   "metadata": {
    "editable": true,
    "id": "uuhpWjsXndpX",
    "outputId": "eff60a02-4b6e-47b8-8f38-0be6c47b1a89",
    "slideshow": {
     "slide_type": "fragment"
    },
    "tags": []
   },
   "outputs": [
    {
     "name": "stdout",
     "output_type": "stream",
     "text": [
      "Hello\n",
      "World\n"
     ]
    }
   ],
   "source": [
    "print(\"Hello\")\n",
    "print(\"World\")"
   ]
  },
  {
   "cell_type": "code",
   "execution_count": 54,
   "metadata": {
    "editable": true,
    "id": "9wzpFBCZndpX",
    "outputId": "858c1550-e67e-4859-dbbc-7cd0fd50635a",
    "slideshow": {
     "slide_type": "fragment"
    },
    "tags": []
   },
   "outputs": [
    {
     "name": "stdout",
     "output_type": "stream",
     "text": [
      "7 Banana 110\n"
     ]
    }
   ],
   "source": [
    "print(7, \"Banana\", x*5)"
   ]
  },
  {
   "cell_type": "markdown",
   "metadata": {},
   "source": [
    "<br><br><br><br><br><br><br><br><br><br><br><br><br><br><br><br>"
   ]
  },
  {
   "cell_type": "markdown",
   "metadata": {
    "editable": true,
    "id": "g-skOstgndpY",
    "slideshow": {
     "slide_type": "slide"
    },
    "tags": []
   },
   "source": [
    "## Using print to see how a program funs"
   ]
  },
  {
   "cell_type": "code",
   "execution_count": 55,
   "metadata": {
    "editable": true,
    "id": "fpHYNq--oChD",
    "slideshow": {
     "slide_type": "slide"
    },
    "tags": []
   },
   "outputs": [],
   "source": [
    "def find_min(L):\n",
    "    n = len(L)\n",
    "    print(f\"Length of L is {n}. Values: {L}\")\n",
    "    current_min = L[0]\n",
    "    print(f\"current_min is {current_min}\")\n",
    "    i = 1\n",
    "    print(\"Entering loop\")\n",
    "    while i < n:\n",
    "        input(f\"  Loop with i={i}, L[i]={L[i]}, current_min={current_min}\")\n",
    "        if L[i]<current_min:\n",
    "            print(f\"  -> Updating current_min to {L[i]}\")\n",
    "            current_min = L[i]\n",
    "        i = i + 1\n",
    "    input(\"Exited loop\")\n",
    "    print(f\"Value of i is {i}\")\n",
    "    print(f\"Value of current_min is {current_min}\")\n",
    "    print(f\"Final output is {current_min}.\")\n",
    "    return current_min"
   ]
  },
  {
   "cell_type": "code",
   "execution_count": 56,
   "metadata": {
    "editable": true,
    "id": "dtO6S7AxoChE",
    "outputId": "6db49757-932a-405d-8d0f-45f1e2d1a245",
    "slideshow": {
     "slide_type": "fragment"
    },
    "tags": []
   },
   "outputs": [
    {
     "name": "stdout",
     "output_type": "stream",
     "text": [
      "Length of L is 7. Values: [15, 3, 17, 22, 9, 2, 8]\n",
      "current_min is 15\n",
      "Entering loop\n"
     ]
    },
    {
     "name": "stdin",
     "output_type": "stream",
     "text": [
      "  Loop with i=1, L[i]=3, current_min=15 \n"
     ]
    },
    {
     "name": "stdout",
     "output_type": "stream",
     "text": [
      "  -> Updating current_min to 3\n"
     ]
    },
    {
     "name": "stdin",
     "output_type": "stream",
     "text": [
      "  Loop with i=2, L[i]=17, current_min=3 \n",
      "  Loop with i=3, L[i]=22, current_min=3 \n",
      "  Loop with i=4, L[i]=9, current_min=3 \n",
      "  Loop with i=5, L[i]=2, current_min=3 \n"
     ]
    },
    {
     "name": "stdout",
     "output_type": "stream",
     "text": [
      "  -> Updating current_min to 2\n"
     ]
    },
    {
     "name": "stdin",
     "output_type": "stream",
     "text": [
      "  Loop with i=6, L[i]=8, current_min=2 \n",
      "Exited loop \n"
     ]
    },
    {
     "name": "stdout",
     "output_type": "stream",
     "text": [
      "Value of i is 7\n",
      "Value of current_min is 2\n",
      "Final output is 2.\n"
     ]
    }
   ],
   "source": [
    "L = [15, 3, 17, 22, 9 , 2, 8]\n",
    "find_min(L)"
   ]
  },
  {
   "cell_type": "markdown",
   "metadata": {},
   "source": [
    "<br><br><br><br><br><br><br><br><br><br><br><br><br><br><br><br><br><br><br><br><br><br><br><br><br><br><br><br><br><br><br><br><br><br><br><br><br><br><br><br>"
   ]
  },
  {
   "cell_type": "markdown",
   "metadata": {
    "editable": true,
    "id": "JCq93wLonjuS",
    "jp-MarkdownHeadingCollapsed": true,
    "slideshow": {
     "slide_type": "slide"
    },
    "tags": []
   },
   "source": [
    "## Components of Python programs:\n",
    "\n",
    "* __Variables:__ storing data of types `int`, `str`, `float`, `list`,...\n",
    "\n",
    "* __Operations:__ `+`, `*`  , ...\n",
    "\n",
    "* __Control flow:__ Decide when to execute instructions: `if`, `while`,.... \n",
    "    "
   ]
  },
  {
   "cell_type": "markdown",
   "metadata": {
    "editable": true,
    "id": "IXRHdZCIFo_x",
    "slideshow": {
     "slide_type": "slide"
    },
    "tags": []
   },
   "source": [
    "# Operations on numbers"
   ]
  },
  {
   "cell_type": "markdown",
   "metadata": {
    "editable": true,
    "slideshow": {
     "slide_type": "slide"
    },
    "tags": []
   },
   "source": [
    "Two main number types: `int`: whole numbers and `float`: numbers that could have fractions"
   ]
  },
  {
   "cell_type": "code",
   "execution_count": 60,
   "metadata": {
    "editable": true,
    "slideshow": {
     "slide_type": "fragment"
    },
    "tags": []
   },
   "outputs": [
    {
     "name": "stdout",
     "output_type": "stream",
     "text": [
      "<class 'int'> <class 'float'>\n"
     ]
    }
   ],
   "source": [
    "print( type(4) , type(5.5))"
   ]
  },
  {
   "cell_type": "code",
   "execution_count": 62,
   "metadata": {
    "editable": true,
    "slideshow": {
     "slide_type": "fragment"
    },
    "tags": []
   },
   "outputs": [
    {
     "name": "stdout",
     "output_type": "stream",
     "text": [
      "<class 'float'>\n"
     ]
    }
   ],
   "source": [
    "print(type(1.5-0.5))"
   ]
  },
  {
   "cell_type": "code",
   "execution_count": 63,
   "metadata": {
    "editable": true,
    "id": "-fXIi7N8FpAX",
    "outputId": "7bf8c6db-394a-493e-9656-4e159a3632d4",
    "slideshow": {
     "slide_type": "slide"
    },
    "tags": []
   },
   "outputs": [
    {
     "name": "stdout",
     "output_type": "stream",
     "text": [
      "17\n"
     ]
    }
   ],
   "source": [
    "# An example of \"modulus\" or \"mod\" or \"finding the remainder\"\n",
    "morning_lecture = 9\n",
    "end_of_day = morning_lecture + 8 \n",
    "print( end_of_day )"
   ]
  },
  {
   "cell_type": "code",
   "execution_count": 65,
   "metadata": {
    "editable": true,
    "slideshow": {
     "slide_type": "fragment"
    },
    "tags": []
   },
   "outputs": [
    {
     "name": "stdout",
     "output_type": "stream",
     "text": [
      "5\n"
     ]
    }
   ],
   "source": [
    "print( end_of_day % 12 )"
   ]
  },
  {
   "cell_type": "code",
   "execution_count": 66,
   "metadata": {
    "editable": true,
    "id": "FhOiAyJJFpAa",
    "outputId": "ee7413fe-6a3e-4bfa-e8bf-7615f7012573",
    "slideshow": {
     "slide_type": ""
    },
    "tags": []
   },
   "outputs": [
    {
     "name": "stdout",
     "output_type": "stream",
     "text": [
      "2\n"
     ]
    }
   ],
   "source": [
    "# What is the answer?\n",
    "print(8 % 3 )"
   ]
  },
  {
   "cell_type": "code",
   "execution_count": 67,
   "metadata": {
    "id": "fZ4ALouTFpAi",
    "outputId": "1a9a5809-c085-4c83-8e9f-1e5a54674d16"
   },
   "outputs": [
    {
     "name": "stdout",
     "output_type": "stream",
     "text": [
      "3\n"
     ]
    }
   ],
   "source": [
    "# And now?\n",
    "print( 143 % 5 )"
   ]
  },
  {
   "cell_type": "markdown",
   "metadata": {},
   "source": [
    "<br><br><br><br><br><br><br><br><br><br><br><br><br><br><br><br><br><br><br><br><br><br><br><br><br><br><br><br><br><br><br><br><br><br><br><br><br><br><br><br>"
   ]
  },
  {
   "cell_type": "markdown",
   "metadata": {
    "id": "xKUmOThjnjug"
   },
   "source": [
    "# Example"
   ]
  },
  {
   "cell_type": "code",
   "execution_count": 68,
   "metadata": {
    "id": "i5S4eGcTnjug",
    "outputId": "28cef885-7568-4e95-eeff-c163bb3841eb"
   },
   "outputs": [
    {
     "name": "stdout",
     "output_type": "stream",
     "text": [
      "31536000\n"
     ]
    }
   ],
   "source": [
    "seconds_in_minute = 60\n",
    "minutes_in_hours = 60\n",
    "hours_in_day = 24\n",
    "days_in_year = 365\n",
    "\n",
    "seconds_in_year = seconds_in_minute * minutes_in_hours * hours_in_day * days_in_year\n",
    "print(seconds_in_year)"
   ]
  },
  {
   "cell_type": "code",
   "execution_count": 69,
   "metadata": {
    "id": "N3UrpIWinjuh",
    "outputId": "2d93ef95-9163-4b95-b87d-5e2dbdc186c2"
   },
   "outputs": [
    {
     "name": "stdout",
     "output_type": "stream",
     "text": [
      "You've been alive for 504,576,000 seconds\n"
     ]
    }
   ],
   "source": [
    "age = 16\n",
    "print(f\"You've been alive for {age*seconds_in_year:,} seconds\")"
   ]
  },
  {
   "cell_type": "code",
   "execution_count": 73,
   "metadata": {},
   "outputs": [
    {
     "name": "stdout",
     "output_type": "stream",
     "text": [
      "<class 'int'>\n"
     ]
    }
   ],
   "source": [
    "print( type(16 * seconds_in_year) )"
   ]
  },
  {
   "cell_type": "code",
   "execution_count": 74,
   "metadata": {},
   "outputs": [
    {
     "name": "stdout",
     "output_type": "stream",
     "text": [
      "<class 'float'>\n"
     ]
    }
   ],
   "source": [
    "print( type(25.2 * seconds_in_year) )"
   ]
  },
  {
   "cell_type": "code",
   "execution_count": 70,
   "metadata": {
    "id": "EiLJW6jlnjuh"
   },
   "outputs": [],
   "source": [
    "names = [\"Nia\", \"Reggie\", \"Sean\" ]\n",
    "ages = [ 16 , 25.2, 16 + 11/12 ]"
   ]
  },
  {
   "cell_type": "code",
   "execution_count": 71,
   "metadata": {
    "id": "x62m49wPnjuh",
    "outputId": "33d7c4cd-7d35-4e3a-ce57-cb2802c96ce1"
   },
   "outputs": [
    {
     "name": "stdout",
     "output_type": "stream",
     "text": [
      "Nia has been alive for 504,576,000 seconds\n",
      "Reggie has been alive for 794,707,200.0 seconds\n",
      "Sean has been alive for 533,484,000.00000006 seconds\n"
     ]
    }
   ],
   "source": [
    "for i in range(len(names)):\n",
    "    name = names[i]\n",
    "    age = ages[i]\n",
    "    print(f\"{name} has been alive for {age*seconds_in_year:,} seconds\")"
   ]
  },
  {
   "cell_type": "markdown",
   "metadata": {},
   "source": [
    "<br><br><br><br><br><br><br><br><br><br><br><br><br><br><br><br><br><br><br><br><br><br><br><br><br><br><br><br><br><br><br><br><br><br><br><br><br><br><br><br>"
   ]
  },
  {
   "cell_type": "markdown",
   "metadata": {
    "id": "YH_o3R-Lnjui"
   },
   "source": [
    "## Difference between `=` and `==`\n",
    "\n",
    "`x = 5`: Assign the value `5` to the variable `x`\n",
    "\n",
    "`x==5`: Is `True` if `x` equals to `5` already and is `False` otherwise"
   ]
  },
  {
   "cell_type": "code",
   "execution_count": 75,
   "metadata": {
    "id": "TX5nRDmkFpAr"
   },
   "outputs": [
    {
     "name": "stdout",
     "output_type": "stream",
     "text": [
      "5\n"
     ]
    }
   ],
   "source": [
    "x = 7\n",
    "x = 5\n",
    "print(x)"
   ]
  },
  {
   "cell_type": "code",
   "execution_count": 77,
   "metadata": {
    "id": "pOeINgNVnjui",
    "outputId": "54214b78-7741-42ed-908a-c390505db89e"
   },
   "outputs": [
    {
     "name": "stdout",
     "output_type": "stream",
     "text": [
      "False\n",
      "7\n"
     ]
    }
   ],
   "source": [
    "x=7\n",
    "print(x == 5)\n",
    "print(x)"
   ]
  },
  {
   "cell_type": "code",
   "execution_count": null,
   "metadata": {
    "id": "T82YAADAnjuj",
    "outputId": "61096a30-7b77-4cec-c1a4-1eebfa887f69"
   },
   "outputs": [],
   "source": [
    "x == 7"
   ]
  },
  {
   "cell_type": "code",
   "execution_count": null,
   "metadata": {
    "id": "_7w6kZYjnjuj"
   },
   "outputs": [],
   "source": [
    "x = 7"
   ]
  },
  {
   "cell_type": "code",
   "execution_count": null,
   "metadata": {
    "id": "t_edeRrRnjuj",
    "outputId": "17f2f53a-f1b1-48e8-cbc8-e0e5d07d4d3e"
   },
   "outputs": [],
   "source": [
    "x == 7"
   ]
  },
  {
   "cell_type": "code",
   "execution_count": 80,
   "metadata": {
    "id": "WnL54z3Vnjuk",
    "outputId": "471defbd-5ef3-45bf-b61b-4d637da068ce"
   },
   "outputs": [
    {
     "ename": "NameError",
     "evalue": "name 'new_variable_i_didnt_declare' is not defined",
     "output_type": "error",
     "traceback": [
      "\u001b[0;31m---------------------------------------------------------------------------\u001b[0m",
      "\u001b[0;31mNameError\u001b[0m                                 Traceback (most recent call last)",
      "Cell \u001b[0;32mIn[80], line 1\u001b[0m\n\u001b[0;32m----> 1\u001b[0m \u001b[38;5;28mprint\u001b[39m ( \u001b[38;5;241m7\u001b[39m \u001b[38;5;241m==\u001b[39m new_variable_i_didnt_declare )\n",
      "\u001b[0;31mNameError\u001b[0m: name 'new_variable_i_didnt_declare' is not defined"
     ]
    }
   ],
   "source": [
    "print ( 7 == new_variable_i_didnt_declare )"
   ]
  },
  {
   "cell_type": "code",
   "execution_count": 79,
   "metadata": {
    "id": "Uoa6Vj0anjuk",
    "outputId": "e22bc013-936a-45d6-d552-0a30637436ac"
   },
   "outputs": [
    {
     "ename": "SyntaxError",
     "evalue": "cannot assign to literal here. Maybe you meant '==' instead of '='? (2109587270.py, line 1)",
     "output_type": "error",
     "traceback": [
      "\u001b[0;36m  Cell \u001b[0;32mIn[79], line 1\u001b[0;36m\u001b[0m\n\u001b[0;31m    7 = x\u001b[0m\n\u001b[0m    ^\u001b[0m\n\u001b[0;31mSyntaxError\u001b[0m\u001b[0;31m:\u001b[0m cannot assign to literal here. Maybe you meant '==' instead of '='?\n"
     ]
    }
   ],
   "source": [
    "7 = x"
   ]
  },
  {
   "cell_type": "code",
   "execution_count": 81,
   "metadata": {
    "id": "HMW-xjPPFpAt",
    "outputId": "b052aed7-5872-488d-d5e9-dc2abf216193"
   },
   "outputs": [
    {
     "name": "stdout",
     "output_type": "stream",
     "text": [
      "16 20\n"
     ]
    }
   ],
   "source": [
    "# Order of operations matters!\n",
    "# *, /, % happen first, in the order they appear\n",
    "print ( 1 + 3 * 5,  (1+3)*5 )"
   ]
  },
  {
   "cell_type": "markdown",
   "metadata": {},
   "source": [
    "<br><br><br><br><br><br><br><br><br><br><br><br><br><br><br><br><br><br><br><br><br><br><br><br><br><br><br><br><br><br><br><br><br><br><br><br><br><br><br><br>"
   ]
  },
  {
   "cell_type": "markdown",
   "metadata": {
    "id": "DWYia9noFpAv"
   },
   "source": [
    "# Operations (boolean types)"
   ]
  },
  {
   "cell_type": "code",
   "execution_count": 82,
   "metadata": {
    "id": "8EAcG9vlnjul",
    "outputId": "12737080-078c-4758-b67c-96eea7be4e27"
   },
   "outputs": [
    {
     "name": "stdout",
     "output_type": "stream",
     "text": [
      "x is variable of type <class 'bool'> and its value is True\n"
     ]
    }
   ],
   "source": [
    "x = (12 > 7)\n",
    "print(f\"x is variable of type {type(x)} and its value is {x}\")"
   ]
  },
  {
   "cell_type": "code",
   "execution_count": 84,
   "metadata": {
    "id": "g6mcVP-_njul"
   },
   "outputs": [
    {
     "name": "stdout",
     "output_type": "stream",
     "text": [
      "x is False\n"
     ]
    }
   ],
   "source": [
    "x = (5 < 3)\n",
    "if x == True:\n",
    "    print(\"x is True\")\n",
    "else:\n",
    "    print(\"x is False\")"
   ]
  },
  {
   "cell_type": "code",
   "execution_count": 86,
   "metadata": {},
   "outputs": [
    {
     "name": "stdout",
     "output_type": "stream",
     "text": [
      "x is True\n"
     ]
    }
   ],
   "source": [
    "x = (2 < 3)\n",
    "if x:\n",
    "    print(\"x is True\")"
   ]
  },
  {
   "cell_type": "code",
   "execution_count": 87,
   "metadata": {
    "id": "UdXSen9GFpAx",
    "outputId": "7fa25af4-39d6-4651-a785-983d86d5f9b9"
   },
   "outputs": [
    {
     "name": "stdout",
     "output_type": "stream",
     "text": [
      "False\n"
     ]
    }
   ],
   "source": [
    "# Booleans can be combined using logical ands\n",
    "# The result of logical and is True if and only if both sides are True\n",
    "\n",
    "print ( (12 > 7) and (3 > 8) )"
   ]
  },
  {
   "cell_type": "code",
   "execution_count": 88,
   "metadata": {
    "id": "e24S0vhuFpAy",
    "outputId": "bacfca78-72b9-4f1b-eab9-f67b94392825"
   },
   "outputs": [
    {
     "name": "stdout",
     "output_type": "stream",
     "text": [
      "True\n"
     ]
    }
   ],
   "source": [
    "# Booleans can be combined using logical ors\n",
    "# The result of logical or is True if either side is True\n",
    "\n",
    "print( (12 > 7) or (3 > 8) )"
   ]
  },
  {
   "cell_type": "code",
   "execution_count": null,
   "metadata": {
    "id": "wzosrvLnFpAz",
    "outputId": "54d422a6-8225-4905-df61-a333339bf0de"
   },
   "outputs": [],
   "source": [
    "# You can put operations that result in booleans and combine them\n",
    "(1 == 1) and (2 == 2)"
   ]
  },
  {
   "cell_type": "code",
   "execution_count": 89,
   "metadata": {
    "id": "xh8TKdcNFpA0",
    "outputId": "ce9f0cb8-f257-47e7-9b18-309947d4c8e7"
   },
   "outputs": [
    {
     "name": "stdout",
     "output_type": "stream",
     "text": [
      "False\n"
     ]
    }
   ],
   "source": [
    "# Logical negation changes True to False\n",
    "print( not (2*4 == 8) )"
   ]
  },
  {
   "cell_type": "code",
   "execution_count": null,
   "metadata": {
    "id": "cq9eyU5mFpA0",
    "outputId": "364582d6-339e-47de-c6a7-e3fcaad6fa28"
   },
   "outputs": [],
   "source": [
    "# and False to True\n",
    "not False"
   ]
  },
  {
   "cell_type": "markdown",
   "metadata": {},
   "source": [
    "<br><br><br><br><br><br><br><br><br><br><br><br><br><br><br><br><br><br><br><br><br><br><br><br><br><br><br><br><br><br><br><br><br><br><br><br><br><br><br><br>"
   ]
  },
  {
   "cell_type": "markdown",
   "metadata": {
    "id": "AkYLPOhYFpA3"
   },
   "source": [
    "# Operations (string, list)"
   ]
  },
  {
   "cell_type": "code",
   "execution_count": 102,
   "metadata": {
    "id": "nxGB1YdRFpA4",
    "outputId": "7ea3dd92-6d79-4ee4-d2f3-347d9816ef82"
   },
   "outputs": [
    {
     "name": "stdout",
     "output_type": "stream",
     "text": [
      "JamCoder's\n",
      "m\n"
     ]
    }
   ],
   "source": [
    "# Adding strings is called \"concatenation\"\n",
    "x = 'Jam' + \"Coder's\"\n",
    "print(x)\n",
    "print(x[2])"
   ]
  },
  {
   "cell_type": "code",
   "execution_count": 100,
   "metadata": {
    "id": "VrlnUYjYFpA7",
    "outputId": "d95e3d4a-a49b-4dd7-d663-519202ef2a27"
   },
   "outputs": [
    {
     "name": "stdout",
     "output_type": "stream",
     "text": [
      "[1, 7, 8, 2, 2]\n"
     ]
    }
   ],
   "source": [
    "# Adding list is also called \"concatenation\"\n",
    "x = [1,7,8, 2] + [2]\n",
    "print(x)"
   ]
  },
  {
   "cell_type": "code",
   "execution_count": null,
   "metadata": {},
   "outputs": [],
   "source": [
    "print(x[2])"
   ]
  },
  {
   "cell_type": "code",
   "execution_count": 103,
   "metadata": {
    "id": "wca46ADzFpA5",
    "outputId": "b0502485-b786-4a7e-8327-bca353a213ab"
   },
   "outputs": [
    {
     "name": "stdout",
     "output_type": "stream",
     "text": [
      "1\n"
     ]
    }
   ],
   "source": [
    "# Aside: can you have a 1-element list?\n",
    "print(len([27]))"
   ]
  },
  {
   "cell_type": "code",
   "execution_count": 104,
   "metadata": {
    "id": "Kg6nu3oCFpA6",
    "outputId": "f528d0a0-c1a9-4c53-a379-05288fa2971e"
   },
   "outputs": [
    {
     "name": "stdout",
     "output_type": "stream",
     "text": [
      "0\n"
     ]
    }
   ],
   "source": [
    "# Aside: can you have a 0-element list?\n",
    "print(len([]))"
   ]
  },
  {
   "cell_type": "code",
   "execution_count": null,
   "metadata": {
    "id": "WkORGqRaFpA8",
    "outputId": "eee15a28-6b60-48f8-a35f-4452ef9de24d"
   },
   "outputs": [],
   "source": [
    "x = [0]\n",
    "y = [1]\n",
    "x + y"
   ]
  },
  {
   "cell_type": "markdown",
   "metadata": {},
   "source": [
    "<br><br><br><br><br><br><br><br><br><br><br><br><br><br><br><br><br><br><br><br><br><br><br><br><br><br><br><br><br><br><br><br><br><br><br><br><br><br><br><br>"
   ]
  },
  {
   "cell_type": "markdown",
   "metadata": {
    "id": "Cn4RmXvqFpA9"
   },
   "source": [
    "# Errors"
   ]
  },
  {
   "cell_type": "code",
   "execution_count": 105,
   "metadata": {
    "id": "P2X8hqjoFpA-",
    "outputId": "327d02b9-7ea4-4f5d-f035-c86dc870f835",
    "scrolled": true
   },
   "outputs": [
    {
     "ename": "NameError",
     "evalue": "name 'true' is not defined",
     "output_type": "error",
     "traceback": [
      "\u001b[0;31m---------------------------------------------------------------------------\u001b[0m",
      "\u001b[0;31mNameError\u001b[0m                                 Traceback (most recent call last)",
      "Cell \u001b[0;32mIn[105], line 3\u001b[0m\n\u001b[1;32m      1\u001b[0m \u001b[38;5;66;03m# Errors occur when something you do that isn't allowed\u001b[39;00m\n\u001b[1;32m      2\u001b[0m \u001b[38;5;66;03m# Remember: True is supposed to be capitalized!\u001b[39;00m\n\u001b[0;32m----> 3\u001b[0m \u001b[38;5;28mprint\u001b[39m(true)\n",
      "\u001b[0;31mNameError\u001b[0m: name 'true' is not defined"
     ]
    }
   ],
   "source": [
    "# Errors occur when something you do that isn't allowed\n",
    "# Remember: True is supposed to be capitalized!\n",
    "print(true)"
   ]
  },
  {
   "cell_type": "code",
   "execution_count": 107,
   "metadata": {},
   "outputs": [
    {
     "name": "stdout",
     "output_type": "stream",
     "text": [
      "True\n"
     ]
    }
   ],
   "source": [
    "# What will happen?\n",
    "print(False == (2 > 3) )"
   ]
  },
  {
   "cell_type": "code",
   "execution_count": 108,
   "metadata": {
    "id": "yLRnN4rwFpA-",
    "outputId": "f296faf6-e6fc-484b-8a58-e13446f22a62"
   },
   "outputs": [
    {
     "ename": "NameError",
     "evalue": "name 'boaz' is not defined",
     "output_type": "error",
     "traceback": [
      "\u001b[0;31m---------------------------------------------------------------------------\u001b[0m",
      "\u001b[0;31mNameError\u001b[0m                                 Traceback (most recent call last)",
      "Cell \u001b[0;32mIn[108], line 2\u001b[0m\n\u001b[1;32m      1\u001b[0m \u001b[38;5;66;03m# Variables must be assigned before being used\u001b[39;00m\n\u001b[0;32m----> 2\u001b[0m \u001b[38;5;28mprint\u001b[39m(boaz)\n",
      "\u001b[0;31mNameError\u001b[0m: name 'boaz' is not defined"
     ]
    }
   ],
   "source": [
    "# Variables must be assigned before being used\n",
    "print(boaz)"
   ]
  },
  {
   "cell_type": "code",
   "execution_count": null,
   "metadata": {
    "id": "EAij2NZrFpA_",
    "outputId": "4df17ff2-9a39-4f77-b587-3d1518ca030f"
   },
   "outputs": [],
   "source": [
    "# Once you assign a variable you can use it\n",
    "boaz = 7\n",
    "print(boaz)"
   ]
  },
  {
   "cell_type": "code",
   "execution_count": 109,
   "metadata": {
    "id": "mFp99-EqFpBA",
    "outputId": "9dc6d102-6ac2-4226-dd6e-77c34ae0a024"
   },
   "outputs": [
    {
     "ename": "ZeroDivisionError",
     "evalue": "division by zero",
     "output_type": "error",
     "traceback": [
      "\u001b[0;31m---------------------------------------------------------------------------\u001b[0m",
      "\u001b[0;31mZeroDivisionError\u001b[0m                         Traceback (most recent call last)",
      "Cell \u001b[0;32mIn[109], line 2\u001b[0m\n\u001b[1;32m      1\u001b[0m \u001b[38;5;66;03m# Dividing by 0 is undefined and thus an error in Python\u001b[39;00m\n\u001b[0;32m----> 2\u001b[0m \u001b[38;5;28mprint\u001b[39m(\u001b[38;5;241m1\u001b[39m \u001b[38;5;241m/\u001b[39m \u001b[38;5;241m0\u001b[39m)\n",
      "\u001b[0;31mZeroDivisionError\u001b[0m: division by zero"
     ]
    }
   ],
   "source": [
    "# Dividing by 0 is undefined and thus an error in Python\n",
    "print(1 / 0)"
   ]
  },
  {
   "cell_type": "markdown",
   "metadata": {},
   "source": [
    "<br><br><br><br><br><br><br><br><br><br><br><br><br><br><br><br><br><br><br><br><br><br><br><br><br><br><br><br><br><br><br><br><br><br><br><br><br><br><br><br>"
   ]
  },
  {
   "cell_type": "markdown",
   "metadata": {
    "id": "Qfh4DNmiFpBB"
   },
   "source": [
    "# Issues to watch out for"
   ]
  },
  {
   "cell_type": "markdown",
   "metadata": {
    "id": "BK9bajkSFpBB"
   },
   "source": [
    "Different types of parenthesis `(`,`)` .. `[`,`]` ... `{`,`}`"
   ]
  },
  {
   "cell_type": "code",
   "execution_count": null,
   "metadata": {
    "id": "I0c1UjZlFpBC",
    "outputId": "1158c994-1bb6-43a1-f371-a47fd4d7e4a4"
   },
   "outputs": [],
   "source": [
    "L = [1,2,3] # list\n",
    "L[1]"
   ]
  },
  {
   "cell_type": "code",
   "execution_count": null,
   "metadata": {
    "id": "XO906QV4FpBD",
    "outputId": "07fcf1e9-96f8-41b6-8dd4-450e887ec707"
   },
   "outputs": [],
   "source": [
    "(2+3)*4 , 2+3*4"
   ]
  },
  {
   "cell_type": "code",
   "execution_count": null,
   "metadata": {
    "id": "9tPQUMGSFpBE",
    "outputId": "a311bb0a-2c38-4fd0-f7fc-15b2be6e71a6"
   },
   "outputs": [],
   "source": [
    "x = 10\n",
    "y = x\n",
    "x = 12\n",
    "print(f\"x={x}, y={y}\")"
   ]
  },
  {
   "cell_type": "markdown",
   "metadata": {},
   "source": [
    "<br><br><br><br><br><br><br><br><br><br><br><br><br><br><br><br><br><br><br><br><br><br><br><br><br><br><br><br><br><br><br><br><br><br><br><br><br><br><br><br>"
   ]
  },
  {
   "cell_type": "markdown",
   "metadata": {
    "id": "C0lKuML9njur"
   },
   "source": [
    "# Extra"
   ]
  },
  {
   "cell_type": "code",
   "execution_count": null,
   "metadata": {
    "id": "mHXD3JZVnjur"
   },
   "outputs": [],
   "source": [
    "# List indexing and slicing\n",
    "my_list = [ \"hello\", \"world\", \"this\", \"is\", \"boaz\"]"
   ]
  },
  {
   "cell_type": "code",
   "execution_count": null,
   "metadata": {
    "id": "PIx7dkFCFpBG"
   },
   "outputs": [],
   "source": [
    "print(len(my_list))"
   ]
  },
  {
   "cell_type": "code",
   "execution_count": null,
   "metadata": {
    "id": "st1Lrpz8njus"
   },
   "outputs": [],
   "source": [
    "print(my_list[2])"
   ]
  },
  {
   "cell_type": "code",
   "execution_count": null,
   "metadata": {
    "id": "LpL3b7GGnjus"
   },
   "outputs": [],
   "source": [
    "print(my_list[2:4])"
   ]
  },
  {
   "cell_type": "code",
   "execution_count": null,
   "metadata": {
    "id": "mNUT-B0injus"
   },
   "outputs": [],
   "source": [
    "print(my_list[-1])"
   ]
  }
 ],
 "metadata": {
  "celltoolbar": "Slideshow",
  "colab": {
   "name": "jamcoders_day1_lec2.ipynb",
   "provenance": []
  },
  "kernelspec": {
   "display_name": "Python (notebooks)",
   "language": "python",
   "name": "notebooks"
  },
  "language_info": {
   "codemirror_mode": {
    "name": "ipython",
    "version": 3
   },
   "file_extension": ".py",
   "mimetype": "text/x-python",
   "name": "python",
   "nbconvert_exporter": "python",
   "pygments_lexer": "ipython3",
   "version": "3.12.4"
  }
 },
 "nbformat": 4,
 "nbformat_minor": 4
}
