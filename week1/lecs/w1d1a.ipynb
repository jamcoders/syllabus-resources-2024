{
 "cells": [
  {
   "cell_type": "markdown",
   "metadata": {
    "editable": true,
    "id": "XNlROaAxoCg_",
    "slideshow": {
     "slide_type": "slide"
    },
    "tags": []
   },
   "source": [
    "# JamCoders Day 1 Lecture 1\n",
    "\n",
    "### Boaz Barak"
   ]
  },
  {
   "cell_type": "markdown",
   "metadata": {
    "editable": true,
    "slideshow": {
     "slide_type": "skip"
    },
    "tags": []
   },
   "source": [
    "## Image inversion"
   ]
  },
  {
   "cell_type": "code",
   "execution_count": null,
   "metadata": {
    "editable": true,
    "slideshow": {
     "slide_type": "skip"
    },
    "tags": []
   },
   "outputs": [],
   "source": [
    "%config InteractiveShell.ast_node_interactivity=\"none\"\n",
    "\n",
    "# Utility functions: you can ignore these for now.\n",
    "import matplotlib.pyplot as plt\n",
    "import numpy as np\n",
    "from PIL import Image\n",
    "\n",
    "W = 1000\n",
    "H = 400\n",
    "def show(grayscale_values):\n",
    "    if len(grayscale_values) != W*H:\n",
    "        raise ValueError(f\"The list must contain exactly {W*H} grayscale values.\")\n",
    "    image_array = np.array(grayscale_values).reshape(H, W)\n",
    "    plt.imshow(image_array, cmap='gray', vmin=0, vmax=255)\n",
    "    plt.axis('off')\n",
    "    plt.show()\n",
    "\n",
    "def load(image_path):\n",
    "    with Image.open(image_path) as img:\n",
    "        img = img.convert('L')  # Convert image to grayscale\n",
    "        img = img.resize((W, H))  # Resize image to W*H\n",
    "        grayscale_values = list(img.getdata())\n",
    "        return grayscale_values\n",
    "\n",
    "uwi =load(\"uwi_sign2.jpg\")\n"
   ]
  },
  {
   "cell_type": "code",
   "execution_count": null,
   "metadata": {
    "editable": true,
    "slideshow": {
     "slide_type": "skip"
    },
    "tags": []
   },
   "outputs": [],
   "source": [
    "show(uwi)"
   ]
  },
  {
   "cell_type": "code",
   "execution_count": null,
   "metadata": {
    "editable": true,
    "slideshow": {
     "slide_type": "skip"
    },
    "tags": []
   },
   "outputs": [],
   "source": [
    "print(uwi[:100])"
   ]
  },
  {
   "cell_type": "code",
   "execution_count": null,
   "metadata": {
    "editable": true,
    "scrolled": true,
    "slideshow": {
     "slide_type": "skip"
    },
    "tags": []
   },
   "outputs": [],
   "source": [
    "show(uwi)"
   ]
  },
  {
   "cell_type": "code",
   "execution_count": null,
   "metadata": {
    "editable": true,
    "scrolled": true,
    "slideshow": {
     "slide_type": "skip"
    },
    "tags": []
   },
   "outputs": [],
   "source": [
    "def invert(image):\n",
    "    for i in range(len(image)):\n",
    "        image[i]=255-image[i]\n",
    "\n",
    "invert(uwi)\n",
    "show(uwi)"
   ]
  },
  {
   "cell_type": "markdown",
   "metadata": {
    "editable": true,
    "id": "1lpdpPUmoChB",
    "slideshow": {
     "slide_type": "slide"
    },
    "tags": []
   },
   "source": [
    "# Example"
   ]
  },
  {
   "cell_type": "code",
   "execution_count": null,
   "metadata": {
    "editable": true,
    "id": "CehzuQr2oChB",
    "slideshow": {
     "slide_type": "slide"
    },
    "tags": []
   },
   "outputs": [],
   "source": [
    "def find_min(L):\n",
    "    n = len(L)\n",
    "    current_min = L[0]\n",
    "    i = 1 \n",
    "    while i < n:\n",
    "        if L[i]<current_min:\n",
    "            current_min = L[i]\n",
    "        i = i + 1\n",
    "    return current_min"
   ]
  },
  {
   "cell_type": "code",
   "execution_count": null,
   "metadata": {
    "editable": true,
    "id": "GPiwAMtvoChC",
    "outputId": "4b2e1b80-935d-48e0-f924-7f7aceb5a62b",
    "slideshow": {
     "slide_type": "fragment"
    },
    "tags": []
   },
   "outputs": [],
   "source": [
    "L = [15, 3, 17, 22, 9 ,1, 8]\n",
    "print(find_min(L))"
   ]
  },
  {
   "cell_type": "markdown",
   "metadata": {
    "editable": true,
    "id": "tyosCIpqoChC",
    "slideshow": {
     "slide_type": "slide"
    },
    "tags": []
   },
   "source": [
    "# Seeing what's going on"
   ]
  },
  {
   "cell_type": "markdown",
   "metadata": {
    "editable": true,
    "id": "VS8JBIl6ndpV",
    "slideshow": {
     "slide_type": "slide"
    },
    "tags": []
   },
   "source": [
    "## The print statement"
   ]
  },
  {
   "cell_type": "code",
   "execution_count": null,
   "metadata": {
    "editable": true,
    "id": "VN4J77yfoChC",
    "outputId": "a262156f-a931-44a1-f213-30384947cbf8",
    "slideshow": {
     "slide_type": "slide"
    },
    "tags": []
   },
   "outputs": [],
   "source": [
    "print(\"Hello\")"
   ]
  },
  {
   "cell_type": "code",
   "execution_count": null,
   "metadata": {
    "editable": true,
    "id": "vJsJ6ITCndpW",
    "outputId": "a262156f-a931-44a1-f213-30384947cbf8",
    "slideshow": {
     "slide_type": "fragment"
    },
    "tags": []
   },
   "outputs": [],
   "source": [
    "x = 17\n",
    "print(f\"Hello, the variable x is equal to {x}\")"
   ]
  },
  {
   "cell_type": "code",
   "execution_count": null,
   "metadata": {
    "editable": true,
    "id": "uuhpWjsXndpX",
    "outputId": "eff60a02-4b6e-47b8-8f38-0be6c47b1a89",
    "slideshow": {
     "slide_type": "fragment"
    },
    "tags": []
   },
   "outputs": [],
   "source": [
    "print(\"Hello\")\n",
    "print(\"World\")"
   ]
  },
  {
   "cell_type": "code",
   "execution_count": null,
   "metadata": {
    "editable": true,
    "id": "9wzpFBCZndpX",
    "outputId": "858c1550-e67e-4859-dbbc-7cd0fd50635a",
    "slideshow": {
     "slide_type": "fragment"
    },
    "tags": []
   },
   "outputs": [],
   "source": [
    "print(7, \"Banana\", x*5)"
   ]
  },
  {
   "cell_type": "markdown",
   "metadata": {
    "editable": true,
    "id": "g-skOstgndpY",
    "slideshow": {
     "slide_type": "slide"
    },
    "tags": []
   },
   "source": [
    "## Using print to see how a program funs"
   ]
  },
  {
   "cell_type": "code",
   "execution_count": null,
   "metadata": {
    "editable": true,
    "id": "fpHYNq--oChD",
    "slideshow": {
     "slide_type": "slide"
    },
    "tags": []
   },
   "outputs": [],
   "source": [
    "def find_min(L):\n",
    "    n = len(L)\n",
    "    print(f\"Length of L is {n}\")\n",
    "    current_min = L[0]\n",
    "    print(f\"current_min is {current_min}\")\n",
    "    i = 1\n",
    "    print(\"Entering loop\")\n",
    "    while i < n:\n",
    "        print(f\"  Loop with i={i}, L[i]={L[i]}\")\n",
    "        if L[i]<current_min:\n",
    "            print(f\"    Updating current_min to {L[i]}\")\n",
    "            current_min = L[i]\n",
    "        i = i + 1\n",
    "    print(f\"Value of i is {i}\")\n",
    "    print(f\"Final output is {current_min}.\")\n",
    "    return current_min"
   ]
  },
  {
   "cell_type": "code",
   "execution_count": null,
   "metadata": {
    "editable": true,
    "id": "dtO6S7AxoChE",
    "outputId": "6db49757-932a-405d-8d0f-45f1e2d1a245",
    "slideshow": {
     "slide_type": "fragment"
    },
    "tags": []
   },
   "outputs": [],
   "source": [
    "L = [15, 3, 17, 22, 9 , 2, 8]\n",
    "find_min(L)"
   ]
  },
  {
   "cell_type": "markdown",
   "metadata": {
    "editable": true,
    "id": "RAQ2vWQAoChF",
    "slideshow": {
     "slide_type": "slide"
    },
    "tags": []
   },
   "source": [
    "# Comments"
   ]
  },
  {
   "cell_type": "code",
   "execution_count": null,
   "metadata": {
    "editable": true,
    "id": "6VVpSxOwoChF",
    "slideshow": {
     "slide_type": "fragment"
    },
    "tags": []
   },
   "outputs": [],
   "source": [
    "print(\"hello\") # print(\"World\") This is a comment in the middle of code. It will not run"
   ]
  },
  {
   "cell_type": "markdown",
   "metadata": {
    "editable": true,
    "id": "gllpHc9OoChF",
    "slideshow": {
     "slide_type": "slide"
    },
    "tags": []
   },
   "source": [
    "# Variables and types "
   ]
  },
  {
   "cell_type": "code",
   "execution_count": null,
   "metadata": {
    "editable": true,
    "id": "SsvCXY5hoChF",
    "outputId": "8b757354-2d89-41bc-e1e6-1f40126c8df2",
    "slideshow": {
     "slide_type": "slide"
    },
    "tags": []
   },
   "outputs": [],
   "source": [
    "x = 5 # integer\n",
    "y = 6.5 # floating point (number with fraction)\n",
    "z = \"Boaz\" # string\n",
    "w = False \n",
    "print( type(x),type(y),type(z),type(w) )"
   ]
  },
  {
   "cell_type": "code",
   "execution_count": null,
   "metadata": {
    "editable": true,
    "id": "gC4WGDoHndpc",
    "outputId": "8c0b1810-6511-44f0-c5a9-3df24d03fad7",
    "slideshow": {
     "slide_type": "fragment"
    },
    "tags": []
   },
   "outputs": [],
   "source": [
    "print('Hello world!')"
   ]
  },
  {
   "cell_type": "code",
   "execution_count": null,
   "metadata": {
    "editable": true,
    "id": "PTD-gj8coChF",
    "outputId": "73a353c1-3fe2-4bb7-a1fd-d8d8c045cd42",
    "slideshow": {
     "slide_type": "fragment"
    },
    "tags": []
   },
   "outputs": [],
   "source": [
    "print( type('Hello world!') )"
   ]
  },
  {
   "cell_type": "code",
   "execution_count": null,
   "metadata": {
    "editable": true,
    "id": "9P4S5ahXndpc",
    "outputId": "278d5c23-b368-428f-e1e2-ee24dfd0ba21",
    "slideshow": {
     "slide_type": "fragment"
    },
    "tags": []
   },
   "outputs": [],
   "source": [
    "x = [1,2,3]\n",
    "print(f\"x is a variable of type {type(x)}, the value of x is {x}\")"
   ]
  },
  {
   "cell_type": "code",
   "execution_count": null,
   "metadata": {
    "editable": true,
    "id": "u1Gg1hGEoChG",
    "slideshow": {
     "slide_type": "fragment"
    },
    "tags": []
   },
   "outputs": [],
   "source": [
    "print(type( 5 / 2) )"
   ]
  },
  {
   "cell_type": "code",
   "execution_count": null,
   "metadata": {
    "editable": true,
    "id": "N_TZx_EDoChG",
    "slideshow": {
     "slide_type": "fragment"
    },
    "tags": []
   },
   "outputs": [],
   "source": [
    "print(  type([0, 1, 2]) )"
   ]
  },
  {
   "cell_type": "code",
   "execution_count": null,
   "metadata": {
    "editable": true,
    "id": "eDAgqUcyoChG",
    "slideshow": {
     "slide_type": "fragment"
    },
    "tags": []
   },
   "outputs": [],
   "source": [
    "print( type(5>3) )"
   ]
  },
  {
   "cell_type": "code",
   "execution_count": null,
   "metadata": {
    "editable": true,
    "id": "1ipjr1SroChG",
    "slideshow": {
     "slide_type": "fragment"
    },
    "tags": []
   },
   "outputs": [],
   "source": [
    "# Here is an example of a NoneType\n",
    "print(  type(None) )"
   ]
  },
  {
   "cell_type": "markdown",
   "metadata": {
    "editable": true,
    "id": "u8tr1LPooChG",
    "slideshow": {
     "slide_type": "slide"
    },
    "tags": []
   },
   "source": [
    "# Variable assignments"
   ]
  },
  {
   "cell_type": "code",
   "execution_count": null,
   "metadata": {
    "editable": true,
    "id": "GZrGPBHgoChG",
    "outputId": "523ddc12-2825-4699-fc1b-bddd4d8f85ee",
    "slideshow": {
     "slide_type": "slide"
    },
    "tags": []
   },
   "outputs": [],
   "source": [
    "x = 1\n",
    "# Putting a variable at the end of a code block will print it\n",
    "print(x)"
   ]
  },
  {
   "cell_type": "code",
   "execution_count": null,
   "metadata": {
    "editable": true,
    "id": "REhh0sCyoChG",
    "outputId": "2482c7aa-4828-4b74-b37d-83964551baed",
    "slideshow": {
     "slide_type": "fragment"
    },
    "tags": []
   },
   "outputs": [],
   "source": [
    "# You can find the type of what the variable holds by using type\n",
    "print( type(x) )"
   ]
  },
  {
   "cell_type": "code",
   "execution_count": null,
   "metadata": {
    "editable": true,
    "id": "8U_VkwFwoChG",
    "outputId": "c56fd183-e8c2-4927-848b-3e31a7efc78b",
    "slideshow": {
     "slide_type": "fragment"
    },
    "tags": []
   },
   "outputs": [],
   "source": [
    "# Variables can be reassigned\n",
    "x = 2\n",
    "print(x)"
   ]
  },
  {
   "cell_type": "code",
   "execution_count": null,
   "metadata": {
    "editable": true,
    "id": "DQDoDe--oChG",
    "outputId": "366b931d-fbc3-42a9-e17c-2fff6007729f",
    "slideshow": {
     "slide_type": "fragment"
    },
    "tags": []
   },
   "outputs": [],
   "source": [
    "# The name of a variable is not related to the content at all\n",
    "two = 4\n",
    "print(two)"
   ]
  },
  {
   "cell_type": "code",
   "execution_count": null,
   "metadata": {
    "editable": true,
    "id": "8UlDkOchoChG",
    "outputId": "1584c387-ed5e-491c-e332-75f8b26633e1",
    "slideshow": {
     "slide_type": "fragment"
    },
    "tags": []
   },
   "outputs": [],
   "source": [
    "# Variables are case-sensitive\n",
    "x = 1\n",
    "X = 7\n",
    "print(X,x)"
   ]
  },
  {
   "cell_type": "code",
   "execution_count": null,
   "metadata": {
    "editable": true,
    "id": "6iTfIOoSoChH",
    "outputId": "a1bc040f-3fc0-41c4-fe75-5febfdfeebb6",
    "slideshow": {
     "slide_type": "fragment"
    },
    "tags": []
   },
   "outputs": [],
   "source": [
    "# Variables are case-senstive for any part of the variable\n",
    "Xyz = 3\n",
    "print( XYz )"
   ]
  },
  {
   "cell_type": "code",
   "execution_count": null,
   "metadata": {
    "editable": true,
    "id": "ZlofkJhandpe",
    "slideshow": {
     "slide_type": "fragment"
    },
    "tags": []
   },
   "outputs": [],
   "source": [
    "L = [\"hello\", \"world\"]"
   ]
  },
  {
   "cell_type": "code",
   "execution_count": null,
   "metadata": {
    "editable": true,
    "id": "Ru9UnwYgndpf",
    "outputId": "83a731ab-8b55-4426-eff4-7d2838d08f25",
    "slideshow": {
     "slide_type": "fragment"
    },
    "tags": []
   },
   "outputs": [],
   "source": [
    "print ( L[1] )"
   ]
  },
  {
   "cell_type": "code",
   "execution_count": null,
   "metadata": {
    "editable": true,
    "id": "hIfw8iw3ndpf",
    "outputId": "97aa00dc-871a-49cc-e0b3-0555a7ed7c29",
    "slideshow": {
     "slide_type": "fragment"
    },
    "tags": []
   },
   "outputs": [],
   "source": [
    "print ( L[0] )"
   ]
  },
  {
   "cell_type": "code",
   "execution_count": null,
   "metadata": {
    "editable": true,
    "slideshow": {
     "slide_type": ""
    },
    "tags": []
   },
   "outputs": [],
   "source": []
  }
 ],
 "metadata": {
  "celltoolbar": "Slideshow",
  "colab": {
   "name": "jamcoders_day1_lec1.ipynb",
   "provenance": []
  },
  "kernelspec": {
   "display_name": "Python 3 (ipykernel)",
   "language": "python",
   "name": "python3"
  },
  "language_info": {
   "codemirror_mode": {
    "name": "ipython",
    "version": 3
   },
   "file_extension": ".py",
   "mimetype": "text/x-python",
   "name": "python",
   "nbconvert_exporter": "python",
   "pygments_lexer": "ipython3",
   "version": "3.12.4"
  }
 },
 "nbformat": 4,
 "nbformat_minor": 4
}
